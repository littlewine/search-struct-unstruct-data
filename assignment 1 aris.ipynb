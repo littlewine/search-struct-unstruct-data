{
 "cells": [
  {
   "cell_type": "markdown",
   "metadata": {},
   "source": [
    "# Searching Unstructured and Structured Data #\n",
    "## Assignment 1: Retrieval models [100 points] ##\n",
    "**TA**: Nikos Voskarides (n.voskarides@uva.nl)"
   ]
  },
  {
   "cell_type": "markdown",
   "metadata": {},
   "source": [
    "In this assignment you will get familiar with basic information retrieval concepts. You will implement and evaluate different information retrieval ranking models and evaluate their performance.\n",
    "\n",
    "We provide you with a Indri index. To query the index, you'll use a Python package ([pyndri](https://github.com/cvangysel/pyndri)) that allows easy access to the underlying document statistics.\n",
    "\n",
    "For evaluation you'll use the [TREC Eval](https://github.com/usnistgov/trec_eval) utility, provided by the National Institute of Standards and Technology of the United States. TREC Eval is the de facto standard way to compute Information Retrieval measures and is frequently referenced in scientific papers.\n",
    "\n",
    "This is a **groups-of-three assignment**, the deadline is **Monday, 22/1, at 23:59**. Code quality, informative comments and convincing analysis of the results will be considered when grading. Submission should be done through blackboard, questions can be asked on the course [Piazza](https://piazza.com/class/ixoz63p156g1ts).\n",
    "\n",
    "### Technicalities (must-read!) ###\n",
    "\n",
    "The assignment directory is organized as follows:\n",
    "   * `./assignment.ipynb` (this file): the description of the assignment.\n",
    "   * `./index/`: the index we prepared for you.\n",
    "   * `./ap_88_90/`: directory with ground-truth and evaluation sets:\n",
    "      * `qrel_test`: test query relevance collection (**test set**).\n",
    "      * `qrel_validation`: validation query relevance collection (**validation set**).\n",
    "      * `topics_title`: semicolon-separated file with query identifiers and terms.\n",
    "\n",
    "You will need the following software packages (tested with Python 3.5 inside [Anaconda](https://conda.io/docs/user-guide/install/index.html)):\n",
    "   * Python 3.5 and Jupyter\n",
    "   * Indri + Pyndri (Follow the installation instructions [here](https://github.com/nickvosk/pyndri/blob/master/README.md))\n",
    "   * gensim [link](https://radimrehurek.com/gensim/install.html)\n",
    "   * TREC Eval [link](https://github.com/usnistgov/trec_eval)"
   ]
  },
  {
   "cell_type": "markdown",
   "metadata": {},
   "source": [
    "### TREC Eval primer ###\n",
    "The TREC Eval utility can be downloaded and compiled as follows:\n",
    "\n",
    "    git clone https://github.com/usnistgov/trec_eval.git\n",
    "    cd trec_eval\n",
    "    make\n",
    "\n",
    "TREC Eval computes evaluation scores given two files: ground-truth information regarding relevant documents, named *query relevance* or *qrel*, and a ranking of documents for a set of queries, referred to as a *run*. The *qrel* will be supplied by us and should not be changed. For every retrieval model (or combinations thereof) you will generate a run of the top-1000 documents for every query. The format of the *run* file is as follows:\n",
    "\n",
    "    $query_identifier Q0 $document_identifier $rank_of_document_for_query $query_document_similarity $run_identifier\n",
    "    \n",
    "where\n",
    "   * `$query_identifier` is the unique identifier corresponding to a query (usually this follows a sequential numbering).\n",
    "   * `Q0` is a legacy field that you can ignore.\n",
    "   * `$document_identifier` corresponds to the unique identifier of a document (e.g., APXXXXXXX where AP denotes the collection and the Xs correspond to a unique numerical identifier).\n",
    "   * `$rank_of_document_for_query` denotes the rank of the document for the particular query. This field is ignored by TREC Eval and is only maintained for legacy support. The ranks are computed by TREC Eval itself using the `$query_document_similarity` field (see next). However, it remains good practice to correctly compute this field.\n",
    "   * `$query_document_similarity` is a score indicating the similarity between query and document where a higher score denotes greater similarity.\n",
    "   * `$run_identifier` is an identifier of the run. This field is for your own convenience and has no purpose beyond bookkeeping.\n",
    "   \n",
    "For example, say we have two queries: `Q1` and `Q2` and we rank three documents (`DOC1`, `DOC2`, `DOC3`). For query `Q1`, we find the following similarity scores `score(Q1, DOC1) = 1.0`, `score(Q1, DOC2) = 0.5`, `score(Q1, DOC3) = 0.75`; and for `Q2`: `score(Q2, DOC1) = -0.1`, `score(Q2, DOC2) = 1.25`, `score(Q1, DOC3) = 0.0`. We can generate run using the following snippet:"
   ]
  },
  {
   "cell_type": "code",
   "execution_count": null,
   "metadata": {},
   "outputs": [],
   "source": [
    "import collections\n",
    "import copy\n",
    "import gensim\n",
    "import gensim.models.keyedvectors as word2vec\n",
    "import glob\n",
    "import io\n",
    "import logging\n",
    "import numpy as np\n",
    "import os\n",
    "import pandas as pd\n",
    "import pyndri\n",
    "import pyndri.compat\n",
    "import re\n",
    "import sys\n",
    "import time\n",
    "\n",
    "from gensim.similarities import WmdSimilarity\n",
    "from matplotlib import pyplot as plt\n",
    "from scipy.stats import ttest_rel\n",
    "from sklearn.metrics.pairwise import cosine_similarity\n",
    "from itertools import combinations\n",
    "from itertools import groupby\n",
    "\n",
    "\n",
    "plt.style.use('ggplot')"
   ]
  },
  {
   "cell_type": "code",
   "execution_count": 1,
   "metadata": {
    "scrolled": false
   },
   "outputs": [
    {
     "name": "stdout",
     "output_type": "stream",
     "text": [
      "Q2 Q0 DOC2 1 1.25 example\n",
      "Q2 Q0 DOC3 2 0.0 example\n",
      "Q2 Q0 DOC1 3 -0.1 example\n",
      "Q1 Q0 DOC1 1 1.0 example\n",
      "Q1 Q0 DOC3 2 0.75 example\n",
      "Q1 Q0 DOC2 3 0.5 example\n"
     ]
    }
   ],
   "source": [
    "import logging\n",
    "import sys\n",
    "import os\n",
    "\n",
    "def write_run(model_name, data, out_f,\n",
    "              max_objects_per_query=sys.maxsize,\n",
    "              skip_sorting=False):\n",
    "    \"\"\"\n",
    "    \n",
    "    Write a run to an output file.\n",
    "    Parameters:\n",
    "        - model_name: identifier of run.\n",
    "        - data: dictionary mapping topic_id to object_assesments;\n",
    "            object_assesments is an iterable (list or tuple) of\n",
    "            (relevance, object_id) pairs.\n",
    "            The object_assesments iterable is sorted by decreasing order.\n",
    "        - out_f: output file stream.\n",
    "        - max_objects_per_query: cut-off for number of objects per query.\n",
    "    \"\"\"\n",
    "    for subject_id, object_assesments in data.items():\n",
    "        if not object_assesments:\n",
    "            logging.warning('Received empty ranking for %s; ignoring.',\n",
    "                            subject_id)\n",
    "\n",
    "            continue\n",
    "\n",
    "        # Probe types, to make sure everything goes alright.\n",
    "        # assert isinstance(object_assesments[0][0], float) or \\\n",
    "        #     isinstance(object_assesments[0][0], np.float32)\n",
    "        assert isinstance(object_assesments[0][1], str) or \\\n",
    "            isinstance(object_assesments[0][1], bytes)\n",
    "\n",
    "        if not skip_sorting:\n",
    "            object_assesments = sorted(object_assesments, reverse=True)\n",
    "\n",
    "        if max_objects_per_query < sys.maxsize:\n",
    "            object_assesments = object_assesments[:max_objects_per_query]\n",
    "\n",
    "        if isinstance(subject_id, bytes):\n",
    "            subject_id = subject_id.decode('utf8')\n",
    "\n",
    "        for rank, (relevance, object_id) in enumerate(object_assesments):\n",
    "            if isinstance(object_id, bytes):\n",
    "                object_id = object_id.decode('utf8')\n",
    "\n",
    "            out_f.write(\n",
    "                '{subject} Q0 {object} {rank} {relevance} '\n",
    "                '{model_name}\\n'.format(\n",
    "                    subject=subject_id,\n",
    "                    object=object_id,\n",
    "                    rank=rank + 1,\n",
    "                    relevance=relevance,\n",
    "                    model_name=model_name))\n",
    "            \n",
    "# The following writes the run to standard output.\n",
    "# In your code, you should write the runs to local\n",
    "# storage in order to pass them to trec_eval.\n",
    "write_run(\n",
    "    model_name='example',\n",
    "    data={\n",
    "        'Q1': ((1.0, 'DOC1'), (0.5, 'DOC2'), (0.75, 'DOC3')),\n",
    "        'Q2': ((-0.1, 'DOC1'), (1.25, 'DOC2'), (0.0, 'DOC3')),\n",
    "    },\n",
    "    out_f=sys.stdout,\n",
    "    max_objects_per_query=1000)\n",
    "\n"
   ]
  },
  {
   "cell_type": "markdown",
   "metadata": {},
   "source": [
    "Now, imagine that we know that `DOC1` is relevant and `DOC3` is non-relevant for `Q1`. In addition, for `Q2` we only know of the relevance of `DOC3`. The query relevance file looks like:\n",
    "\n",
    "    Q1 0 DOC1 1\n",
    "    Q1 0 DOC3 0\n",
    "    Q2 0 DOC3 1\n",
    "    \n",
    "We store the run and qrel in files `example.run` and `example.qrel` respectively on disk. We can now use TREC Eval to compute evaluation measures. In this example, we're only interested in Mean Average Precision and we'll only show this below for brevity. However, TREC Eval outputs much more information such as NDCG, recall, precision, etc.\n",
    "\n",
    "    $ trec_eval -m all_trec -q example.qrel example.run | grep -E \"^map\\s\"\n",
    "    > map                   \tQ1\t1.0000\n",
    "    > map                   \tQ2\t0.5000\n",
    "    > map                   \tall\t0.7500\n",
    "    \n",
    "Now that we've discussed the output format of rankings and how you can compute evaluation measures from these rankings, we'll now proceed with an overview of the indexing framework you'll use."
   ]
  },
  {
   "cell_type": "markdown",
   "metadata": {},
   "source": [
    "### Pyndri primer ###\n",
    "For this assignment you will use [Pyndri](https://github.com/cvangysel/pyndri) [[1](https://arxiv.org/abs/1701.00749)], a python interface for [Indri](https://www.lemurproject.org/indri.php). We have indexed the document collection and you can query the index using Pyndri. We will start by giving you some examples of what Pyndri can do:\n",
    "\n",
    "First we read the document collection index with Pyndri:"
   ]
  },
  {
   "cell_type": "code",
   "execution_count": 4,
   "metadata": {
    "scrolled": true
   },
   "outputs": [],
   "source": [
    "import pyndri\n",
    "import numpy as np\n",
    "import warnings\n",
    "warnings.filterwarnings('ignore')\n",
    "%matplotlib inline\n",
    "\n",
    "index = pyndri.Index('index/')"
   ]
  },
  {
   "cell_type": "markdown",
   "metadata": {},
   "source": [
    "The loaded index can be used to access a collection of documents in an easy manner. We'll give you some examples to get some idea of what it can do, it is up to you to figure out how to use it for the remainder of the assignment.\n",
    "\n",
    "First let's look at the number of documents, since Pyndri indexes the documents using incremental identifiers we can simply take the lowest index and the maximum document and consider the difference:"
   ]
  },
  {
   "cell_type": "code",
   "execution_count": 5,
   "metadata": {},
   "outputs": [
    {
     "name": "stdout",
     "output_type": "stream",
     "text": [
      "There are 164597 documents in this collection.\n"
     ]
    }
   ],
   "source": [
    "print(\"There are %d documents in this collection.\" % (index.maximum_document() - index.document_base()))"
   ]
  },
  {
   "cell_type": "markdown",
   "metadata": {},
   "source": [
    "Let's take the first document out of the collection and take a look at it:"
   ]
  },
  {
   "cell_type": "code",
   "execution_count": 6,
   "metadata": {
    "scrolled": true
   },
   "outputs": [],
   "source": [
    "example_document = index.document(index.document_base())\n",
    "#print(example_document)\n"
   ]
  },
  {
   "cell_type": "markdown",
   "metadata": {},
   "source": [
    "Here we see a document consists of two things, a string representing the external document identifier and an integer list representing the identifiers of words that make up the document. Pyndri uses integer representations for words or terms, thus a token_id is an integer that represents a word whereas the token is the actual text of the word/term. Every id has a unique token and vice versa with the exception of stop words: words so common that there are uninformative, all of these receive the zero id.\n",
    "\n",
    "To see what some ids and their matching tokens we take a look at the dictionary of the index:"
   ]
  },
  {
   "cell_type": "code",
   "execution_count": 7,
   "metadata": {},
   "outputs": [
    {
     "name": "stdout",
     "output_type": "stream",
     "text": [
      "[(1, 'new'), (2, 'percent'), (3, 'two'), (4, '1'), (5, 'people'), (6, 'million'), (7, '000'), (8, 'government'), (9, 'president'), (10, 'years'), (11, 'state'), (12, '2'), (13, 'states'), (14, 'three'), (15, 'time')]\n"
     ]
    }
   ],
   "source": [
    "token2id, id2token, _ = index.get_dictionary()\n",
    "print(list(id2token.items())[:15])"
   ]
  },
  {
   "cell_type": "code",
   "execution_count": 8,
   "metadata": {},
   "outputs": [
    {
     "name": "stdout",
     "output_type": "stream",
     "text": [
      "[('teofisto', 237755), ('cessa', 53670), ('roper', 206064), ('lubbock', 146884), ('slimans', 222344), ('succussful', 231310), ('dublon', 79680), ('abodes', 17263), ('mattiolo', 153831), ('chautauqua', 54848), ('manamas', 150601), ('541', 12893), ('ohrenschalls', 174972), ('theropod', 238945), ('lauritzen', 140908)]\n"
     ]
    }
   ],
   "source": [
    "print(list(token2id.items())[:15])"
   ]
  },
  {
   "cell_type": "code",
   "execution_count": 9,
   "metadata": {},
   "outputs": [],
   "source": [
    "a = pyndri.extract_dictionary(index)"
   ]
  },
  {
   "cell_type": "code",
   "execution_count": 10,
   "metadata": {},
   "outputs": [],
   "source": [
    "#example_document[1]"
   ]
  },
  {
   "cell_type": "markdown",
   "metadata": {},
   "source": [
    "Using this dictionary we can see the tokens for the (non-stop) words in our example document:"
   ]
  },
  {
   "cell_type": "code",
   "execution_count": 11,
   "metadata": {},
   "outputs": [
    {
     "name": "stdout",
     "output_type": "stream",
     "text": [
      "['52', 'students', 'arrested', 'takeover', 'university', 'massachusetts', 'building', 'fifty', 'two', 'students', 'arrested', 'tuesday', 'evening', 'occupying', 'university', 'massachusetts', 'building', 'overnight', 'protest', 'defense', 'department', 'funded', 'research', 'new', 'york', 'city', 'thousands', 'city', 'college', 'students', 'got', 'unscheduled', 'holiday', 'demonstrators', 'occupied', 'campus', 'administration', 'building', 'protest', 'possible', 'tuition', 'increases', 'prompting', 'officials', 'suspend', 'classes', '60', 'police', 'riot', 'gear', 'arrived', 'university', 'massachusetts', '5', 'p', 'm', 'two', 'hours', 'later', 'bus', 'drove', 'away', '29', 'students', 'camped', 'memorial', 'hall', 'students', 'charged', 'trespassing', '23', 'students', 'arrested', 'lying', 'bus', 'prevent', 'leaving', 'police', '300', 'students', 'stood', 'building', 'chanting', 'looking', 'students', 'hall', 'arrested', '35', 'students', 'occupied', 'memorial', 'hall', '1', 'p', 'm', 'monday', 'declined', 'offer', 'meet', 'administrators', 'provosts', 'office', 'tuesday', 'morning', 'presented', 'list', 'demands', 'halt', 'defense', 'department', 'research', '25', '000', 'student', 'campus', '40', 'students', 'left', 'building', 'tuesday', 'morning', 'university', 'administrators', 'told', 'arrested', '5', 'p', 'm', 'university', 'spokeswoman', 'jeanne', 'hopkins', 'takeover', 'second', 'western', 'massachusetts', 'campus', 'seven', 'protesters', 'arrested', 'april', '19', 'charges', 'disorderly', 'conduct', 'trespassing', 'demonstrating', 'military', 'funded', 'research', 'campus', 'particularly', 'research', 'anthrax', 'research', 'university', 'non', 'classified', 'researchers', 'make', 'work', 'public', 'university', 'rules', '11', '6', 'million', '22', 'percent', 'grant', 'money', 'received', 'university', 'came', 'defense', 'department', '1988', 'school', 'chancellor', 'joseph', 'd', 'duffey', 'issued', 'statement', 'telling', 'students', 'research', 'continue', 'campus', 'school', 'administrators', 'decide', 'differently', 'policy', 'negotiated', 'students', 'duffey', 'latest', 'occupation', 'began', 'students', 'rallying', 'monday', 'student', 'union', 'military', 'research', 'marched', 'administration', 'building', 'ducked', 'memorial', 'hall', 'en', 'route', 'followed', 'members', 'local', 'chapter', 'american', 'friends', 'service', 'committee', 'contended', 'research', 'dangerous', 'town', 'promotes', 'militarism', 'banned', 'university', 'argued', 'purpose', 'anthrax', 'research', 'peaceful', 'strain', 'bacteria', 'non', 'virulent', 'study', 'school', '23', 'years', 'incident', 'amherst', 'health', 'board', 'scheduled', 'hearing', 'wednesday', 'question', 'safety', 'anthrax', 'research', 'tuesday', 'time', '1969', 'classes', 'city', 'college', 'new', 'york', 'canceled', 'student', 'protests', 'school', 'spokesman', 'charles', 'deciccio', 'protesters', 'demanding', 'face', 'face', 'meeting', 'gov', 'mario', 'cuomo', 'feared', 'tuition', 'college', '1', '250', 'increased', 'college', 'staff', 'reduced', 'state', 'budget', 'cuts', 'governor', 'immediate', 'comment', 'tuition', 'set', 'deciccio']\n"
     ]
    }
   ],
   "source": [
    "print([id2token[word_id] for word_id in example_document[1] if word_id > 0])"
   ]
  },
  {
   "cell_type": "markdown",
   "metadata": {},
   "source": [
    "The reverse can also be done, say we want to look for news about the \"University of Massachusetts\", the tokens of that query can be converted to ids using the reverse dictionary:"
   ]
  },
  {
   "cell_type": "code",
   "execution_count": 12,
   "metadata": {},
   "outputs": [
    {
     "name": "stdout",
     "output_type": "stream",
     "text": [
      "Query by tokens: ['university', '', 'massachusetts']\n",
      "Query by ids with stopwords: [200, 0, 894]\n",
      "Query by ids without stopwords: [200, 894]\n"
     ]
    }
   ],
   "source": [
    "query_tokens = index.tokenize(\"University of Massachusetts\")\n",
    "print(\"Query by tokens:\", query_tokens)\n",
    "query_id_tokens = [token2id.get(query_token,0) for query_token in query_tokens]\n",
    "print(\"Query by ids with stopwords:\", query_id_tokens)\n",
    "query_id_tokens = [word_id for word_id in query_id_tokens if word_id > 0]\n",
    "print(\"Query by ids without stopwords:\", query_id_tokens)"
   ]
  },
  {
   "cell_type": "markdown",
   "metadata": {},
   "source": [
    "Naturally we can now match the document and query in the id space, let's see how often a word from the query occurs in our example document:"
   ]
  },
  {
   "cell_type": "code",
   "execution_count": 13,
   "metadata": {},
   "outputs": [
    {
     "name": "stdout",
     "output_type": "stream",
     "text": [
      "Document AP890425-0001 has 13 word matches with query: \"university  massachusetts\".\n",
      "Document AP890425-0001 and query \"university  massachusetts\" have a 2.5% overlap.\n"
     ]
    }
   ],
   "source": [
    "matching_words = sum([True for word_id in example_document[1] if word_id in query_id_tokens])\n",
    "print(\"Document %s has %d word matches with query: \\\"%s\\\".\" % (example_document[0], matching_words, ' '.join(query_tokens)))\n",
    "print(\"Document %s and query \\\"%s\\\" have a %.01f%% overlap.\" % (example_document[0], ' '.join(query_tokens),matching_words/float(len(example_document[1]))*100))"
   ]
  },
  {
   "cell_type": "markdown",
   "metadata": {},
   "source": [
    "While this is certainly not everything Pyndri can do, it should give you an idea of how to use it. Please take a look at the [examples](https://github.com/cvangysel/pyndri) as it will help you a lot with this assignment.\n",
    "\n",
    "**CAUTION**: Avoid printing out the whole index in this Notebook as it will generate a lot of output and is likely to corrupt the Notebook."
   ]
  },
  {
   "cell_type": "markdown",
   "metadata": {},
   "source": [
    "### Parsing the query file\n",
    "You can parse the query file (`ap_88_89/topics_title`) using the following snippet:"
   ]
  },
  {
   "cell_type": "code",
   "execution_count": 16,
   "metadata": {},
   "outputs": [],
   "source": [
    "import collections\n",
    "import io\n",
    "import logging\n",
    "import sys\n",
    "import re\n",
    "\n",
    "def parse_topics(file_or_files,\n",
    "                 max_topics=sys.maxsize, delimiter=';'):\n",
    "    assert max_topics >= 0 or max_topics is None\n",
    "\n",
    "    topics = collections.OrderedDict()\n",
    "\n",
    "    if not isinstance(file_or_files, list) and \\\n",
    "            not isinstance(file_or_files, tuple):\n",
    "        if hasattr(file_or_files, '__iter__'):\n",
    "            file_or_files = list(file_or_files)\n",
    "        else:\n",
    "            file_or_files = [file_or_files]\n",
    "\n",
    "    for f in file_or_files:\n",
    "        assert isinstance(f, io.IOBase)\n",
    "\n",
    "        for line in f:\n",
    "            assert(isinstance(line, str))\n",
    "\n",
    "            line = line.strip()\n",
    "\n",
    "            if not line:\n",
    "                continue\n",
    "\n",
    "            topic_id, terms = line.split(delimiter, 1)\n",
    "\n",
    "            if topic_id in topics and (topics[topic_id] != terms):\n",
    "                    logging.error('Duplicate topic \"%s\" (%s vs. %s).',\n",
    "                                  topic_id,\n",
    "                                  topics[topic_id],\n",
    "                                  terms)\n",
    "\n",
    "            topics[topic_id] = terms\n",
    "\n",
    "            if max_topics > 0 and len(topics) >= max_topics:\n",
    "                break\n",
    "\n",
    "    return topics\n",
    "#\n",
    "#with open('./ap_88_89/topics_title', 'r') as f_topics:\n",
    "    #print(parse_topics([f_topics]))"
   ]
  },
  {
   "cell_type": "markdown",
   "metadata": {},
   "source": [
    "### Task 1: Implement and compare lexical IR methods [40 points] ### \n",
    "\n",
    "In this task you will implement a number of lexical methods for IR using the **Pyndri** framework. Then you will evaluate these methods on the dataset we have provided using **TREC Eval**.\n",
    "\n",
    "Use the **Pyndri** framework to get statistics of the documents (term frequency, document frequency, collection frequency; **you are not allowed to use the query functionality of Pyndri**) and implement the following scoring methods in **Python**:\n",
    "\n",
    "- [TF-IDF](http://nlp.stanford.edu/IR-book/html/htmledition/tf-idf-weighting-1.html). **[5 points]**\n",
    "- [BM25](http://nlp.stanford.edu/IR-book/html/htmledition/okapi-bm25-a-non-binary-model-1.html) with k1=1.2 and b=0.75. **[5 points]**\n",
    "- Language models ([survey](https://drive.google.com/file/d/0B-zklbckv9CHc0c3b245UW90NE0/view))\n",
    "    - Jelinek-Mercer (explore different values of 𝛌 in the range [0.1, 0.5, 0.9]). **[10 points]**\n",
    "    - Dirichlet Prior (explore different values of 𝛍 [500, 1000, 1500]). **[5 points]**\n",
    "    - Absolute discounting (explore different values of 𝛅 in the range [0.1, 0.5, 0.9]). **[5 points]**\n",
    "    \n",
    "Implement the above methods and report evaluation measures (on the test set) using the hyper parameter values you optimized on the validation set (also report the values of the hyper parameters). Use TREC Eval to obtain the results and report on `NDCG@10`, Mean Average Precision (`MAP@1000`), `Precision@5` and `Recall@1000`.\n",
    "\n",
    "For the language models, create plots showing `NDCG@10` with varying values of the parameters. You can do this by chaining small scripts using shell scripting (preferred) or execute trec_eval using Python's `subprocess`.\n",
    "\n",
    "Compute significance of the results using a [two-tailed paired Student t-test](https://docs.scipy.org/doc/scipy/reference/generated/scipy.stats.ttest_rel.html) **[10 points]**. Be wary of false rejection of the null hypothesis caused by the [multiple comparisons problem](https://en.wikipedia.org/wiki/Multiple_comparisons_problem). There are multiple ways to mitigate this problem and it is up to you to choose one.\n",
    "\n",
    "Analyse the results by identifying specific queries where different methods succeed or fail and discuss possible reasons that cause these differences. This is *very important* in order to understand how the different retrieval functions behave.\n",
    "\n",
    "**NOTE**: Don’t forget to use log computations in your calculations to avoid underflows. "
   ]
  },
  {
   "cell_type": "markdown",
   "metadata": {},
   "source": [
    "**IMPORTANT**: You should structure your code around the helper functions we provide below."
   ]
  },
  {
   "cell_type": "code",
   "execution_count": 17,
   "metadata": {},
   "outputs": [
    {
     "name": "stdout",
     "output_type": "stream",
     "text": [
      "Gathering statistics about 456 terms.\n",
      "Inverted index creation took 38.15473031997681 seconds.\n"
     ]
    }
   ],
   "source": [
    "import time\n",
    "\n",
    "start_time=time.time() \n",
    "\n",
    "with open('./ap_88_89/topics_title', 'r') as f_topics:\n",
    "    queries = parse_topics([f_topics])\n",
    "\n",
    "index = pyndri.Index('index/')\n",
    "\n",
    "num_documents = index.maximum_document() - index.document_base()\n",
    "\n",
    "dictionary = pyndri.extract_dictionary(index)\n",
    "\n",
    "tokenized_queries = {\n",
    "    query_id: [dictionary.translate_token(token)\n",
    "               for token in index.tokenize(query_string)\n",
    "               if dictionary.has_token(token)]\n",
    "    for query_id, query_string in queries.items()}\n",
    "\n",
    "query_term_ids = set(\n",
    "    query_term_id\n",
    "    for query_term_ids in tokenized_queries.values()\n",
    "    for query_term_id in query_term_ids)\n",
    "\n",
    "print('Gathering statistics about', len(query_term_ids), 'terms.')\n",
    "\n",
    "# inverted index creation.\n",
    "\n",
    "document_lengths = {}\n",
    "unique_terms_per_document = {}\n",
    "\n",
    "inverted_index = collections.defaultdict(dict)\n",
    "collection_frequencies = collections.defaultdict(int)\n",
    "\n",
    "total_terms = 0\n",
    "\n",
    "for int_doc_id in range(index.document_base(), index.maximum_document()):\n",
    "    ext_doc_id, doc_token_ids = index.document(int_doc_id)\n",
    "\n",
    "    document_bow = collections.Counter(\n",
    "        token_id for token_id in doc_token_ids\n",
    "        if token_id > 0)\n",
    "    document_length = sum(document_bow.values())\n",
    "\n",
    "    document_lengths[int_doc_id] = document_length\n",
    "    total_terms += document_length\n",
    "\n",
    "    unique_terms_per_document[int_doc_id] = len(document_bow)\n",
    "\n",
    "    for query_term_id in query_term_ids:\n",
    "        assert query_term_id is not None\n",
    "\n",
    "        document_term_frequency = document_bow.get(query_term_id, 0)\n",
    "\n",
    "        if document_term_frequency == 0:\n",
    "            continue\n",
    "\n",
    "        collection_frequencies[query_term_id] += document_term_frequency\n",
    "        inverted_index[query_term_id][int_doc_id] = document_term_frequency\n",
    "\n",
    "avg_doc_length = total_terms / num_documents\n",
    "\n",
    "print('Inverted index creation took', time.time() - start_time, 'seconds.')"
   ]
  },
  {
   "cell_type": "code",
   "execution_count": 14,
   "metadata": {},
   "outputs": [
    {
     "data": {
      "text/plain": [
       "456"
      ]
     },
     "execution_count": 14,
     "metadata": {},
     "output_type": "execute_result"
    }
   ],
   "source": [
    "len(inverted_index) #inverted index is only for queries"
   ]
  },
  {
   "cell_type": "code",
   "execution_count": null,
   "metadata": {},
   "outputs": [],
   "source": [
    "#query_term_ids #are the ids of the words inside the queries"
   ]
  },
  {
   "cell_type": "code",
   "execution_count": 18,
   "metadata": {},
   "outputs": [],
   "source": [
    "from collections import defaultdict\n",
    "\n",
    "    \n",
    "\n",
    "def run_retrieval(model_name, score_fn, **args):\n",
    "    \"\"\"\n",
    "    Runs a retrieval method for all the queries and writes the TREC-friendly results in a file.\n",
    "    \n",
    "    :param model_name: the name of the model (a string)\n",
    "    :param score_fn: the scoring function (a function - see below for an example) \n",
    "    \"\"\"\n",
    "    \n",
    "    retrieval_start_time = time.time()\n",
    "    \n",
    "    run_out_path = '{}.run'.format(model_name)\n",
    "\n",
    "    if os.path.exists(run_out_path):\n",
    "        return\n",
    "\n",
    "    print('Retrieving using', model_name)\n",
    "\n",
    "\n",
    "    data = {}\n",
    "    \n",
    "    for qid in tokenized_queries.keys(): #for each query\n",
    "\n",
    "\n",
    "        score = defaultdict(float)\n",
    "\n",
    "        query_length = len(tokenized_queries[qid])\n",
    "        for query_term_id in tokenized_queries[qid]: #for each word_id in query\n",
    "\n",
    "\n",
    "            for (int_document_id,document_term_freq) in zip(list(inverted_index[query_term_id].keys())\n",
    "                                                            ,list(inverted_index[query_term_id].values())):\n",
    "                #for each document where the word appears, calculate scoring function increment its score\n",
    "                \n",
    "                if score_fn == dirichlet_prior or score_fn == absolute_discounting:\n",
    "                    new_score = score_fn(int_document_id, query_term_id, document_term_freq,query_length, **args)\n",
    "      \n",
    "    \n",
    "                else:\n",
    "                    new_score = score_fn(int_document_id, query_term_id, document_term_freq, **args)\n",
    "                \n",
    "                \n",
    "                score[int_document_id] += new_score \n",
    "                \n",
    "\n",
    "\n",
    "\n",
    "        #turn dict to list of tuples and continue        \n",
    "        # The dictionary data should have the form: query_id --> (document_score, external_doc_id)\n",
    "        data[qid] = [(score, index.ext_document_id(doc_id)) for (score, doc_id) in zip(score.values(), score.keys())]\n",
    "        \n",
    "# write out  \n",
    "    with open(run_out_path, 'w') as f_out:\n",
    "        write_run(\n",
    "            model_name=model_name,\n",
    "            data=data,\n",
    "            out_f=f_out,\n",
    "            max_objects_per_query=1000)\n",
    "    "
   ]
  },
  {
   "cell_type": "markdown",
   "metadata": {},
   "source": [
    "### TF-IDF"
   ]
  },
  {
   "cell_type": "code",
   "execution_count": 183,
   "metadata": {},
   "outputs": [],
   "source": [
    "def tfidf(int_document_id, query_term_id, document_term_freq):\n",
    "    \"\"\"\n",
    "    Scoring function for a document and a query term\n",
    "    \n",
    "    :param int_document_id: the document id\n",
    "    :param query_token_id: the query term id (assuming you have split the query to tokens)\n",
    "    :param document_term_freq: the document term frequency of the query term \n",
    "    \"\"\"\n",
    "    \n",
    "    ## Amount of time a term appears in a document  \n",
    "    df = document_term_freq\n",
    "   \n",
    "    ## Number of documents containing the query word\n",
    "    n = len(inverted_index[query_term_id])\n",
    "    \n",
    "\n",
    "    tf = np.log2(1 + df)\n",
    "\n",
    "    idf = np.log2((n/df))\n",
    "    \n",
    "    score = tf * idf\n",
    "\n",
    "    return score\n",
    "\n",
    "\n"
   ]
  },
  {
   "cell_type": "code",
   "execution_count": 184,
   "metadata": {},
   "outputs": [
    {
     "name": "stdout",
     "output_type": "stream",
     "text": [
      "Retrieving using ./retrievals/tf-idf\n",
      "TF-IDF scoring took 81.6650710105896 seconds.\n"
     ]
    }
   ],
   "source": [
    "import os\n",
    "\n",
    "try:\n",
    "    os.remove('./retrievals/tf-idf.run')\n",
    "except Exception:\n",
    "    pass\n",
    "\n",
    "start_time=time.time() \n",
    "run_retrieval('./retrievals/tf-idf',tfidf)\n",
    "print('TF-IDF scoring took', time.time() - start_time, 'seconds.')"
   ]
  },
  {
   "cell_type": "code",
   "execution_count": 185,
   "metadata": {},
   "outputs": [
    {
     "name": "stdout",
     "output_type": "stream",
     "text": [
      "P_5                   \tall\t0.3200\r\n",
      "recall_1000           \tall\t0.5766\r\n",
      "ndcg_cut_10           \tall\t0.3409\r\n",
      "map_cut_1000          \tall\t0.2049\r\n"
     ]
    }
   ],
   "source": [
    "!trec_eval -m all_trec  ./ap_88_89/qrel_validation ./retrievals/tf-idf.run | grep -E \"^ndcg_cut_10\\s|^map_cut_1000\\s|^P_5\\s|^recall_1000\\s\""
   ]
  },
  {
   "cell_type": "code",
   "execution_count": 186,
   "metadata": {},
   "outputs": [
    {
     "name": "stdout",
     "output_type": "stream",
     "text": [
      "P_5                   \tall\t0.3700\r\n",
      "recall_1000           \tall\t0.5352\r\n",
      "ndcg_cut_10           \tall\t0.3549\r\n",
      "map_cut_1000          \tall\t0.1592\r\n"
     ]
    }
   ],
   "source": [
    "!trec_eval -m all_trec  ./ap_88_89/qrel_test ./retrievals/tf-idf.run | grep -E \"^ndcg_cut_10\\s|^map_cut_1000\\s|^P_5\\s|^recall_1000\\s\""
   ]
  },
  {
   "cell_type": "markdown",
   "metadata": {},
   "source": [
    "### BM25"
   ]
  },
  {
   "cell_type": "code",
   "execution_count": 187,
   "metadata": {},
   "outputs": [],
   "source": [
    "def bm25(int_document_id, query_term_id, document_term_freq ,k1=1.2 , b=0.75,length_avg = np.mean(np.array(list(document_lengths.values())))) :\n",
    "    \"\"\"\n",
    "    Scoring function for a document and a query term\n",
    "    \n",
    "    :param int_document_id: the document id\n",
    "    :param query_token_id: the query term id (assuming you have split the query to tokens)\n",
    "    :param document_term_freq: the document term frequency of the query term\n",
    "    \n",
    "    Hyperparameters: k1=1.2 and b=0.75\n",
    "    -\n",
    "    \"\"\"\n",
    "    \n",
    "    ## Amount of time a term appears in a document  \n",
    "    df = document_term_freq\n",
    "     \n",
    "    \n",
    "    ## tf, idf\n",
    "    tf = np.log2(1 + df)\n",
    "    idf = np.log2((len(inverted_index[query_term_id])/df))\n",
    "    \n",
    "    ## Total terms in a document : document_lengths[int_document_id]    \n",
    "    ## Amount of documents containing a term : len(inverted_index[query_term_id])\n",
    "    ## document length : document_lengths[int_document_id]\n",
    "    \n",
    "    return ((k1+1)*tf*idf)/(k1*((1-b)+b*(document_lengths[int_document_id] /length_avg))+tf)\n"
   ]
  },
  {
   "cell_type": "code",
   "execution_count": 188,
   "metadata": {},
   "outputs": [
    {
     "name": "stdout",
     "output_type": "stream",
     "text": [
      "Retrieving using ./retrievals/bm25\n",
      "BM25 scoring took 94.4726915359497 seconds.\n"
     ]
    }
   ],
   "source": [
    "try:\n",
    "    os.remove('./retrievals/bm25.run')\n",
    "except Exception:\n",
    "    pass\n",
    "    \n",
    "\n",
    "\n",
    "start_time=time.time() \n",
    "\n",
    "run_retrieval('./retrievals/bm25',bm25)\n",
    "\n",
    "print('BM25 scoring took', time.time() - start_time, 'seconds.')"
   ]
  },
  {
   "cell_type": "code",
   "execution_count": 189,
   "metadata": {},
   "outputs": [
    {
     "name": "stdout",
     "output_type": "stream",
     "text": [
      "P_5                   \tall\t0.2333\r\n",
      "recall_1000           \tall\t0.5075\r\n",
      "ndcg_cut_10           \tall\t0.2360\r\n",
      "map_cut_1000          \tall\t0.1397\r\n"
     ]
    }
   ],
   "source": [
    "##trec_eval command for evalutaion of bm25 for validation set\n",
    "\n",
    "!trec_eval -m all_trec ./ap_88_89/qrel_validation ./retrievals/bm25.run | grep -E \"^ndcg_cut_10\\s|^map_cut_1000\\s|^P_5\\s|^recall_1000\\s\""
   ]
  },
  {
   "cell_type": "code",
   "execution_count": 190,
   "metadata": {},
   "outputs": [
    {
     "name": "stdout",
     "output_type": "stream",
     "text": [
      "P_5                   \tall\t0.2400\r\n",
      "recall_1000           \tall\t0.4748\r\n",
      "ndcg_cut_10           \tall\t0.2364\r\n",
      "map_cut_1000          \tall\t0.1120\r\n"
     ]
    }
   ],
   "source": [
    "##trec_eval command for evalutaion of bm25 for test set\n",
    "\n",
    "!trec_eval -m all_trec ./ap_88_89/qrel_test ./retrievals/bm25.run | grep -E \"^ndcg_cut_10\\s|^map_cut_1000\\s|^P_5\\s|^recall_1000\\s\""
   ]
  },
  {
   "cell_type": "markdown",
   "metadata": {},
   "source": [
    "### Jelinek-Mercer"
   ]
  },
  {
   "cell_type": "code",
   "execution_count": 37,
   "metadata": {},
   "outputs": [],
   "source": [
    "#precompute the 2nd term of jelinek mercer smoothening to speed-up computations\n",
    "P_mle_col = dict()\n",
    "for query_term_id in query_term_ids:\n",
    "    \n",
    "    P_mle_col[query_term_id] = ((index.get_term_frequencies()[query_term_id]) )/index.total_terms()"
   ]
  },
  {
   "cell_type": "code",
   "execution_count": 192,
   "metadata": {},
   "outputs": [],
   "source": [
    "def jelinek_mercer(int_document_id, query_term_id, document_term_freq, lambd = 0.8):\n",
    "    \"\"\"\n",
    "    Scoring function for a document and a query term\n",
    "    \n",
    "    :param int_document_id: the document id\n",
    "    :param query_token_id: the query term id (assuming you have split the query to tokens)\n",
    "    :param document_term_freq: the document term frequency of the query term\n",
    "    :param lambd: lambda value of linear interpolation (default = 0.75)\n",
    "    \"\"\"\n",
    "\n",
    "\n",
    "    return np.log((1+(1-lambd)/lambd+document_term_freq/(document_lengths[int_document_id]*P_mle_col[query_term_id])))\n",
    "    "
   ]
  },
  {
   "cell_type": "code",
   "execution_count": 193,
   "metadata": {},
   "outputs": [
    {
     "name": "stdout",
     "output_type": "stream",
     "text": [
      "Retrieving using ./retrievals/jelinek_mercer\n",
      "elapsed time: 68.99172973632812\n"
     ]
    }
   ],
   "source": [
    "try:\n",
    "    os.remove('./retrievals/jelinek_mercer.run')\n",
    "except Exception:\n",
    "    pass\n",
    "\n",
    "start_time = time.time()\n",
    "test_dict = run_retrieval('./retrievals/jelinek_mercer',jelinek_mercer)\n",
    "print ('elapsed time:',time.time()-start_time)"
   ]
  },
  {
   "cell_type": "code",
   "execution_count": 194,
   "metadata": {
    "scrolled": true
   },
   "outputs": [
    {
     "name": "stdout",
     "output_type": "stream",
     "text": [
      "P_5                   \tall\t0.3800\r\n",
      "recall_1000           \tall\t0.6224\r\n",
      "ndcg_cut_10           \tall\t0.3801\r\n",
      "map_cut_1000          \tall\t0.2248\r\n"
     ]
    }
   ],
   "source": [
    "#trec_eval command for evalutaion of jelinek_mercer for validation set\n",
    "\n",
    "!trec_eval -m all_trec  ./ap_88_89/qrel_validation ./retrievals/jelinek_mercer.run | grep -E \"^ndcg_cut_10\\s|^map_cut_1000\\s|^P_5\\s|^recall_1000\\s\""
   ]
  },
  {
   "cell_type": "code",
   "execution_count": 195,
   "metadata": {},
   "outputs": [
    {
     "name": "stdout",
     "output_type": "stream",
     "text": [
      "P_5                   \tall\t0.3700\r\n",
      "recall_1000           \tall\t0.6242\r\n",
      "ndcg_cut_10           \tall\t0.3842\r\n",
      "map_cut_1000          \tall\t0.1975\r\n"
     ]
    }
   ],
   "source": [
    "#trec_eval command for evalutaion of jelinek_mercer for test set\n",
    "\n",
    "!trec_eval -m all_trec  ./ap_88_89/qrel_test ./retrievals/jelinek_mercer.run | grep -E \"^ndcg_cut_10\\s|^map_cut_1000\\s|^P_5\\s|^recall_1000\\s\""
   ]
  },
  {
   "cell_type": "markdown",
   "metadata": {},
   "source": [
    "### Dirichlet Prior"
   ]
  },
  {
   "cell_type": "code",
   "execution_count": null,
   "metadata": {},
   "outputs": [],
   "source": [
    "#pre-compute p(w|C) term ---- uncomment if you want to compute with different p(w|C)\n",
    "\n",
    "\n",
    "# P_mle_col = dict()\n",
    "# for query_term_id in query_term_ids:\n",
    "#     count = 0 \n",
    "#     for int_document_id in inverted_index[query_term_id].keys():\n",
    "        \n",
    "#         count +=(inverted_index[query_term_id][int_document_id]/document_lengths[int_document_id])\n",
    "    \n",
    "    \n",
    "#     P_mle_col[query_term_id] = count*(1/index.total_terms())"
   ]
  },
  {
   "cell_type": "code",
   "execution_count": 39,
   "metadata": {},
   "outputs": [],
   "source": [
    "def dirichlet_prior(int_document_id, query_term_id, document_term_freq,query_length, mu=1400):\n",
    "    \"\"\"\n",
    "    Scoring function for a document and a query term\n",
    "    \n",
    "    :param int_document_id: the document id\n",
    "    :param query_token_id: the query term id (assuming you have split the query to tokens)\n",
    "    :param document_term_freq: the document term frequency of the query term \n",
    "    \"\"\"\n",
    "   \n",
    "    ##p_w_C --------------> P_mle_col[query_term_id]\n",
    "    ## document length --------------> document_lengths[int_document_id]\n",
    "    #l --------------> document_lengths[int_document_id]\n",
    "    \n",
    "   \n",
    "    return np.log(1+(document_term_freq/(mu*P_mle_col[query_term_id])))\\\n",
    "                                    +query_length*np.log(mu/(mu+document_lengths[int_document_id]))\n",
    "                                                    "
   ]
  },
  {
   "cell_type": "code",
   "execution_count": 40,
   "metadata": {},
   "outputs": [
    {
     "name": "stdout",
     "output_type": "stream",
     "text": [
      "Retrieving using ./retrievals/dirichlet_prior\n",
      "elapsed time: 30.232436895370483\n"
     ]
    }
   ],
   "source": [
    "#final run\n",
    "try:\n",
    "    os.remove('./retrievals/dirichlet_prior.run')\n",
    "except Exception:\n",
    "    pass\n",
    "\n",
    "\n",
    "start_time = time.time()\n",
    "test_dict = run_retrieval('./retrievals/dirichlet_prior',dirichlet_prior, mu = 1400)\n",
    "print ('elapsed time:',time.time()-start_time)"
   ]
  },
  {
   "cell_type": "code",
   "execution_count": 41,
   "metadata": {},
   "outputs": [
    {
     "name": "stdout",
     "output_type": "stream",
     "text": [
      "P_5                   \tall\t0.3933\r\n",
      "recall_1000           \tall\t0.6097\r\n",
      "ndcg_cut_10           \tall\t0.4190\r\n",
      "map_cut_1000          \tall\t0.2289\r\n"
     ]
    }
   ],
   "source": [
    "#trec_eval command for evalutaion of dirichlet_prior - validation set\n",
    "\n",
    "!trec_eval -m all_trec  ./ap_88_89/qrel_validation ./retrievals/dirichlet_prior.run | grep -E \"^ndcg_cut_10\\s|^map_cut_1000\\s|^P_5\\s|^recall_1000\\s\""
   ]
  },
  {
   "cell_type": "code",
   "execution_count": 42,
   "metadata": {},
   "outputs": [
    {
     "name": "stdout",
     "output_type": "stream",
     "text": [
      "P_5                   \tall\t0.3783\r\n",
      "recall_1000           \tall\t0.6025\r\n",
      "ndcg_cut_10           \tall\t0.3732\r\n",
      "map_cut_1000          \tall\t0.1975\r\n"
     ]
    }
   ],
   "source": [
    "#trec_eval command for evalutaion of dirichlet_prior - test set\n",
    "\n",
    "!trec_eval -m all_trec   ./ap_88_89/qrel_test ./retrievals/dirichlet_prior.run | grep -E \"^ndcg_cut_10\\s|^map_cut_1000\\s|^P_5\\s|^recall_1000\\s\""
   ]
  },
  {
   "cell_type": "markdown",
   "metadata": {},
   "source": [
    "### Absolute discounting"
   ]
  },
  {
   "cell_type": "code",
   "execution_count": 200,
   "metadata": {},
   "outputs": [],
   "source": [
    "def absolute_discounting(int_document_id, query_term_id, document_term_freq,query_length, delta=0.9):\n",
    "    \"\"\"\n",
    "    Scoring function for a document and a query term\n",
    "    \n",
    "    :param int_document_id: the document id\n",
    "    :param query_token_id: the query term id (assuming you have split the query to tokens)\n",
    "    :param document_term_freq: the document term frequency of the query term \n",
    "    \"\"\"\n",
    "\n",
    "    ## p_w_C = P_mle_col[query_term_id])\n",
    "    ## document length : document_lengths[int_document_id]\n",
    "    ## document length u: collection_frequencies[query_term_id]\n",
    "    \n",
    "    \n",
    " \n",
    "    \n",
    "    return np.log(np.max(document_term_freq-delta,0)/ \\\n",
    "                (delta*unique_terms_per_document[int_document_id]*P_mle_col[query_term_id]))\\\n",
    "                +query_length*np.log((delta*unique_terms_per_document[int_document_id])/delta)\n",
    "    \n"
   ]
  },
  {
   "cell_type": "code",
   "execution_count": 201,
   "metadata": {},
   "outputs": [
    {
     "name": "stdout",
     "output_type": "stream",
     "text": [
      "Retrieving using ./retrievals/absolute_discounting\n",
      "elapsed time: 184.20304107666016\n"
     ]
    }
   ],
   "source": [
    "#final run\n",
    "try:\n",
    "    os.remove('./retrievals/absolute_discounting.run')\n",
    "except Exception:\n",
    "    pass\n",
    "\n",
    "\n",
    "\n",
    "start_time = time.time()\n",
    "test_dict = run_retrieval('./retrievals/absolute_discounting',absolute_discounting)\n",
    "print ('elapsed time:',time.time()-start_time)"
   ]
  },
  {
   "cell_type": "code",
   "execution_count": 202,
   "metadata": {},
   "outputs": [
    {
     "name": "stdout",
     "output_type": "stream",
     "text": [
      "P_5                   \tall\t0.2867\r\n",
      "recall_1000           \tall\t0.5496\r\n",
      "ndcg_cut_10           \tall\t0.3058\r\n",
      "map_cut_1000          \tall\t0.1871\r\n"
     ]
    }
   ],
   "source": [
    "#trec_eval command for evalutaion of Absolute Discounting - validation set\n",
    "\n",
    "!trec_eval -m all_trec  ./ap_88_89/qrel_validation ./retrievals/absolute_discounting.run | grep -E \"^ndcg_cut_10\\s|^map_cut_1000\\s|^P_5\\s|^recall_1000\\s\""
   ]
  },
  {
   "cell_type": "code",
   "execution_count": 203,
   "metadata": {},
   "outputs": [
    {
     "name": "stdout",
     "output_type": "stream",
     "text": [
      "P_5                   \tall\t0.3367\r\n",
      "recall_1000           \tall\t0.5628\r\n",
      "ndcg_cut_10           \tall\t0.3303\r\n",
      "map_cut_1000          \tall\t0.1528\r\n"
     ]
    }
   ],
   "source": [
    "#trec_eval command for evalutaion of Absolute Discounting - test set\n",
    "\n",
    "!trec_eval -m all_trec  ./ap_88_89/qrel_test ./retrievals/absolute_discounting.run | grep -E \"^ndcg_cut_10\\s|^map_cut_1000\\s|^P_5\\s|^recall_1000\\s\""
   ]
  },
  {
   "cell_type": "markdown",
   "metadata": {},
   "source": [
    "### Selection of the Hyperparameters based on validation set"
   ]
  },
  {
   "cell_type": "code",
   "execution_count": 29,
   "metadata": {},
   "outputs": [],
   "source": [
    "import glob\n",
    "import pandas as pd\n",
    "from matplotlib import pyplot as plt\n",
    "plt.style.use('ggplot')"
   ]
  },
  {
   "cell_type": "code",
   "execution_count": 205,
   "metadata": {},
   "outputs": [],
   "source": [
    "def get_scores(filenames, validation=True):\n",
    "    \"\"\"\n",
    "    Function to get scores from trec_eval using a \n",
    "    :param filenames: a list of *.run files (retrieval scores for queries)\n",
    "    :param validation: boolean. Perform evaluation on validation or test set (queries)\n",
    "    \"\"\"\n",
    "    scores = {}\n",
    "    for filename in filenames:\n",
    "        param_value = float(filename.split(\"=\")[-1].split('.run')[0])\n",
    "        if validation:\n",
    "            result = !trec_eval -m all_trec ./ap_88_89/qrel_validation {filename} | grep -E \"^ndcg_cut_10\\s|^map_cut_1000\\s|^P_5\\s|^recall_1000\\s\"\n",
    "        else:\n",
    "            result = !trec_eval -m all_trec ./ap_88_89/qrel_test {filename} | grep -E \"^ndcg_cut_10\\s|^map_cut_1000\\s|^P_5\\s|^recall_1000\\s\"\n",
    "\n",
    "        for row in result:\n",
    "            metric = row.split(' ')[0]\n",
    "            score = float(row.split('\\t')[-1])\n",
    "            if metric not in scores.keys():\n",
    "                scores[metric] = {}\n",
    "            scores[metric][param_value] = score\n",
    "    return scores"
   ]
  },
  {
   "cell_type": "code",
   "execution_count": 206,
   "metadata": {},
   "outputs": [],
   "source": [
    "def test_hyperparameters(hyperparameters,funct_name,score_function):\n",
    "    \n",
    "    for param_value in hyperparameters:\n",
    "        \n",
    "        start_time = time.time()\n",
    "        \n",
    "        filename = 'retrievals/'+funct_name+'='+str(param_value)\n",
    "        \n",
    "        if funct_name== 'jelinek_mercer_lambda':\n",
    "            run_retrieval(filename,score_function, lambd = param_value)\n",
    "        elif funct_name=='dirichlet_prior_mu':\n",
    "            run_retrieval(filename,dirichlet_prior, mu = param_value)\n",
    "        \n",
    "        elif funct_name=='absolute_discounting_delta':\n",
    "            run_retrieval(filename,absolute_discounting, delta = param_value)\n",
    "            \n",
    "        else:\n",
    "            print (\"Wrong method name\")\n",
    "            return\n",
    "            \n",
    "\n",
    "        print ('finished {} in {} sec'.format(filename,(time.time()-start_time)))\n",
    "    \n",
    "    filenames = glob.glob('./retrievals/'+funct_name+'=*')\n",
    "    scores = get_scores(filenames)\n",
    "    scores = pd.DataFrame.from_dict(scores,dtype=float)\n",
    "    scores.index.name = 'delta'\n",
    "    \n",
    "    return scores"
   ]
  },
  {
   "cell_type": "code",
   "execution_count": 207,
   "metadata": {},
   "outputs": [],
   "source": [
    "def visualize(df):\n",
    "    \n",
    "    df.drop('recall_1000',axis=1).plot()\n",
    "\n",
    "    \n"
   ]
  },
  {
   "cell_type": "code",
   "execution_count": 129,
   "metadata": {},
   "outputs": [
    {
     "name": "stdout",
     "output_type": "stream",
     "text": [
      "finished retrievals/jelinek_mercer_lambda=0.1 in 0.00020170211791992188 sec\n",
      "finished retrievals/jelinek_mercer_lambda=0.2 in 8.344650268554688e-05 sec\n",
      "finished retrievals/jelinek_mercer_lambda=0.3 in 0.0003809928894042969 sec\n",
      "finished retrievals/jelinek_mercer_lambda=0.4 in 0.0003094673156738281 sec\n",
      "finished retrievals/jelinek_mercer_lambda=0.5 in 7.104873657226562e-05 sec\n",
      "finished retrievals/jelinek_mercer_lambda=0.6 in 0.0004143714904785156 sec\n",
      "finished retrievals/jelinek_mercer_lambda=0.7 in 0.0002720355987548828 sec\n",
      "finished retrievals/jelinek_mercer_lambda=0.8 in 8.678436279296875e-05 sec\n",
      "finished retrievals/jelinek_mercer_lambda=0.9 in 7.152557373046875e-05 sec\n"
     ]
    },
    {
     "data": {
      "image/png": "[encoded data removed]",
      "text/plain": [
       "<matplotlib.figure.Figure at 0x7f1c3edd42b0>"
      ]
     },
     "metadata": {},
     "output_type": "display_data"
    }
   ],
   "source": [
    "#Hyperparameter selection for Jelinek Mercer by choosing the right lambda hyperparameter\n",
    "\n",
    "df_jelinek = test_hyperparameters(np.arange(0.1,0.91,0.1),'jelinek_mercer_lambda',jelinek_mercer)\n",
    "\n",
    "visualize(df_jelinek )   "
   ]
  },
  {
   "cell_type": "code",
   "execution_count": 120,
   "metadata": {},
   "outputs": [],
   "source": [
    "import pandas as pd\n",
    "\n",
    "##-----> Save dataframe-uncomment for saving\n",
    "\n",
    "#df_jelinek.to_csv('./dataframes/jelinek', sep='\\t')\n",
    "\n",
    "\n",
    "##-----> Load dataframe-uncomment for saving\n",
    "\n",
    "#df_jelinek = pd.read_csv('./dataframes/jelinek',sep='\\t')"
   ]
  },
  {
   "cell_type": "code",
   "execution_count": 134,
   "metadata": {
    "scrolled": false
   },
   "outputs": [
    {
     "data": {
      "text/plain": [
       "Text(0,0.5,'trec_eval_score  all')"
      ]
     },
     "execution_count": 134,
     "metadata": {},
     "output_type": "execute_result"
    },
    {
     "data": {
      "image/png": "[encoded data removed]",
      "text/plain": [
       "<matplotlib.figure.Figure at 0x7f1c1dbc56d8>"
      ]
     },
     "metadata": {},
     "output_type": "display_data"
    }
   ],
   "source": [
    "\n",
    "a = df_jelinek.drop(['recall_1000','map_cut_1000'],axis=1).plot(title='NDCG@10 - Jelinek Mercer', figsize=(12,6))\n",
    "a.set_xlabel(\"lambda\")\n",
    "a.set_ylabel(\"trec_eval_score  all\")"
   ]
  },
  {
   "cell_type": "code",
   "execution_count": 227,
   "metadata": {},
   "outputs": [],
   "source": [
    "fig = a.get_figure()\n",
    "\n",
    "fig.savefig('./figures/j_m.png')"
   ]
  },
  {
   "cell_type": "code",
   "execution_count": 208,
   "metadata": {
    "scrolled": false
   },
   "outputs": [
    {
     "name": "stdout",
     "output_type": "stream",
     "text": [
      "Retrieving using retrievals/dirichlet_prior_mu=500\n",
      "finished retrievals/dirichlet_prior_mu=500 in 166.41239714622498 sec\n",
      "Retrieving using retrievals/dirichlet_prior_mu=600\n",
      "finished retrievals/dirichlet_prior_mu=600 in 161.74378514289856 sec\n",
      "Retrieving using retrievals/dirichlet_prior_mu=700\n",
      "finished retrievals/dirichlet_prior_mu=700 in 151.3724718093872 sec\n",
      "Retrieving using retrievals/dirichlet_prior_mu=800\n",
      "finished retrievals/dirichlet_prior_mu=800 in 129.21602058410645 sec\n",
      "Retrieving using retrievals/dirichlet_prior_mu=900\n",
      "finished retrievals/dirichlet_prior_mu=900 in 131.12808918952942 sec\n",
      "Retrieving using retrievals/dirichlet_prior_mu=1000\n",
      "finished retrievals/dirichlet_prior_mu=1000 in 140.49388146400452 sec\n",
      "Retrieving using retrievals/dirichlet_prior_mu=1100\n",
      "finished retrievals/dirichlet_prior_mu=1100 in 131.51331186294556 sec\n",
      "Retrieving using retrievals/dirichlet_prior_mu=1200\n",
      "finished retrievals/dirichlet_prior_mu=1200 in 148.44941520690918 sec\n",
      "Retrieving using retrievals/dirichlet_prior_mu=1300\n",
      "finished retrievals/dirichlet_prior_mu=1300 in 131.34348320960999 sec\n",
      "Retrieving using retrievals/dirichlet_prior_mu=1400\n",
      "finished retrievals/dirichlet_prior_mu=1400 in 132.77156972885132 sec\n",
      "Retrieving using retrievals/dirichlet_prior_mu=1500\n",
      "finished retrievals/dirichlet_prior_mu=1500 in 133.99077224731445 sec\n"
     ]
    },
    {
     "data": {
      "image/png": "[encoded data removed]",
      "text/plain": [
       "<matplotlib.figure.Figure at 0x7f1c3e94cb70>"
      ]
     },
     "metadata": {},
     "output_type": "display_data"
    }
   ],
   "source": [
    "#Hyperparameter selection for Dirichlet Prior by choosing the right lambda hyperparameter\n",
    "\n",
    "df_dirichlet = test_hyperparameters(np.arange(500,1501, 100),'dirichlet_prior_mu',dirichlet_prior)\n",
    "\n",
    "visualize(df_dirichlet )   "
   ]
  },
  {
   "cell_type": "code",
   "execution_count": 209,
   "metadata": {},
   "outputs": [],
   "source": [
    "##-----> Save dataframe-uncomment for saving\n",
    "\n",
    "#df_dirichlet.to_csv('./dataframes/dirichlet', sep='\\t')\n",
    "\n",
    "\n",
    "##-----> Load dataframe-uncomment for saving\n",
    "\n",
    "#df_dirichlet = pd.read_csv('./dataframes/dirichlet',sep='\\t')\n"
   ]
  },
  {
   "cell_type": "code",
   "execution_count": 210,
   "metadata": {},
   "outputs": [
    {
     "data": {
      "text/plain": [
       "Text(0,0.5,'trec_eval_score all')"
      ]
     },
     "execution_count": 210,
     "metadata": {},
     "output_type": "execute_result"
    },
    {
     "data": {
      "image/png": "[encoded data removed]",
      "text/plain": [
       "<matplotlib.figure.Figure at 0x7f1c3eb93128>"
      ]
     },
     "metadata": {},
     "output_type": "display_data"
    }
   ],
   "source": [
    "a2 = df_dirichlet.drop(['recall_1000','map_cut_1000'],axis=1).plot(title='NDCG@10 - Dirichlet Prior', figsize=(12,6))\n",
    "a2.set_xlabel(\"mu\")\n",
    "a2.set_ylabel(\"trec_eval_score all\")"
   ]
  },
  {
   "cell_type": "code",
   "execution_count": 226,
   "metadata": {},
   "outputs": [],
   "source": [
    "fig = a2.get_figure()\n",
    "\n",
    "fig.savefig('./figures/d_p.png')"
   ]
  },
  {
   "cell_type": "code",
   "execution_count": 211,
   "metadata": {},
   "outputs": [
    {
     "name": "stdout",
     "output_type": "stream",
     "text": [
      "Retrieving using retrievals/absolute_discounting_delta=0.1\n",
      "finished retrievals/absolute_discounting_delta=0.1 in 143.81923007965088 sec\n",
      "Retrieving using retrievals/absolute_discounting_delta=0.2\n",
      "finished retrievals/absolute_discounting_delta=0.2 in 155.4521734714508 sec\n",
      "Retrieving using retrievals/absolute_discounting_delta=0.3\n",
      "finished retrievals/absolute_discounting_delta=0.3 in 182.80897331237793 sec\n",
      "Retrieving using retrievals/absolute_discounting_delta=0.4\n",
      "finished retrievals/absolute_discounting_delta=0.4 in 152.30209755897522 sec\n",
      "Retrieving using retrievals/absolute_discounting_delta=0.5\n",
      "finished retrievals/absolute_discounting_delta=0.5 in 179.39826774597168 sec\n",
      "Retrieving using retrievals/absolute_discounting_delta=0.6\n",
      "finished retrievals/absolute_discounting_delta=0.6 in 178.36468839645386 sec\n",
      "Retrieving using retrievals/absolute_discounting_delta=0.7\n",
      "finished retrievals/absolute_discounting_delta=0.7 in 159.50352549552917 sec\n",
      "Retrieving using retrievals/absolute_discounting_delta=0.8\n",
      "finished retrievals/absolute_discounting_delta=0.8 in 185.24754214286804 sec\n",
      "Retrieving using retrievals/absolute_discounting_delta=0.9\n",
      "finished retrievals/absolute_discounting_delta=0.9 in 140.3667094707489 sec\n"
     ]
    },
    {
     "data": {
      "image/png": "[encoded data removed]",
      "text/plain": [
       "<matplotlib.figure.Figure at 0x7f1c3e9c84a8>"
      ]
     },
     "metadata": {},
     "output_type": "display_data"
    }
   ],
   "source": [
    "#Hyperparameter selection for Absolute Discounting by choosing the right lambda hyperparameter\n",
    "\n",
    "df_absolute = test_hyperparameters(np.arange(0.1,0.91, 0.1),'absolute_discounting_delta',absolute_discounting)\n",
    "\n",
    "visualize(df_absolute )   "
   ]
  },
  {
   "cell_type": "code",
   "execution_count": 212,
   "metadata": {},
   "outputs": [],
   "source": [
    "##-----> Save dataframe-uncomment for saving\n",
    "\n",
    "#df_absolute.to_csv('./dataframes/absolute', sep='\\t')\n",
    "\n",
    "\n",
    "##-----> Load dataframe-uncomment for saving\n",
    "\n",
    "#df_absolute = pd.read_csv('./dataframes/absolute',sep='\\t')"
   ]
  },
  {
   "cell_type": "code",
   "execution_count": 213,
   "metadata": {
    "scrolled": false
   },
   "outputs": [
    {
     "data": {
      "text/plain": [
       "Text(0,0.5,'trec_eval_score  all')"
      ]
     },
     "execution_count": 213,
     "metadata": {},
     "output_type": "execute_result"
    },
    {
     "data": {
      "image/png": "[encoded data removed]",
      "text/plain": [
       "<matplotlib.figure.Figure at 0x7f1c35082550>"
      ]
     },
     "metadata": {},
     "output_type": "display_data"
    }
   ],
   "source": [
    "a3 = df_absolute.drop(['recall_1000','map_cut_1000'],axis=1).plot(title='NDCG@10 - Absolute Discounting', figsize=(12,6))\n",
    "a3.set_xlabel(\"delta\")\n",
    "a3.set_ylabel(\"trec_eval_score  all\")"
   ]
  },
  {
   "cell_type": "code",
   "execution_count": 225,
   "metadata": {},
   "outputs": [],
   "source": [
    "fig = a3.get_figure()\n",
    "\n",
    "fig.savefig('./figures/a_d.png')"
   ]
  },
  {
   "cell_type": "markdown",
   "metadata": {},
   "source": [
    "### Query scores - Evaluation measures on test set"
   ]
  },
  {
   "cell_type": "code",
   "execution_count": 22,
   "metadata": {},
   "outputs": [],
   "source": [
    "import re\n",
    "import pandas as pd\n",
    "\n",
    "def parse_retrieval_scores(file_name, regexp = \"^ndcg_cut_10\\s\" ,validation=True):\n",
    "    \"\"\"Return a pd.Series of the given score (defined in regexp) for validation or test set.\n",
    "    regexp defines the lines (corresponding to different metrics) to be retrieved.\n",
    "    \n",
    "    >>> parse_retrieval_scores('bm25.run', \"^ndcg_cut_10\\s\", validation = False)\n",
    "    Returns dataframe for NDCG@10 scores for the BM25 retrieval in the test set\n",
    "    \"\"\"\n",
    "\n",
    "    df = pd.Series()\n",
    "    regexp =\"\\'\"+regexp+\"\\'\"\n",
    "    series = pd.Series()\n",
    "    if validation:\n",
    "        qrel_file = 'qrel_validation'\n",
    "    else: \n",
    "        qrel_file = 'qrel_test'\n",
    "    \n",
    "    results = !trec_eval -m all_trec -q ./ap_88_89/{qrel_file} {file_name} | grep -E {regexp}\n",
    "    print('Retrieving',len(results), 'results')\n",
    "    for result in results:\n",
    "        result = re.sub( '\\s+', ' ', result ).strip().split()\n",
    "\n",
    "        idx = result[1]\n",
    "        value = float(result[2])\n",
    "\n",
    "        series.set_value(idx,value)\n",
    "    return series.drop('all')"
   ]
  },
  {
   "cell_type": "code",
   "execution_count": 24,
   "metadata": {
    "scrolled": false
   },
   "outputs": [
    {
     "name": "stdout",
     "output_type": "stream",
     "text": [
      "Retrieving 121 results\n",
      "Retrieving 121 results\n",
      "Retrieving 121 results\n",
      "Retrieving 121 results\n",
      "Retrieving 121 results\n"
     ]
    },
    {
     "data": {
      "text/html": [
       "<div>\n",
       "<style scoped>\n",
       "    .dataframe tbody tr th:only-of-type {\n",
       "        vertical-align: middle;\n",
       "    }\n",
       "\n",
       "    .dataframe tbody tr th {\n",
       "        vertical-align: top;\n",
       "    }\n",
       "\n",
       "    .dataframe thead th {\n",
       "        text-align: right;\n",
       "    }\n",
       "</style>\n",
       "<table border=\"1\" class=\"dataframe\">\n",
       "  <thead>\n",
       "    <tr style=\"text-align: right;\">\n",
       "      <th></th>\n",
       "      <th>tf-idf</th>\n",
       "      <th>bm25</th>\n",
       "      <th>jelinek_mercer</th>\n",
       "      <th>dirichlet_prior</th>\n",
       "      <th>absolute_discounting</th>\n",
       "    </tr>\n",
       "  </thead>\n",
       "  <tbody>\n",
       "    <tr>\n",
       "      <th>100</th>\n",
       "      <td>0.6602</td>\n",
       "      <td>0.2279</td>\n",
       "      <td>0.2980</td>\n",
       "      <td>0.3539</td>\n",
       "      <td>0.2489</td>\n",
       "    </tr>\n",
       "    <tr>\n",
       "      <th>101</th>\n",
       "      <td>0.1584</td>\n",
       "      <td>0.4035</td>\n",
       "      <td>0.4734</td>\n",
       "      <td>0.5869</td>\n",
       "      <td>0.0694</td>\n",
       "    </tr>\n",
       "    <tr>\n",
       "      <th>102</th>\n",
       "      <td>0.0000</td>\n",
       "      <td>0.0663</td>\n",
       "      <td>0.3160</td>\n",
       "      <td>0.5919</td>\n",
       "      <td>0.0000</td>\n",
       "    </tr>\n",
       "    <tr>\n",
       "      <th>104</th>\n",
       "      <td>0.1299</td>\n",
       "      <td>0.5481</td>\n",
       "      <td>0.2579</td>\n",
       "      <td>0.0784</td>\n",
       "      <td>0.3566</td>\n",
       "    </tr>\n",
       "    <tr>\n",
       "      <th>105</th>\n",
       "      <td>0.0000</td>\n",
       "      <td>0.0000</td>\n",
       "      <td>0.0000</td>\n",
       "      <td>0.0000</td>\n",
       "      <td>0.0000</td>\n",
       "    </tr>\n",
       "  </tbody>\n",
       "</table>\n",
       "</div>"
      ],
      "text/plain": [
       "     tf-idf    bm25  jelinek_mercer  dirichlet_prior  absolute_discounting\n",
       "100  0.6602  0.2279          0.2980           0.3539                0.2489\n",
       "101  0.1584  0.4035          0.4734           0.5869                0.0694\n",
       "102  0.0000  0.0663          0.3160           0.5919                0.0000\n",
       "104  0.1299  0.5481          0.2579           0.0784                0.3566\n",
       "105  0.0000  0.0000          0.0000           0.0000                0.0000"
      ]
     },
     "execution_count": 24,
     "metadata": {},
     "output_type": "execute_result"
    }
   ],
   "source": [
    "best_hyperparameters = ['tf-idf.run','bm25.run','jelinek_mercer_lambda=0.8.run',\n",
    "                        'dirichlet_prior_mu=1400.run','absolute_discounting_delta=0.9.run']\n",
    "names = ['tf-idf','bm25','jelinek_mercer','dirichlet_prior','absolute_discounting']\n",
    "list_of_series ={}\n",
    "\n",
    "#creates a dataframe with ndcg@10 score of all the queries inside the test set\n",
    "for m, name in zip(best_hyperparameters,names):\n",
    "    list_of_series[name]=parse_retrieval_scores('./retrievals/'+m, \"^ndcg_cut_10\\s\", validation = False)\n",
    "    \n",
    "\n",
    "best_scores = pd.DataFrame(list_of_series,columns=names)\n",
    "best_scores.head()"
   ]
  },
  {
   "cell_type": "code",
   "execution_count": 34,
   "metadata": {},
   "outputs": [
    {
     "data": {
      "text/plain": [
       "Text(0,0.5,'ndsg@10')"
      ]
     },
     "execution_count": 34,
     "metadata": {},
     "output_type": "execute_result"
    },
    {
     "data": {
      "image/png": "[encoded data removed]",
      "text/plain": [
       "<matplotlib.figure.Figure at 0x7f39a9f76a20>"
      ]
     },
     "metadata": {},
     "output_type": "display_data"
    }
   ],
   "source": [
    "#plot the queries ndcg@10 scores contained inside the test set - all\n",
    "p = best_scores.plot(kind='bar',figsize=(18,8))\n",
    "p.set_xlabel(\"query ids\")\n",
    "p.set_ylabel(\"ndsg@10\")\n"
   ]
  },
  {
   "cell_type": "code",
   "execution_count": 35,
   "metadata": {},
   "outputs": [
    {
     "data": {
      "text/plain": [
       "Text(0,0.5,'ndsg@10')"
      ]
     },
     "execution_count": 35,
     "metadata": {},
     "output_type": "execute_result"
    },
    {
     "data": {
      "image/png": "[encoded data removed]",
      "text/plain": [
       "<matplotlib.figure.Figure at 0x7f39a9a93d30>"
      ]
     },
     "metadata": {},
     "output_type": "display_data"
    }
   ],
   "source": [
    "#plot the queries ndcg@10 scores contained inside the test set -first split\n",
    "p2 = best_scores[:60].plot(kind='bar',figsize=(18,8))\n",
    "p2.set_xlabel(\"query ids\")\n",
    "p2.set_ylabel(\"ndsg@10\")\n"
   ]
  },
  {
   "cell_type": "code",
   "execution_count": 36,
   "metadata": {
    "scrolled": false
   },
   "outputs": [
    {
     "data": {
      "text/plain": [
       "Text(0,0.5,'ndsg@10')"
      ]
     },
     "execution_count": 36,
     "metadata": {},
     "output_type": "execute_result"
    },
    {
     "data": {
      "image/png": "[encoded data removed]",
      "text/plain": [
       "<matplotlib.figure.Figure at 0x7f39a961c1d0>"
      ]
     },
     "metadata": {},
     "output_type": "display_data"
    }
   ],
   "source": [
    "#plot the queries ndcg@10 scores contained inside the test set - second split\n",
    "p3=best_scores[61:].plot(kind='bar',figsize=(18,8))\n",
    "p3.set_xlabel(\"query ids\")\n",
    "p3.set_ylabel(\"ndsg@10\")\n"
   ]
  },
  {
   "cell_type": "code",
   "execution_count": 62,
   "metadata": {},
   "outputs": [
    {
     "name": "stdout",
     "output_type": "stream",
     "text": [
      "110 Black Resistance Against the South African Government - tf-idf\n",
      "100 Controlling the Transfer of High Technology - tf-idf\n",
      "177 English as the Official Language in U.S. - tf-idf\n",
      "102 Laser Research Applicable to the U.S.'s Strategic Defense Initiative - probabilistic\n"
     ]
    }
   ],
   "source": [
    "print('110',queries['110'],\"- tf-idf\")\n",
    "print('100',queries['100'],\"- tf-idf\")\n",
    "print('177',queries['177'],\"- tf-idf\")\n",
    "print('102',queries['102'],\"- probabilistic\")\n"
   ]
  },
  {
   "cell_type": "code",
   "execution_count": 61,
   "metadata": {},
   "outputs": [
    {
     "data": {
      "text/plain": [
       "Text(0,0.5,'ndcg@10')"
      ]
     },
     "execution_count": 61,
     "metadata": {},
     "output_type": "execute_result"
    },
    {
     "data": {
      "image/png": "[encoded data removed]",
      "text/plain": [
       "<matplotlib.figure.Figure at 0x7f39a9395518>"
      ]
     },
     "metadata": {},
     "output_type": "display_data"
    }
   ],
   "source": [
    "# Plot the queries we have chosen for our analysis inside the report\n",
    "p3=best_scores.loc[['100','110','102','142','160','177']].plot(kind='bar',figsize=(10,5))\n",
    "p3.set_xlabel(\"query ids\")\n",
    "p3.set_ylabel(\"ndcg@10\")\n"
   ]
  },
  {
   "cell_type": "code",
   "execution_count": 63,
   "metadata": {},
   "outputs": [],
   "source": [
    "fig = p3.get_figure()\n",
    "\n",
    "fig.savefig('./figures/queries_sp.png')"
   ]
  },
  {
   "cell_type": "markdown",
   "metadata": {},
   "source": [
    "### Perform statistical-testing"
   ]
  },
  {
   "cell_type": "code",
   "execution_count": 155,
   "metadata": {},
   "outputs": [],
   "source": [
    "from scipy.stats import ttest_rel\n",
    "from itertools import combinations"
   ]
  },
  {
   "cell_type": "code",
   "execution_count": 156,
   "metadata": {},
   "outputs": [],
   "source": [
    "def t_test(method1,method2,a=0.05):\n",
    "    \n",
    "    p_value = ttest_rel(method1, method2)[1]\n",
    "    \n",
    "    if p_value>a:\n",
    "        return (p_value, 'not-rejected')\n",
    "    else:\n",
    "        return (p_value, 'rejected')"
   ]
  },
  {
   "cell_type": "code",
   "execution_count": 157,
   "metadata": {},
   "outputs": [
    {
     "name": "stdout",
     "output_type": "stream",
     "text": [
      "absolute_discounting jelinek_mercer\n",
      "(0.14187266881813163, 'not-rejected')\n",
      "\n",
      "\n",
      "absolute_discounting dirichlet_prior\n",
      "(0.3040008105878757, 'not-rejected')\n",
      "\n",
      "\n",
      "absolute_discounting tf-idf\n",
      "(0.0037911281558370949, 'rejected')\n",
      "\n",
      "\n",
      "absolute_discounting BM25\n",
      "(1.457123118598926e-13, 'rejected')\n",
      "\n",
      "\n",
      "jelinek_mercer dirichlet_prior\n",
      "(0.0021567170343023629, 'rejected')\n",
      "\n",
      "\n",
      "jelinek_mercer tf-idf\n",
      "(0.15243319653372139, 'not-rejected')\n",
      "\n",
      "\n",
      "jelinek_mercer BM25\n",
      "(3.5977019311600529e-13, 'rejected')\n",
      "\n",
      "\n",
      "dirichlet_prior tf-idf\n",
      "(0.0019399962958165352, 'rejected')\n",
      "\n",
      "\n",
      "dirichlet_prior BM25\n",
      "(5.1241323630156467e-14, 'rejected')\n",
      "\n",
      "\n",
      "tf-idf BM25\n",
      "(1.1545081853649012e-07, 'rejected')\n",
      "\n",
      "\n"
     ]
    }
   ],
   "source": [
    "#perform pairwise t-test\n",
    "combs = list(combinations(best_scores.columns,2))\n",
    "\n",
    "for pair in combs:\n",
    "    print(pair[0],pair[1])\n",
    "    print(t_test(best_scores[pair[0]],best_scores[pair[1]],a=0.05/len(combs)))\n",
    "    print('\\n')"
   ]
  },
  {
   "cell_type": "markdown",
   "metadata": {},
   "source": [
    "### Task 2: Latent Semantic Models (LSMs) [20 points] ###\n",
    "\n",
    "In this task you will experiment with applying distributional semantics methods ([LSI](http://lsa3.colorado.edu/papers/JASIS.lsi.90.pdf) **[5 points]** and [LDA](https://www.cs.princeton.edu/~blei/papers/BleiNgJordan2003.pdf) **[5 points]**) for retrieval.\n",
    "\n",
    "You do not need to implement LSI or LDA on your own. Instead, you can use [gensim](http://radimrehurek.com/gensim/index.html). An example on how to integrate Pyndri with Gensim for word2vec can be found [here](https://github.com/cvangysel/pyndri/blob/master/examples/word2vec.py). For the remaining latent vector space models, you will need to implement connector classes (such as `IndriSentences`) by yourself.\n",
    "\n",
    "In order to use a latent semantic model for retrieval, you need to:\n",
    "   * build a representation of the query **q**,\n",
    "   * build a representation of the document **d**,\n",
    "   * calculate the similarity between **q** and **d** (e.g., cosine similarity, KL-divergence).\n",
    "     \n",
    "The exact implementation here depends on the latent semantic model you are using. \n",
    "   \n",
    "Each of these LSMs come with various hyperparameters to tune. Make a choice on the parameters, and explicitly mention the reasons that led you to these decisions. You can use the validation set to optimize hyper parameters you see fit; motivate your decisions. In addition, mention clearly how the query/document representations were constructed for each LSM and explain your choices.\n",
    "\n",
    "In this experiment, you will first obtain an initial top-1000 ranking for each query using TF-IDF in **Task 1**, and then re-rank the documents using the LSMs. Use TREC Eval to obtain the results and report on `NDCG@10`, Mean Average Precision (`MAP@1000`), `Precision@5` and `Recall@1000`.\n",
    "\n",
    "Perform significance testing **[5 points]** (similar as in Task 1) in the class of semantic matching methods.\n",
    "\n",
    "Perform analysis **[5 points]**"
   ]
  },
  {
   "cell_type": "code",
   "execution_count": null,
   "metadata": {},
   "outputs": [],
   "source": [
    "import copy\n",
    "import gensim\n",
    "import logging\n",
    "import pyndri\n",
    "import pyndri.compat\n",
    "import sys\n",
    "from itertools import groupby"
   ]
  },
  {
   "cell_type": "code",
   "execution_count": null,
   "metadata": {},
   "outputs": [],
   "source": [
    "# Connector class pyndri - gensim - implemented by us\n",
    "class IndriTermDocFreq(gensim.interfaces.CorpusABC):\n",
    "    \"\"\"Integrates an Index with Gensim's word2vec implementation.\"\"\"\n",
    "\n",
    "    def __init__(self, index, dictionary, list_docs = None, max_documents=None):\n",
    "        assert isinstance(index, pyndri.Index)\n",
    "\n",
    "        self.index = index\n",
    "        self.dictionary = dictionary\n",
    "        self.list_docs = list_docs\n",
    "        self.max_documents = max_documents\n",
    "\n",
    "    def _maximum_document(self):\n",
    "        if self.max_documents is None:\n",
    "            return self.index.maximum_document()\n",
    "        else:\n",
    "            return min(\n",
    "                self.max_documents + self.index.document_base(),\n",
    "                self.index.maximum_document())\n",
    "\n",
    "    def __iter__(self):\n",
    "        \n",
    "        if self.list_docs:\n",
    "            rng = self.list_docs\n",
    "        else:\n",
    "            rng = range(self.index.document_base(), self._maximum_document())\n",
    "        \n",
    "        for int_doc_id in rng:\n",
    "            _, tokens = self.index.document(int_doc_id)\n",
    "            \n",
    "            yield [(key,len(list(group)) ) for  key, group in groupby(sorted(list(tokens))) if key>0]\n",
    "\n",
    "    def __len__(self):\n",
    "        return self._maximum_document() - self.index.document_base()\n",
    "    "
   ]
  },
  {
   "cell_type": "code",
   "execution_count": null,
   "metadata": {},
   "outputs": [],
   "source": [
    "def transform_queries(queries, model):\n",
    "    \"\"\"\n",
    "    Given the ordered dict queries and an lsi model, transform the queries to the latent space\n",
    "    \"\"\"\n",
    "    transformed_queries = {}\n",
    "    for q_id in queries:\n",
    "#         print(tokenized_queries[q_id])\n",
    "#         print([(key,len(list(group)) ) for  key, group in groupby(tokenized_queries[q_id]) if key>0])\n",
    "        transformed_queries[q_id] = model[[(key,len(list(group)) ) for  key, group in groupby(tokenized_queries[q_id]) if key>0]]\n",
    "    return transformed_queries"
   ]
  },
  {
   "cell_type": "markdown",
   "metadata": {},
   "source": [
    "### Parses the ranking tf-idf.run file and creates gensim index for each query"
   ]
  },
  {
   "cell_type": "code",
   "execution_count": null,
   "metadata": {},
   "outputs": [],
   "source": [
    "#create inverse mapping, because pyndri sucks\n",
    "extDocId2id={}\n",
    "for id in range(index.document_base(), index.maximum_document()):\n",
    "    extDocId2id[index.ext_document_id(id)] = id"
   ]
  },
  {
   "cell_type": "code",
   "execution_count": null,
   "metadata": {},
   "outputs": [],
   "source": [
    "tfidf_rank = defaultdict(list)\n",
    "\n",
    "with open('./retrievals/tf-idf.run', 'r') as file:\n",
    "    for line in file.readlines():\n",
    "        q_id = line.split()[0]\n",
    "        doc_id = line.split()[2]\n",
    "        tfidf_rank[q_id].append(extDocId2id[doc_id])"
   ]
  },
  {
   "cell_type": "code",
   "execution_count": null,
   "metadata": {},
   "outputs": [],
   "source": [
    "def gensim_rank(model, tfidf_rank, transformed_queries):\n",
    "    \"\"\"\n",
    "    Generates new ranking for each query, based on 1000 top TF-IDF results\n",
    "    \"\"\"\n",
    "    start_time = time.time()\n",
    "    ranking_new = {}\n",
    "    for q_id in queries.keys():\n",
    "    # for q_id in ['100','101']:\n",
    "        top1000 = tfidf_rank[q_id]\n",
    "        gimme_docs = IndriTermDocFreq(index,dictionary,list_docs=top1000)\n",
    "        gensim_index = gensim.similarities.MatrixSimilarity(model[gimme_docs], num_features = model.num_topics)\n",
    "\n",
    "        sims = gensim_index[transformed_queries[q_id]]\n",
    "        ranking_new[q_id] = tuple(zip(sims,map(lambda x: index.ext_document_id(x), top1000)))\n",
    "\n",
    "    print(\"took %i sec for %i latent dims\"%(time.time() - start_time ,model.num_topics))\n",
    "    return ranking_new"
   ]
  },
  {
   "cell_type": "code",
   "execution_count": null,
   "metadata": {},
   "outputs": [],
   "source": [
    "def save_retrieval(model_name,ranking_dict):\n",
    "    run_out_path = 'retrievals/'+model_name\n",
    "    with open(run_out_path, 'w') as f_out:\n",
    "        write_run(\n",
    "            model_name=model_name,\n",
    "            data=ranking_dict,\n",
    "            out_f=f_out,\n",
    "            max_objects_per_query=1000)"
   ]
  },
  {
   "cell_type": "markdown",
   "metadata": {},
   "source": [
    "** function to score individual query-document <u>(used for L2R)</u> **"
   ]
  },
  {
   "cell_type": "code",
   "execution_count": null,
   "metadata": {},
   "outputs": [],
   "source": [
    "def gensim_rank_pair(doc_id,q_id, model, transformed_queries):\n",
    "    \"\"\"\n",
    "    Generates new ranking for each doc-id () query pair, for the given model (LSI or LDA)\n",
    "    \"\"\"\n",
    "    lda_vec1 = model[IndriTermDocFreq(index,dictionary,list_docs=[doc_id])]\n",
    "    lda_vec2 = transformed_queries[q_id]\n",
    "    return gensim.matutils.cossim(list(lda_vec1)[0],lda_vec2)"
   ]
  },
  {
   "cell_type": "code",
   "execution_count": null,
   "metadata": {},
   "outputs": [],
   "source": [
    "def evaluation_results(model_name):\n",
    "    print(model_name)\n",
    "    r_fname = 'retrievals/'+model_name\n",
    "    print(\"Validation\")\n",
    "    !trec_eval -m all_trec ./ap_88_89/qrel_validation {r_fname} | grep -E \"^ndcg_cut_10\\s|^map_cut_1000\\s|^P_5\\s|^recall_1000\\s\"\n",
    "    print(\"Test\")\n",
    "    !trec_eval -m all_trec ./ap_88_89/qrel_test {r_fname} | grep -E \"^ndcg_cut_10\\s|^map_cut_1000\\s|^P_5\\s|^recall_1000\\s\""
   ]
  },
  {
   "cell_type": "markdown",
   "metadata": {},
   "source": [
    "### LSI ( Latent Semantic Analysis)"
   ]
  },
  {
   "cell_type": "code",
   "execution_count": null,
   "metadata": {},
   "outputs": [],
   "source": [
    "#initiate lsi model\n",
    "lsi = gensim.models.LsiModel(id2word=id2token)"
   ]
  },
  {
   "cell_type": "code",
   "execution_count": null,
   "metadata": {},
   "outputs": [],
   "source": [
    "#create LSI for different # dimensions (if not in disk)\n",
    "\n",
    "# generator for passing counts of documents from pyndri to gensim\n",
    "wordfreq = IndriTermDocFreq(index,dictionary)\n",
    "\n",
    "for n_top in [10,50,100, 150,200, 250,300,400, 500]:\n",
    "    fname = 'lsi/lsi_counts%i.mod'%n_top\n",
    "\n",
    "    if os.path.exists(fname)==False:\n",
    "        start_time = time.time()\n",
    "        lsi = gensim.models.LsiModel(corpus = wordfreq,\n",
    "                                     id2word=id2token,\n",
    "                                     num_topics=n_top)\n",
    "        print('lsi with %i topics took %s sec'%(n_top,time.time()-start_time))\n",
    "        print(fname)\n",
    "        lsi.save(fname)"
   ]
  },
  {
   "cell_type": "code",
   "execution_count": null,
   "metadata": {},
   "outputs": [],
   "source": [
    "matplotlib.rcParams['figure.figsize'] = (6.5, 3.0)\n",
    "# does not load model\n",
    "#print eigenvalues\n",
    "for n_top in [10,50,100,150,200,250,300,400, 500]:\n",
    "    fname = 'lsi/lsi_counts%i.mod'%n_top\n",
    "#     print(fname)\n",
    "    lsi = lsi.load(fname,mmap='r')\n",
    "    print(\"Lowest singular value for %i: %f\"%(n_top,lsi.projection.s[-1]))\n",
    "    plt.plot(lsi.projection.s,label='%i latent dims'%n_top)\n",
    "plt.xlabel('Latent dimensions')\n",
    "plt.ylabel('Importance of latent dimension')\n",
    "# plt.title('Exploring different number of \"topics\" in LSI')\n",
    "plt.savefig('LsiSingValues.eps', format='eps', dpi=1000)\n",
    "plt.show()"
   ]
  },
  {
   "cell_type": "code",
   "execution_count": null,
   "metadata": {},
   "outputs": [],
   "source": [
    "matplotlib.rcParams['figure.figsize'] = (16.0, 12.0)\n",
    "\n",
    "#select appropriate lsi file:\n",
    "fname = 'lsi/lsi_counts400.mod'\n",
    "lsi = gensim.models.LsiModel.load(fname)\n",
    "\n",
    "transformed_queries = transform_queries(queries, lsi)\n",
    "\n",
    "evaluation_results('lsi_counts300')"
   ]
  },
  {
   "cell_type": "code",
   "execution_count": null,
   "metadata": {},
   "outputs": [],
   "source": [
    "# Select model\n",
    "model = lsi\n",
    "rr = gensim_rank(model, tfidf_rank=tfidf_rank, transformed_queries=transformed_queries)"
   ]
  },
  {
   "cell_type": "code",
   "execution_count": null,
   "metadata": {},
   "outputs": [],
   "source": [
    "model_name = 'lsi_400_new'\n",
    "save_retrieval(model_name,rr)\n",
    "\n",
    "r_fname = 'retrievals/'+model_name\n",
    "\n",
    "evaluation_results(model_name)"
   ]
  },
  {
   "cell_type": "markdown",
   "metadata": {},
   "source": [
    "### LDA (Latent Dirichlet allocation)"
   ]
  },
  {
   "cell_type": "code",
   "execution_count": null,
   "metadata": {},
   "outputs": [],
   "source": [
    "#create LDA for different # topics (if not in disk)\n",
    "\n",
    "# generator for passing counts of documents from pyndri to gensim\n",
    "wordfreq = IndriTermDocFreq(index,dictionary)\n",
    "\n",
    "for n_top in [10,50]:\n",
    "    model_name = 'lda_'+str(n_top)\n",
    "    fname = 'lda/%s'%model_name\n",
    "\n",
    "    if os.path.exists(fname)==False:\n",
    "        start_time = time.time()\n",
    "        lda = gensim.models.ldamulticore.LdaMulticore(corpus = wordfreq,\n",
    "                                     id2word=id2token,\n",
    "#                                      alpha='auto',\n",
    "                                     minimum_probability=0,\n",
    "                                     num_topics=n_top)\n",
    "        print('lda with %i topics took %s sec'%(n_top,time.time()-start_time))\n",
    "        print(fname)\n",
    "        lda.save(fname)\n",
    "        \n",
    "    else:\n",
    "        print(model_name,'already exists on disk')s"
   ]
  },
  {
   "cell_type": "code",
   "execution_count": null,
   "metadata": {},
   "outputs": [],
   "source": [
    "# select / load model\n",
    "model_name = 'lda_50'\n",
    "model = gensim.models.ldamulticore.LdaModel.load('lda/'+model_name)\n",
    "model.minimum_probability=0"
   ]
  },
  {
   "cell_type": "code",
   "execution_count": null,
   "metadata": {},
   "outputs": [],
   "source": [
    "# queries_lda = transform_queries_lda(queries, lda)\n",
    "\n",
    "transformed_queries = transform_queries(queries, model)"
   ]
  },
  {
   "cell_type": "markdown",
   "metadata": {},
   "source": [
    "### Some analysis on topics generated "
   ]
  },
  {
   "cell_type": "code",
   "execution_count": null,
   "metadata": {},
   "outputs": [],
   "source": [
    "def get_2nd_obj(x):\n",
    "    (_,sc) = x\n",
    "    return sc"
   ]
  },
  {
   "cell_type": "code",
   "execution_count": null,
   "metadata": {},
   "outputs": [],
   "source": [
    "max_topic_score=pd.Series(index=transformed_queries.keys())\n",
    "for q_id in transformed_queries.keys():\n",
    "    max_topic_score.ix[q_id] = max(map(get_2nd_obj,transformed_queries[q_id]))"
   ]
  },
  {
   "cell_type": "code",
   "execution_count": null,
   "metadata": {},
   "outputs": [],
   "source": [
    "max_topic_score.hist()\n",
    "plt.ylabel('#queries')\n",
    "plt.xlabel('max score on \"topic\"')\n",
    "plt.savefig('ldaMaxTopicScore.eps', format='eps', dpi=1000)"
   ]
  },
  {
   "cell_type": "code",
   "execution_count": null,
   "metadata": {},
   "outputs": [],
   "source": [
    "print([queries[x] for x in ['113','102','152']])"
   ]
  },
  {
   "cell_type": "code",
   "execution_count": null,
   "metadata": {},
   "outputs": [],
   "source": [
    "print([queries[x] for x in ['100','177','110']])"
   ]
  },
  {
   "cell_type": "code",
   "execution_count": null,
   "metadata": {},
   "outputs": [],
   "source": [
    "print([queries[x] for x in ['142','160','110','100']])"
   ]
  },
  {
   "cell_type": "code",
   "execution_count": null,
   "metadata": {},
   "outputs": [],
   "source": [
    "print('less strongly correlated queries with a particular \"topic\" (LDA):')\n",
    "print([queries[x] for x in max_topic_score.sort_values()[:3].index])\n",
    "\n",
    "print('most strongly correlated queries with a particular \"topic\" (LDA):')\n",
    "print([queries[x] for x in max_topic_score.sort_values(ascending=False)[:3].index])"
   ]
  },
  {
   "cell_type": "markdown",
   "metadata": {},
   "source": [
    "### Scoring and ranking with gensim  "
   ]
  },
  {
   "cell_type": "code",
   "execution_count": null,
   "metadata": {},
   "outputs": [],
   "source": [
    "# check if retrieval file exists already\n",
    "r_fname = 'retrievals/'+model_name\n",
    "if os.path.exists(r_fname)==False:\n",
    "    rr = gensim_rank(model, tfidf_rank=tfidf_rank, transformed_queries=transformed_queries)\n",
    "    save_retrieval(model_name,rr)\n",
    "    "
   ]
  },
  {
   "cell_type": "code",
   "execution_count": null,
   "metadata": {},
   "outputs": [],
   "source": [
    "#evaluation\n",
    "evaluation_results(model_name)"
   ]
  },
  {
   "cell_type": "markdown",
   "metadata": {},
   "source": [
    "###  Significance testing for Latent Semantic Models (LSMs)"
   ]
  },
  {
   "cell_type": "code",
   "execution_count": null,
   "metadata": {},
   "outputs": [],
   "source": [
    "#TODO remove after NB integration with other tasks\n",
    "import re\n",
    "def parse_retrieval_scores(file_name, regexp = \"^ndcg_cut_10\\s\" ,validation=True):\n",
    "    \"\"\"Return a pd.Series of the given score (defined in regexp) for validation or test set.\n",
    "    regexp defines the lines (corresponding to different metrics) to be retrieved.\n",
    "    \n",
    "    >>> parse_retrieval_scores('bm25.run', \"^ndcg_cut_10\\s\", validation = False)\n",
    "    Returns dataframe for NDCG@10 scores for the BM25 retrieval in the test set\n",
    "    \"\"\"\n",
    "\n",
    "    df = pd.Series()\n",
    "    regexp =\"\\'\"+regexp+\"\\'\"\n",
    "    series = pd.Series()\n",
    "    if validation:\n",
    "        qrel_file = 'qrel_validation'\n",
    "    else:\n",
    "        qrel_file = 'qrel_test'\n",
    "    \n",
    "    results = !trec_eval -m all_trec -q ./ap_88_89/{qrel_file} {file_name} | grep -E {regexp}\n",
    "    print('Retrieving',len(results), 'results')\n",
    "    for result in results:\n",
    "        result = re.sub( '\\s+', ' ', result ).strip().split()\n",
    "\n",
    "        idx = result[1]\n",
    "        value = float(result[2])\n",
    "\n",
    "        series.set_value(idx,value)\n",
    "    return series.drop('all')"
   ]
  },
  {
   "cell_type": "code",
   "execution_count": null,
   "metadata": {},
   "outputs": [],
   "source": [
    "ndcg = pd.DataFrame()\n",
    "ndcg['lda_50_alpha=auto'] = parse_retrieval_scores('retrievals/lda_50_alpha=auto', \"^ndcg_cut_10\\s\", validation = False)\n",
    "ndcg['lda50'] = parse_retrieval_scores('retrievals/lda_50', \"^ndcg_cut_10\\s\", validation = False)\n",
    "ndcg['lsi300'] = parse_retrieval_scores('retrievals/lsi_counts300', \"^ndcg_cut_10\\s\", validation = False)"
   ]
  },
  {
   "cell_type": "code",
   "execution_count": null,
   "metadata": {},
   "outputs": [],
   "source": [
    "from scipy.stats import ttest_rel\n",
    "\n",
    "def t_test(method1,method2,a=0.05):\n",
    "    \n",
    "    p_value = ttest_rel(method1, method2)[1]\n",
    "    \n",
    "    if p_value>a:\n",
    "        return (p_value, 'not-rejected')\n",
    "    else:\n",
    "        return (p_value, 'rejected')"
   ]
  },
  {
   "cell_type": "code",
   "execution_count": null,
   "metadata": {},
   "outputs": [],
   "source": [
    "ndcg.head()"
   ]
  },
  {
   "cell_type": "code",
   "execution_count": null,
   "metadata": {},
   "outputs": [],
   "source": [
    "t_test(ndcg['lda_50_alpha=auto'],ndcg['lda50'])"
   ]
  },
  {
   "cell_type": "code",
   "execution_count": null,
   "metadata": {},
   "outputs": [],
   "source": [
    "t_test(ndcg['lsi300'],ndcg['lda50'])"
   ]
  },
  {
   "cell_type": "markdown",
   "metadata": {},
   "source": [
    "### Analysis - Identify specific queries"
   ]
  },
  {
   "cell_type": "code",
   "execution_count": null,
   "metadata": {},
   "outputs": [],
   "source": [
    "pd.Series(ndcg['lda50']-ndcg['lsi300']).plot(kind='bar')"
   ]
  },
  {
   "cell_type": "code",
   "execution_count": null,
   "metadata": {},
   "outputs": [],
   "source": [
    "pd.Series(ndcg['lda50']-ndcg['lsi300']).hist(bins=22)\n",
    "# plt.title(\"LDA(50) vs LSI(300)\")\n",
    "plt.xlabel(\"NDCG@10(LDA50) - NDCG@10(LSI300)\")\n",
    "plt.ylabel(\"# queries\")\n",
    "plt.savefig('ldaVSlsi.eps', format='eps', dpi=1000)"
   ]
  },
  {
   "cell_type": "code",
   "execution_count": null,
   "metadata": {},
   "outputs": [],
   "source": [
    "ldaVSlsi = pd.Series(ndcg['lda50']-ndcg['lsi300']).sort_values(ascending=False)\n",
    "\n",
    "print('LDA outperforming LSI:\\n')\n",
    "for q_id, diff in zip(ldaVSlsi[:10].index,ldaVSlsi[:10].values):\n",
    "    print(q_id,queries[q_id], diff)\n",
    "    \n",
    "print('\\n\\nLSI outperforming LDA:\\n')\n",
    "for q_id, diff in zip(ldaVSlsi[-10:].index,ldaVSlsi[-10:].values):\n",
    "    print(q_id,queries[q_id], diff)"
   ]
  },
  {
   "cell_type": "markdown",
   "metadata": {},
   "source": [
    "### Task 3:  Word embeddings for ranking [10 points] ###\n",
    "\n",
    "First create word embeddings on the corpus we provided using [word2vec](http://arxiv.org/abs/1411.2738) -- [gensim implementation](https://radimrehurek.com/gensim/models/word2vec.html). You should extract the indexed documents using pyndri and provide them to gensim for training a model (see example [here](https://github.com/nickvosk/pyndri/blob/master/examples/word2vec.py)).\n",
    "\n",
    "Try one of the following (increasingly complex) methods for building query and document representations:\n",
    "   * Average or sum the word vectors.\n",
    "   * Cluster words in the document using [k-means](http://scikit-learn.org/stable/modules/generated/sklearn.cluster.KMeans.html) and use the centroid of the most important cluster. Experiment with different values of K for k-means.\n",
    "   * Using the [bag-of-word-embeddings representation](https://ciir-publications.cs.umass.edu/pub/web/getpdf.php?id=1248).\n",
    "   \n",
    "Note that since we provide the implementation for training word2vec, you will be graded based on your creativity on combining word embeddings for building query and document representations.\n",
    "\n",
    "Note: If you want to experiment with pre-trained word embeddings on a different corpus, you can use the word embeddings we provide alongside the assignment (./data/reduced_vectors_google.txt). These are the [google word2vec word embeddings](https://code.google.com/archive/p/word2vec/), reduced to only the words that appear in the document collection we use in this assignment."
   ]
  },
  {
   "cell_type": "code",
   "execution_count": null,
   "metadata": {},
   "outputs": [],
   "source": [
    "## Create embeddings\n",
    "start_time = time.time()\n",
    "print('Initializing word2vec.')\n",
    "\n",
    "word2vec_init = gensim.models.Word2Vec(\n",
    "    size=300,  # Embedding size\n",
    "    window=5,  # One-sided window size\n",
    "    sg=True,  # Skip-gram.\n",
    "    min_count=1,  # Minimum word frequency.\n",
    "    sample=1e-3,  # Sub-sample threshold.\n",
    "    hs=False,  # Hierarchical softmax.\n",
    "    negative=10,  # Number of negative examples.\n",
    "    iter=1,  # Number of iterations.\n",
    "    workers=8,  # Number of workers.\n",
    ")\n",
    "\n",
    "index = pyndri.Index('index/')\n",
    "\n",
    "print('Loading vocabulary.')\n",
    "dictionary = pyndri.extract_dictionary(index)\n",
    "sentences = pyndri.compat.IndriSentences(index, dictionary)\n",
    "\n",
    "print('Constructing word2vec vocabulary.')\n",
    "\n",
    "# Build vocab.\n",
    "word2vec_init.build_vocab(sentences, trim_rule=None)\n",
    "model = word2vec_init\n",
    "# Normalize vectors\n",
    "model.init_sims(replace=True)\n",
    "\n",
    "# models = [word2vec_init]\n",
    "\n",
    "# for epoch in range(1, 1 + 1):\n",
    "#     print('Epoch ', epoch)\n",
    "#     epoch_time = time.time()\n",
    "    \n",
    "#     model = copy.deepcopy(models[-1])\n",
    "#     model.train(sentences, total_examples = model.corpus_count, epochs=model.iter)\n",
    "\n",
    "#     models.append(model)\n",
    "#     print('Elapsed time for model', epoch, ':', time.time() - epoch_time)\n",
    "\n",
    "print(model)\n",
    "print('Elapsed time:', time.time()-start_time)"
   ]
  },
  {
   "cell_type": "code",
   "execution_count": null,
   "metadata": {},
   "outputs": [],
   "source": [
    "def run_w2v_retrieval(model_name, score_fn, **args):\n",
    "    \"\"\"\n",
    "    Runs a retrieval method for all the queries and writes the TREC-friendly results in a file.\n",
    "    \n",
    "    :param model_name: the name of the model (a string)\n",
    "    :param score_fn: the scoring function (a function - see below for an example) \n",
    "    \"\"\"\n",
    "    run_out_path = '{}.run'.format(model_name)\n",
    "\n",
    "    if os.path.exists(run_out_path):\n",
    "        return\n",
    "\n",
    "    retrieval_start_time = time.time()\n",
    "\n",
    "    print('Retrieving using', model_name)\n",
    "\n",
    "    data = {}\n",
    "    \n",
    "    for qid in tokenized_queries.keys(): #for each query\n",
    "#     for qid in ['93']: #test\n",
    "\n",
    "        score = {}\n",
    "        \n",
    "        for query_term_id in tokenized_queries[qid]: #for each word_id in query\n",
    "\n",
    "            for (int_document_id,document_term_freq) in zip(inverted_index[query_term_id].keys(),inverted_index[query_term_id].values()):\n",
    "                #for each document where the word appears, calculate scoring function increment its score\n",
    "                new_score = score_fn(int_document_id, qid)\n",
    "                \n",
    "                if int_document_id not in score.keys():\n",
    "                    #print('initiallizing and incrementing score')\n",
    "                    score[int_document_id] = new_score\n",
    "                else:\n",
    "                    #print('incrementing score')\n",
    "                    score[int_document_id] += new_score\n",
    "\n",
    "        #turn dict to list of tuples and continue        \n",
    "        # The dictionary data should have the form: query_id --> (document_score, external_doc_id)\n",
    "        data[qid] = [(score, index.ext_document_id(doc_id)) for (score, doc_id) in zip(score.values(), score.keys())]\n",
    "                \n",
    "#     write out\n",
    "    with open(run_out_path, 'w') as f_out:\n",
    "        write_run(\n",
    "            model_name=model_name,\n",
    "            data=data,\n",
    "            out_f=f_out,\n",
    "\n",
    "            max_objects_per_query=1000)"
   ]
  },
  {
   "cell_type": "code",
   "execution_count": null,
   "metadata": {},
   "outputs": [],
   "source": [
    "## Sum all query vectors (normalized)\n",
    "summed_queries = {}\n",
    "for qid in tokenized_queries.keys(): #for each query\n",
    "    \n",
    "    Q = []\n",
    "    for query_term_id in tokenized_queries[qid]: #for each word_id in query\n",
    "        term = dictionary[query_term_id]\n",
    "        Q.append(model[term])\n",
    "        \n",
    "    Q = np.array(Q)\n",
    "    vector = Q.sum(axis=0) \n",
    "    vector = vector / np.sqrt((vector ** 2).sum())\n",
    "\n",
    "    summed_queries[qid] = vector   \n",
    "\n",
    "## Sum all document vectors (normalized)    \n",
    "summed_docs = {}\n",
    "for int_doc_id in range(index.document_base(), index.maximum_document()):\n",
    "    ext_doc_id, doc_token_ids = index.document(int_doc_id)\n",
    "        \n",
    "    D = []\n",
    "    for token_id in doc_token_ids: \n",
    "        if token_id > 0:\n",
    "            term = dictionary[query_term_id]\n",
    "            D.append(model[term])\n",
    "    D = np.array(D)\n",
    "    vector = D.sum(axis=0) \n",
    "    vector = vector / np.sqrt((vector ** 2).sum())\n",
    "\n",
    "    summed_docs[int_doc_id] = vector"
   ]
  },
  {
   "cell_type": "markdown",
   "metadata": {},
   "source": [
    "### Sum of vectors "
   ]
  },
  {
   "cell_type": "code",
   "execution_count": null,
   "metadata": {},
   "outputs": [],
   "source": [
    "def summed_vectors(document_id, query_id):\n",
    "    \"\"\"\n",
    "    Scoring function for a document and a query term\n",
    "    \n",
    "    :param document_id: the document id\n",
    "    :param query_id: the tokenized query id\n",
    "    \"\"\"\n",
    "    \n",
    "    cosine_similarity = np.dot(summed_queries[query_id], summed_docs[document_id])/(np.linalg.norm(summed_queries[query_id])* np.linalg.norm(summed_docs[document_id]))\n",
    "        \n",
    "    return cosine_similarity"
   ]
  },
  {
   "cell_type": "code",
   "execution_count": null,
   "metadata": {},
   "outputs": [],
   "source": [
    "# trec_eval command for evalutaion of summed_vectors\n",
    "!trec_eval -m all_trec ./ap_88_89/qrel_validation retrievals/summed_vectors.run | grep -E \"^ndcg_cut_10\\s|^map_cut_1000\\s|^P_5\\s|^recall_1000\\s\"\n",
    "print('\\n')\n",
    "\n",
    "# trec_eval command for test of summed_vectors\n",
    "!trec_eval -m all_trec ./ap_88_89/qrel_test retrievals/summed_vectors.run | grep -E \"^ndcg_cut_10\\s|^map_cut_1000\\s|^P_5\\s|^recall_1000\\s\""
   ]
  },
  {
   "cell_type": "markdown",
   "metadata": {},
   "source": [
    "### Average of vectors "
   ]
  },
  {
   "cell_type": "code",
   "execution_count": null,
   "metadata": {},
   "outputs": [],
   "source": [
    "def averaged_vectors(document_id, query_id):\n",
    "    \"\"\"\n",
    "    Scoring function for a document and a query term\n",
    "    \n",
    "    :param document_id: the document id\n",
    "    :param query_id: the tokenized query id\n",
    "    \"\"\"\n",
    "    \n",
    "    query_vector = summed_queries[query_id] / len(tokenized_queries[qid])\n",
    "    doc_vector = summed_docs[document_id] / document_lengths[document_id]\n",
    "    \n",
    "    \n",
    "    cosine_similarity = np.dot(query_vector, doc_vector)/(np.linalg.norm(query_vector)* np.linalg.norm(doc_vector))\n",
    "        \n",
    "    return cosine_similarity"
   ]
  },
  {
   "cell_type": "code",
   "execution_count": null,
   "metadata": {},
   "outputs": [],
   "source": [
    "start_time = time.time()\n",
    "\n",
    "run_w2v_retrieval('retrievals/averaged_vectors',averaged_vectors)\n",
    "\n",
    "print ('elapsed time:',time.time()-start_time)"
   ]
  },
  {
   "cell_type": "code",
   "execution_count": null,
   "metadata": {},
   "outputs": [],
   "source": [
    "# trec_eval command for evalutaion of averaged vectors\n",
    "!trec_eval -m all_trec ./ap_88_89/qrel_validation retrievals/averaged_vectors.run | grep -E \"^ndcg_cut_10\\s|^map_cut_1000\\s|^P_5\\s|^recall_1000\\s\"\n",
    "print('\\n')\n",
    "\n",
    "# trec_eval command for test of averaged vectors\n",
    "!trec_eval -m all_trec ./ap_88_89/qrel_test retrievals/averaged_vectors.run | grep -E \"^ndcg_cut_10\\s|^map_cut_1000\\s|^P_5\\s|^recall_1000\\s\""
   ]
  },
  {
   "cell_type": "markdown",
   "metadata": {},
   "source": [
    "### Word Movers Distance "
   ]
  },
  {
   "cell_type": "code",
   "execution_count": null,
   "metadata": {},
   "outputs": [],
   "source": [
    "def wmd_vectors(document_id, query_id):\n",
    "    \"\"\"\n",
    "    Scoring function for a document and a query term\n",
    "    \n",
    "    :param document_id: the document id\n",
    "    :param query_id: the tokenized query id\n",
    "    \"\"\"\n",
    "    \n",
    "    query = []\n",
    "    for query_term_id in tokenized_queries[query_id]: #for each word_id in query\n",
    "        term = dictionary[query_term_id]\n",
    "        query.append(term)\n",
    "            \n",
    "    document = []\n",
    "    \n",
    "    ext_doc_id, doc_token_ids = index.document(document_id)\n",
    "    for token_id in doc_token_ids: \n",
    "        if token_id > 0:\n",
    "            term = dictionary[query_term_id]\n",
    "            document.append(term)\n",
    "        \n",
    "    distance = model.wv.wmdistance(query, document)\n",
    "            \n",
    "    return distance"
   ]
  },
  {
   "cell_type": "code",
   "execution_count": null,
   "metadata": {},
   "outputs": [],
   "source": [
    "start_time = time.time()\n",
    "\n",
    "run_w2v_retrieval('retrievals/wmd_vectors',wmd_vectors)\n",
    "\n",
    "print ('elapsed time:',time.time()-start_time)"
   ]
  },
  {
   "cell_type": "code",
   "execution_count": null,
   "metadata": {},
   "outputs": [],
   "source": [
    "# trec_eval command for evalutaion of averaged vectors\n",
    "!trec_eval -m all_trec ./ap_88_89/qrel_validation retrievals/wmd_vectors.run | grep -E \"^ndcg_cut_10\\s|^map_cut_1000\\s|^P_5\\s|^recall_1000\\s\"\n",
    "print('\\n')\n",
    "\n",
    "# trec_eval command for test of averaged vectors\n",
    "!trec_eval -m all_trec ./ap_88_89/qrel_test retrievals/wmd_vectors.run | grep -E \"^ndcg_cut_10\\s|^map_cut_1000\\s|^P_5\\s|^recall_1000\\s\""
   ]
  },
  {
   "cell_type": "markdown",
   "metadata": {},
   "source": [
    "### Task 4: Learning to rank (LTR) [10 points] ###\n",
    "\n",
    "In this task you will get an introduction into learning to rank for information retrieval, in particular pointwise learning to rank.\n",
    "\n",
    "You will experiment with a pointwise learning to rank method, logistic regression, implemented in [scikit-learn](http://scikit-learn.org/stable/modules/generated/sklearn.linear_model.LogisticRegression.html).\n",
    "Train your LTR model using 10-fold cross validation on the test set.\n",
    "\n",
    "You can explore different ways for devising features for the model. Obviously, you can use the retrieval methods you implemented in Task 1 and Task 2 as features. Think about other features you can use (e.g. query/document length). \n",
    "One idea is to also explore external sources such as Wikipedia entities (?). Creativity on devising new features and providing motivation for them will be taken into account when grading.\n",
    "\n",
    "For every query, first create a document candidate set using the top-1000 documents using TF-IDF, and subsequently compute features given a query and a document. Note that the feature values of different retrieval methods are likely to be distributed differently."
   ]
  },
  {
   "cell_type": "code",
   "execution_count": null,
   "metadata": {},
   "outputs": [],
   "source": [
    "#create inverse mapping, because pyndri sucks\n",
    "extDocId2id={}\n",
    "for ext_id in range(index.document_base(), index.maximum_document()):\n",
    "    extDocId2id[index.ext_document_id(ext_id)] = ext_id"
   ]
  },
  {
   "cell_type": "code",
   "execution_count": null,
   "metadata": {},
   "outputs": [],
   "source": [
    "from collections import defaultdict\n",
    "\n",
    "def run_ltr_retrieval(score_fn, ext_id, qid, **args):\n",
    "    \"\"\"\n",
    "    Runs a retrieval method for all the queries and writes the TREC-friendly results in a file.\n",
    "    \n",
    "    :param model_name: the name of the model (a string)\n",
    "    :param score_fn: the scoring function (a function - see below for an example) \n",
    "    \"\"\"\n",
    "    retrieval_start_time = time.time()\n",
    "    \n",
    "    int_document_id = extDocId2id[ext_id]\n",
    "    qid = str(int(qid))\n",
    "    query_length = len(tokenized_queries[qid])\n",
    "\n",
    "    score = 0\n",
    "        #hack for BM25 (iterate duplicate terms in query once)\n",
    "    try:\n",
    "        if score_fn == bm25:\n",
    "            tokenized_queries[qid] = list(set(tokenized_queries[qid]))\n",
    "    except:\n",
    "        pass\n",
    "    \n",
    "    for query_term_id in tokenized_queries[qid]: #for each word_id in query\n",
    "        if int_document_id in inverted_index[query_term_id].keys():\n",
    "            document_term_freq = inverted_index[query_term_id][int_document_id]\n",
    "        \n",
    "            #for each document where the word appears, calculate scoring function increment its score\n",
    "            if score_fn == dirichlet_prior or score_fn == absolute_discounting:\n",
    "                new_score = score_fn(int_document_id, query_term_id, document_term_freq, query_length, **args)\n",
    "      \n",
    "            elif score_fn == summed_vectors or score_fn == averaged_vectors or score_fn == wmd_vectors:\n",
    "                new_score = score_fn(int_document_id, qid)\n",
    "                \n",
    "            else:\n",
    "                new_score = score_fn(int_document_id, query_term_id, document_term_freq, **args)\n",
    "            score += new_score\n",
    "    \n",
    "    if np.isinf(score):\n",
    "        score = 0\n",
    "\n",
    "    return score\n"
   ]
  },
  {
   "cell_type": "code",
   "execution_count": null,
   "metadata": {},
   "outputs": [],
   "source": [
    "## Read test file ro create a new trainData dataframe\n",
    "path = \"./ap_88_89/qrel_test\"\n",
    "\n",
    "columns = ['query', '?', 'doc', 'result']\n",
    "\n",
    "trainData = pd.read_csv(path, delimiter=' ', header = None)\n",
    "trainData.columns = columns\n",
    "trainData = trainData.drop(columns=['?'])\n",
    "\n",
    "ne = ['AP900109-0232',\n",
    "'AP900214-0247',\n",
    "'AP900215-0091',\n",
    "'AP900327-0168',\n",
    "'AP900427-0031',\n",
    "'AP900429-0093',\n",
    "'AP900607-0165',\n",
    "'AP900904-0175',\n",
    "'AP900913-0007',\n",
    "'AP901121-0246']\n",
    "\n",
    "# Delete non existing\n",
    "trainData = trainData[~np.in1d(trainData.dRepoc, ne)]\n",
    "trainData.index = range(len(trainData))"
   ]
  },
  {
   "cell_type": "code",
   "execution_count": null,
   "metadata": {},
   "outputs": [],
   "source": [
    "## Read existing data for quick updating\n",
    "trainData = pd.read_csv('trainData.csv', delimiter=',')\n",
    "trainData = trainData.drop(columns=['Unnamed: 0'])"
   ]
  },
  {
   "cell_type": "markdown",
   "metadata": {},
   "source": [
    "### Get column values "
   ]
  },
  {
   "cell_type": "code",
   "execution_count": null,
   "metadata": {},
   "outputs": [],
   "source": [
    "## Query length\n",
    "for idx, row in trainData.iterrows():\n",
    "    \n",
    "    score = len(tokenized_queries[str(trainData.iloc[idx]['query'])])\n",
    "    trainData.at[idx, 'query length'] = score"
   ]
  },
  {
   "cell_type": "code",
   "execution_count": null,
   "metadata": {},
   "outputs": [],
   "source": [
    "## Dcoument length\n",
    "for idx, row in trainData.iterrows():\n",
    "    \n",
    "    doc_id = extDocId2id[trainData.iloc[idx]['doc']]\n",
    "    score = len(index.document(doc_id)[1])\n",
    "    trainData.at[idx, 'document length'] = score"
   ]
  },
  {
   "cell_type": "code",
   "execution_count": null,
   "metadata": {},
   "outputs": [],
   "source": [
    "## Unique word in doc\n",
    "for idx, row in evalData.iterrows():\n",
    "    \n",
    "    doc_id = extDocId2id[evalData.iloc[idx]['doc']]\n",
    "    score = unique_terms_per_document[doc_id]\n",
    "    evalData.at[idx, 'document unique'] = score"
   ]
  },
  {
   "cell_type": "code",
   "execution_count": null,
   "metadata": {},
   "outputs": [],
   "source": [
    "## Append TF-IDF data\n",
    "for idx, row in evalData.iterrows():\n",
    "\n",
    "    score = run_ltr_retrieval(tfidf, evalData.iloc[idx]['doc'], evalData.iloc[idx]['query'])\n",
    "    evalData.at[idx, 'tfidf'] = score"
   ]
  },
  {
   "cell_type": "code",
   "execution_count": null,
   "metadata": {},
   "outputs": [],
   "source": [
    "## Append BM25 data\n",
    "for idx, row in evalData.iterrows():\n",
    "\n",
    "    score = run_ltr_retrieval(bm25, evalData.iloc[idx]['doc'], evalData.iloc[idx]['query'])\n",
    "    evalData.at[idx, 'bm25'] = score"
   ]
  },
  {
   "cell_type": "code",
   "execution_count": null,
   "metadata": {},
   "outputs": [],
   "source": [
    "## Append Jelinek Mercer data\n",
    "for idx, row in evalData.iterrows():\n",
    "\n",
    "    score = run_ltr_retrieval(jelinek_mercer, evalData.iloc[idx]['doc'], evalData.iloc[idx]['query'])\n",
    "    evalData.at[idx, 'jelinek mercer'] = score"
   ]
  },
  {
   "cell_type": "code",
   "execution_count": null,
   "metadata": {},
   "outputs": [],
   "source": [
    "## Append Dirichlet Prior data\n",
    "for idx, row in evalData.iterrows():\n",
    "\n",
    "    score = run_ltr_retrieval(dirichlet_prior, evalData.iloc[idx]['doc'], evalData.iloc[idx]['query'])\n",
    "    evalData.at[idx, 'dirichlet prior'] = score"
   ]
  },
  {
   "cell_type": "code",
   "execution_count": null,
   "metadata": {},
   "outputs": [],
   "source": [
    "## Append Absolute Discounting data\n",
    "for idx, row in evalData.iterrows():\n",
    "\n",
    "    score = run_ltr_retrieval(absolute_discounting, evalData.iloc[idx]['doc'], evalData.iloc[idx]['query'])\n",
    "    evalData.at[idx, 'absolute discounting'] = score"
   ]
  },
  {
   "cell_type": "code",
   "execution_count": null,
   "metadata": {},
   "outputs": [],
   "source": [
    "## Append Word2Vec Sum data\n",
    "for idx, row in evalData.iterrows():\n",
    "\n",
    "    score = run_ltr_retrieval(summed_vectors, evalData.iloc[idx]['doc'], evalData.iloc[idx]['query'])\n",
    "    evalData.at[idx, 'w2v: sum'] = score"
   ]
  },
  {
   "cell_type": "code",
   "execution_count": null,
   "metadata": {},
   "outputs": [],
   "source": [
    "## Append Word2Vec Average data\n",
    "for idx, row in evalData.iterrows():\n",
    "\n",
    "    score = run_ltr_retrieval(averaged_vectors, evalData.iloc[idx]['doc'], evalData.iloc[idx]['query'])\n",
    "    evalData.at[idx, 'w2v: avg'] = score"
   ]
  },
  {
   "cell_type": "code",
   "execution_count": null,
   "metadata": {},
   "outputs": [],
   "source": [
    "## Append Word2Vec WMD data\n",
    "for idx, row in evalData.iterrows():\n",
    "\n",
    "    score = run_ltr_retrieval(wmd_vectors, evalData.iloc[idx]['doc'], evalData.iloc[idx]['query'])\n",
    "    evalData.at[idx, 'w2v: wmd'] = score"
   ]
  },
  {
   "cell_type": "code",
   "execution_count": null,
   "metadata": {},
   "outputs": [],
   "source": [
    "## Append LSI data\n",
    "for idx, row in evalData.iterrows():    \n",
    "        \n",
    "    external_id = extDocId2id[str(evalData.iloc[idx]['doc'])]\n",
    "\n",
    "    score = gensim_rank_pair(external_id, str(evalData.iloc[idx]['query']), lsi, transformed_queries)\n",
    "    evalData.at[idx, 'lsi'] = score"
   ]
  },
  {
   "cell_type": "code",
   "execution_count": null,
   "metadata": {},
   "outputs": [],
   "source": [
    "## Append LDA data\n",
    "for idx, row in evalData.iterrows():    \n",
    "        \n",
    "    external_id = extDocId2id[str(evalData.iloc[idx]['doc'])]\n",
    "\n",
    "    score = gensim_rank_pair(external_id, str(evalData.iloc[idx]['query']), lda, transformed_queries)\n",
    "    evalData.at[idx, 'lda'] = score"
   ]
  },
  {
   "cell_type": "code",
   "execution_count": null,
   "metadata": {},
   "outputs": [],
   "source": [
    "evalData.head()"
   ]
  },
  {
   "cell_type": "markdown",
   "metadata": {},
   "source": [
    "#### Store in CSV"
   ]
  },
  {
   "cell_type": "code",
   "execution_count": null,
   "metadata": {},
   "outputs": [],
   "source": [
    "evalData.to_csv('evalData.csv', encoding='utf-8')"
   ]
  },
  {
   "cell_type": "code",
   "execution_count": null,
   "metadata": {},
   "outputs": [],
   "source": [
    "## Read existing data for quick updating\n",
    "evalData = pd.read_csv('evalData.csv', delimiter=',')\n",
    "evalData = trainData.drop(columns=['Unnamed: 0'])"
   ]
  },
  {
   "cell_type": "code",
   "execution_count": null,
   "metadata": {},
   "outputs": [],
   "source": [
    "def run_1000_retrieval(model_name, **args):\n",
    "\n",
    "    run_out_path = '{}.run'.format(model_name)\n",
    "\n",
    "    if os.path.exists(run_out_path):\n",
    "        return\n",
    "\n",
    "    retrieval_start_time = time.time()\n",
    "\n",
    "    print('Retrieving using ltr')\n",
    "\n",
    "    evalData = pd.read_csv('trainData.csv', delimiter=',')\n",
    "    evalData = trainData.drop(columns=['Unnamed: 0'])\n",
    "\n",
    "    data = {}\n",
    "\n",
    "    # for qid in tokenized_queries: \n",
    "\n",
    "    for idx, row in evalData.iterrows():\n",
    "\n",
    "        ext_doc = str(evalData.iloc[idx]['doc'])\n",
    "        query = str(evalData.iloc[idx]['query'])\n",
    "\n",
    "        inputDf = evalData[idx: idx + 1]\n",
    "        inputDf = inputDf.drop(columns=['query', 'doc', 'result'])\n",
    "\n",
    "        score = regression.predict_proba(inputDf)    \n",
    "\n",
    "        if query in data:\n",
    "            data[query].append((score[0][1], ext_doc))\n",
    "        else:\n",
    "            data[query] = []\n",
    "            data[query].append((score[0][1], ext_doc))\n",
    "\n",
    "    #     write out\n",
    "    with open(run_out_path, 'w') as f_out:\n",
    "        write_run(\n",
    "            model_name=model_name,\n",
    "            data=data,\n",
    "            out_f=f_out,\n",
    "\n",
    "            max_objects_per_query=1000)"
   ]
  },
  {
   "cell_type": "code",
   "execution_count": null,
   "metadata": {},
   "outputs": [],
   "source": [
    "start_time = time.time()\n",
    "\n",
    "run_final_retrieval('retrievals/ltr1000')\n",
    "\n",
    "print ('elapsed time:',time.time()-start_time)"
   ]
  },
  {
   "cell_type": "code",
   "execution_count": null,
   "metadata": {},
   "outputs": [],
   "source": [
    "# trec_eval command for test of averaged vectors\n",
    "!trec_eval -m all_trec ./ap_88_89/qrel retrievals/ltr1000.run | grep -E \"^ndcg_cut_10\\s|^map_cut_1000\\s|^P_5\\s|^recall_1000\\s\""
   ]
  },
  {
   "cell_type": "markdown",
   "metadata": {
    "collapsed": true
   },
   "source": [
    "### Task 4: Write a report [20 points; instant FAIL if not provided] ###\n",
    "\n",
    "The report should be a PDF file created using the [sigconf ACM template](https://www.acm.org/publications/proceedings-template) and will determine a significant part of your grade.\n",
    "\n",
    "   * It should explain what you have implemented, motivate your experiments and detail what you expect to learn from them. **[10 points]**\n",
    "   * Lastly, provide a convincing analysis of your results and conclude the report accordingly. **[10 points]**\n",
    "      * Do all methods perform similarly on all queries? Why?\n",
    "      * Is there a single retrieval model that outperforms all other retrieval models (i.e., silver bullet)?\n",
    "      * ...\n",
    "\n",
    "**Hand in the report and your self-contained implementation source files.** Only send us the files that matter, organized in a well-documented zip/tgz file with clear instructions on how to reproduce your results. That is, we want to be able to regenerate all your results with minimal effort. You can assume that the index and ground-truth information is present in the same file structure as the one we have provided.\n"
   ]
  },
  {
   "cell_type": "code",
   "execution_count": null,
   "metadata": {},
   "outputs": [],
   "source": []
  }
 ],
 "metadata": {
  "anaconda-cloud": {},
  "kernelspec": {
   "display_name": "Python [default]",
   "language": "python",
   "name": "python3"
  },
  "language_info": {
   "codemirror_mode": {
    "name": "ipython",
    "version": 3
   },
   "file_extension": ".py",
   "mimetype": "text/x-python",
   "name": "python",
   "nbconvert_exporter": "python",
   "pygments_lexer": "ipython3",
   "version": "3.5.4"
  }
 },
 "nbformat": 4,
 "nbformat_minor": 1
}
