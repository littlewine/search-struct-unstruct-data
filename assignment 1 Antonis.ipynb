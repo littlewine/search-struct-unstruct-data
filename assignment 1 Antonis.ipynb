{
 "cells": [
  {
   "cell_type": "markdown",
   "metadata": {},
   "source": [
    "# Searching Unstructured and Structured Data \n",
    "## Assignment 1: Retrieval models [100 points]\n",
    "**TA**: Nikos Voskarides (n.voskarides@uva.nl)"
   ]
  },
  {
   "cell_type": "markdown",
   "metadata": {},
   "source": [
    "In this assignment you will get familiar with basic information retrieval concepts. You will implement and evaluate different information retrieval ranking models and evaluate their performance.\n",
    "\n",
    "We provide you with a Indri index. To query the index, you'll use a Python package ([pyndri](https://github.com/cvangysel/pyndri)) that allows easy access to the underlying document statistics.\n",
    "\n",
    "For evaluation you'll use the [TREC Eval](https://github.com/usnistgov/trec_eval) utility, provided by the National Institute of Standards and Technology of the United States. TREC Eval is the de facto standard way to compute Information Retrieval measures and is frequently referenced in scientific papers.\n",
    "\n",
    "This is a **groups-of-three assignment**, the deadline is **Monday, 22/1, at 23:59**. Code quality, informative comments and convincing analysis of the results will be considered when grading. Submission should be done through blackboard, questions can be asked on the course [Piazza](https://piazza.com/class/ixoz63p156g1ts).\n",
    "\n",
    "### Technicalities (must-read!) ###\n",
    "\n",
    "The assignment directory is organized as follows:\n",
    "   * `./assignment.ipynb` (this file): the description of the assignment.\n",
    "   * `./index/`: the index we prepared for you.\n",
    "   * `./ap_88_90/`: directory with ground-truth and evaluation sets:\n",
    "      * `qrel_test`: test query relevance collection (**test set**).\n",
    "      * `qrel_validation`: validation query relevance collection (**validation set**).\n",
    "      * `topics_title`: semicolon-separated file with query identifiers and terms.\n",
    "\n",
    "You will need the following software packages (tested with Python 3.5 inside [Anaconda](https://conda.io/docs/user-guide/install/index.html)):\n",
    "   * Python 3.5 and Jupyter\n",
    "   * Indri + Pyndri (Follow the installation instructions [here](https://github.com/nickvosk/pyndri/blob/master/README.md))\n",
    "   * gensim [link](https://radimrehurek.com/gensim/install.html)\n",
    "   * TREC Eval [link](https://github.com/usnistgov/trec_eval)"
   ]
  },
  {
   "cell_type": "markdown",
   "metadata": {},
   "source": [
    "### TREC Eval primer ###\n",
    "The TREC Eval utility can be downloaded and compiled as follows:\n",
    "\n",
    "    git clone https://github.com/usnistgov/trec_eval.git\n",
    "    cd trec_eval\n",
    "    make\n",
    "\n",
    "TREC Eval computes evaluation scores given two files: ground-truth information regarding relevant documents, named *query relevance* or *qrel*, and a ranking of documents for a set of queries, referred to as a *run*. The *qrel* will be supplied by us and should not be changed. For every retrieval model (or combinations thereof) you will generate a run of the top-1000 documents for every query. The format of the *run* file is as follows:\n",
    "\n",
    "    $query_identifier Q0 $document_identifier $rank_of_document_for_query $query_document_similarity $run_identifier\n",
    "    \n",
    "where\n",
    "   * `$query_identifier` is the unique identifier corresponding to a query (usually this follows a sequential numbering).\n",
    "   * `Q0` is a legacy field that you can ignore.\n",
    "   * `$document_identifier` corresponds to the unique identifier of a document (e.g., APXXXXXXX where AP denotes the collection and the Xs correspond to a unique numerical identifier).\n",
    "   * `$rank_of_document_for_query` denotes the rank of the document for the particular query. This field is ignored by TREC Eval and is only maintained for legacy support. The ranks are computed by TREC Eval itself using the `$query_document_similarity` field (see next). However, it remains good practice to correctly compute this field.\n",
    "   * `$query_document_similarity` is a score indicating the similarity between query and document where a higher score denotes greater similarity.\n",
    "   * `$run_identifier` is an identifier of the run. This field is for your own convenience and has no purpose beyond bookkeeping.\n",
    "   \n",
    "For example, say we have two queries: `Q1` and `Q2` and we rank three documents (`DOC1`, `DOC2`, `DOC3`). For query `Q1`, we find the following similarity scores `score(Q1, DOC1) = 1.0`, `score(Q1, DOC2) = 0.5`, `score(Q1, DOC3) = 0.75`; and for `Q2`: `score(Q2, DOC1) = -0.1`, `score(Q2, DOC2) = 1.25`, `score(Q1, DOC3) = 0.0`. We can generate run using the following snippet:"
   ]
  },
  {
   "cell_type": "code",
   "execution_count": 1,
   "metadata": {
    "collapsed": true
   },
   "outputs": [],
   "source": [
    "import time\n",
    "import numpy as np\n",
    "import glob\n",
    "import pandas as pd\n",
    "from matplotlib import pyplot as plt\n",
    "%matplotlib inline\n",
    "plt.style.use('ggplot')"
   ]
  },
  {
   "cell_type": "code",
   "execution_count": 86,
   "metadata": {
    "collapsed": true
   },
   "outputs": [],
   "source": [
    "import matplotlib \n",
    "matplotlib.rcParams['figure.figsize'] = (16.0, 8.0)"
   ]
  },
  {
   "cell_type": "code",
   "execution_count": 2,
   "metadata": {
    "scrolled": false
   },
   "outputs": [
    {
     "name": "stdout",
     "output_type": "stream",
     "text": [
      "Q2 Q0 DOC2 1 1.25 example\n",
      "Q2 Q0 DOC3 2 0.0 example\n",
      "Q2 Q0 DOC1 3 -0.1 example\n",
      "Q1 Q0 DOC1 1 1.0 example\n",
      "Q1 Q0 DOC3 2 0.75 example\n",
      "Q1 Q0 DOC2 3 0.5 example\n"
     ]
    }
   ],
   "source": [
    "import logging\n",
    "import sys\n",
    "import os\n",
    "\n",
    "\n",
    "def write_run(model_name, data, out_f,\n",
    "              max_objects_per_query=sys.maxsize,\n",
    "              skip_sorting=False):\n",
    "    \"\"\"\n",
    "    Write a run to an output file.\n",
    "    Parameters:\n",
    "        - model_name: identifier of run.\n",
    "        - data: dictionary mapping topic_id to object_assesments;\n",
    "            object_assesments is an iterable (list or tuple) of\n",
    "            (relevance, object_id) pairs.\n",
    "            The object_assesments iterable is sorted by decreasing order.\n",
    "        - out_f: output file stream.\n",
    "        - max_objects_per_query: cut-off for number of objects per query.\n",
    "    \"\"\"\n",
    "    for subject_id, object_assesments in data.items():\n",
    "        if not object_assesments:\n",
    "            logging.warning('Received empty ranking for %s; ignoring.',\n",
    "                            subject_id)\n",
    "\n",
    "            continue\n",
    "\n",
    "        # Probe types, to make sure everything goes alright.\n",
    "        # assert isinstance(object_assesments[0][0], float) or \\\n",
    "        #     isinstance(object_assesments[0][0], np.float32)\n",
    "        assert isinstance(object_assesments[0][1], str) or \\\n",
    "            isinstance(object_assesments[0][1], bytes)\n",
    "\n",
    "        if not skip_sorting:\n",
    "            object_assesments = sorted(object_assesments, reverse=True)\n",
    "\n",
    "        if max_objects_per_query < sys.maxsize:\n",
    "            object_assesments = object_assesments[:max_objects_per_query]\n",
    "\n",
    "        if isinstance(subject_id, bytes):\n",
    "            subject_id = subject_id.decode('utf8')\n",
    "\n",
    "        for rank, (relevance, object_id) in enumerate(object_assesments):\n",
    "            if isinstance(object_id, bytes):\n",
    "                object_id = object_id.decode('utf8')\n",
    "\n",
    "            out_f.write(\n",
    "                '{subject} Q0 {object} {rank} {relevance} '\n",
    "                '{model_name}\\n'.format(\n",
    "                    subject=subject_id,\n",
    "                    object=object_id,\n",
    "                    rank=rank + 1,\n",
    "                    relevance=relevance,\n",
    "                    model_name=model_name))\n",
    "            \n",
    "# The following writes the run to standard output.\n",
    "# In your code, you should write the runs to local\n",
    "# storage in order to pass them to trec_eval.\n",
    "write_run(\n",
    "    model_name='example',\n",
    "    data={\n",
    "        'Q1': ((1.0, 'DOC1'), (0.5, 'DOC2'), (0.75, 'DOC3')),\n",
    "        'Q2': ((-0.1, 'DOC1'), (1.25, 'DOC2'), (0.0, 'DOC3')),\n",
    "    },\n",
    "    out_f=sys.stdout,\n",
    "    max_objects_per_query=1000)"
   ]
  },
  {
   "cell_type": "markdown",
   "metadata": {},
   "source": [
    "Now, imagine that we know that `DOC1` is relevant and `DOC3` is non-relevant for `Q1`. In addition, for `Q2` we only know of the relevance of `DOC3`. The query relevance file looks like:\n",
    "\n",
    "    Q1 0 DOC1 1\n",
    "    Q1 0 DOC3 0\n",
    "    Q2 0 DOC3 1\n",
    "    \n",
    "We store the run and qrel in files `example.run` and `example.qrel` respectively on disk. We can now use TREC Eval to compute evaluation measures. In this example, we're only interested in Mean Average Precision and we'll only show this below for brevity. However, TREC Eval outputs much more information such as NDCG, recall, precision, etc.\n",
    "\n",
    "    $ trec_eval -m all_trec -q example.qrel example.run | grep -E \"^map\\s\"\n",
    "    > map                   \tQ1\t1.0000\n",
    "    > map                   \tQ2\t0.5000\n",
    "    > map                   \tall\t0.7500\n",
    "    \n",
    "Now that we've discussed the output format of rankings and how you can compute evaluation measures from these rankings, we'll now proceed with an overview of the indexing framework you'll use."
   ]
  },
  {
   "cell_type": "markdown",
   "metadata": {},
   "source": [
    "### Pyndri primer ###\n",
    "For this assignment you will use [Pyndri](https://github.com/cvangysel/pyndri) [[1](https://arxiv.org/abs/1701.00749)], a python interface for [Indri](https://www.lemurproject.org/indri.php). We have indexed the document collection and you can query the index using Pyndri. We will start by giving you some examples of what Pyndri can do:\n",
    "\n",
    "First we read the document collection index with Pyndri:"
   ]
  },
  {
   "cell_type": "code",
   "execution_count": 3,
   "metadata": {
    "collapsed": true,
    "scrolled": true
   },
   "outputs": [],
   "source": [
    "import pyndri\n",
    "\n",
    "index = pyndri.Index('index/')"
   ]
  },
  {
   "cell_type": "markdown",
   "metadata": {},
   "source": [
    "The loaded index can be used to access a collection of documents in an easy manner. We'll give you some examples to get some idea of what it can do, it is up to you to figure out how to use it for the remainder of the assignment.\n",
    "\n",
    "First let's look at the number of documents, since Pyndri indexes the documents using incremental identifiers we can simply take the lowest index and the maximum document and consider the difference:"
   ]
  },
  {
   "cell_type": "code",
   "execution_count": 4,
   "metadata": {},
   "outputs": [
    {
     "name": "stdout",
     "output_type": "stream",
     "text": [
      "There are 164597 documents in this collection.\n"
     ]
    }
   ],
   "source": [
    "print(\"There are %d documents in this collection.\" % (index.maximum_document() - index.document_base()))"
   ]
  },
  {
   "cell_type": "markdown",
   "metadata": {},
   "source": [
    "Let's take the first document out of the collection and take a look at it:"
   ]
  },
  {
   "cell_type": "code",
   "execution_count": 5,
   "metadata": {
    "collapsed": true,
    "scrolled": true
   },
   "outputs": [],
   "source": [
    "example_document = index.document(index.document_base())\n",
    "# print(example_document)"
   ]
  },
  {
   "cell_type": "markdown",
   "metadata": {},
   "source": [
    "Here we see a document consists of two things, a string representing the external document identifier and an integer list representing the identifiers of words that make up the document. Pyndri uses integer representations for words or terms, thus a token_id is an integer that represents a word whereas the token is the actual text of the word/term. Every id has a unique token and vice versa with the exception of stop words: words so common that there are uninformative, all of these receive the zero id.\n",
    "\n",
    "To see what some ids and their matching tokens we take a look at the dictionary of the index:"
   ]
  },
  {
   "cell_type": "code",
   "execution_count": 6,
   "metadata": {},
   "outputs": [
    {
     "name": "stdout",
     "output_type": "stream",
     "text": [
      "[(1, 'new'), (2, 'percent'), (3, 'two'), (4, '1'), (5, 'people'), (6, 'million'), (7, '000'), (8, 'government'), (9, 'president'), (10, 'years'), (11, 'state'), (12, '2'), (13, 'states'), (14, 'three'), (15, 'time')]\n"
     ]
    }
   ],
   "source": [
    "token2id, id2token, _ = index.get_dictionary()\n",
    "print(list(id2token.items())[:15])"
   ]
  },
  {
   "cell_type": "markdown",
   "metadata": {},
   "source": [
    "Using this dictionary we can see the tokens for the (non-stop) words in our example document:"
   ]
  },
  {
   "cell_type": "code",
   "execution_count": 7,
   "metadata": {
    "collapsed": true
   },
   "outputs": [],
   "source": [
    "# print([id2token[word_id] for word_id in example_document[1] if word_id > 0])"
   ]
  },
  {
   "cell_type": "markdown",
   "metadata": {},
   "source": [
    "The reverse can also be done, say we want to look for news about the \"University of Massachusetts\", the tokens of that query can be converted to ids using the reverse dictionary:"
   ]
  },
  {
   "cell_type": "code",
   "execution_count": 8,
   "metadata": {},
   "outputs": [
    {
     "name": "stdout",
     "output_type": "stream",
     "text": [
      "Query by tokens: ['university', '', 'massachusetts']\n",
      "Query by ids with stopwords: [200, 0, 894]\n",
      "Query by ids without stopwords: [200, 894]\n"
     ]
    }
   ],
   "source": [
    "query_tokens = index.tokenize(\"University of Massachusetts\")\n",
    "print(\"Query by tokens:\", query_tokens)\n",
    "query_id_tokens = [token2id.get(query_token,0) for query_token in query_tokens]\n",
    "print(\"Query by ids with stopwords:\", query_id_tokens)\n",
    "query_id_tokens = [word_id for word_id in query_id_tokens if word_id > 0]\n",
    "print(\"Query by ids without stopwords:\", query_id_tokens)"
   ]
  },
  {
   "cell_type": "markdown",
   "metadata": {},
   "source": [
    "Naturally we can now match the document and query in the id space, let's see how often a word from the query occurs in our example document:"
   ]
  },
  {
   "cell_type": "code",
   "execution_count": 9,
   "metadata": {},
   "outputs": [
    {
     "name": "stdout",
     "output_type": "stream",
     "text": [
      "Document AP890425-0001 has 13 word matches with query: \"university  massachusetts\".\n",
      "Document AP890425-0001 and query \"university  massachusetts\" have a 2.5% overlap.\n"
     ]
    }
   ],
   "source": [
    "matching_words = sum([True for word_id in example_document[1] if word_id in query_id_tokens])\n",
    "print(\"Document %s has %d word matches with query: \\\"%s\\\".\" % (example_document[0], matching_words, ' '.join(query_tokens)))\n",
    "print(\"Document %s and query \\\"%s\\\" have a %.01f%% overlap.\" % (example_document[0], ' '.join(query_tokens),matching_words/float(len(example_document[1]))*100))"
   ]
  },
  {
   "cell_type": "markdown",
   "metadata": {},
   "source": [
    "While this is certainly not everything Pyndri can do, it should give you an idea of how to use it. Please take a look at the [examples](https://github.com/cvangysel/pyndri) as it will help you a lot with this assignment.\n",
    "\n",
    "**CAUTION**: Avoid printing out the whole index in this Notebook as it will generate a lot of output and is likely to corrupt the Notebook."
   ]
  },
  {
   "cell_type": "markdown",
   "metadata": {},
   "source": [
    "### Parsing the query file\n",
    "You can parse the query file (`ap_88_89/topics_title`) using the following snippet:"
   ]
  },
  {
   "cell_type": "code",
   "execution_count": 10,
   "metadata": {
    "collapsed": true,
    "scrolled": true
   },
   "outputs": [],
   "source": [
    "import collections\n",
    "import io\n",
    "import logging\n",
    "import sys\n",
    "\n",
    "def parse_topics(file_or_files,\n",
    "                 max_topics=sys.maxsize, delimiter=';'):\n",
    "    assert max_topics >= 0 or max_topics is None\n",
    "\n",
    "    topics = collections.OrderedDict()\n",
    "\n",
    "    if not isinstance(file_or_files, list) and \\\n",
    "            not isinstance(file_or_files, tuple):\n",
    "        if hasattr(file_or_files, '__iter__'):\n",
    "            file_or_files = list(file_or_files)\n",
    "        else:\n",
    "            file_or_files = [file_or_files]\n",
    "\n",
    "    for f in file_or_files:\n",
    "        assert isinstance(f, io.IOBase)\n",
    "\n",
    "        for line in f:\n",
    "            assert(isinstance(line, str))\n",
    "\n",
    "            line = line.strip()\n",
    "\n",
    "            if not line:\n",
    "                continue\n",
    "\n",
    "            topic_id, terms = line.split(delimiter, 1)\n",
    "\n",
    "            if topic_id in topics and (topics[topic_id] != terms):\n",
    "                    logging.error('Duplicate topic \"%s\" (%s vs. %s).',\n",
    "                                  topic_id,\n",
    "                                  topics[topic_id],\n",
    "                                  terms)\n",
    "\n",
    "            topics[topic_id] = terms\n",
    "\n",
    "            if max_topics > 0 and len(topics) >= max_topics:\n",
    "                break\n",
    "\n",
    "    return topics\n",
    "\n",
    "# with open('./ap_88_89/topics_title', 'r') as f_topics:\n",
    "#     print(parse_topics([f_topics]))"
   ]
  },
  {
   "cell_type": "markdown",
   "metadata": {},
   "source": [
    "### Task 1: Implement and compare lexical IR methods [40 points] ### \n",
    "\n",
    "In this task you will implement a number of lexical methods for IR using the **Pyndri** framework. Then you will evaluate these methods on the dataset we have provided using **TREC Eval**.\n",
    "\n",
    "Use the **Pyndri** framework to get statistics of the documents (term frequency, document frequency, collection frequency; **you are not allowed to use the query functionality of Pyndri**) and implement the following scoring methods in **Python**:\n",
    "\n",
    "- [TF-IDF](http://nlp.stanford.edu/IR-book/html/htmledition/tf-idf-weighting-1.html). **[5 points]**\n",
    "- [BM25](http://nlp.stanford.edu/IR-book/html/htmledition/okapi-bm25-a-non-binary-model-1.html) with k1=1.2 and b=0.75. **[5 points]**\n",
    "- Language models ([survey](https://drive.google.com/file/d/0B-zklbckv9CHc0c3b245UW90NE0/view))\n",
    "    - Jelinek-Mercer (explore different values of 𝛌 in the range [0.1, 0.5, 0.9]). **[10 points]**\n",
    "    - Dirichlet Prior (explore different values of 𝛍 [500, 1000, 1500]). **[5 points]**\n",
    "    - Absolute discounting (explore different values of 𝛅 in the range [0.1, 0.5, 0.9]). **[5 points]**\n",
    "    \n",
    "Implement the above methods and report evaluation measures (on the test set) using the hyper parameter values you optimized on the validation set (also report the values of the hyper parameters). Use TREC Eval to obtain the results and report on `NDCG@10`, Mean Average Precision (`MAP@1000`), `Precision@5` and `Recall@1000`.\n",
    "\n",
    "For the language models, create plots showing `NDCG@10` with varying values of the parameters. You can do this by chaining small scripts using shell scripting (preferred) or execute trec_eval using Python's `subprocess`.\n",
    "\n",
    "Compute significance of the results using a [two-tailed paired Student t-test](https://docs.scipy.org/doc/scipy/reference/generated/scipy.stats.ttest_rel.html) **[10 points]**. Be wary of false rejection of the null hypothesis caused by the [multiple comparisons problem](https://en.wikipedia.org/wiki/Multiple_comparisons_problem). There are multiple ways to mitigate this problem and it is up to you to choose one.\n",
    "\n",
    "Analyse the results by identifying specific queries where different methods succeed or fail and discuss possible reasons that cause these differences. This is *very important* in order to understand how the different retrieval functions behave.\n",
    "\n",
    "**NOTE**: Don’t forget to use log computations in your calculations to avoid underflows. "
   ]
  },
  {
   "cell_type": "markdown",
   "metadata": {},
   "source": [
    "**IMPORTANT**: You should structure your code around the helper functions we provide below."
   ]
  },
  {
   "cell_type": "code",
   "execution_count": null,
   "metadata": {
    "collapsed": true
   },
   "outputs": [],
   "source": []
  },
  {
   "cell_type": "code",
   "execution_count": 11,
   "metadata": {},
   "outputs": [
    {
     "name": "stdout",
     "output_type": "stream",
     "text": [
      "Gathering statistics about 456 terms.\n",
      "Inverted index creation took 28.464560747146606 seconds.\n"
     ]
    }
   ],
   "source": [
    "with open('./ap_88_89/topics_title', 'r') as f_topics:\n",
    "    queries = parse_topics([f_topics])\n",
    "\n",
    "index = pyndri.Index('index/')\n",
    "start_time = time.time()\n",
    "num_documents = index.maximum_document() - index.document_base()\n",
    "\n",
    "dictionary = pyndri.extract_dictionary(index)\n",
    "\n",
    "tokenized_queries = {\n",
    "    query_id: [dictionary.translate_token(token)\n",
    "               for token in index.tokenize(query_string)\n",
    "               if dictionary.has_token(token)]\n",
    "    for query_id, query_string in queries.items()}\n",
    "\n",
    "query_term_ids = set(\n",
    "    query_term_id\n",
    "    for query_term_ids in tokenized_queries.values()\n",
    "    for query_term_id in query_term_ids)\n",
    "\n",
    "print('Gathering statistics about', len(query_term_ids), 'terms.')\n",
    "\n",
    "# inverted index creation.\n",
    "\n",
    "document_lengths = {}\n",
    "unique_terms_per_document = {}\n",
    "\n",
    "inverted_index = collections.defaultdict(dict)\n",
    "collection_frequencies = collections.defaultdict(int)\n",
    "\n",
    "total_terms = 0\n",
    "\n",
    "for int_doc_id in range(index.document_base(), index.maximum_document()):\n",
    "    ext_doc_id, doc_token_ids = index.document(int_doc_id)\n",
    "\n",
    "    document_bow = collections.Counter(\n",
    "        token_id for token_id in doc_token_ids\n",
    "        if token_id > 0)\n",
    "    document_length = sum(document_bow.values())\n",
    "\n",
    "    document_lengths[int_doc_id] = document_length\n",
    "    total_terms += document_length\n",
    "\n",
    "    unique_terms_per_document[int_doc_id] = len(document_bow)\n",
    "\n",
    "    for query_term_id in query_term_ids:\n",
    "        assert query_term_id is not None\n",
    "\n",
    "        document_term_frequency = document_bow.get(query_term_id, 0)\n",
    "\n",
    "        if document_term_frequency == 0:\n",
    "            continue\n",
    "\n",
    "        collection_frequencies[query_term_id] += document_term_frequency\n",
    "        inverted_index[query_term_id][int_doc_id] = document_term_frequency\n",
    "\n",
    "avg_doc_length = total_terms / num_documents\n",
    "\n",
    "print('Inverted index creation took', time.time() - start_time, 'seconds.')"
   ]
  },
  {
   "cell_type": "code",
   "execution_count": 12,
   "metadata": {
    "collapsed": true
   },
   "outputs": [],
   "source": [
    "from collections import defaultdict\n",
    "\n",
    "def run_retrieval(model_name, score_fn, **args):\n",
    "    \"\"\"\n",
    "    Runs a retrieval method for all the queries and writes the TREC-friendly results in a file.\n",
    "    \n",
    "    :param model_name: the name of the model (a string)\n",
    "    :param score_fn: the scoring function (a function - see below for an example) \n",
    "    \"\"\"\n",
    "    run_out_path = '{}.run'.format(model_name)\n",
    "\n",
    "    if os.path.exists(run_out_path):\n",
    "        return\n",
    "\n",
    "    retrieval_start_time = time.time()\n",
    "\n",
    "    print('Retrieving using', model_name)\n",
    "\n",
    "    data = {}\n",
    "    \n",
    "    for qid in tokenized_queries.keys(): #for each query\n",
    "#     for qid in ['135']: #test\n",
    "        try:\n",
    "            if score_fn==bm25:\n",
    "                tokenized_queries[qid] = list(set(tokenized_queries[qid]))\n",
    "        except:\n",
    "            pass\n",
    "        score = defaultdict(float)\n",
    "        #score = {}\n",
    "        for query_term_id in tokenized_queries[qid]: #for each word_id in query\n",
    "\n",
    "            for (int_document_id,document_term_freq) in zip(inverted_index[query_term_id].keys(),inverted_index[query_term_id].values()):\n",
    "                #for each document where the word appears, calculate scoring function increment its score\n",
    "                new_score = score_fn(int_document_id, query_term_id, document_term_freq, **args)\n",
    "                \n",
    "                score[int_document_id] += new_score \n",
    "\n",
    "        #turn dict to list of tuples and continue        \n",
    "        # The dictionary data should have the form: query_id --> (document_score, external_doc_id)\n",
    "        data[qid] = [(score, index.ext_document_id(doc_id)) for (score, doc_id) in zip(score.values(), score.keys())]\n",
    "        \n",
    "#     write out\n",
    "    with open(run_out_path, 'w') as f_out:\n",
    "        write_run(\n",
    "            model_name=model_name,\n",
    "            data=data,\n",
    "            out_f=f_out,\n",
    "            max_objects_per_query=1000)"
   ]
  },
  {
   "cell_type": "code",
   "execution_count": 13,
   "metadata": {
    "collapsed": true
   },
   "outputs": [],
   "source": [
    "# def run_retrieval(model_name, score_fn, **args):\n",
    "#     \"\"\"\n",
    "#     Runs a retrieval method for all the queries and writes the TREC-friendly results in a file.\n",
    "    \n",
    "#     :param model_name: the name of the model (a string)\n",
    "#     :param score_fn: the scoring function (a function - see below for an example) \n",
    "#     \"\"\"\n",
    "#     run_out_path = '{}.run'.format(model_name)\n",
    "\n",
    "#     if os.path.exists(run_out_path):\n",
    "#         return\n",
    "\n",
    "#     retrieval_start_time = time.time()\n",
    "\n",
    "#     print('Retrieving using', model_name)\n",
    "\n",
    "#     data = {}\n",
    "    \n",
    "#     for qid in tokenized_queries.keys(): #for each query\n",
    "# #     for qid in ['135']: #test\n",
    "\n",
    "#         score = {}\n",
    "#             #hack for BM25 (iterate duplicate terms in query once)\n",
    "#         try:\n",
    "#             if score_fn==bm25:\n",
    "#                 tokenized_queries[qid] = list(set(tokenized_queries[qid]))\n",
    "#         except:\n",
    "#             pass\n",
    "        \n",
    "#         for query_term_id in tokenized_queries[qid]: #for each word_id in query\n",
    "\n",
    "#             for (int_document_id,document_term_freq) in zip(inverted_index[query_term_id].keys(),inverted_index[query_term_id].values()):\n",
    "#                     #for each document where the word appears, calculate scoring function increment its score\n",
    "#                 new_score = score_fn(int_document_id, query_term_id, document_term_freq, **args)\n",
    "                \n",
    "#                 if int_document_id not in score.keys():\n",
    "#                     #print('initiallizing and incrementing score')\n",
    "#                     score[int_document_id] = new_score\n",
    "#                 else:\n",
    "#                     #print('incrementing score')\n",
    "#                     score[int_document_id] += new_score\n",
    "\n",
    "#         #turn dict to list of tuples and continue        \n",
    "#         # The dictionary data should have the form: query_id --> (document_score, external_doc_id)\n",
    "#         data[qid] = [(score, index.ext_document_id(doc_id)) for (score, doc_id) in zip(score.values(), score.keys())]\n",
    "        \n",
    "# #     write out\n",
    "#     with open(run_out_path, 'w') as f_out:\n",
    "#         write_run(\n",
    "#             model_name=model_name,\n",
    "#             data=data,\n",
    "#             out_f=f_out,\n",
    "#             max_objects_per_query=1000)"
   ]
  },
  {
   "cell_type": "code",
   "execution_count": 14,
   "metadata": {
    "collapsed": true
   },
   "outputs": [],
   "source": [
    "# def test_fn(int_document_id, query_term_id, document_term_freq):\n",
    "#     #test function returning the occurencies themselves as a score\n",
    "#     #return inverted_index[query_term_id][int_document_id]\n",
    "#     return document_term_frequency\n",
    "\n",
    "# run_retrieval('retrievals/test',test_fn)"
   ]
  },
  {
   "cell_type": "markdown",
   "metadata": {
    "collapsed": true
   },
   "source": [
    "### TF-IDF"
   ]
  },
  {
   "cell_type": "code",
   "execution_count": 15,
   "metadata": {
    "collapsed": true
   },
   "outputs": [],
   "source": [
    "def tfidf(int_document_id, query_term_id, document_term_freq):\n",
    "    \"\"\"\n",
    "    Scoring function for a document and a query term\n",
    "    \n",
    "    :param int_document_id: the document id\n",
    "    :param query_token_id: the query term id (assuming you have split the query to tokens)\n",
    "    :param document_term_freq: the document term frequency of the query term \n",
    "    \"\"\"\n",
    "    \n",
    "    ## Amount of time a term appears in a document  \n",
    "    df = document_term_freq\n",
    "    ## Total terms in a document\n",
    "    dl = document_lengths[int_document_id]\n",
    "    ## Amount of documents containing a term\n",
    "    n = len(inverted_index[query_term_id])\n",
    "    \n",
    "\n",
    "    tf = np.log2(1 + df)\n",
    "    idf = np.log2((n/df))\n",
    "    \n",
    "    score = tf * idf\n",
    "\n",
    "    return score"
   ]
  },
  {
   "cell_type": "code",
   "execution_count": 16,
   "metadata": {},
   "outputs": [
    {
     "data": {
      "text/plain": [
       "0"
      ]
     },
     "execution_count": 16,
     "metadata": {},
     "output_type": "execute_result"
    }
   ],
   "source": [
    "len(inverted_index[14])"
   ]
  },
  {
   "cell_type": "code",
   "execution_count": null,
   "metadata": {
    "collapsed": true
   },
   "outputs": [],
   "source": []
  },
  {
   "cell_type": "code",
   "execution_count": 17,
   "metadata": {},
   "outputs": [
    {
     "data": {
      "text/plain": [
       "457"
      ]
     },
     "execution_count": 17,
     "metadata": {},
     "output_type": "execute_result"
    }
   ],
   "source": [
    "len(inverted_index)"
   ]
  },
  {
   "cell_type": "code",
   "execution_count": null,
   "metadata": {
    "collapsed": true
   },
   "outputs": [],
   "source": []
  },
  {
   "cell_type": "code",
   "execution_count": null,
   "metadata": {
    "collapsed": true
   },
   "outputs": [],
   "source": []
  },
  {
   "cell_type": "code",
   "execution_count": 19,
   "metadata": {},
   "outputs": [
    {
     "name": "stdout",
     "output_type": "stream",
     "text": [
      "elapsed time: 0.00018358230590820312\n"
     ]
    }
   ],
   "source": [
    "start_time = time.time()\n",
    "\n",
    "run_retrieval('retrievals/tf-idf',tfidf)\n",
    "\n",
    "print ('elapsed time:',time.time()-start_time)"
   ]
  },
  {
   "cell_type": "code",
   "execution_count": 20,
   "metadata": {},
   "outputs": [
    {
     "name": "stdout",
     "output_type": "stream",
     "text": [
      "TF-IDF scores:\n",
      "validation:\n",
      "P_5                   \tall\t0.3200\n",
      "recall_1000           \tall\t0.5766\n",
      "ndcg_cut_10           \tall\t0.3409\n",
      "map_cut_1000          \tall\t0.2049\n",
      "\n",
      "test:\n",
      "P_5                   \tall\t0.3700\n",
      "recall_1000           \tall\t0.5352\n",
      "ndcg_cut_10           \tall\t0.3549\n",
      "map_cut_1000          \tall\t0.1592\n"
     ]
    }
   ],
   "source": [
    "#NEW tf-idf\n",
    "# trec_eval command for evalutaion of tf-idf \n",
    "print('TF-IDF scores:\\nvalidation:')\n",
    "!trec_eval -m all_trec ./ap_88_89/qrel_validation retrievals/tf-idf.run | grep -E \"^ndcg_cut_10\\s|^map_cut_1000\\s|^P_5\\s|^recall_1000\\s\"\n",
    "print('\\ntest:')\n",
    "# trec_eval command for evalutaion of tf-idf \n",
    "!trec_eval -m all_trec ./ap_88_89/qrel_test retrievals/tf-idf.run | grep -E \"^ndcg_cut_10\\s|^map_cut_1000\\s|^P_5\\s|^recall_1000\\s\""
   ]
  },
  {
   "cell_type": "code",
   "execution_count": null,
   "metadata": {
    "collapsed": true
   },
   "outputs": [],
   "source": []
  },
  {
   "cell_type": "markdown",
   "metadata": {},
   "source": []
  },
  {
   "cell_type": "markdown",
   "metadata": {},
   "source": [
    "### BM25"
   ]
  },
  {
   "cell_type": "code",
   "execution_count": 21,
   "metadata": {
    "collapsed": true
   },
   "outputs": [],
   "source": [
    "def bm25(int_document_id, query_term_id, document_term_freq ,k1=1.2 , b=0.75,length_avg = round(np.average(np.array(list(document_lengths.values())))) ):\n",
    "    \"\"\"\n",
    "    Scoring function for a document and a query term\n",
    "    \n",
    "    :param int_document_id: the document id\n",
    "    :param query_token_id: the query term id (assuming you have split the query to tokens)\n",
    "    :param document_term_freq: the document term frequency of the query term\n",
    "    \n",
    "    Hyperparameters: k1=1.2 and b=0.75\n",
    "    -\n",
    "    \"\"\"\n",
    "    \n",
    "    ## Amount of time a term appears in a document  \n",
    "    df = document_term_freq\n",
    "     \n",
    "    \n",
    "    ## tf, idf\n",
    "    tf = np.log2(1 + df)\n",
    "    idf = np.log2((len(inverted_index[query_term_id])/df))\n",
    "    \n",
    "    ## Total terms in a document : document_lengths[int_document_id]    \n",
    "    ## Amount of documents containing a term : len(inverted_index[query_term_id])\n",
    "    ## document length : document_lengths[int_document_id]\n",
    "    \n",
    "    return ((k1+1)*tf*idf)/(k1*((1-b)+b*(document_lengths[int_document_id] /length_avg))+tf)"
   ]
  },
  {
   "cell_type": "code",
   "execution_count": 22,
   "metadata": {},
   "outputs": [
    {
     "name": "stdout",
     "output_type": "stream",
     "text": [
      "BM25 scoring took 0.0002262592315673828 seconds.\n"
     ]
    }
   ],
   "source": [
    "start_time=time.time() \n",
    "\n",
    "run_retrieval('retrievals/bm25',bm25)\n",
    "\n",
    "print('BM25 scoring took', time.time() - start_time, 'seconds.')"
   ]
  },
  {
   "cell_type": "code",
   "execution_count": 23,
   "metadata": {},
   "outputs": [
    {
     "name": "stdout",
     "output_type": "stream",
     "text": [
      "BM25 scores:\n",
      "validation:\n",
      "P_5                   \tall\t0.2333\n",
      "recall_1000           \tall\t0.5080\n",
      "ndcg_cut_10           \tall\t0.2360\n",
      "map_cut_1000          \tall\t0.1397\n",
      "\n",
      "test:\n",
      "P_5                   \tall\t0.2417\n",
      "recall_1000           \tall\t0.4779\n",
      "ndcg_cut_10           \tall\t0.2386\n",
      "map_cut_1000          \tall\t0.1112\n"
     ]
    }
   ],
   "source": [
    "#BM25\n",
    "print('BM25 scores:\\nvalidation:')\n",
    "!trec_eval -m all_trec ./ap_88_89/qrel_validation retrievals/bm25.run | grep -E \"^ndcg_cut_10\\s|^map_cut_1000\\s|^P_5\\s|^recall_1000\\s\"\n",
    "print('\\ntest:')\n",
    "!trec_eval -m all_trec ./ap_88_89/qrel_test retrievals/bm25.run | grep -E \"^ndcg_cut_10\\s|^map_cut_1000\\s|^P_5\\s|^recall_1000\\s\""
   ]
  },
  {
   "cell_type": "markdown",
   "metadata": {},
   "source": []
  },
  {
   "cell_type": "markdown",
   "metadata": {},
   "source": [
    "** Cache word-vocabulary tf **"
   ]
  },
  {
   "cell_type": "code",
   "execution_count": 24,
   "metadata": {
    "collapsed": true
   },
   "outputs": [],
   "source": [
    "# #precompute the 2nd term of jelinek mercer smoothening to speed-up computations\n",
    "# P_mle_col = dict()\n",
    "# for query_term_id in query_term_ids:\n",
    "#     P_mle_col[query_term_id] = index.get_term_frequencies()[query_term_id] / index.total_terms()\n",
    "    \n",
    "#precompute the logged 2nd term of jelinek mercer smoothening to speed-up computations\n",
    "P_mle_col_log = dict()\n",
    "for query_term_id in query_term_ids:\n",
    "    P_mle_col_log[query_term_id] = np.log(index.get_term_frequencies()[query_term_id]) - np.log(index.total_terms())"
   ]
  },
  {
   "cell_type": "code",
   "execution_count": 25,
   "metadata": {},
   "outputs": [
    {
     "data": {
      "text/plain": [
       "{1: -6.0945643344557539,\n",
       " 8: -6.4526909965155834,\n",
       " 11: -6.6675696256705272,\n",
       " 13: -6.8058974749179537,\n",
       " 19: -6.9476350752909504,\n",
       " 20: -6.9646388345306125,\n",
       " 21: -7.0004627988628982,\n",
       " 33: -7.1961866930500573,\n",
       " 35: -7.2181308690034776,\n",
       " 38: -7.2459607461194224,\n",
       " 39: -7.2495478290848485,\n",
       " 54: -7.3994656396794838,\n",
       " 55: -7.4060289863545652,\n",
       " 57: -7.4110234593976632,\n",
       " 68: -7.5053044754860991,\n",
       " 69: -7.5162001613066707,\n",
       " 72: -7.5258230971500026,\n",
       " 75: -7.5321427752559078,\n",
       " 77: -7.5350218913634617,\n",
       " 78: -7.5411521787608571,\n",
       " 80: -7.5489182414392229,\n",
       " 82: -7.5636695535812439,\n",
       " 85: -7.5759938104596145,\n",
       " 92: -7.6237126616551123,\n",
       " 94: -7.6291129717956707,\n",
       " 97: -7.6443633662536623,\n",
       " 107: -7.6936677378194869,\n",
       " 110: -7.7051117036618546,\n",
       " 114: -7.7145626266388234,\n",
       " 118: -7.7365965825479961,\n",
       " 119: -7.7410077323679829,\n",
       " 128: -7.7619677286274111,\n",
       " 138: -7.7905415492086618,\n",
       " 140: -7.7960612250236014,\n",
       " 142: -7.8087793319593679,\n",
       " 152: -7.8262012045623379,\n",
       " 156: -7.845174579370866,\n",
       " 163: -7.8533739740837181,\n",
       " 166: -7.8688411038778678,\n",
       " 168: -7.8741196174535979,\n",
       " 170: -7.8811664226271834,\n",
       " 180: -7.9023250863223335,\n",
       " 186: -7.9318621844763388,\n",
       " 191: -7.9524860526255434,\n",
       " 192: -7.9602603016845936,\n",
       " 196: -7.9654769159187406,\n",
       " 203: -7.9841454508955358,\n",
       " 205: -7.9916259609628142,\n",
       " 213: -8.0174386762020085,\n",
       " 214: -8.0175584486345297,\n",
       " 219: -8.0272676522887405,\n",
       " 229: -8.0595106698447445,\n",
       " 235: -8.0791043003704548,\n",
       " 236: -8.0917954225299553,\n",
       " 238: -8.0957595780141851,\n",
       " 241: -8.0998262070232059,\n",
       " 248: -8.1158195564432241,\n",
       " 252: -8.1268928856964191,\n",
       " 255: -8.1344934051392457,\n",
       " 258: -8.1370997967643834,\n",
       " 269: -8.153934370888356,\n",
       " 274: -8.1717091284617887,\n",
       " 276: -8.1774082142845987,\n",
       " 277: -8.1775487657149402,\n",
       " 281: -8.1884309835753477,\n",
       " 303: -8.2462471711537066,\n",
       " 307: -8.2514801507918545,\n",
       " 310: -8.2562843270146402,\n",
       " 313: -8.2597882026319329,\n",
       " 325: -8.2792042935939723,\n",
       " 328: -8.2859176491919495,\n",
       " 335: -8.3011762847073367,\n",
       " 341: -8.3185577956462957,\n",
       " 351: -8.3323556135447436,\n",
       " 358: -8.3494575915684575,\n",
       " 360: -8.3540306852557435,\n",
       " 373: -8.3775585209004682,\n",
       " 377: -8.3860643193084226,\n",
       " 380: -8.3879129622381328,\n",
       " 382: -8.4000131680469448,\n",
       " 388: -8.4057065069765944,\n",
       " 389: -8.4068255035302357,\n",
       " 390: -8.408063747740453,\n",
       " 391: -8.4095989393504222,\n",
       " 392: -8.4109589608473438,\n",
       " 395: -8.414278072476689,\n",
       " 397: -8.4218464170558782,\n",
       " 416: -8.4472301818783428,\n",
       " 420: -8.4552386026750508,\n",
       " 431: -8.4666843608701736,\n",
       " 436: -8.4834660303323872,\n",
       " 447: -8.5037102871340498,\n",
       " 448: -8.5052046186988726,\n",
       " 451: -8.5085913615478663,\n",
       " 463: -8.5424299247819064,\n",
       " 472: -8.5520590762833351,\n",
       " 483: -8.5702113898905239,\n",
       " 484: -8.5702807789201465,\n",
       " 485: -8.5715306054958376,\n",
       " 496: -8.5918850420662682,\n",
       " 515: -8.6368429501244339,\n",
       " 518: -8.6389217985975026,\n",
       " 519: -8.6441379058040546,\n",
       " 520: -8.6447357684629225,\n",
       " 523: -8.6469060218872436,\n",
       " 539: -8.6666532117030268,\n",
       " 580: -8.7087909895988087,\n",
       " 588: -8.71880348863926,\n",
       " 590: -8.7238071307468257,\n",
       " 601: -8.7356897479754281,\n",
       " 609: -8.7423435697066356,\n",
       " 625: -8.7567884497897008,\n",
       " 629: -8.7587135393149662,\n",
       " 631: -8.7609781659905117,\n",
       " 642: -8.7718694045529304,\n",
       " 654: -8.7857169632060312,\n",
       " 659: -8.789338593447189,\n",
       " 684: -8.8109950458250079,\n",
       " 690: -8.8146209618028823,\n",
       " 692: -8.8163057327622454,\n",
       " 694: -8.8169271540614833,\n",
       " 719: -8.8411048472963785,\n",
       " 735: -8.8572460634757633,\n",
       " 738: -8.859374806933161,\n",
       " 746: -8.8677485067741326,\n",
       " 774: -8.8956978415661663,\n",
       " 776: -8.8984880487932188,\n",
       " 781: -8.9034139292320305,\n",
       " 789: -8.9121662947409792,\n",
       " 804: -8.9288111858428927,\n",
       " 811: -8.9345880943390252,\n",
       " 812: -8.9360875698036644,\n",
       " 819: -8.9399967613704234,\n",
       " 824: -8.9492794433017924,\n",
       " 829: -8.95527813954733,\n",
       " 832: -8.9561963664138666,\n",
       " 846: -8.9780732062787632,\n",
       " 851: -8.9833033437239891,\n",
       " 862: -8.9975628935004135,\n",
       " 881: -9.017331478822836,\n",
       " 917: -9.0527832616585719,\n",
       " 922: -9.0581941642751218,\n",
       " 942: -9.072309367325289,\n",
       " 946: -9.0755244349701254,\n",
       " 955: -9.084767712796479,\n",
       " 982: -9.1099218363936618,\n",
       " 985: -9.1105171808179843,\n",
       " 1000: -9.1250336615132444,\n",
       " 1033: -9.1471495363226971,\n",
       " 1042: -9.1569577967148543,\n",
       " 1056: -9.1671152606842323,\n",
       " 1070: -9.1817159136339939,\n",
       " 1098: -9.1958841052992462,\n",
       " 1099: -9.1965329082805471,\n",
       " 1116: -9.211704530703603,\n",
       " 1122: -9.2176526019048772,\n",
       " 1138: -9.2314017339313708,\n",
       " 1145: -9.2396344547001412,\n",
       " 1160: -9.2490293090146842,\n",
       " 1161: -9.2506722447621161,\n",
       " 1178: -9.2623876292548353,\n",
       " 1189: -9.2665554596837065,\n",
       " 1240: -9.3024127695745591,\n",
       " 1266: -9.322821641205767,\n",
       " 1268: -9.3240005390729248,\n",
       " 1275: -9.3325893672300015,\n",
       " 1302: -9.3516575825356369,\n",
       " 1312: -9.3581970324997492,\n",
       " 1322: -9.3661627608946567,\n",
       " 1329: -9.3729529104402882,\n",
       " 1339: -9.3790102404467302,\n",
       " 1373: -9.4029748115338325,\n",
       " 1404: -9.4208453667997389,\n",
       " 1424: -9.4317887181499334,\n",
       " 1434: -9.4398685708296473,\n",
       " 1449: -9.4503538129342548,\n",
       " 1459: -9.4582483697667374,\n",
       " 1466: -9.461119265937679,\n",
       " 1483: -9.4728570888879187,\n",
       " 1490: -9.4752555824139701,\n",
       " 1510: -9.4885511248952152,\n",
       " 1525: -9.4992109025487661,\n",
       " 1533: -9.5032598474342045,\n",
       " 1535: -9.5055556541820998,\n",
       " 1583: -9.5373499802200925,\n",
       " 1605: -9.5537271978554656,\n",
       " 1608: -9.5565140087626439,\n",
       " 1622: -9.5688690891748376,\n",
       " 1633: -9.5773813887533557,\n",
       " 1644: -9.5832878553863008,\n",
       " 1664: -9.59501312186676,\n",
       " 1704: -9.6171037474665724,\n",
       " 1709: -9.6194785754182455,\n",
       " 1723: -9.6300353909187901,\n",
       " 1760: -9.6521032972816254,\n",
       " 1781: -9.6640474260980156,\n",
       " 1783: -9.6648764416895361,\n",
       " 1801: -9.6721597950806437,\n",
       " 1812: -9.6767652040998211,\n",
       " 1821: -9.6820244988563893,\n",
       " 1822: -9.6826574770397773,\n",
       " 1842: -9.6941201370409011,\n",
       " 1847: -9.6962573466597046,\n",
       " 1848: -9.6975418683520616,\n",
       " 1856: -9.7001158723472347,\n",
       " 1861: -9.7044206572988667,\n",
       " 1891: -9.7183218368438062,\n",
       " 1893: -9.7187593778702581,\n",
       " 1906: -9.7266680306910338,\n",
       " 1912: -9.7326408390678605,\n",
       " 1920: -9.7368654145559752,\n",
       " 1931: -9.7428996266302441,\n",
       " 1959: -9.756668041852155,\n",
       " 1982: -9.7683266491608691,\n",
       " 1987: -9.7710897179231413,\n",
       " 2053: -9.8132383933405496,\n",
       " 2088: -9.8319305263527017,\n",
       " 2097: -9.8361048725001901,\n",
       " 2121: -9.8467419548612334,\n",
       " 2127: -9.8494813414578939,\n",
       " 2129: -9.850978721323397,\n",
       " 2152: -9.8617760641365919,\n",
       " 2177: -9.8814070323472922,\n",
       " 2178: -9.881664532026841,\n",
       " 2181: -9.8847597111808607,\n",
       " 2183: -9.8852765070579949,\n",
       " 2199: -9.8938424257551798,\n",
       " 2208: -9.8974987369582905,\n",
       " 2230: -9.9080196125401052,\n",
       " 2231: -9.909607334493117,\n",
       " 2294: -9.9421764895746296,\n",
       " 2296: -9.9424501248205566,\n",
       " 2313: -9.9473884064611386,\n",
       " 2324: -9.9520748381947666,\n",
       " 2336: -9.9592850746449901,\n",
       " 2353: -9.9671085289101118,\n",
       " 2354: -9.9671085289101118,\n",
       " 2371: -9.9741458556306881,\n",
       " 2387: -9.990665741430373,\n",
       " 2409: -9.9993188095551897,\n",
       " 2439: -10.009802306850048,\n",
       " 2460: -10.021284841372941,\n",
       " 2485: -10.030208160547181,\n",
       " 2509: -10.040116663772,\n",
       " 2510: -10.041022324211262,\n",
       " 2527: -10.051649416785548,\n",
       " 2540: -10.058694935285157,\n",
       " 2549: -10.062390658616961,\n",
       " 2563: -10.067029603073355,\n",
       " 2569: -10.07106750264265,\n",
       " 2587: -10.081391385984286,\n",
       " 2598: -10.085172108824192,\n",
       " 2619: -10.091822964694101,\n",
       " 2621: -10.092776708209412,\n",
       " 2636: -10.100760145150705,\n",
       " 2642: -10.105580980455398,\n",
       " 2643: -10.105903197310129,\n",
       " 2673: -10.122803177041838,\n",
       " 2697: -10.133346932051669,\n",
       " 2731: -10.146349282259058,\n",
       " 2743: -10.151058339060631,\n",
       " 2760: -10.156467412424643,\n",
       " 2783: -10.169432452441932,\n",
       " 2791: -10.171839192472497,\n",
       " 2793: -10.172872428314374,\n",
       " 2832: -10.187450957944609,\n",
       " 2845: -10.190252080224322,\n",
       " 2846: -10.190953588495812,\n",
       " 2856: -10.194468530603256,\n",
       " 2897: -10.211156295813332,\n",
       " 2911: -10.216181432016004,\n",
       " 3027: -10.261451351162183,\n",
       " 3063: -10.277773596237896,\n",
       " 3066: -10.279688938711963,\n",
       " 3067: -10.279688938711963,\n",
       " 3069: -10.281607956763942,\n",
       " 3076: -10.284300783934528,\n",
       " 3173: -10.321581930880889,\n",
       " 3177: -10.322782171072985,\n",
       " 3269: -10.362803845422471,\n",
       " 3291: -10.369912384659767,\n",
       " 3367: -10.3954131289881,\n",
       " 3383: -10.40102505824267,\n",
       " 3454: -10.42467924914056,\n",
       " 3485: -10.43761719450114,\n",
       " 3516: -10.447545073877562,\n",
       " 3558: -10.458489095556878,\n",
       " 3564: -10.459865558265601,\n",
       " 3576: -10.464006350931633,\n",
       " 3579: -10.464928860222148,\n",
       " 3594: -10.4686274312437,\n",
       " 3614: -10.474666938567864,\n",
       " 3628: -10.483090011296973,\n",
       " 3649: -10.490163844142451,\n",
       " 3655: -10.492058681279733,\n",
       " 3672: -10.49871902940227,\n",
       " 3676: -10.501108516799651,\n",
       " 3698: -10.508793472969035,\n",
       " 3895: -10.583346615036625,\n",
       " 3924: -10.59326577754436,\n",
       " 4040: -10.630138776543383,\n",
       " 4072: -10.639436081687666,\n",
       " 4081: -10.64163630259727,\n",
       " 4104: -10.64826616113594,\n",
       " 4193: -10.676943976837274,\n",
       " 4204: -10.68094512535896,\n",
       " 4400: -10.741140286142382,\n",
       " 4451: -10.757700002181402,\n",
       " 4675: -10.814967556539877,\n",
       " 4735: -10.832141030125047,\n",
       " 4755: -10.837485064219319,\n",
       " 4886: -10.878502433930336,\n",
       " 4916: -10.886911733661407,\n",
       " 4934: -10.892557479073981,\n",
       " 5030: -10.922003053472679,\n",
       " 5098: -10.941135351553836,\n",
       " 5189: -10.965957987455713,\n",
       " 5197: -10.969773329741365,\n",
       " 5279: -10.994542397853774,\n",
       " 5442: -11.039421724031206,\n",
       " 5448: -11.040241732277238,\n",
       " 5465: -11.046000695129248,\n",
       " 5506: -11.058454156200536,\n",
       " 5552: -11.07021899778012,\n",
       " 5581: -11.080414498160792,\n",
       " 5609: -11.087269709239845,\n",
       " 5630: -11.090715018418756,\n",
       " 5723: -11.113403600730502,\n",
       " 5802: -11.139332634921468,\n",
       " 5810: -11.141145872045648,\n",
       " 5814: -11.142053725035829,\n",
       " 5872: -11.155771361264627,\n",
       " 5902: -11.163165110289565,\n",
       " 5967: -11.180947516157101,\n",
       " 6153: -11.226344011911097,\n",
       " 20692: -11.471466469944083,\n",
       " 20750: -12.208491656676081,\n",
       " 23989: -11.510081306071861,\n",
       " 26337: -12.947530830492681,\n",
       " 28392: -11.314074296192654,\n",
       " 29064: -11.695557439614333,\n",
       " 29891: -12.947530830492681,\n",
       " 30473: -12.712305858204267,\n",
       " 36062: -12.953071010868298,\n",
       " 39370: -11.409060903756654,\n",
       " 40238: -12.616598774247084,\n",
       " 43984: -11.896052619499025,\n",
       " 45097: -11.273899760419521,\n",
       " 48553: -11.599242450997984,\n",
       " 51043: -14.035153997585198,\n",
       " 52100: -13.366904368646978,\n",
       " 53245: -11.480344143976101,\n",
       " 53672: -12.986972562543979,\n",
       " 54952: -11.982713057723867,\n",
       " 61863: -11.447759807643095,\n",
       " 63065: -11.244290655101935,\n",
       " 63508: -12.669564309826997,\n",
       " 64853: -12.925672036680183,\n",
       " 65624: -11.52996267662569,\n",
       " 66582: -12.279559804825212,\n",
       " 67300: -11.400791512274147,\n",
       " 71869: -12.30538620438511,\n",
       " 71970: -12.936541708917087,\n",
       " 73364: -14.457148407644572,\n",
       " 73379: -11.76421184435241,\n",
       " 74122: -12.205856609038076,\n",
       " 74181: -11.919491192471042,\n",
       " 76611: -11.507460072591988,\n",
       " 76733: -13.263225939172138,\n",
       " 78639: -12.756956131942008,\n",
       " 82174: -11.515344476116137,\n",
       " 83861: -13.561060383087936,\n",
       " 84387: -11.828863175011225,\n",
       " 86216: -11.550247347797196,\n",
       " 86670: -11.371803975400894,\n",
       " 88519: -11.929421760673645,\n",
       " 89553: -11.280136786875069,\n",
       " 90480: -11.646240821102655,\n",
       " 91954: -11.672137165406234,\n",
       " 91961: -12.551316482156668,\n",
       " 96348: -16.759733500638617,\n",
       " 97318: -13.255678733536755,\n",
       " 99893: -13.72718725396191,\n",
       " 100114: -11.607888037990838,\n",
       " 100217: -15.010533645829359,\n",
       " 104782: -11.394926392821748,\n",
       " 105220: -11.637258724786825,\n",
       " 111208: -11.781277104906597,\n",
       " 116012: -11.38561317067508,\n",
       " 116975: -13.624239284709468,\n",
       " 117322: -14.482466215628861,\n",
       " 119910: -14.317386465269413,\n",
       " 120650: -13.48258876764644,\n",
       " 121054: -14.813823351583304,\n",
       " 121675: -11.397268314266828,\n",
       " 121844: -11.772708072181496,\n",
       " 122153: -11.409060903756654,\n",
       " 122164: -11.259496219227998,\n",
       " 128358: -11.92345159368714,\n",
       " 128371: -14.432455795054199,\n",
       " 140391: -11.543439969569171,\n",
       " 140799: -11.637258724786825,\n",
       " 141966: -12.608693594739972,\n",
       " 144171: -11.607888037990838,\n",
       " 151493: -12.914919244903921,\n",
       " 153960: -17.452880681198565,\n",
       " 154987: -11.269763249867742,\n",
       " 155285: -12.021344470864303,\n",
       " 156066: -13.034040073401965,\n",
       " 157422: -11.452704193488559,\n",
       " 159894: -11.861893700687705,\n",
       " 160909: -13.083432828731542,\n",
       " 163926: -13.350237316161767,\n",
       " 163974: -11.793398465438941,\n",
       " 171612: -17.452880681198565,\n",
       " 172647: -12.112941639959708,\n",
       " 176407: -13.764001227084627,\n",
       " 178428: -12.322981966275488,\n",
       " 178525: -15.506970532143249,\n",
       " 187515: -11.701896605058067,\n",
       " 188098: -12.747865160240757,\n",
       " 190739: -11.440388766898504,\n",
       " 191898: -12.195385309170781,\n",
       " 192484: -11.95571245590536,\n",
       " 192943: -12.282396686160411,\n",
       " 198109: -18.146027861758508,\n",
       " 200099: -11.873150855212341,\n",
       " 201208: -13.540857675770416,\n",
       " 202871: -13.971640591862872,\n",
       " 203193: -11.298022587182146,\n",
       " 212881: -12.789441587086497,\n",
       " 213404: -12.942021174681713,\n",
       " 215481: -12.328916701795304,\n",
       " 218232: -11.547518833143993,\n",
       " 220439: -14.254207563647881,\n",
       " 226043: -11.705081321125586,\n",
       " 226762: -11.64024380163028,\n",
       " 227473: -12.752400315406145,\n",
       " 228094: -11.294842934264764,\n",
       " 231164: -15.506970532143249,\n",
       " 231615: -12.690706746400807,\n",
       " 233033: -12.248873994121768,\n",
       " 235195: -12.493538681489857,\n",
       " 237281: -12.246130508176016,\n",
       " 237289: -13.022063882355249,\n",
       " 237310: -15.312814517702293,\n",
       " 238359: -11.300147986494459,\n",
       " 238862: -13.463896634634288,\n",
       " 238866: -11.321654191715421,\n",
       " 243152: -12.337885371778064,\n",
       " 243556: -11.830669860236174,\n",
       " 249163: -12.157066444868644,\n",
       " 250383: -11.744110665031322,\n",
       " 250488: -13.530907344917249,\n",
       " 254101: -12.981241887834994,\n",
       " 254885: -14.138694676526036}"
      ]
     },
     "execution_count": 25,
     "metadata": {},
     "output_type": "execute_result"
    }
   ],
   "source": [
    "P_mle_col_log"
   ]
  },
  {
   "cell_type": "markdown",
   "metadata": {},
   "source": [
    "### Jelinek-Mercer"
   ]
  },
  {
   "cell_type": "code",
   "execution_count": 26,
   "metadata": {
    "collapsed": true
   },
   "outputs": [],
   "source": [
    "def jelinek_mercer(int_document_id, query_term_id, document_term_freq, lambd = 0.75):\n",
    "    \"\"\"\n",
    "    Scoring function for a document and a query term\n",
    "    \n",
    "    :param int_document_id: the document id\n",
    "    :param query_token_id: the query term id (assuming you have split the query to tokens)\n",
    "    :param document_term_freq: the document term frequency of the query term\n",
    "    :param lambd: lambda value of linear interpolation (default = 0.75)\n",
    "    \"\"\"\n",
    "#     P_mle_doc_log = document_term_freq / document_lengths[int_document_id]\n",
    "    \n",
    "    return np.logaddexp( (np.log(lambd) + np.log(document_term_freq) - np.log(document_lengths[int_document_id])),\n",
    "                        (np.log(1-lambd) + P_mle_col_log[query_term_id]) )"
   ]
  },
  {
   "cell_type": "code",
   "execution_count": 27,
   "metadata": {},
   "outputs": [
    {
     "name": "stdout",
     "output_type": "stream",
     "text": [
      "elapsed time: 0.0006330013275146484\n"
     ]
    }
   ],
   "source": [
    "#final run\n",
    "start_time = time.time()\n",
    "test_dict = run_retrieval('retrievals/jelinek_mercer',jelinek_mercer)\n",
    "print ('elapsed time:',time.time()-start_time)"
   ]
  },
  {
   "cell_type": "code",
   "execution_count": 28,
   "metadata": {},
   "outputs": [
    {
     "name": "stdout",
     "output_type": "stream",
     "text": [
      "map                   \tall\t0.0798\r\n",
      "P_5                   \tall\t0.1200\r\n",
      "recall_1000           \tall\t0.2394\r\n",
      "ndcg_cut_10           \tall\t0.1331\r\n"
     ]
    }
   ],
   "source": [
    "# trec_eval command for evalutaion of jelinek_mercer\n",
    "\n",
    "!trec_eval -m all_trec ./ap_88_89/qrel_validation retrievals/jelinek_mercer_lambda\\=0.3.run | grep -E \"^ndcg_cut_10\\s|^map\\s|^P_5\\s|^recall_1000\\s\""
   ]
  },
  {
   "cell_type": "code",
   "execution_count": 29,
   "metadata": {
    "scrolled": true
   },
   "outputs": [
    {
     "name": "stdout",
     "output_type": "stream",
     "text": [
      "P_5                   \tall\t0.0283\r\n",
      "recall_1000           \tall\t0.1312\r\n",
      "ndcg_cut_10           \tall\t0.0323\r\n",
      "map_cut_1000          \tall\t0.0149\r\n"
     ]
    }
   ],
   "source": [
    "# trec_eval command for evalutaion of jelinek_mercer\n",
    "\n",
    "!trec_eval -m all_trec ./ap_88_89/qrel_test retrievals/jelinek_mercer_lambda\\=0.3.run | grep -E \"^ndcg_cut_10\\s|^map_cut_1000\\s|^P_5\\s|^recall_1000\\s\""
   ]
  },
  {
   "cell_type": "code",
   "execution_count": null,
   "metadata": {
    "collapsed": true
   },
   "outputs": [],
   "source": []
  },
  {
   "cell_type": "markdown",
   "metadata": {},
   "source": [
    "### Dirichlet Prior"
   ]
  },
  {
   "cell_type": "code",
   "execution_count": 30,
   "metadata": {
    "collapsed": true
   },
   "outputs": [],
   "source": [
    "def dirichlet_prior(int_document_id, query_term_id, document_term_freq, mu=500):\n",
    "    \"\"\"\n",
    "    Scoring function for a document and a query term\n",
    "    \n",
    "    :param int_document_id: the document id\n",
    "    :param query_token_id: the query term id (assuming you have split the query to tokens)\n",
    "    :param document_term_freq: the document term frequency of the query term \n",
    "    \"\"\"\n",
    "    ## Amount of time a term appears in a document  \n",
    "    df = document_term_freq\n",
    "    \n",
    "    ## tf, idf\n",
    "    tf = np.log(1 + (document_term_freq))\n",
    "    \n",
    "    ##p_w_C = P_mle_col[query_term_id])\n",
    "    ## document length : document_lengths[int_document_id]\n",
    "    \n",
    "    return np.logaddexp( (np.log(document_term_frequency)) ,\n",
    "                        (np.log(mu) + P_mle_col_log[query_term_id]) ) - np.log( document_lengths[int_document_id] + mu )\n",
    "\n",
    "#     return np.log(tf+mu*P_mle_col[query_term_id])-np.log(document_lengths[int_document_id]+mu)\n"
   ]
  },
  {
   "cell_type": "code",
   "execution_count": 31,
   "metadata": {},
   "outputs": [
    {
     "name": "stdout",
     "output_type": "stream",
     "text": [
      "elapsed time: 0.0003993511199951172\n"
     ]
    }
   ],
   "source": [
    "#final run\n",
    "start_time = time.time()\n",
    "test_dict = run_retrieval('retrievals/dirichlet_prior',dirichlet_prior, mu=1000)\n",
    "print ('elapsed time:',time.time()-start_time)"
   ]
  },
  {
   "cell_type": "code",
   "execution_count": 32,
   "metadata": {},
   "outputs": [
    {
     "name": "stdout",
     "output_type": "stream",
     "text": [
      "P_5                   \tall\t0.0017\r\n",
      "recall_1000           \tall\t0.0433\r\n",
      "ndcg_cut_10           \tall\t0.0031\r\n",
      "map_cut_1000          \tall\t0.0055\r\n"
     ]
    }
   ],
   "source": [
    "!trec_eval -m all_trec ./ap_88_89/qrel_test retrievals/dirichlet_prior_mu\\=700.run | grep -E \"^ndcg_cut_10\\s|^map_cut_1000\\s|^P_5\\s|^recall_1000\\s\"\n"
   ]
  },
  {
   "cell_type": "code",
   "execution_count": 33,
   "metadata": {},
   "outputs": [
    {
     "name": "stdout",
     "output_type": "stream",
     "text": [
      "P_5                   \tall\t0.0467\r\n",
      "recall_1000           \tall\t0.1365\r\n",
      "ndcg_cut_10           \tall\t0.0519\r\n",
      "map_cut_1000          \tall\t0.0462\r\n"
     ]
    }
   ],
   "source": [
    "!trec_eval -m all_trec ./ap_88_89/qrel_validation retrievals/dirichlet_prior.run | grep -E \"^ndcg_cut_10\\s|^map_cut_1000\\s|^P_5\\s|^recall_1000\\s\"\n"
   ]
  },
  {
   "cell_type": "markdown",
   "metadata": {},
   "source": [
    "### Absolute discounting"
   ]
  },
  {
   "cell_type": "code",
   "execution_count": null,
   "metadata": {
    "collapsed": true
   },
   "outputs": [],
   "source": []
  },
  {
   "cell_type": "code",
   "execution_count": 34,
   "metadata": {
    "collapsed": true
   },
   "outputs": [],
   "source": [
    "def absolute_discounting(int_document_id, query_term_id, document_term_freq, delta=0.1):\n",
    "    \"\"\"\n",
    "    Scoring function for a document and a query term\n",
    "    \n",
    "    :param int_document_id: the document id\n",
    "    :param query_token_id: the query term id (assuming you have split the query to tokens)\n",
    "    :param document_term_freq: the document term frequency of the query term \n",
    "    \"\"\"\n",
    "    ## Amount of time a term appears in a document  \n",
    "#     df = document_term_freq\n",
    "     \n",
    "    \n",
    "#     ## tf, idf\n",
    "#     tf = np.log(1 + (df/document_lengths[int_document_id]))\n",
    "    \n",
    "#     ## p_w_C = P_mle_col[query_term_id])\n",
    "#     ## document length : document_lengths[int_document_id]\n",
    "#     ## document length u: collection_frequencies[query_term_id]\n",
    "    \n",
    "#     doc_length = document_lengths[int_document_id]\n",
    "    return np.logaddexp(np.log( max( document_term_frequency - delta ,0 ) ) - np.log( document_lengths[int_document_id] ) ,\n",
    "                              np.log(delta * unique_terms_per_document[int_doc_id] ) + P_mle_col_log[query_term_id] - np.log( document_lengths[int_document_id] ) )\n",
    "#     return np.log((np.max(tf-delta,1e-15)/doc_length)+\n",
    "#             ((delta*collection_frequencies[query_term_id]*P_mle_col[query_term_id])/doc_length))\n"
   ]
  },
  {
   "cell_type": "code",
   "execution_count": 35,
   "metadata": {},
   "outputs": [
    {
     "name": "stdout",
     "output_type": "stream",
     "text": [
      "elapsed time: 0.0006096363067626953\n"
     ]
    }
   ],
   "source": [
    "#final run\n",
    "start_time = time.time()\n",
    "test_dict = run_retrieval('retrievals/absolute_disc_0.5',absolute_discounting, delta=0.5)\n",
    "print ('elapsed time:',time.time()-start_time)"
   ]
  },
  {
   "cell_type": "code",
   "execution_count": 36,
   "metadata": {},
   "outputs": [
    {
     "name": "stdout",
     "output_type": "stream",
     "text": [
      "P_5                   \tall\t0.0467\r\n",
      "recall_1000           \tall\t0.1352\r\n",
      "ndcg_cut_10           \tall\t0.0519\r\n",
      "map_cut_1000          \tall\t0.0456\r\n"
     ]
    }
   ],
   "source": [
    "!trec_eval -m all_trec ./ap_88_89/qrel_validation retrievals/absolute_disc_0.5.run | grep -E \"^ndcg_cut_10\\s|^map_cut_1000\\s|^P_5\\s|^recall_1000\\s\""
   ]
  },
  {
   "cell_type": "code",
   "execution_count": 37,
   "metadata": {},
   "outputs": [
    {
     "name": "stdout",
     "output_type": "stream",
     "text": [
      "P_5                   \tall\t0.0017\r\n",
      "recall_1000           \tall\t0.0478\r\n",
      "ndcg_cut_10           \tall\t0.0036\r\n",
      "map_cut_1000          \tall\t0.0059\r\n"
     ]
    }
   ],
   "source": [
    "!trec_eval -m all_trec ./ap_88_89/qrel_test retrievals/absolute_disc_0.5.run | grep -E \"^ndcg_cut_10\\s|^map_cut_1000\\s|^P_5\\s|^recall_1000\\s\""
   ]
  },
  {
   "cell_type": "code",
   "execution_count": null,
   "metadata": {
    "collapsed": true
   },
   "outputs": [],
   "source": []
  },
  {
   "cell_type": "markdown",
   "metadata": {},
   "source": [
    "### Hyper-parameter testing"
   ]
  },
  {
   "cell_type": "code",
   "execution_count": 38,
   "metadata": {
    "collapsed": true
   },
   "outputs": [],
   "source": [
    "def get_scores(filenames, validation=False):\n",
    "    \"\"\"\n",
    "    Function to get scores from trec_eval using a \n",
    "    :param filenames: a list of *.run files (retrieval scores for queries)\n",
    "    :param validation: boolean. Perform evaluation on validation or test set (queries)\n",
    "    \"\"\"\n",
    "    scores = {}\n",
    "    for filename in filenames:\n",
    "        param_value = float(filename.split(\"=\")[-1].split('.run')[0])\n",
    "        if validation:\n",
    "            result = !trec_eval -m all_trec ./ap_88_89/qrel_validation {filename} | grep -E \"^ndcg_cut_10\\s|^map_cut_1000\\s|^P_5\\s|^recall_1000\\s\"\n",
    "        else:\n",
    "            result = !trec_eval -m all_trec ./ap_88_89/qrel_test {filename} | grep -E \"^ndcg_cut_10\\s|^map_cut_1000\\s|^P_5\\s|^recall_1000\\s\"\n",
    "\n",
    "        for row in result:\n",
    "            metric = row.split(' ')[0]\n",
    "            score = float(row.split('\\t')[-1])\n",
    "            if metric not in scores.keys():\n",
    "                scores[metric] = {}\n",
    "            scores[metric][param_value] = score\n",
    "    return scores"
   ]
  },
  {
   "cell_type": "code",
   "execution_count": 39,
   "metadata": {
    "collapsed": true
   },
   "outputs": [],
   "source": [
    "def test_hyperparameters(hyperparameters,funct_name,score_function):\n",
    "    \n",
    "    for param_value in hyperparameters:\n",
    "        \n",
    "        start_time = time.time()\n",
    "        \n",
    "        filename = 'retrievals/'+funct_name+'='+str(param_value)\n",
    "        \n",
    "        if funct_name== 'jelinek_mercer_lambda':\n",
    "            run_retrieval(filename,score_function, lambd = param_value)\n",
    "        elif funct_name=='dirichlet_prior_mu':\n",
    "            run_retrieval(filename,dirichlet_prior, mu = param_value)\n",
    "        \n",
    "        elif funct_name=='absolute_discounting_delta':\n",
    "            run_retrieval(filename,absolute_discounting, delta = param_value)\n",
    "            \n",
    "        else:\n",
    "            print (\"Wrong method name\")\n",
    "            return\n",
    "            \n",
    "\n",
    "        print ('finished {} in {} sec'.format(filename,(time.time()-start_time)))\n",
    "    \n",
    "    filenames = glob.glob('./retrievals/'+funct_name+'=*')\n",
    "    scores = get_scores(filenames,validation=False)\n",
    "    scores = pd.DataFrame.from_dict(scores,dtype=float)\n",
    "    scores.index.name = 'delta'\n",
    "    \n",
    "    return scores"
   ]
  },
  {
   "cell_type": "code",
   "execution_count": 40,
   "metadata": {},
   "outputs": [
    {
     "name": "stdout",
     "output_type": "stream",
     "text": [
      "finished retrievals/jelinek_mercer_lambda=0.1 in 0.00023698806762695312 sec\n",
      "finished retrievals/jelinek_mercer_lambda=0.2 in 3.981590270996094e-05 sec\n",
      "finished retrievals/jelinek_mercer_lambda=0.3 in 9.059906005859375e-06 sec\n",
      "finished retrievals/jelinek_mercer_lambda=0.4 in 8.58306884765625e-06 sec\n",
      "finished retrievals/jelinek_mercer_lambda=0.5 in 9.5367431640625e-06 sec\n",
      "finished retrievals/jelinek_mercer_lambda=0.6 in 2.6941299438476562e-05 sec\n",
      "finished retrievals/jelinek_mercer_lambda=0.7 in 4.982948303222656e-05 sec\n",
      "finished retrievals/jelinek_mercer_lambda=0.8 in 0.00013971328735351562 sec\n",
      "finished retrievals/jelinek_mercer_lambda=0.9 in 0.00016427040100097656 sec\n"
     ]
    },
    {
     "data": {
      "text/plain": [
       "<matplotlib.axes._subplots.AxesSubplot at 0x7fc43806b438>"
      ]
     },
     "execution_count": 40,
     "metadata": {},
     "output_type": "execute_result"
    },
    {
     "data": {
      "image/png": "[encoded data removed]",
      "text/plain": [
       "<matplotlib.figure.Figure at 0x7fc472076a58>"
      ]
     },
     "metadata": {},
     "output_type": "display_data"
    }
   ],
   "source": [
    "scores_jm = test_hyperparameters(np.arange(0.1,0.91,0.1),'jelinek_mercer_lambda',jelinek_mercer)\n",
    "scores_jm.drop('recall_1000',axis=1).plot()"
   ]
  },
  {
   "cell_type": "code",
   "execution_count": 41,
   "metadata": {},
   "outputs": [
    {
     "name": "stdout",
     "output_type": "stream",
     "text": [
      "finished retrievals/dirichlet_prior_mu=500 in 3.600120544433594e-05 sec\n",
      "finished retrievals/dirichlet_prior_mu=600 in 1.52587890625e-05 sec\n",
      "finished retrievals/dirichlet_prior_mu=700 in 1.0251998901367188e-05 sec\n",
      "finished retrievals/dirichlet_prior_mu=800 in 9.059906005859375e-06 sec\n",
      "finished retrievals/dirichlet_prior_mu=900 in 8.821487426757812e-06 sec\n",
      "finished retrievals/dirichlet_prior_mu=1000 in 8.821487426757812e-06 sec\n",
      "finished retrievals/dirichlet_prior_mu=1100 in 8.58306884765625e-06 sec\n",
      "finished retrievals/dirichlet_prior_mu=1200 in 8.344650268554688e-06 sec\n",
      "finished retrievals/dirichlet_prior_mu=1300 in 8.344650268554688e-06 sec\n",
      "finished retrievals/dirichlet_prior_mu=1400 in 8.344650268554688e-06 sec\n",
      "finished retrievals/dirichlet_prior_mu=1500 in 8.821487426757812e-06 sec\n"
     ]
    },
    {
     "data": {
      "text/plain": [
       "<matplotlib.axes._subplots.AxesSubplot at 0x7fc434437a20>"
      ]
     },
     "execution_count": 41,
     "metadata": {},
     "output_type": "execute_result"
    },
    {
     "data": {
      "image/png": "[encoded data removed]",
      "text/plain": [
       "<matplotlib.figure.Figure at 0x7fc434498748>"
      ]
     },
     "metadata": {},
     "output_type": "display_data"
    }
   ],
   "source": [
    "scores_dirich = test_hyperparameters(np.arange(500,1501, 100),'dirichlet_prior_mu',dirichlet_prior)\n",
    "scores_dirich.drop('recall_1000',axis=1).plot()"
   ]
  },
  {
   "cell_type": "code",
   "execution_count": 42,
   "metadata": {},
   "outputs": [
    {
     "name": "stdout",
     "output_type": "stream",
     "text": [
      "finished retrievals/absolute_discounting_delta=0.1 in 5.269050598144531e-05 sec\n",
      "finished retrievals/absolute_discounting_delta=0.2 in 2.1457672119140625e-05 sec\n",
      "finished retrievals/absolute_discounting_delta=0.3 in 5.078315734863281e-05 sec\n",
      "finished retrievals/absolute_discounting_delta=0.4 in 7.3909759521484375e-06 sec\n",
      "finished retrievals/absolute_discounting_delta=0.5 in 6.4373016357421875e-06 sec\n",
      "finished retrievals/absolute_discounting_delta=0.6 in 3.933906555175781e-05 sec\n",
      "finished retrievals/absolute_discounting_delta=0.7 in 9.775161743164062e-06 sec\n",
      "finished retrievals/absolute_discounting_delta=0.8 in 8.344650268554688e-06 sec\n",
      "finished retrievals/absolute_discounting_delta=0.9 in 2.765655517578125e-05 sec\n"
     ]
    },
    {
     "data": {
      "text/plain": [
       "<matplotlib.axes._subplots.AxesSubplot at 0x7fc4343ee668>"
      ]
     },
     "execution_count": 42,
     "metadata": {},
     "output_type": "execute_result"
    },
    {
     "data": {
      "image/png": "[encoded data removed]",
      "text/plain": [
       "<matplotlib.figure.Figure at 0x7fc43445b208>"
      ]
     },
     "metadata": {},
     "output_type": "display_data"
    }
   ],
   "source": [
    "scores_abs_disc = test_hyperparameters(np.arange(0.1,0.91, 0.1),'absolute_discounting_delta',absolute_discounting)\n",
    "scores_abs_disc.drop('recall_1000',axis=1).plot()"
   ]
  },
  {
   "cell_type": "markdown",
   "metadata": {},
   "source": [
    "## Significance testing (on test set)"
   ]
  },
  {
   "cell_type": "code",
   "execution_count": 43,
   "metadata": {
    "collapsed": true
   },
   "outputs": [],
   "source": [
    "import re"
   ]
  },
  {
   "cell_type": "code",
   "execution_count": 44,
   "metadata": {
    "collapsed": true
   },
   "outputs": [],
   "source": [
    "ndcg_all={}"
   ]
  },
  {
   "cell_type": "code",
   "execution_count": 45,
   "metadata": {},
   "outputs": [
    {
     "name": "stdout",
     "output_type": "stream",
     "text": [
      "finished retrievals/jelinek_mercer_lambda=0.1 in 7.176399230957031e-05 sec\n",
      "finished retrievals/jelinek_mercer_lambda=0.2 in 2.2649765014648438e-05 sec\n"
     ]
    },
    {
     "name": "stderr",
     "output_type": "stream",
     "text": [
      "/home/antonis/anaconda2/envs/ir/lib/python3.5/site-packages/ipykernel/__main__.py:23: FutureWarning: set_value is deprecated and will be removed in a future release. Please use .at[] or .iat[] accessors instead\n"
     ]
    },
    {
     "name": "stdout",
     "output_type": "stream",
     "text": [
      "finished retrievals/jelinek_mercer_lambda=0.3 in 2.9802322387695312e-05 sec\n",
      "finished retrievals/jelinek_mercer_lambda=0.4 in 4.38690185546875e-05 sec\n",
      "finished retrievals/jelinek_mercer_lambda=0.5 in 2.9087066650390625e-05 sec\n",
      "finished retrievals/jelinek_mercer_lambda=0.6 in 2.8133392333984375e-05 sec\n",
      "finished retrievals/jelinek_mercer_lambda=0.7 in 2.9087066650390625e-05 sec\n",
      "finished retrievals/jelinek_mercer_lambda=0.8 in 2.7894973754882812e-05 sec\n",
      "finished retrievals/jelinek_mercer_lambda=0.9 in 2.7894973754882812e-05 sec\n"
     ]
    }
   ],
   "source": [
    "columns = [0.1, 0.2, 0.3, 0.4, 0.5, 0.6, 0.7, 0.8, 0.9]\n",
    "\n",
    "ndcg = pd.DataFrame(columns=columns)\n",
    "\n",
    "for param_value in columns:\n",
    "    start_time = time.time()\n",
    "\n",
    "    filename = 'retrievals/jelinek_mercer_lambda='+str(param_value)\n",
    "\n",
    "    run_retrieval(filename,jelinek_mercer, lambd = param_value)\n",
    "\n",
    "    print ('finished {} in {} sec'.format(filename,(time.time()-start_time)))\n",
    "\n",
    "    results = !trec_eval -m all_trec -q ./ap_88_89/qrel_test { filename }.run | grep -E \"^ndcg_cut_10\\s\"\n",
    "\n",
    "    for result in results:\n",
    "        result = re.sub( '\\s+', ' ', result ).strip().split()\n",
    "\n",
    "        idx = result[1]\n",
    "        value = result[2]\n",
    "        param_value = round(param_value,1)\n",
    "\n",
    "        ndcg.set_value(idx, param_value, value)\n",
    "        \n",
    "ndcg_all['jelinek_mercer'] = ndcg"
   ]
  },
  {
   "cell_type": "code",
   "execution_count": 46,
   "metadata": {
    "scrolled": true
   },
   "outputs": [
    {
     "name": "stdout",
     "output_type": "stream",
     "text": [
      "finished retrievals/absolute_discounting_delta=0.1 in 2.4557113647460938e-05 sec\n",
      "finished retrievals/absolute_discounting_delta=0.2 in 3.2901763916015625e-05 sec\n"
     ]
    },
    {
     "name": "stderr",
     "output_type": "stream",
     "text": [
      "/home/antonis/anaconda2/envs/ir/lib/python3.5/site-packages/ipykernel/__main__.py:23: FutureWarning: set_value is deprecated and will be removed in a future release. Please use .at[] or .iat[] accessors instead\n"
     ]
    },
    {
     "name": "stdout",
     "output_type": "stream",
     "text": [
      "finished retrievals/absolute_discounting_delta=0.3 in 2.8371810913085938e-05 sec\n",
      "finished retrievals/absolute_discounting_delta=0.4 in 2.7894973754882812e-05 sec\n",
      "finished retrievals/absolute_discounting_delta=0.5 in 2.7894973754882812e-05 sec\n",
      "finished retrievals/absolute_discounting_delta=0.6 in 3.0279159545898438e-05 sec\n",
      "finished retrievals/absolute_discounting_delta=0.7 in 2.9802322387695312e-05 sec\n",
      "finished retrievals/absolute_discounting_delta=0.8 in 2.7418136596679688e-05 sec\n",
      "finished retrievals/absolute_discounting_delta=0.9 in 2.765655517578125e-05 sec\n"
     ]
    }
   ],
   "source": [
    "columns = [0.1, 0.2, 0.3, 0.4, 0.5, 0.6, 0.7, 0.8, 0.9]\n",
    "\n",
    "ndcg = pd.DataFrame(columns=columns)\n",
    "\n",
    "for param_value in columns:\n",
    "    start_time = time.time()\n",
    "\n",
    "    filename = 'retrievals/absolute_discounting_delta='+str(param_value)\n",
    "\n",
    "    run_retrieval(filename,jelinek_mercer, lambd = param_value)\n",
    "\n",
    "    print ('finished {} in {} sec'.format(filename,(time.time()-start_time)))\n",
    "\n",
    "    results = !trec_eval -m all_trec -q ./ap_88_89/qrel_test { filename }.run | grep -E \"^ndcg_cut_10\\s\"\n",
    "\n",
    "    for result in results:\n",
    "        result = re.sub( '\\s+', ' ', result ).strip().split()\n",
    "\n",
    "        idx = result[1]\n",
    "        value = result[2]\n",
    "        param_value = round(param_value,1)\n",
    "\n",
    "        ndcg.set_value(idx, param_value, value)\n",
    "\n",
    "ndcg_all['absolute_discounting'] = ndcg"
   ]
  },
  {
   "cell_type": "code",
   "execution_count": null,
   "metadata": {
    "collapsed": true
   },
   "outputs": [],
   "source": []
  },
  {
   "cell_type": "code",
   "execution_count": 47,
   "metadata": {},
   "outputs": [
    {
     "name": "stdout",
     "output_type": "stream",
     "text": [
      "finished retrievals/dirichlet_prior_mu=500 in 9.107589721679688e-05 sec\n",
      "finished retrievals/dirichlet_prior_mu=600 in 3.838539123535156e-05 sec\n"
     ]
    },
    {
     "name": "stderr",
     "output_type": "stream",
     "text": [
      "/home/antonis/anaconda2/envs/ir/lib/python3.5/site-packages/ipykernel/__main__.py:23: FutureWarning: set_value is deprecated and will be removed in a future release. Please use .at[] or .iat[] accessors instead\n"
     ]
    },
    {
     "name": "stdout",
     "output_type": "stream",
     "text": [
      "finished retrievals/dirichlet_prior_mu=700 in 4.267692565917969e-05 sec\n",
      "finished retrievals/dirichlet_prior_mu=800 in 4.2438507080078125e-05 sec\n",
      "finished retrievals/dirichlet_prior_mu=900 in 4.38690185546875e-05 sec\n",
      "finished retrievals/dirichlet_prior_mu=1000 in 4.2438507080078125e-05 sec\n",
      "finished retrievals/dirichlet_prior_mu=1100 in 4.3392181396484375e-05 sec\n",
      "finished retrievals/dirichlet_prior_mu=1200 in 4.0531158447265625e-05 sec\n",
      "finished retrievals/dirichlet_prior_mu=1300 in 4.2438507080078125e-05 sec\n",
      "finished retrievals/dirichlet_prior_mu=1400 in 4.029273986816406e-05 sec\n",
      "finished retrievals/dirichlet_prior_mu=1500 in 4.172325134277344e-05 sec\n"
     ]
    }
   ],
   "source": [
    "columns = np.arange(500,1501,100)\n",
    "\n",
    "ndcg = pd.DataFrame(columns=columns)\n",
    "\n",
    "for param_value in columns:\n",
    "    start_time = time.time()\n",
    "\n",
    "    filename = 'retrievals/dirichlet_prior_mu='+str(param_value)\n",
    "\n",
    "    run_retrieval(filename,jelinek_mercer, lambd = param_value)\n",
    "\n",
    "    print ('finished {} in {} sec'.format(filename,(time.time()-start_time)))\n",
    "\n",
    "    results = !trec_eval -m all_trec -q ./ap_88_89/qrel_test { filename }.run | grep -E \"^ndcg_cut_10\\s\"\n",
    "\n",
    "    for result in results:\n",
    "        result = re.sub( '\\s+', ' ', result ).strip().split()\n",
    "\n",
    "        idx = result[1]\n",
    "        value = result[2]\n",
    "        param_value = round(param_value,1)\n",
    "\n",
    "        ndcg.set_value(idx, param_value, value)\n",
    "\n",
    "ndcg_all['dirichlet_prior'] = ndcg"
   ]
  },
  {
   "cell_type": "code",
   "execution_count": null,
   "metadata": {
    "collapsed": true
   },
   "outputs": [],
   "source": []
  },
  {
   "cell_type": "code",
   "execution_count": 48,
   "metadata": {},
   "outputs": [
    {
     "name": "stdout",
     "output_type": "stream",
     "text": [
      "P_5                   \tall\t0.3200\r\n",
      "recall_1000           \tall\t0.5766\r\n",
      "ndcg_cut_10           \tall\t0.3409\r\n",
      "map_cut_1000          \tall\t0.2049\r\n"
     ]
    },
    {
     "name": "stderr",
     "output_type": "stream",
     "text": [
      "/home/antonis/anaconda2/envs/ir/lib/python3.5/site-packages/ipykernel/__main__.py:15: FutureWarning: set_value is deprecated and will be removed in a future release. Please use .at[] or .iat[] accessors instead\n"
     ]
    }
   ],
   "source": [
    "# trec_eval command for evalutaion of tf-idf \n",
    "\n",
    "!trec_eval -m all_trec ./ap_88_89/qrel_validation retrievals/tf-idf.run | grep -E \"^ndcg_cut_10\\s|^map_cut_1000\\s|^P_5\\s|^recall_1000\\s\"\n",
    "\n",
    "ifidfdf = pd.DataFrame()\n",
    "\n",
    "results = !trec_eval -m all_trec -q ./ap_88_89/qrel_test retrievals/tf-idf.run | grep -E \"^ndcg_cut_10\\s\"\n",
    "\n",
    "for result in results:\n",
    "    result = re.sub( '\\s+', ' ', result ).strip().split()\n",
    "\n",
    "    idx = result[1]\n",
    "    value = float(result[2])\n",
    "\n",
    "    ifidfdf.set_value(idx, 1, value)\n",
    "    \n"
   ]
  },
  {
   "cell_type": "code",
   "execution_count": 49,
   "metadata": {},
   "outputs": [
    {
     "name": "stdout",
     "output_type": "stream",
     "text": [
      "ndcg_cut_10           \tall\t0.0323\r\n"
     ]
    }
   ],
   "source": [
    "!trec_eval -m all_trec ./ap_88_89/qrel_test retrievals/jelinek_mercer_lambda\\=0.9.run | grep -E \"^ndcg_cut_10\\s\""
   ]
  },
  {
   "cell_type": "code",
   "execution_count": null,
   "metadata": {
    "collapsed": true
   },
   "outputs": [],
   "source": []
  },
  {
   "cell_type": "code",
   "execution_count": 50,
   "metadata": {},
   "outputs": [
    {
     "name": "stdout",
     "output_type": "stream",
     "text": [
      "P_5                   \tall\t0.2333\r\n",
      "recall_1000           \tall\t0.5080\r\n",
      "ndcg_cut_10           \tall\t0.2360\r\n",
      "map_cut_1000          \tall\t0.1397\r\n"
     ]
    },
    {
     "name": "stderr",
     "output_type": "stream",
     "text": [
      "/home/antonis/anaconda2/envs/ir/lib/python3.5/site-packages/ipykernel/__main__.py:15: FutureWarning: set_value is deprecated and will be removed in a future release. Please use .at[] or .iat[] accessors instead\n"
     ]
    }
   ],
   "source": [
    "# trec_eval command for evalutaion of bm25\n",
    "\n",
    "!trec_eval -m all_trec ./ap_88_89/qrel_validation retrievals/bm25.run | grep -E \"^ndcg_cut_10\\s|^map_cut_1000\\s|^P_5\\s|^recall_1000\\s\"\n",
    "\n",
    "bm25df = pd.DataFrame()\n",
    "\n",
    "results = !trec_eval -m all_trec -q ./ap_88_89/qrel_test retrievals/bm25.run | grep -E \"^ndcg_cut_10\\s\"\n",
    "\n",
    "for result in results:\n",
    "    result = re.sub( '\\s+', ' ', result ).strip().split()\n",
    "\n",
    "    idx = result[1]\n",
    "    value = float(result[2])\n",
    "\n",
    "    bm25df.set_value(idx, 1, value)\n"
   ]
  },
  {
   "cell_type": "code",
   "execution_count": 51,
   "metadata": {
    "collapsed": true
   },
   "outputs": [],
   "source": [
    "best_scores = pd.DataFrame()\n",
    "best_scores['absolute_discounting'] = ndcg_all['absolute_discounting'][0.1]\n",
    "best_scores['jelinek_mercer'] = ndcg_all['jelinek_mercer'][0.1]\n",
    "best_scores['dirichlet_prior'] = ndcg_all['dirichlet_prior'][1500]\n",
    "\n",
    "best_scores['tf-idf'] = ifidfdf\n",
    "best_scores['BM25'] = bm25df\n",
    "\n",
    "\n",
    "best_scores = best_scores.applymap(lambda x: float(x))\n"
   ]
  },
  {
   "cell_type": "code",
   "execution_count": 52,
   "metadata": {},
   "outputs": [
    {
     "name": "stdout",
     "output_type": "stream",
     "text": [
      "number of queries scoring 0 in all metrics: 23\n"
     ]
    }
   ],
   "source": [
    "\n",
    "print(\"number of queries scoring 0 in all metrics:\",len(best_scores[best_scores.sum(axis=1)==0]))"
   ]
  },
  {
   "cell_type": "code",
   "execution_count": 53,
   "metadata": {},
   "outputs": [
    {
     "data": {
      "text/plain": [
       "<matplotlib.axes._subplots.AxesSubplot at 0x7fc434350e80>"
      ]
     },
     "execution_count": 53,
     "metadata": {},
     "output_type": "execute_result"
    },
    {
     "data": {
      "image/png": "[encoded data removed]",
      "text/plain": [
       "<matplotlib.figure.Figure at 0x7fc4343d6e48>"
      ]
     },
     "metadata": {},
     "output_type": "display_data"
    }
   ],
   "source": [
    "#plot non-zero queries only\n",
    "best_scores[best_scores.sum(axis=1)>0].plot(kind='bar',figsize=(18,8))"
   ]
  },
  {
   "cell_type": "code",
   "execution_count": 54,
   "metadata": {
    "collapsed": true
   },
   "outputs": [],
   "source": [
    "from scipy.stats import ttest_rel"
   ]
  },
  {
   "cell_type": "code",
   "execution_count": 55,
   "metadata": {
    "collapsed": true
   },
   "outputs": [],
   "source": [
    "def t_test(method1,method2,a=0.05):\n",
    "    \n",
    "    p_value = ttest_rel(method1, method2)[1]\n",
    "    \n",
    "    if p_value>a:\n",
    "        return (p_value, 'not-rejected')\n",
    "    else:\n",
    "        return (p_value, 'rejected')\n",
    "    \n",
    "    \n",
    "# t_test('jelinek_mercer','dirichlet_prior')    "
   ]
  },
  {
   "cell_type": "code",
   "execution_count": 56,
   "metadata": {
    "collapsed": true
   },
   "outputs": [],
   "source": [
    "from itertools import combinations"
   ]
  },
  {
   "cell_type": "code",
   "execution_count": 57,
   "metadata": {
    "collapsed": true
   },
   "outputs": [],
   "source": [
    "combs = list(combinations(best_scores.columns,2))"
   ]
  },
  {
   "cell_type": "code",
   "execution_count": 58,
   "metadata": {},
   "outputs": [
    {
     "name": "stdout",
     "output_type": "stream",
     "text": [
      "absolute_discounting jelinek_mercer\n",
      "(0.00066354917571097814, 'rejected')\n",
      "\n",
      "\n",
      "absolute_discounting dirichlet_prior\n",
      "(0.31584667183399162, 'not-rejected')\n",
      "\n",
      "\n",
      "absolute_discounting tf-idf\n",
      "(1.7187305535185832e-21, 'rejected')\n",
      "\n",
      "\n",
      "absolute_discounting BM25\n",
      "(7.1628148210672568e-17, 'rejected')\n",
      "\n",
      "\n",
      "jelinek_mercer dirichlet_prior\n",
      "(0.00048951504347652993, 'rejected')\n",
      "\n",
      "\n",
      "jelinek_mercer tf-idf\n",
      "(1.2245460323695008e-19, 'rejected')\n",
      "\n",
      "\n",
      "jelinek_mercer BM25\n",
      "(2.8522037697995937e-14, 'rejected')\n",
      "\n",
      "\n",
      "dirichlet_prior tf-idf\n",
      "(1.516036905229317e-21, 'rejected')\n",
      "\n",
      "\n",
      "dirichlet_prior BM25\n",
      "(5.7320484224106673e-17, 'rejected')\n",
      "\n",
      "\n",
      "tf-idf BM25\n",
      "(2.669411054179365e-07, 'rejected')\n",
      "\n",
      "\n"
     ]
    }
   ],
   "source": [
    "for pair in combs:\n",
    "    print(pair[0],pair[1])\n",
    "    print(t_test(best_scores[pair[0]],best_scores[pair[1]],a=0.05/len(combs)))\n",
    "    print('\\n')"
   ]
  },
  {
   "cell_type": "markdown",
   "metadata": {},
   "source": [
    "### Task 2: Latent Semantic Models (LSMs) [20 points] ###\n",
    "\n",
    "In this task you will experiment with applying distributional semantics methods ([LSI](http://lsa3.colorado.edu/papers/JASIS.lsi.90.pdf) **[5 points]** and [LDA](https://www.cs.princeton.edu/~blei/papers/BleiNgJordan2003.pdf) **[5 points]**) for retrieval.\n",
    "\n",
    "You do not need to implement LSI or LDA on your own. Instead, you can use [gensim](http://radimrehurek.com/gensim/index.html). An example on how to integrate Pyndri with Gensim for word2vec can be found [here](https://github.com/cvangysel/pyndri/blob/master/examples/word2vec.py). For the remaining latent vector space models, you will need to implement connector classes (such as `IndriSentences`) by yourself.\n",
    "\n",
    "In order to use a latent semantic model for retrieval, you need to:\n",
    "   * build a representation of the query **q**,\n",
    "   * build a representation of the document **d**,\n",
    "   * calculate the similarity between **q** and **d** (e.g., cosine similarity, KL-divergence).\n",
    "     \n",
    "The exact implementation here depends on the latent semantic model you are using. \n",
    "   \n",
    "Each of these LSMs come with various hyperparameters to tune. Make a choice on the parameters, and explicitly mention the reasons that led you to these decisions. You can use the validation set to optimize hyper parameters you see fit; motivate your decisions. In addition, mention clearly how the query/document representations were constructed for each LSM and explain your choices.\n",
    "\n",
    "In this experiment, you will first obtain an initial top-1000 ranking for each query using TF-IDF in **Task 1**, and then re-rank the documents using the LSMs. Use TREC Eval to obtain the results and report on `NDCG@10`, Mean Average Precision (`MAP@1000`), `Precision@5` and `Recall@1000`.\n",
    "\n",
    "Perform significance testing **[5 points]** (similar as in Task 1) in the class of semantic matching methods.\n",
    "\n",
    "Perform analysis **[5 points]**"
   ]
  },
  {
   "cell_type": "code",
   "execution_count": 59,
   "metadata": {
    "collapsed": true
   },
   "outputs": [],
   "source": [
    "import gensim"
   ]
  },
  {
   "cell_type": "code",
   "execution_count": 60,
   "metadata": {
    "collapsed": true,
    "scrolled": false
   },
   "outputs": [],
   "source": [
    "# # csr_matrix implementation\n",
    "\n",
    "# indptr = [0]\n",
    "# indices = []\n",
    "# data = []\n",
    "\n",
    "# for int_doc_id in range(index.document_base(), #TODO put self.index (and down)\n",
    "#                          1000):\n",
    "# #                        index.maximum_document()):\n",
    "#     for token in index.document(int_doc_id)[1]:\n",
    "# #         print(token)\n",
    "#         if token>0:\n",
    "#             indices.append(token)\n",
    "#             data.append(1)\n",
    "\n",
    "#     indptr.append(len(indices))\n",
    "    \n",
    "# sp_mat = csr_matrix((data, indices, indptr), dtype=int)"
   ]
  },
  {
   "cell_type": "code",
   "execution_count": 61,
   "metadata": {
    "collapsed": true
   },
   "outputs": [],
   "source": [
    "from itertools import groupby"
   ]
  },
  {
   "cell_type": "code",
   "execution_count": 62,
   "metadata": {
    "collapsed": true
   },
   "outputs": [],
   "source": [
    "class IndriTermDocFreq(gensim.interfaces.CorpusABC):\n",
    "    \"\"\"Integrates an Index with Gensim's word2vec implementation.\"\"\"\n",
    "\n",
    "    def __init__(self, index, dictionary, max_documents=None):\n",
    "        assert isinstance(index, pyndri.Index)\n",
    "\n",
    "        self.index = index\n",
    "        self.dictionary = dictionary\n",
    "\n",
    "        self.max_documents = max_documents\n",
    "\n",
    "    def _maximum_document(self):\n",
    "        if self.max_documents is None:\n",
    "            return self.index.maximum_document()\n",
    "        else:\n",
    "            return min(\n",
    "                self.max_documents + self.index.document_base(),\n",
    "                self.index.maximum_document())\n",
    "\n",
    "    def __iter__(self):\n",
    "        for int_doc_id in range(self.index.document_base(),\n",
    "                                self._maximum_document()):\n",
    "            \n",
    "            \n",
    "            _, tokens = self.index.document(int_doc_id)\n",
    "            \n",
    "            yield [(key,len(list(group)) ) for  key, group in groupby(sorted(list(tokens))) if key>0]\n",
    "\n",
    "    def __len__(self):\n",
    "        return self._maximum_document() - self.index.document_base()\n",
    "    "
   ]
  },
  {
   "cell_type": "markdown",
   "metadata": {},
   "source": [
    "#### Create tf-idf matrix instead of word count matrix for LSI?\n",
    "To do so, we need the full inverted index (in how many documents does the word appear?)\n",
    "\n",
    "Otherwise, can we use a different formula ( tf;C / |C| ) ???? It's still a metric of \"rareness\" of a term"
   ]
  },
  {
   "cell_type": "code",
   "execution_count": 334,
   "metadata": {
    "collapsed": true
   },
   "outputs": [],
   "source": [
    "# def tfidf2(int_document_id, query_term_id, document_term_freq):\n",
    "#     \"\"\"\n",
    "#     Different tf-idf formula, more computationally efficient, since\n",
    "#     it can be computed without the inverted index\n",
    "#     Scoring function for a document and a query term\n",
    "#     Using Wikipedias tfidf formula: \n",
    "#     tf = log(1+doc_frequency)\n",
    "#     idf = log(total_docs_in_collection) - log(1 + #docs_where_term_appears)\n",
    "    \n",
    "#     :param int_document_id: the document id\n",
    "#     :param query_token_id: the query term id (assuming you have split the query to tokens)\n",
    "#     :param document_term_freq: the document term frequency of the query term \n",
    "#     \"\"\"\n",
    "    \n",
    "#     ## Amount of time a term appears in a document  \n",
    "#     df = document_term_freq\n",
    "#     ## Total terms in a document\n",
    "#     dl = document_lengths[int_document_id]\n",
    "#     ## Amount of documents containing a term\n",
    "#     n = len(inverted_index[query_term_id])\n",
    "    \n",
    "\n",
    "#     tf = np.log2(1 + df)\n",
    "#     idf = np.log2(n)-np.log2(df)\n",
    "    \n",
    "#     score = tf * idf\n",
    "\n",
    "#     return score"
   ]
  },
  {
   "cell_type": "code",
   "execution_count": 65,
   "metadata": {},
   "outputs": [],
   "source": [
    "# index.get_term_frequencies()"
   ]
  },
  {
   "cell_type": "code",
   "execution_count": 66,
   "metadata": {},
   "outputs": [],
   "source": [
    "# [(key,id2token[key],tfidf2(int_doc_id, key, len(list(group)) )) for  key, group in groupby(sorted(list(tokens))) if key>0]"
   ]
  },
  {
   "cell_type": "code",
   "execution_count": null,
   "metadata": {
    "collapsed": true
   },
   "outputs": [],
   "source": []
  },
  {
   "cell_type": "code",
   "execution_count": 67,
   "metadata": {
    "collapsed": true
   },
   "outputs": [],
   "source": [
    "# int_doc_id = 999\n",
    "# _, tokens = index.document(int_doc_id)"
   ]
  },
  {
   "cell_type": "code",
   "execution_count": 69,
   "metadata": {
    "scrolled": true
   },
   "outputs": [],
   "source": [
    "# # returns (token_id, tfidf score) for int_doc_id\n",
    "# # [(key,tfidf(int_doc_id, key, len(list(group)) )) for  key, group in groupby(tokens) if key>0]\n",
    "# [(id2token[key],tfidf(int_doc_id, key, len(list(group)) )) for  key, group in groupby(sorted(list(tokens))) if key>0]"
   ]
  },
  {
   "cell_type": "code",
   "execution_count": 70,
   "metadata": {},
   "outputs": [],
   "source": [
    "# id2token[21]"
   ]
  },
  {
   "cell_type": "code",
   "execution_count": null,
   "metadata": {
    "collapsed": true
   },
   "outputs": [],
   "source": []
  },
  {
   "cell_type": "code",
   "execution_count": 71,
   "metadata": {},
   "outputs": [],
   "source": [
    "# [(key,len(list(group)) ) for  key, group in groupby(tokens) if key>0]"
   ]
  },
  {
   "cell_type": "code",
   "execution_count": 72,
   "metadata": {},
   "outputs": [],
   "source": [
    "# start_time = time.time()\n",
    "# lsi10 = gensim.models.LsiModel(corpus=wordfreq,num_topics=10)\n",
    "# print('time: %s sec'%(time.time()-start_time))"
   ]
  },
  {
   "cell_type": "code",
   "execution_count": 73,
   "metadata": {},
   "outputs": [],
   "source": [
    "# start_time = time.time()\n",
    "# lsi100 = gensim.models.LsiModel(corpus=wordfreq,num_topics=100)\n",
    "# print('time: %s sec'%(time.time()-start_time))"
   ]
  },
  {
   "cell_type": "code",
   "execution_count": 74,
   "metadata": {},
   "outputs": [],
   "source": [
    "# len(lsi100.get_topics()[0])"
   ]
  },
  {
   "cell_type": "code",
   "execution_count": 75,
   "metadata": {},
   "outputs": [],
   "source": [
    "# lsi10.num_terms"
   ]
  },
  {
   "cell_type": "code",
   "execution_count": 105,
   "metadata": {
    "scrolled": true
   },
   "outputs": [],
   "source": [
    "#create LSI for different # dimensions\n",
    "\n",
    "wordfreq = IndriTermDocFreq(index,dictionary)\n",
    "\n",
    "for n_top in [10,50,150,250,500]:\n",
    "    if os.path.exists(fname)==False:\n",
    "        start_time = time.time()\n",
    "        lsi = gensim.models.LsiModel(corpus = wordfreq,\n",
    "                                     id2word=id2token,\n",
    "                                     num_topics=n_top)\n",
    "        print('lsi with %i topics took %s sec'%(n_top,time.time()-start_time))\n",
    "        fname = 'lsi/lsi_counts%i.mod'%n_top\n",
    "        print(fname)\n",
    "        lsi.save(fname)"
   ]
  },
  {
   "cell_type": "code",
   "execution_count": null,
   "metadata": {
    "collapsed": true
   },
   "outputs": [],
   "source": []
  },
  {
   "cell_type": "code",
   "execution_count": 94,
   "metadata": {},
   "outputs": [
    {
     "name": "stdout",
     "output_type": "stream",
     "text": [
      "Lowest eigenvalue for 10: 557.009890\n",
      "Lowest eigenvalue for 50: 353.227078\n",
      "Lowest eigenvalue for 150: 209.234001\n",
      "Lowest eigenvalue for 250: 162.523119\n",
      "Lowest eigenvalue for 500: 123.256746\n"
     ]
    },
    {
     "data": {
      "image/png": "[encoded data removed]",
      "text/plain": [
       "<matplotlib.figure.Figure at 0x7fc4150cbf60>"
      ]
     },
     "metadata": {},
     "output_type": "display_data"
    }
   ],
   "source": [
    "# does not load model\n",
    "#print eigenvalues\n",
    "for n_top in [10,50,150,250,500]:\n",
    "    fname = 'lsi/lsi_counts%i.mod'%n_top\n",
    "#     print(fname)\n",
    "    lsi = lsi.load(fname,mmap='r')\n",
    "    print(\"Lowest eigenvalue for %i: %f\"%(n_top,lsi.projection.s[-1]))\n",
    "    plt.plot(lsi.projection.s,label='%i latent dims'%n_top)\n",
    "plt.xlabel('# latent dimensions')\n",
    "plt.ylabel('Singular values (importance of dimension)')\n",
    "plt.title('Exploring different number of \"topics\" in LSI')\n",
    "plt.show()"
   ]
  },
  {
   "cell_type": "code",
   "execution_count": null,
   "metadata": {
    "collapsed": true
   },
   "outputs": [],
   "source": []
  },
  {
   "cell_type": "code",
   "execution_count": 89,
   "metadata": {
    "collapsed": true
   },
   "outputs": [],
   "source": [
    "#select appropriate lsi file:\n",
    "lsi = lsi.load('lsi/lsi_counts500.mod')"
   ]
  },
  {
   "cell_type": "code",
   "execution_count": null,
   "metadata": {
    "collapsed": true
   },
   "outputs": [],
   "source": [
    "#convert queries and documents to vector space"
   ]
  },
  {
   "cell_type": "code",
   "execution_count": 171,
   "metadata": {},
   "outputs": [
    {
     "data": {
      "text/plain": [
       "267318"
      ]
     },
     "execution_count": 171,
     "metadata": {},
     "output_type": "execute_result"
    }
   ],
   "source": [
    "# index.unique_terms()"
   ]
  },
  {
   "cell_type": "code",
   "execution_count": 96,
   "metadata": {},
   "outputs": [],
   "source": [
    "#projection of documents in r' dim. space\n",
    "V = gensim.matutils.corpus2dense(lsi[wordfreq], len(lsi.projection.s)).T / lsi.projection.s"
   ]
  },
  {
   "cell_type": "code",
   "execution_count": 97,
   "metadata": {},
   "outputs": [
    {
     "data": {
      "text/plain": [
       "(164597, 500)"
      ]
     },
     "execution_count": 97,
     "metadata": {},
     "output_type": "execute_result"
    }
   ],
   "source": [
    "V.shape"
   ]
  },
  {
   "cell_type": "code",
   "execution_count": 98,
   "metadata": {},
   "outputs": [
    {
     "data": {
      "text/plain": [
       "'subsidies'"
      ]
     },
     "execution_count": 98,
     "metadata": {},
     "output_type": "execute_result"
    }
   ],
   "source": [
    "lsi.id2word.get(3066)"
   ]
  },
  {
   "cell_type": "code",
   "execution_count": 99,
   "metadata": {},
   "outputs": [
    {
     "data": {
      "text/plain": [
       "'subsidies'"
      ]
     },
     "execution_count": 99,
     "metadata": {},
     "output_type": "execute_result"
    }
   ],
   "source": [
    "lsi.id2word[3066]"
   ]
  },
  {
   "cell_type": "code",
   "execution_count": 100,
   "metadata": {
    "collapsed": true,
    "scrolled": true
   },
   "outputs": [],
   "source": [
    "def transform_queries(queries, model):\n",
    "    \"\"\"\n",
    "    Given the ordered dict queries and an lsi model, transform the queries to the latent space\n",
    "    \"\"\"\n",
    "    transformed_queries = {}\n",
    "    for q_id in queries:\n",
    "#         print(tokenized_queries[q_id])\n",
    "#         print([(key,len(list(group)) ) for  key, group in groupby(tokenized_queries[q_id]) if key>0])\n",
    "        transformed_queries[q_id] = model[[(key,len(list(group)) ) for  key, group in groupby(tokenized_queries[q_id]) if key>0]]\n",
    "    return transformed_queries"
   ]
  },
  {
   "cell_type": "code",
   "execution_count": 101,
   "metadata": {
    "collapsed": true
   },
   "outputs": [],
   "source": [
    "queries_lsi = transform_queries(queries, lsi)"
   ]
  },
  {
   "cell_type": "code",
   "execution_count": 102,
   "metadata": {},
   "outputs": [
    {
     "data": {
      "text/plain": [
       "[(0, 0.055611420599393321),\n",
       " (1, -0.013388738626154207),\n",
       " (2, -0.0027825145057267927),\n",
       " (3, -0.011361113546207446),\n",
       " (4, -0.0069355643988418137),\n",
       " (5, -0.014039275104326121),\n",
       " (6, -0.029088824834919765),\n",
       " (7, 0.035838810764143844),\n",
       " (8, 0.0091536374494794424),\n",
       " (9, 0.071895869988024594),\n",
       " (10, -0.010851793899253993),\n",
       " (11, -0.0060803901549371271),\n",
       " (12, 0.0082296155311567445),\n",
       " (13, 0.015808315995244092),\n",
       " (14, -0.024527680353933601),\n",
       " (15, -0.011501907785990077),\n",
       " (16, 0.030531967923439863),\n",
       " (17, -0.011539101798391724),\n",
       " (18, -0.002212829948123462),\n",
       " (19, -0.025163466685702966),\n",
       " (20, -0.026030892747321017),\n",
       " (21, 0.02858773023688117),\n",
       " (22, -0.035682676830858968),\n",
       " (23, 0.035947144245441244),\n",
       " (24, -0.011202977034257735),\n",
       " (25, 0.027243521946602831),\n",
       " (26, 0.020719959291525893),\n",
       " (27, -0.059288767507916264),\n",
       " (28, 0.0002081528478440007),\n",
       " (29, -0.0043515740409824904),\n",
       " (30, 0.068062477952281306),\n",
       " (31, -0.08265325231889134),\n",
       " (32, 0.0014089716672422495),\n",
       " (33, 0.015485907691486063),\n",
       " (34, 0.02065485231671867),\n",
       " (35, 0.054103591835401442),\n",
       " (36, -0.025354579484663735),\n",
       " (37, 0.018837896829885424),\n",
       " (38, 0.0074968559610147263),\n",
       " (39, 0.064642508477290223),\n",
       " (40, 0.02690639823533102),\n",
       " (41, 0.00098429353287378223),\n",
       " (42, 0.045727107509209095),\n",
       " (43, 0.010874224127296571),\n",
       " (44, -0.016920817650679265),\n",
       " (45, 0.035872814798373162),\n",
       " (46, 0.00093019608869721916),\n",
       " (47, 0.0086342558952584858),\n",
       " (48, 0.018838587877232575),\n",
       " (49, -0.006454631955219726),\n",
       " (50, 0.051617343935420959),\n",
       " (51, 0.003354650974738054),\n",
       " (52, 0.10106385118178517),\n",
       " (53, 0.018139751851519469),\n",
       " (54, 0.015241328323275334),\n",
       " (55, -0.013654491711261622),\n",
       " (56, -0.0060220920747249464),\n",
       " (57, 0.05572296424318128),\n",
       " (58, -0.018368062014045429),\n",
       " (59, -0.0058104524159253573),\n",
       " (60, -0.023467495651557767),\n",
       " (61, -0.064195575672605212),\n",
       " (62, 0.012394762084602173),\n",
       " (63, 0.017289118062049642),\n",
       " (64, -0.042266816692778653),\n",
       " (65, 0.044217164253291801),\n",
       " (66, -0.048289955866518727),\n",
       " (67, -0.0059161104805731547),\n",
       " (68, 0.021752035597051925),\n",
       " (69, 0.0089722411022466735),\n",
       " (70, 0.02733342739970742),\n",
       " (71, 0.003563387264832951),\n",
       " (72, -0.020661114425598669),\n",
       " (73, 0.085675385595715497),\n",
       " (74, -0.0027575598234135124),\n",
       " (75, 0.045983519990351655),\n",
       " (76, -0.0018079776412484611),\n",
       " (77, 0.010114909376665296),\n",
       " (78, 0.011531699083390773),\n",
       " (79, -0.038155453885397754),\n",
       " (80, 0.022264063675600847),\n",
       " (81, 0.02345719434177336),\n",
       " (82, -0.01636728437022044),\n",
       " (83, 0.00092803391675754464),\n",
       " (84, -0.039143218710040339),\n",
       " (85, 0.031075994710471285),\n",
       " (86, 0.026163574126728643),\n",
       " (87, -0.024704355982522359),\n",
       " (88, 0.036598993537246036),\n",
       " (89, -0.032034933505987809),\n",
       " (90, 0.03799106330825467),\n",
       " (91, 0.038970588483401215),\n",
       " (92, -0.016480889509272196),\n",
       " (93, -0.055785249215520874),\n",
       " (94, 0.074390803846728484),\n",
       " (95, 0.043157324683437172),\n",
       " (96, 0.010278218666486684),\n",
       " (97, -0.088989110670679328),\n",
       " (98, 0.05698102951543587),\n",
       " (99, -0.0055876706078164164),\n",
       " (100, -0.033156673297087789),\n",
       " (101, -0.047113764756883461),\n",
       " (102, 0.035403922817640161),\n",
       " (103, 0.013197402970318201),\n",
       " (104, 0.00034843232091107622),\n",
       " (105, 0.12569942227436728),\n",
       " (106, 0.052494330911685184),\n",
       " (107, -0.023558913554853136),\n",
       " (108, 0.038160357490915335),\n",
       " (109, -0.056367336124760963),\n",
       " (110, 0.011644194510381432),\n",
       " (111, 0.10502253434400072),\n",
       " (112, 0.0032140668860170286),\n",
       " (113, 0.041848433297243477),\n",
       " (114, 0.031482646790171993),\n",
       " (115, 0.029148550995846276),\n",
       " (116, -0.019128458350710212),\n",
       " (117, 0.065418451334801217),\n",
       " (118, 0.037365762306765402),\n",
       " (119, 0.03128226687090177),\n",
       " (120, 0.049347927834797349),\n",
       " (121, -0.0090040054565824895),\n",
       " (122, 0.051150205906120579),\n",
       " (123, 0.029334240385214212),\n",
       " (124, -0.026825329113387746),\n",
       " (125, 0.036090215479686952),\n",
       " (126, 0.078145812318145325),\n",
       " (127, -0.0080701561954404401),\n",
       " (128, 0.036795190277743701),\n",
       " (129, 0.013422734916573087),\n",
       " (130, -0.11537749185255976),\n",
       " (131, -0.035530635550493239),\n",
       " (132, 0.0020534070258192601),\n",
       " (133, 0.062719719681780459),\n",
       " (134, 0.0094965510260126406),\n",
       " (135, -0.036139969127020652),\n",
       " (136, 0.022244678367366107),\n",
       " (137, 0.018690847078806819),\n",
       " (138, -0.14791800233422517),\n",
       " (139, -0.00058143598372058973),\n",
       " (140, 0.033212360238446162),\n",
       " (141, -0.04421673638317216),\n",
       " (142, -0.0034357102181727488),\n",
       " (143, -0.041542731417063744),\n",
       " (144, 0.024898559233906735),\n",
       " (145, -0.0094425526226791963),\n",
       " (146, -0.034835475993047968),\n",
       " (147, 0.043644739054333651),\n",
       " (148, -0.069459894992968021),\n",
       " (149, -0.061368612419365823),\n",
       " (150, -0.0014644926117108252),\n",
       " (151, -0.078111244334910068),\n",
       " (152, -0.0066566351030751423),\n",
       " (153, 0.056996180987245439),\n",
       " (154, -0.011481066615419921),\n",
       " (155, 0.0962949967016965),\n",
       " (156, 0.01227544731438384),\n",
       " (157, 0.0078686495216880505),\n",
       " (158, 0.019672638093157408),\n",
       " (159, 0.059766443254407713),\n",
       " (160, 0.021695527602603275),\n",
       " (161, -0.043070206573640343),\n",
       " (162, -0.054213162971811009),\n",
       " (163, 0.046057424325686283),\n",
       " (164, -0.050040316960855272),\n",
       " (165, -0.090567931714788566),\n",
       " (166, 0.081292962496584673),\n",
       " (167, 0.1283614566316145),\n",
       " (168, -0.041595178302532274),\n",
       " (169, 0.021773803611566361),\n",
       " (170, -0.0017143712198470834),\n",
       " (171, -0.0054323877952472885),\n",
       " (172, 0.07478956619517943),\n",
       " (173, 0.13914374600133911),\n",
       " (174, -0.10126224330879099),\n",
       " (175, -0.026946300855177394),\n",
       " (176, -0.12674230167599934),\n",
       " (177, 0.04628908497799105),\n",
       " (178, 0.10518766743028835),\n",
       " (179, -0.057062920897789741),\n",
       " (180, 0.13683201416318361),\n",
       " (181, 0.28950527987341901),\n",
       " (182, 0.053395810364525877),\n",
       " (183, 0.040084104150855532),\n",
       " (184, -0.068795823780454041),\n",
       " (185, 0.066793767369933088),\n",
       " (186, 0.21803927025058803),\n",
       " (187, -0.057489455894558082),\n",
       " (188, -0.12978667648127476),\n",
       " (189, -0.034142971535123974),\n",
       " (190, -0.095283940080568244),\n",
       " (191, 0.035523914935993071),\n",
       " (192, -0.10263721490163613),\n",
       " (193, -0.026870820805603934),\n",
       " (194, -0.04440471831361429),\n",
       " (195, 0.0042946260864617156),\n",
       " (196, 0.024902665763193298),\n",
       " (197, -0.11250831723891391),\n",
       " (198, 0.035728581137769375),\n",
       " (199, -0.036336906906640279),\n",
       " (200, -0.0067455578054485274),\n",
       " (201, -0.10840122341612665),\n",
       " (202, 0.12815985701473179),\n",
       " (203, 0.10122181984289051),\n",
       " (204, -0.1757621352332471),\n",
       " (205, -0.10824588489978808),\n",
       " (206, -0.020694701722185668),\n",
       " (207, 0.16089820136362926),\n",
       " (208, 0.091052510081082449),\n",
       " (209, 0.095381464345523137),\n",
       " (210, 0.073527587522836349),\n",
       " (211, -0.064575863508574499),\n",
       " (212, -0.021129827937174848),\n",
       " (213, 0.055588918049572056),\n",
       " (214, 0.048713170727155974),\n",
       " (215, -0.13624637868751177),\n",
       " (216, 0.0049718925214774449),\n",
       " (217, 0.10195757889613505),\n",
       " (218, 0.010875591547913439),\n",
       " (219, -0.02532623586151083),\n",
       " (220, 0.041494920806169761),\n",
       " (221, 0.025504852639271824),\n",
       " (222, 0.15795456895037413),\n",
       " (223, -0.049671097414310875),\n",
       " (224, 0.071916656254640304),\n",
       " (225, -0.016905239836161896),\n",
       " (226, 0.10436908145039395),\n",
       " (227, -0.048386128803296458),\n",
       " (228, 0.04310295656077312),\n",
       " (229, -0.091598796891246143),\n",
       " (230, -0.052925153423762562),\n",
       " (231, -0.032074649946289155),\n",
       " (232, -0.015995569279871412),\n",
       " (233, 0.013562655092592215),\n",
       " (234, -0.042560912325246003),\n",
       " (235, -0.020750959027001963),\n",
       " (236, -0.10320513272580922),\n",
       " (237, 0.017551443352574136),\n",
       " (238, -0.056544279391135502),\n",
       " (239, -0.021547032019670849),\n",
       " (240, 0.0076276355288629376),\n",
       " (241, 0.020616176061296548),\n",
       " (242, 0.069889848507853847),\n",
       " (243, -0.054715459715789047),\n",
       " (244, -0.080920345516920039),\n",
       " (245, 0.063493374136796316),\n",
       " (246, 0.017389350322010316),\n",
       " (247, 0.053414755154344816),\n",
       " (248, 0.029718072209817641),\n",
       " (249, 0.012061972595318625),\n",
       " (250, -0.057917427428769749),\n",
       " (251, -0.046885802999233984),\n",
       " (252, 0.095455357525211976),\n",
       " (253, 0.034891302063439253),\n",
       " (254, -0.01270534695549815),\n",
       " (255, -0.065879406397060525),\n",
       " (256, -0.055794658540577469),\n",
       " (257, 0.025784199578403732),\n",
       " (258, -0.022085939684775499),\n",
       " (259, -0.0078923381374698086),\n",
       " (260, 0.092152451991552017),\n",
       " (261, 0.019152318204526744),\n",
       " (262, -0.0031839093269620646),\n",
       " (263, 0.0021615154632017449),\n",
       " (264, 0.027093097440732333),\n",
       " (265, -0.023433322971601049),\n",
       " (266, -0.0084896470032529772),\n",
       " (267, -0.0078813906390127371),\n",
       " (268, -0.081424300998761884),\n",
       " (269, 0.064464820799716563),\n",
       " (270, -0.0080009156842477877),\n",
       " (271, -0.035538308652555889),\n",
       " (272, -0.028410002862111747),\n",
       " (273, -0.018583563413377295),\n",
       " (274, -0.081826655358362393),\n",
       " (275, 0.02290851369771665),\n",
       " (276, -0.0072334348788465203),\n",
       " (277, 0.0083893603708216011),\n",
       " (278, -0.030308790764120574),\n",
       " (279, 0.049126273350742135),\n",
       " (280, 0.038830106724568075),\n",
       " (281, 0.038371444559319658),\n",
       " (282, -0.0092962265057757315),\n",
       " (283, 0.0059429076778033108),\n",
       " (284, 0.042485289039030649),\n",
       " (285, 0.080288767035833208),\n",
       " (286, -0.043887189686883293),\n",
       " (287, 0.083621244502841308),\n",
       " (288, 0.044090472127284237),\n",
       " (289, -0.0033808830201361544),\n",
       " (290, 0.026520192883999351),\n",
       " (291, 0.043478191683354955),\n",
       " (292, -0.036884908434381088),\n",
       " (293, 0.038016450681275793),\n",
       " (294, -0.0160436359572158),\n",
       " (295, -0.031568856696273635),\n",
       " (296, 0.013693970065040872),\n",
       " (297, 0.0054054263357880879),\n",
       " (298, -0.07350733335750427),\n",
       " (299, 0.031474734056592506),\n",
       " (300, -0.091745483353037394),\n",
       " (301, 0.012703212033471122),\n",
       " (302, -0.016571589695451028),\n",
       " (303, 0.02821277569906613),\n",
       " (304, 0.0057917617115881247),\n",
       " (305, 0.014350010752327481),\n",
       " (306, 0.018498869144436311),\n",
       " (307, 0.045535752292168205),\n",
       " (308, 0.06078612059967177),\n",
       " (309, -0.0045801537180642409),\n",
       " (310, 0.037095774368055841),\n",
       " (311, 0.00073386018702941563),\n",
       " (312, -0.020504431785667479),\n",
       " (313, -0.029154587515314037),\n",
       " (314, 0.071224359107634277),\n",
       " (315, 0.01247437325904502),\n",
       " (316, -0.018151487099395625),\n",
       " (317, -0.041843945661150281),\n",
       " (318, 0.0057725347252538597),\n",
       " (319, 0.034418237905412027),\n",
       " (320, -0.0790349010653673),\n",
       " (321, -0.026114605925870192),\n",
       " (322, 0.0066317213562218594),\n",
       " (323, 0.029252956510847933),\n",
       " (324, -0.054338188189533246),\n",
       " (325, -0.0085178653382762329),\n",
       " (326, -0.003193160700583458),\n",
       " (327, 0.027424680099961712),\n",
       " (328, 0.019647751232166864),\n",
       " (329, -0.02795518036416382),\n",
       " (330, -0.02232163770922788),\n",
       " (331, -0.0060784833788110762),\n",
       " (332, -0.015956547902824296),\n",
       " (333, 0.0146237160480248),\n",
       " (334, -0.034116039797353045),\n",
       " (335, 0.0011005096016894794),\n",
       " (336, -0.016203687425938976),\n",
       " (337, 0.032158697811784938),\n",
       " (338, 0.0097200602091686017),\n",
       " (339, -0.0487605507699772),\n",
       " (340, 0.0038116053573338327),\n",
       " (341, 0.020857730467373763),\n",
       " (342, -0.062596097888332342),\n",
       " (343, -0.010392176476214803),\n",
       " (344, 0.046561100265916575),\n",
       " (345, 0.01311926673956636),\n",
       " (346, 0.01121773573467566),\n",
       " (347, -0.032142587412927387),\n",
       " (348, 0.034281792852419057),\n",
       " (349, 0.034287567169974886),\n",
       " (350, -0.028363774274955348),\n",
       " (351, 0.0051677099747384986),\n",
       " (352, -0.029679572364615627),\n",
       " (353, -0.0073191333014806228),\n",
       " (354, 0.029417934113228583),\n",
       " (355, 0.019928576307730421),\n",
       " (356, -0.00012436381589366399),\n",
       " (357, -0.012160867956082396),\n",
       " (358, -0.0070357824951524156),\n",
       " (359, 0.012163273244672462),\n",
       " (360, -0.010457167836191779),\n",
       " (361, -0.013266728189451644),\n",
       " (362, 0.031900425027232185),\n",
       " (363, -0.0013856356405362467),\n",
       " (364, -0.0025036150720095639),\n",
       " (365, 0.015932789629348951),\n",
       " (366, -0.023999467882013251),\n",
       " (367, -0.044164198304841286),\n",
       " (368, 0.026283945718699565),\n",
       " (369, -0.037997763184772188),\n",
       " (370, -0.042001278013117788),\n",
       " (371, 0.0077172302824743081),\n",
       " (372, 0.030590540669678121),\n",
       " (373, -0.013487753187118383),\n",
       " (374, 0.021067478671538672),\n",
       " (375, 0.0089014971175281048),\n",
       " (376, 0.0080853202918865063),\n",
       " (377, -0.026390022510663934),\n",
       " (378, -0.0022984374749690341),\n",
       " (379, 0.0085062923462456766),\n",
       " (380, 0.0030438523273210866),\n",
       " (381, 0.017631878099214623),\n",
       " (382, -0.018197761723950011),\n",
       " (383, 0.046070957803978144),\n",
       " (384, -0.018080830829944813),\n",
       " (385, -0.017639684890409339),\n",
       " (386, 0.018011128539788018),\n",
       " (387, 0.002846165043542714),\n",
       " (388, -0.0095059750373347358),\n",
       " (389, 0.0057084055148289188),\n",
       " (390, 0.0081130860595970914),\n",
       " (391, -0.0073120585424614765),\n",
       " (392, 0.057202192959770956),\n",
       " (393, 0.03893684491402976),\n",
       " (394, -0.018690894695058326),\n",
       " (395, 0.018664235504763635),\n",
       " (396, -0.01455431700636412),\n",
       " (397, 0.018730949181614935),\n",
       " (398, -0.03338736950829943),\n",
       " (399, 0.011248007916496354),\n",
       " (400, 0.023301191126979637),\n",
       " (401, 0.026820430547899284),\n",
       " (402, -0.031274525148389291),\n",
       " (403, -0.0072854985013311186),\n",
       " (404, -0.027520539949827436),\n",
       " (405, 0.0095383983285313619),\n",
       " (406, 0.0087761394770615227),\n",
       " (407, -0.036094097201023523),\n",
       " (408, 0.024900677212244746),\n",
       " (409, -0.012425283263004865),\n",
       " (410, 0.005280667256895139),\n",
       " (411, 0.038455632001415246),\n",
       " (412, 0.013517974360317597),\n",
       " (413, -0.014671122273400904),\n",
       " (414, 0.0049102477849179834),\n",
       " (415, -0.023962951033938775),\n",
       " (416, -0.017577963304981098),\n",
       " (417, -0.004987564265721129),\n",
       " (418, 0.0014190500640138383),\n",
       " (419, -0.0076055165170151621),\n",
       " (420, 0.021134096156662195),\n",
       " (421, -0.0027398326850154482),\n",
       " (422, -0.00083147750921200303),\n",
       " (423, -0.014762565544444911),\n",
       " (424, -0.028180980955546605),\n",
       " (425, -0.011573727217351518),\n",
       " (426, 0.01041092658453409),\n",
       " (427, -0.00057860481301130577),\n",
       " (428, 0.016103077762642037),\n",
       " (429, -0.011389696071761287),\n",
       " (430, -0.015363687090074445),\n",
       " (431, -0.012849436372798718),\n",
       " (432, 0.0047109592089191674),\n",
       " (433, -0.0024527896508371987),\n",
       " (434, 0.0085526465121547133),\n",
       " (435, -0.014856278753399448),\n",
       " (436, -0.032782268094935604),\n",
       " (437, -0.030620823546047712),\n",
       " (438, -0.025773077227271353),\n",
       " (439, 0.01682205305097656),\n",
       " (440, 0.013698915462981085),\n",
       " (441, 0.019452741028386174),\n",
       " (442, -0.014663302248195976),\n",
       " (443, -0.0095859388634944899),\n",
       " (444, 0.0091450389569794083),\n",
       " (445, -0.0066527423999861801),\n",
       " (446, -0.03421764282554126),\n",
       " (447, 0.0062983333629396485),\n",
       " (448, -0.0084458463916994887),\n",
       " (449, -0.0081640031490107547),\n",
       " (450, 0.015755945080669999),\n",
       " (451, 0.0043746282607940012),\n",
       " (452, -0.0014711553286460913),\n",
       " (453, 0.010887929211721312),\n",
       " (454, 0.021787092953225909),\n",
       " (455, -0.012608733431583162),\n",
       " (456, 0.0096613611037027619),\n",
       " (457, 0.00081551238414866341),\n",
       " (458, 0.01532189837962903),\n",
       " (459, 0.0064303722697434057),\n",
       " (460, -0.0086892075584942153),\n",
       " (461, -0.006275930461580103),\n",
       " (462, 0.039957468765783502),\n",
       " (463, 0.0090339058576777015),\n",
       " (464, -0.0098815704960371984),\n",
       " (465, 0.0070487629845225504),\n",
       " (466, -0.017579464385105242),\n",
       " (467, 0.032144777529358411),\n",
       " (468, 0.019619886483377938),\n",
       " (469, -0.0019553812662476406),\n",
       " (470, -0.011062128562111537),\n",
       " (471, 0.0040174719233430287),\n",
       " (472, 0.0004978950950251821),\n",
       " (473, -0.016191590663413524),\n",
       " (474, -0.0029478055493223987),\n",
       " (475, 0.001268714397348664),\n",
       " (476, 0.0059438718495875929),\n",
       " (477, 0.024914130092542373),\n",
       " (478, -0.0007445687119996317),\n",
       " (479, 0.028215590980604294),\n",
       " (480, -0.017139563538967992),\n",
       " (481, -0.025467366735068712),\n",
       " (482, -0.026385307178604572),\n",
       " (483, 0.048305554283384206),\n",
       " (484, 0.026844201365067558),\n",
       " (485, -0.033445222103422878),\n",
       " (486, 0.011176054335365539),\n",
       " (487, 0.019720760662925045),\n",
       " (488, 0.0080990193171072804),\n",
       " (489, -0.0077790964187494215),\n",
       " (490, 0.0023795904161807726),\n",
       " (491, -0.037284252859361995),\n",
       " (492, 0.031804965857839339),\n",
       " (493, -0.040464593494778475),\n",
       " (494, 0.020335458272251503),\n",
       " (495, 0.028362397823346076),\n",
       " (496, -0.019647097199451818),\n",
       " (497, 0.022527311642898049),\n",
       " (498, -0.00062588193993160131),\n",
       " (499, 0.00348072132403952)]"
      ]
     },
     "execution_count": 102,
     "metadata": {},
     "output_type": "execute_result"
    }
   ],
   "source": [
    "queries_lsi['100']"
   ]
  },
  {
   "cell_type": "code",
   "execution_count": null,
   "metadata": {
    "collapsed": true
   },
   "outputs": [],
   "source": []
  },
  {
   "cell_type": "code",
   "execution_count": 103,
   "metadata": {},
   "outputs": [
    {
     "ename": "ImportError",
     "evalue": "No module named 'sklearn'",
     "output_type": "error",
     "traceback": [
      "\u001b[0;31m---------------------------------------------------------------------------\u001b[0m",
      "\u001b[0;31mImportError\u001b[0m                               Traceback (most recent call last)",
      "\u001b[0;32m<ipython-input-103-743ac88bcf9a>\u001b[0m in \u001b[0;36m<module>\u001b[0;34m()\u001b[0m\n\u001b[0;32m----> 1\u001b[0;31m \u001b[0;32mfrom\u001b[0m \u001b[0msklearn\u001b[0m\u001b[0;34m.\u001b[0m\u001b[0mmetrics\u001b[0m\u001b[0;34m.\u001b[0m\u001b[0mpairwise\u001b[0m \u001b[0;32mimport\u001b[0m \u001b[0mcosine_similarity\u001b[0m\u001b[0;34m\u001b[0m\u001b[0m\n\u001b[0m",
      "\u001b[0;31mImportError\u001b[0m: No module named 'sklearn'"
     ]
    }
   ],
   "source": [
    "from sklearn.metrics.pairwise import cosine_similarity"
   ]
  },
  {
   "cell_type": "code",
   "execution_count": null,
   "metadata": {
    "collapsed": true
   },
   "outputs": [],
   "source": []
  },
  {
   "cell_type": "code",
   "execution_count": null,
   "metadata": {},
   "outputs": [],
   "source": [
    "# # DONE -------> DELETE\n",
    "# # Seems correct -> incorporate into previous models\n",
    "\n",
    "# # try to see if word-index matching works properly\n",
    "# start_time = time.time()\n",
    "# lsi10new = gensim.models.LsiModel(corpus=wordfreq, id2word=id2token ,num_topics=10)\n",
    "# print('time: %s sec'%(time.time()-start_time))"
   ]
  },
  {
   "cell_type": "code",
   "execution_count": null,
   "metadata": {
    "collapsed": true
   },
   "outputs": [],
   "source": []
  },
  {
   "cell_type": "code",
   "execution_count": null,
   "metadata": {
    "collapsed": true
   },
   "outputs": [],
   "source": [
    "# create scoring function (cosine/ KL divergence)\n",
    "\n"
   ]
  },
  {
   "cell_type": "code",
   "execution_count": null,
   "metadata": {
    "collapsed": true
   },
   "outputs": [],
   "source": [
    "# parse rank from tf-idf"
   ]
  },
  {
   "cell_type": "code",
   "execution_count": 107,
   "metadata": {
    "collapsed": true
   },
   "outputs": [],
   "source": [
    "tfidf_rank = defaultdict(list)\n",
    "\n",
    "with open('./retrievals/tf-idf.run', 'r') as file:\n",
    "    for line in file.readlines():\n",
    "        q_id = line.split()[0]\n",
    "        doc_id = line.split()[2]\n",
    "#         print(q_id,doc_id)\n",
    "        tfidf_rank[q_id].append(doc_id)#tfidf_rank[q_id].append(doc_id)"
   ]
  },
  {
   "cell_type": "code",
   "execution_count": 112,
   "metadata": {},
   "outputs": [
    {
     "data": {
      "text/plain": [
       "['AP880607-0259',\n",
       " 'AP890908-0230',\n",
       " 'AP890404-0214',\n",
       " 'AP880626-0037',\n",
       " 'AP880811-0010']"
      ]
     },
     "execution_count": 112,
     "metadata": {},
     "output_type": "execute_result"
    }
   ],
   "source": [
    "tfidf_rank['168'][:5]"
   ]
  },
  {
   "cell_type": "code",
   "execution_count": null,
   "metadata": {
    "collapsed": true
   },
   "outputs": [],
   "source": []
  },
  {
   "cell_type": "code",
   "execution_count": null,
   "metadata": {
    "collapsed": true
   },
   "outputs": [],
   "source": []
  },
  {
   "cell_type": "markdown",
   "metadata": {},
   "source": [
    "### Task 3:  Word embeddings for ranking [10 points] ###\n",
    "\n",
    "First create word embeddings on the corpus we provided using [word2vec](http://arxiv.org/abs/1411.2738) -- [gensim implementation](https://radimrehurek.com/gensim/models/word2vec.html). You should extract the indexed documents using pyndri and provide them to gensim for training a model (see example [here](https://github.com/nickvosk/pyndri/blob/master/examples/word2vec.py)).\n",
    "\n",
    "Try one of the following (increasingly complex) methods for building query and document representations:\n",
    "   * Average or sum the word vectors.\n",
    "   * Cluster words in the document using [k-means](http://scikit-learn.org/stable/modules/generated/sklearn.cluster.KMeans.html) and use the centroid of the most important cluster. Experiment with different values of K for k-means.\n",
    "   * Using the [bag-of-word-embeddings representation](https://ciir-publications.cs.umass.edu/pub/web/getpdf.php?id=1248).\n",
    "   \n",
    "Note that since we provide the implementation for training word2vec, you will be graded based on your creativity on combining word embeddings for building query and document representations.\n",
    "\n",
    "Note: If you want to experiment with pre-trained word embeddings on a different corpus, you can use the word embeddings we provide alongside the assignment (./data/reduced_vectors_google.txt). These are the [google word2vec word embeddings](https://code.google.com/archive/p/word2vec/), reduced to only the words that appear in the document collection we use in this assignment."
   ]
  },
  {
   "cell_type": "code",
   "execution_count": null,
   "metadata": {
    "collapsed": true
   },
   "outputs": [],
   "source": []
  },
  {
   "cell_type": "markdown",
   "metadata": {},
   "source": [
    "### Task 4: Learning to rank (LTR) [10 points] ###\n",
    "\n",
    "In this task you will get an introduction into learning to rank for information retrieval, in particular pointwise learning to rank.\n",
    "\n",
    "You will experiment with a pointwise learning to rank method, logistic regression, implemented in [scikit-learn](http://scikit-learn.org/stable/modules/generated/sklearn.linear_model.LogisticRegression.html).\n",
    "Train your LTR model using 10-fold cross validation on the test set.\n",
    "\n",
    "You can explore different ways for devising features for the model. Obviously, you can use the retrieval methods you implemented in Task 1 and Task 2 as features. Think about other features you can use (e.g. query/document length). \n",
    "One idea is to also explore external sources such as Wikipedia entities (?). Creativity on devising new features and providing motivation for them will be taken into account when grading.\n",
    "\n",
    "For every query, first create a document candidate set using the top-1000 documents using TF-IDF, and subsequently compute features given a query and a document. Note that the feature values of different retrieval methods are likely to be distributed differently."
   ]
  },
  {
   "cell_type": "code",
   "execution_count": null,
   "metadata": {
    "collapsed": true
   },
   "outputs": [],
   "source": []
  },
  {
   "cell_type": "markdown",
   "metadata": {
    "collapsed": true
   },
   "source": [
    "### Task 4: Write a report [20 points; instant FAIL if not provided] ###\n",
    "\n",
    "The report should be a PDF file created using the [sigconf ACM template](https://www.acm.org/publications/proceedings-template) and will determine a significant part of your grade.\n",
    "\n",
    "   * It should explain what you have implemented, motivate your experiments and detail what you expect to learn from them. **[10 points]**\n",
    "   * Lastly, provide a convincing analysis of your results and conclude the report accordingly. **[10 points]**\n",
    "      * Do all methods perform similarly on all queries? Why?\n",
    "      * Is there a single retrieval model that outperforms all other retrieval models (i.e., silver bullet)?\n",
    "      * ...\n",
    "\n",
    "**Hand in the report and your self-contained implementation source files.** Only send us the files that matter, organized in a well-documented zip/tgz file with clear instructions on how to reproduce your results. That is, we want to be able to regenerate all your results with minimal effort. You can assume that the index and ground-truth information is present in the same file structure as the one we have provided.\n"
   ]
  },
  {
   "cell_type": "code",
   "execution_count": null,
   "metadata": {
    "collapsed": true
   },
   "outputs": [],
   "source": []
  }
 ],
 "metadata": {
  "anaconda-cloud": {},
  "kernelspec": {
   "display_name": "Python [conda env:ir]",
   "language": "python",
   "name": "conda-env-ir-py"
  },
  "language_info": {
   "codemirror_mode": {
    "name": "ipython",
    "version": 3
   },
   "file_extension": ".py",
   "mimetype": "text/x-python",
   "name": "python",
   "nbconvert_exporter": "python",
   "pygments_lexer": "ipython3",
   "version": "3.5.4"
  }
 },
 "nbformat": 4,
 "nbformat_minor": 1
}
