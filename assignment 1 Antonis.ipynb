{
 "cells": [
  {
   "cell_type": "markdown",
   "metadata": {},
   "source": [
    "# Searching Unstructured and Structured Data \n",
    "## Assignment 1: Retrieval models [100 points]\n",
    "**TA**: Nikos Voskarides (n.voskarides@uva.nl)"
   ]
  },
  {
   "cell_type": "markdown",
   "metadata": {},
   "source": [
    "In this assignment you will get familiar with basic information retrieval concepts. You will implement and evaluate different information retrieval ranking models and evaluate their performance.\n",
    "\n",
    "We provide you with a Indri index. To query the index, you'll use a Python package ([pyndri](https://github.com/cvangysel/pyndri)) that allows easy access to the underlying document statistics.\n",
    "\n",
    "For evaluation you'll use the [TREC Eval](https://github.com/usnistgov/trec_eval) utility, provided by the National Institute of Standards and Technology of the United States. TREC Eval is the de facto standard way to compute Information Retrieval measures and is frequently referenced in scientific papers.\n",
    "\n",
    "This is a **groups-of-three assignment**, the deadline is **Monday, 22/1, at 23:59**. Code quality, informative comments and convincing analysis of the results will be considered when grading. Submission should be done through blackboard, questions can be asked on the course [Piazza](https://piazza.com/class/ixoz63p156g1ts).\n",
    "\n",
    "### Technicalities (must-read!) ###\n",
    "\n",
    "The assignment directory is organized as follows:\n",
    "   * `./assignment.ipynb` (this file): the description of the assignment.\n",
    "   * `./index/`: the index we prepared for you.\n",
    "   * `./ap_88_90/`: directory with ground-truth and evaluation sets:\n",
    "      * `qrel_test`: test query relevance collection (**test set**).\n",
    "      * `qrel_validation`: validation query relevance collection (**validation set**).\n",
    "      * `topics_title`: semicolon-separated file with query identifiers and terms.\n",
    "\n",
    "You will need the following software packages (tested with Python 3.5 inside [Anaconda](https://conda.io/docs/user-guide/install/index.html)):\n",
    "   * Python 3.5 and Jupyter\n",
    "   * Indri + Pyndri (Follow the installation instructions [here](https://github.com/nickvosk/pyndri/blob/master/README.md))\n",
    "   * gensim [link](https://radimrehurek.com/gensim/install.html)\n",
    "   * TREC Eval [link](https://github.com/usnistgov/trec_eval)"
   ]
  },
  {
   "cell_type": "markdown",
   "metadata": {},
   "source": [
    "### TREC Eval primer ###\n",
    "The TREC Eval utility can be downloaded and compiled as follows:\n",
    "\n",
    "    git clone https://github.com/usnistgov/trec_eval.git\n",
    "    cd trec_eval\n",
    "    make\n",
    "\n",
    "TREC Eval computes evaluation scores given two files: ground-truth information regarding relevant documents, named *query relevance* or *qrel*, and a ranking of documents for a set of queries, referred to as a *run*. The *qrel* will be supplied by us and should not be changed. For every retrieval model (or combinations thereof) you will generate a run of the top-1000 documents for every query. The format of the *run* file is as follows:\n",
    "\n",
    "    $query_identifier Q0 $document_identifier $rank_of_document_for_query $query_document_similarity $run_identifier\n",
    "    \n",
    "where\n",
    "   * `$query_identifier` is the unique identifier corresponding to a query (usually this follows a sequential numbering).\n",
    "   * `Q0` is a legacy field that you can ignore.\n",
    "   * `$document_identifier` corresponds to the unique identifier of a document (e.g., APXXXXXXX where AP denotes the collection and the Xs correspond to a unique numerical identifier).\n",
    "   * `$rank_of_document_for_query` denotes the rank of the document for the particular query. This field is ignored by TREC Eval and is only maintained for legacy support. The ranks are computed by TREC Eval itself using the `$query_document_similarity` field (see next). However, it remains good practice to correctly compute this field.\n",
    "   * `$query_document_similarity` is a score indicating the similarity between query and document where a higher score denotes greater similarity.\n",
    "   * `$run_identifier` is an identifier of the run. This field is for your own convenience and has no purpose beyond bookkeeping.\n",
    "   \n",
    "For example, say we have two queries: `Q1` and `Q2` and we rank three documents (`DOC1`, `DOC2`, `DOC3`). For query `Q1`, we find the following similarity scores `score(Q1, DOC1) = 1.0`, `score(Q1, DOC2) = 0.5`, `score(Q1, DOC3) = 0.75`; and for `Q2`: `score(Q2, DOC1) = -0.1`, `score(Q2, DOC2) = 1.25`, `score(Q1, DOC3) = 0.0`. We can generate run using the following snippet:"
   ]
  },
  {
   "cell_type": "code",
   "execution_count": 1,
   "metadata": {
    "collapsed": true
   },
   "outputs": [],
   "source": [
    "import time\n",
    "import numpy as np\n",
    "import glob\n",
    "import pandas as pd\n",
    "from matplotlib import pyplot as plt\n",
    "%matplotlib inline\n",
    "plt.style.use('ggplot')"
   ]
  },
  {
   "cell_type": "code",
   "execution_count": 2,
   "metadata": {
    "collapsed": true
   },
   "outputs": [],
   "source": [
    "import matplotlib \n",
    "matplotlib.rcParams['figure.figsize'] = (16.0, 8.0)"
   ]
  },
  {
   "cell_type": "code",
   "execution_count": 3,
   "metadata": {
    "scrolled": false
   },
   "outputs": [
    {
     "name": "stdout",
     "output_type": "stream",
     "text": [
      "Q2 Q0 DOC2 1 1.25 example\n",
      "Q2 Q0 DOC3 2 0.0 example\n",
      "Q2 Q0 DOC1 3 -0.1 example\n",
      "Q1 Q0 DOC1 1 1.0 example\n",
      "Q1 Q0 DOC3 2 0.75 example\n",
      "Q1 Q0 DOC2 3 0.5 example\n"
     ]
    }
   ],
   "source": [
    "import logging\n",
    "import sys\n",
    "import os\n",
    "\n",
    "\n",
    "def write_run(model_name, data, out_f,\n",
    "              max_objects_per_query=sys.maxsize,\n",
    "              skip_sorting=False):\n",
    "    \"\"\"\n",
    "    Write a run to an output file.\n",
    "    Parameters:\n",
    "        - model_name: identifier of run.\n",
    "        - data: dictionary mapping topic_id to object_assesments;\n",
    "            object_assesments is an iterable (list or tuple) of\n",
    "            (relevance, object_id) pairs.\n",
    "            The object_assesments iterable is sorted by decreasing order.\n",
    "        - out_f: output file stream.\n",
    "        - max_objects_per_query: cut-off for number of objects per query.\n",
    "    \"\"\"\n",
    "    for subject_id, object_assesments in data.items():\n",
    "        if not object_assesments:\n",
    "            logging.warning('Received empty ranking for %s; ignoring.',\n",
    "                            subject_id)\n",
    "\n",
    "            continue\n",
    "\n",
    "        # Probe types, to make sure everything goes alright.\n",
    "        # assert isinstance(object_assesments[0][0], float) or \\\n",
    "        #     isinstance(object_assesments[0][0], np.float32)\n",
    "        assert isinstance(object_assesments[0][1], str) or \\\n",
    "            isinstance(object_assesments[0][1], bytes)\n",
    "\n",
    "        if not skip_sorting:\n",
    "            object_assesments = sorted(object_assesments, reverse=True)\n",
    "\n",
    "        if max_objects_per_query < sys.maxsize:\n",
    "            object_assesments = object_assesments[:max_objects_per_query]\n",
    "\n",
    "        if isinstance(subject_id, bytes):\n",
    "            subject_id = subject_id.decode('utf8')\n",
    "\n",
    "        for rank, (relevance, object_id) in enumerate(object_assesments):\n",
    "            if isinstance(object_id, bytes):\n",
    "                object_id = object_id.decode('utf8')\n",
    "\n",
    "            out_f.write(\n",
    "                '{subject} Q0 {object} {rank} {relevance} '\n",
    "                '{model_name}\\n'.format(\n",
    "                    subject=subject_id,\n",
    "                    object=object_id,\n",
    "                    rank=rank + 1,\n",
    "                    relevance=relevance,\n",
    "                    model_name=model_name))\n",
    "            \n",
    "# The following writes the run to standard output.\n",
    "# In your code, you should write the runs to local\n",
    "# storage in order to pass them to trec_eval.\n",
    "write_run(\n",
    "    model_name='example',\n",
    "    data={\n",
    "        'Q1': ((1.0, 'DOC1'), (0.5, 'DOC2'), (0.75, 'DOC3')),\n",
    "        'Q2': ((-0.1, 'DOC1'), (1.25, 'DOC2'), (0.0, 'DOC3')),\n",
    "    },\n",
    "    out_f=sys.stdout,\n",
    "    max_objects_per_query=1000)"
   ]
  },
  {
   "cell_type": "markdown",
   "metadata": {},
   "source": [
    "Now, imagine that we know that `DOC1` is relevant and `DOC3` is non-relevant for `Q1`. In addition, for `Q2` we only know of the relevance of `DOC3`. The query relevance file looks like:\n",
    "\n",
    "    Q1 0 DOC1 1\n",
    "    Q1 0 DOC3 0\n",
    "    Q2 0 DOC3 1\n",
    "    \n",
    "We store the run and qrel in files `example.run` and `example.qrel` respectively on disk. We can now use TREC Eval to compute evaluation measures. In this example, we're only interested in Mean Average Precision and we'll only show this below for brevity. However, TREC Eval outputs much more information such as NDCG, recall, precision, etc.\n",
    "\n",
    "    $ trec_eval -m all_trec -q example.qrel example.run | grep -E \"^map\\s\"\n",
    "    > map                   \tQ1\t1.0000\n",
    "    > map                   \tQ2\t0.5000\n",
    "    > map                   \tall\t0.7500\n",
    "    \n",
    "Now that we've discussed the output format of rankings and how you can compute evaluation measures from these rankings, we'll now proceed with an overview of the indexing framework you'll use."
   ]
  },
  {
   "cell_type": "markdown",
   "metadata": {},
   "source": [
    "### Pyndri primer ###\n",
    "For this assignment you will use [Pyndri](https://github.com/cvangysel/pyndri) [[1](https://arxiv.org/abs/1701.00749)], a python interface for [Indri](https://www.lemurproject.org/indri.php). We have indexed the document collection and you can query the index using Pyndri. We will start by giving you some examples of what Pyndri can do:\n",
    "\n",
    "First we read the document collection index with Pyndri:"
   ]
  },
  {
   "cell_type": "code",
   "execution_count": 4,
   "metadata": {
    "collapsed": true,
    "scrolled": true
   },
   "outputs": [],
   "source": [
    "import pyndri\n",
    "\n",
    "index = pyndri.Index('index/')"
   ]
  },
  {
   "cell_type": "markdown",
   "metadata": {},
   "source": [
    "The loaded index can be used to access a collection of documents in an easy manner. We'll give you some examples to get some idea of what it can do, it is up to you to figure out how to use it for the remainder of the assignment.\n",
    "\n",
    "First let's look at the number of documents, since Pyndri indexes the documents using incremental identifiers we can simply take the lowest index and the maximum document and consider the difference:"
   ]
  },
  {
   "cell_type": "code",
   "execution_count": 5,
   "metadata": {},
   "outputs": [
    {
     "name": "stdout",
     "output_type": "stream",
     "text": [
      "There are 164597 documents in this collection.\n"
     ]
    }
   ],
   "source": [
    "print(\"There are %d documents in this collection.\" % (index.maximum_document() - index.document_base()))"
   ]
  },
  {
   "cell_type": "markdown",
   "metadata": {},
   "source": [
    "Let's take the first document out of the collection and take a look at it:"
   ]
  },
  {
   "cell_type": "code",
   "execution_count": 6,
   "metadata": {
    "collapsed": true,
    "scrolled": true
   },
   "outputs": [],
   "source": [
    "example_document = index.document(index.document_base())\n",
    "# print(example_document)"
   ]
  },
  {
   "cell_type": "markdown",
   "metadata": {},
   "source": [
    "Here we see a document consists of two things, a string representing the external document identifier and an integer list representing the identifiers of words that make up the document. Pyndri uses integer representations for words or terms, thus a token_id is an integer that represents a word whereas the token is the actual text of the word/term. Every id has a unique token and vice versa with the exception of stop words: words so common that there are uninformative, all of these receive the zero id.\n",
    "\n",
    "To see what some ids and their matching tokens we take a look at the dictionary of the index:"
   ]
  },
  {
   "cell_type": "code",
   "execution_count": 7,
   "metadata": {},
   "outputs": [
    {
     "name": "stdout",
     "output_type": "stream",
     "text": [
      "[(1, 'new'), (2, 'percent'), (3, 'two'), (4, '1'), (5, 'people'), (6, 'million'), (7, '000'), (8, 'government'), (9, 'president'), (10, 'years'), (11, 'state'), (12, '2'), (13, 'states'), (14, 'three'), (15, 'time')]\n"
     ]
    }
   ],
   "source": [
    "token2id, id2token, _ = index.get_dictionary()\n",
    "print(list(id2token.items())[:15])"
   ]
  },
  {
   "cell_type": "markdown",
   "metadata": {},
   "source": [
    "Using this dictionary we can see the tokens for the (non-stop) words in our example document:"
   ]
  },
  {
   "cell_type": "code",
   "execution_count": 8,
   "metadata": {
    "collapsed": true
   },
   "outputs": [],
   "source": [
    "# print([id2token[word_id] for word_id in example_document[1] if word_id > 0])"
   ]
  },
  {
   "cell_type": "markdown",
   "metadata": {},
   "source": [
    "The reverse can also be done, say we want to look for news about the \"University of Massachusetts\", the tokens of that query can be converted to ids using the reverse dictionary:"
   ]
  },
  {
   "cell_type": "code",
   "execution_count": 9,
   "metadata": {},
   "outputs": [
    {
     "name": "stdout",
     "output_type": "stream",
     "text": [
      "Query by tokens: ['university', '', 'massachusetts']\n",
      "Query by ids with stopwords: [200, 0, 894]\n",
      "Query by ids without stopwords: [200, 894]\n"
     ]
    }
   ],
   "source": [
    "query_tokens = index.tokenize(\"University of Massachusetts\")\n",
    "print(\"Query by tokens:\", query_tokens)\n",
    "query_id_tokens = [token2id.get(query_token,0) for query_token in query_tokens]\n",
    "print(\"Query by ids with stopwords:\", query_id_tokens)\n",
    "query_id_tokens = [word_id for word_id in query_id_tokens if word_id > 0]\n",
    "print(\"Query by ids without stopwords:\", query_id_tokens)"
   ]
  },
  {
   "cell_type": "markdown",
   "metadata": {},
   "source": [
    "Naturally we can now match the document and query in the id space, let's see how often a word from the query occurs in our example document:"
   ]
  },
  {
   "cell_type": "code",
   "execution_count": 10,
   "metadata": {},
   "outputs": [
    {
     "name": "stdout",
     "output_type": "stream",
     "text": [
      "Document AP890425-0001 has 13 word matches with query: \"university  massachusetts\".\n",
      "Document AP890425-0001 and query \"university  massachusetts\" have a 2.5% overlap.\n"
     ]
    }
   ],
   "source": [
    "matching_words = sum([True for word_id in example_document[1] if word_id in query_id_tokens])\n",
    "print(\"Document %s has %d word matches with query: \\\"%s\\\".\" % (example_document[0], matching_words, ' '.join(query_tokens)))\n",
    "print(\"Document %s and query \\\"%s\\\" have a %.01f%% overlap.\" % (example_document[0], ' '.join(query_tokens),matching_words/float(len(example_document[1]))*100))"
   ]
  },
  {
   "cell_type": "markdown",
   "metadata": {},
   "source": [
    "While this is certainly not everything Pyndri can do, it should give you an idea of how to use it. Please take a look at the [examples](https://github.com/cvangysel/pyndri) as it will help you a lot with this assignment.\n",
    "\n",
    "**CAUTION**: Avoid printing out the whole index in this Notebook as it will generate a lot of output and is likely to corrupt the Notebook."
   ]
  },
  {
   "cell_type": "markdown",
   "metadata": {},
   "source": [
    "### Parsing the query file\n",
    "You can parse the query file (`ap_88_89/topics_title`) using the following snippet:"
   ]
  },
  {
   "cell_type": "code",
   "execution_count": 11,
   "metadata": {
    "collapsed": true,
    "scrolled": true
   },
   "outputs": [],
   "source": [
    "import collections\n",
    "import io\n",
    "import logging\n",
    "import sys\n",
    "\n",
    "def parse_topics(file_or_files,\n",
    "                 max_topics=sys.maxsize, delimiter=';'):\n",
    "    assert max_topics >= 0 or max_topics is None\n",
    "\n",
    "    topics = collections.OrderedDict()\n",
    "\n",
    "    if not isinstance(file_or_files, list) and \\\n",
    "            not isinstance(file_or_files, tuple):\n",
    "        if hasattr(file_or_files, '__iter__'):\n",
    "            file_or_files = list(file_or_files)\n",
    "        else:\n",
    "            file_or_files = [file_or_files]\n",
    "\n",
    "    for f in file_or_files:\n",
    "        assert isinstance(f, io.IOBase)\n",
    "\n",
    "        for line in f:\n",
    "            assert(isinstance(line, str))\n",
    "\n",
    "            line = line.strip()\n",
    "\n",
    "            if not line:\n",
    "                continue\n",
    "\n",
    "            topic_id, terms = line.split(delimiter, 1)\n",
    "\n",
    "            if topic_id in topics and (topics[topic_id] != terms):\n",
    "                    logging.error('Duplicate topic \"%s\" (%s vs. %s).',\n",
    "                                  topic_id,\n",
    "                                  topics[topic_id],\n",
    "                                  terms)\n",
    "\n",
    "            topics[topic_id] = terms\n",
    "\n",
    "            if max_topics > 0 and len(topics) >= max_topics:\n",
    "                break\n",
    "\n",
    "    return topics\n",
    "\n",
    "# with open('./ap_88_89/topics_title', 'r') as f_topics:\n",
    "#     print(parse_topics([f_topics]))"
   ]
  },
  {
   "cell_type": "markdown",
   "metadata": {},
   "source": [
    "### Task 1: Implement and compare lexical IR methods [40 points] ### \n",
    "\n",
    "In this task you will implement a number of lexical methods for IR using the **Pyndri** framework. Then you will evaluate these methods on the dataset we have provided using **TREC Eval**.\n",
    "\n",
    "Use the **Pyndri** framework to get statistics of the documents (term frequency, document frequency, collection frequency; **you are not allowed to use the query functionality of Pyndri**) and implement the following scoring methods in **Python**:\n",
    "\n",
    "- [TF-IDF](http://nlp.stanford.edu/IR-book/html/htmledition/tf-idf-weighting-1.html). **[5 points]**\n",
    "- [BM25](http://nlp.stanford.edu/IR-book/html/htmledition/okapi-bm25-a-non-binary-model-1.html) with k1=1.2 and b=0.75. **[5 points]**\n",
    "- Language models ([survey](https://drive.google.com/file/d/0B-zklbckv9CHc0c3b245UW90NE0/view))\n",
    "    - Jelinek-Mercer (explore different values of 𝛌 in the range [0.1, 0.5, 0.9]). **[10 points]**\n",
    "    - Dirichlet Prior (explore different values of 𝛍 [500, 1000, 1500]). **[5 points]**\n",
    "    - Absolute discounting (explore different values of 𝛅 in the range [0.1, 0.5, 0.9]). **[5 points]**\n",
    "    \n",
    "Implement the above methods and report evaluation measures (on the test set) using the hyper parameter values you optimized on the validation set (also report the values of the hyper parameters). Use TREC Eval to obtain the results and report on `NDCG@10`, Mean Average Precision (`MAP@1000`), `Precision@5` and `Recall@1000`.\n",
    "\n",
    "For the language models, create plots showing `NDCG@10` with varying values of the parameters. You can do this by chaining small scripts using shell scripting (preferred) or execute trec_eval using Python's `subprocess`.\n",
    "\n",
    "Compute significance of the results using a [two-tailed paired Student t-test](https://docs.scipy.org/doc/scipy/reference/generated/scipy.stats.ttest_rel.html) **[10 points]**. Be wary of false rejection of the null hypothesis caused by the [multiple comparisons problem](https://en.wikipedia.org/wiki/Multiple_comparisons_problem). There are multiple ways to mitigate this problem and it is up to you to choose one.\n",
    "\n",
    "Analyse the results by identifying specific queries where different methods succeed or fail and discuss possible reasons that cause these differences. This is *very important* in order to understand how the different retrieval functions behave.\n",
    "\n",
    "**NOTE**: Don’t forget to use log computations in your calculations to avoid underflows. "
   ]
  },
  {
   "cell_type": "markdown",
   "metadata": {},
   "source": [
    "**IMPORTANT**: You should structure your code around the helper functions we provide below."
   ]
  },
  {
   "cell_type": "code",
   "execution_count": null,
   "metadata": {
    "collapsed": true
   },
   "outputs": [],
   "source": []
  },
  {
   "cell_type": "code",
   "execution_count": 12,
   "metadata": {},
   "outputs": [
    {
     "name": "stdout",
     "output_type": "stream",
     "text": [
      "Gathering statistics about 456 terms.\n",
      "Inverted index creation took 26.141891717910767 seconds.\n"
     ]
    }
   ],
   "source": [
    "with open('./ap_88_89/topics_title', 'r') as f_topics:\n",
    "    queries = parse_topics([f_topics])\n",
    "\n",
    "index = pyndri.Index('index/')\n",
    "start_time = time.time()\n",
    "num_documents = index.maximum_document() - index.document_base()\n",
    "\n",
    "dictionary = pyndri.extract_dictionary(index)\n",
    "\n",
    "tokenized_queries = {\n",
    "    query_id: [dictionary.translate_token(token)\n",
    "               for token in index.tokenize(query_string)\n",
    "               if dictionary.has_token(token)]\n",
    "    for query_id, query_string in queries.items()}\n",
    "\n",
    "query_term_ids = set(\n",
    "    query_term_id\n",
    "    for query_term_ids in tokenized_queries.values()\n",
    "    for query_term_id in query_term_ids)\n",
    "\n",
    "print('Gathering statistics about', len(query_term_ids), 'terms.')\n",
    "\n",
    "# inverted index creation.\n",
    "\n",
    "document_lengths = {}\n",
    "unique_terms_per_document = {}\n",
    "\n",
    "inverted_index = collections.defaultdict(dict)\n",
    "collection_frequencies = collections.defaultdict(int)\n",
    "\n",
    "total_terms = 0\n",
    "\n",
    "for int_doc_id in range(index.document_base(), index.maximum_document()):\n",
    "    ext_doc_id, doc_token_ids = index.document(int_doc_id)\n",
    "\n",
    "    document_bow = collections.Counter(\n",
    "        token_id for token_id in doc_token_ids\n",
    "        if token_id > 0)\n",
    "    document_length = sum(document_bow.values())\n",
    "\n",
    "    document_lengths[int_doc_id] = document_length\n",
    "    total_terms += document_length\n",
    "\n",
    "    unique_terms_per_document[int_doc_id] = len(document_bow)\n",
    "\n",
    "    for query_term_id in query_term_ids:\n",
    "        assert query_term_id is not None\n",
    "\n",
    "        document_term_frequency = document_bow.get(query_term_id, 0)\n",
    "\n",
    "        if document_term_frequency == 0:\n",
    "            continue\n",
    "\n",
    "        collection_frequencies[query_term_id] += document_term_frequency\n",
    "        inverted_index[query_term_id][int_doc_id] = document_term_frequency\n",
    "\n",
    "avg_doc_length = total_terms / num_documents\n",
    "\n",
    "print('Inverted index creation took', time.time() - start_time, 'seconds.')"
   ]
  },
  {
   "cell_type": "code",
   "execution_count": 13,
   "metadata": {
    "collapsed": true
   },
   "outputs": [],
   "source": [
    "from collections import defaultdict\n",
    "\n",
    "def run_retrieval(model_name, score_fn, **args):\n",
    "    \"\"\"\n",
    "    Runs a retrieval method for all the queries and writes the TREC-friendly results in a file.\n",
    "    \n",
    "    :param model_name: the name of the model (a string)\n",
    "    :param score_fn: the scoring function (a function - see below for an example) \n",
    "    \"\"\"\n",
    "    run_out_path = '{}.run'.format(model_name)\n",
    "\n",
    "    if os.path.exists(run_out_path):\n",
    "        return\n",
    "\n",
    "    retrieval_start_time = time.time()\n",
    "\n",
    "    print('Retrieving using', model_name)\n",
    "\n",
    "    data = {}\n",
    "    \n",
    "    for qid in tokenized_queries.keys(): #for each query\n",
    "#     for qid in ['135']: #test\n",
    "        try:\n",
    "            if score_fn==bm25:\n",
    "                tokenized_queries[qid] = list(set(tokenized_queries[qid]))\n",
    "        except:\n",
    "            pass\n",
    "        score = defaultdict(float)\n",
    "        #score = {}\n",
    "        for query_term_id in tokenized_queries[qid]: #for each word_id in query\n",
    "\n",
    "            for (int_document_id,document_term_freq) in zip(inverted_index[query_term_id].keys(),inverted_index[query_term_id].values()):\n",
    "                #for each document where the word appears, calculate scoring function increment its score\n",
    "                new_score = score_fn(int_document_id, query_term_id, document_term_freq, **args)\n",
    "                \n",
    "                score[int_document_id] += new_score \n",
    "\n",
    "        #turn dict to list of tuples and continue        \n",
    "        # The dictionary data should have the form: query_id --> (document_score, external_doc_id)\n",
    "        data[qid] = [(score, index.ext_document_id(doc_id)) for (score, doc_id) in zip(score.values(), score.keys())]\n",
    "        \n",
    "#     write out\n",
    "    with open(run_out_path, 'w') as f_out:\n",
    "        write_run(\n",
    "            model_name=model_name,\n",
    "            data=data,\n",
    "            out_f=f_out,\n",
    "            max_objects_per_query=1000)"
   ]
  },
  {
   "cell_type": "code",
   "execution_count": null,
   "metadata": {
    "collapsed": true
   },
   "outputs": [],
   "source": []
  },
  {
   "cell_type": "markdown",
   "metadata": {},
   "source": [
    "** Task 1 implementation **"
   ]
  },
  {
   "cell_type": "markdown",
   "metadata": {
    "collapsed": true
   },
   "source": [
    "### TF-IDF"
   ]
  },
  {
   "cell_type": "code",
   "execution_count": 16,
   "metadata": {
    "collapsed": true
   },
   "outputs": [],
   "source": [
    "def tfidf(int_document_id, query_term_id, document_term_freq):\n",
    "    \"\"\"\n",
    "    Scoring function for a document and a query term\n",
    "    \n",
    "    :param int_document_id: the document id\n",
    "    :param query_token_id: the query term id (assuming you have split the query to tokens)\n",
    "    :param document_term_freq: the document term frequency of the query term \n",
    "    \"\"\"\n",
    "    \n",
    "    ## Amount of time a term appears in a document  \n",
    "    df = document_term_freq\n",
    "    ## Total terms in a document\n",
    "    dl = document_lengths[int_document_id]\n",
    "    ## Amount of documents containing a term\n",
    "    n = len(inverted_index[query_term_id])\n",
    "    \n",
    "\n",
    "    tf = np.log2(1 + df)\n",
    "    idf = np.log2((n/df))\n",
    "    \n",
    "    score = tf * idf\n",
    "\n",
    "    return score"
   ]
  },
  {
   "cell_type": "code",
   "execution_count": null,
   "metadata": {
    "collapsed": true
   },
   "outputs": [],
   "source": []
  },
  {
   "cell_type": "code",
   "execution_count": 19,
   "metadata": {},
   "outputs": [
    {
     "name": "stdout",
     "output_type": "stream",
     "text": [
      "elapsed time: 0.00011205673217773438\n"
     ]
    }
   ],
   "source": [
    "start_time = time.time()\n",
    "\n",
    "run_retrieval('retrievals/tf-idf',tfidf)\n",
    "\n",
    "print ('elapsed time:',time.time()-start_time)"
   ]
  },
  {
   "cell_type": "code",
   "execution_count": 20,
   "metadata": {},
   "outputs": [
    {
     "name": "stdout",
     "output_type": "stream",
     "text": [
      "TF-IDF scores:\n",
      "validation:\n",
      "P_5                   \tall\t0.3200\n",
      "recall_1000           \tall\t0.5766\n",
      "ndcg_cut_10           \tall\t0.3409\n",
      "map_cut_1000          \tall\t0.2049\n",
      "\n",
      "test:\n",
      "P_5                   \tall\t0.3700\n",
      "recall_1000           \tall\t0.5352\n",
      "ndcg_cut_10           \tall\t0.3549\n",
      "map_cut_1000          \tall\t0.1592\n"
     ]
    }
   ],
   "source": [
    "#NEW tf-idf\n",
    "# trec_eval command for evalutaion of tf-idf \n",
    "print('TF-IDF scores:\\nvalidation:')\n",
    "!trec_eval -m all_trec ./ap_88_89/qrel_validation retrievals/tf-idf.run | grep -E \"^ndcg_cut_10\\s|^map_cut_1000\\s|^P_5\\s|^recall_1000\\s\"\n",
    "print('\\ntest:')\n",
    "# trec_eval command for evalutaion of tf-idf \n",
    "!trec_eval -m all_trec ./ap_88_89/qrel_test retrievals/tf-idf.run | grep -E \"^ndcg_cut_10\\s|^map_cut_1000\\s|^P_5\\s|^recall_1000\\s\""
   ]
  },
  {
   "cell_type": "code",
   "execution_count": null,
   "metadata": {
    "collapsed": true
   },
   "outputs": [],
   "source": []
  },
  {
   "cell_type": "markdown",
   "metadata": {},
   "source": []
  },
  {
   "cell_type": "markdown",
   "metadata": {},
   "source": [
    "### BM25"
   ]
  },
  {
   "cell_type": "code",
   "execution_count": 21,
   "metadata": {
    "collapsed": true
   },
   "outputs": [],
   "source": [
    "def bm25(int_document_id, query_term_id, document_term_freq ,k1=1.2 , b=0.75,length_avg = round(np.average(np.array(list(document_lengths.values())))) ):\n",
    "    \"\"\"\n",
    "    Scoring function for a document and a query term\n",
    "    \n",
    "    :param int_document_id: the document id\n",
    "    :param query_token_id: the query term id (assuming you have split the query to tokens)\n",
    "    :param document_term_freq: the document term frequency of the query term\n",
    "    \n",
    "    Hyperparameters: k1=1.2 and b=0.75\n",
    "    -\n",
    "    \"\"\"\n",
    "    \n",
    "    ## Amount of time a term appears in a document  \n",
    "    df = document_term_freq\n",
    "     \n",
    "    \n",
    "    ## tf, idf\n",
    "    tf = np.log2(1 + df)\n",
    "    idf = np.log2((len(inverted_index[query_term_id])/df))\n",
    "    \n",
    "    ## Total terms in a document : document_lengths[int_document_id]    \n",
    "    ## Amount of documents containing a term : len(inverted_index[query_term_id])\n",
    "    ## document length : document_lengths[int_document_id]\n",
    "    \n",
    "    return ((k1+1)*tf*idf)/(k1*((1-b)+b*(document_lengths[int_document_id] /length_avg))+tf)"
   ]
  },
  {
   "cell_type": "code",
   "execution_count": 22,
   "metadata": {},
   "outputs": [
    {
     "name": "stdout",
     "output_type": "stream",
     "text": [
      "BM25 scoring took 0.00011610984802246094 seconds.\n"
     ]
    }
   ],
   "source": [
    "start_time=time.time() \n",
    "\n",
    "run_retrieval('retrievals/bm25',bm25)\n",
    "\n",
    "print('BM25 scoring took', time.time() - start_time, 'seconds.')"
   ]
  },
  {
   "cell_type": "code",
   "execution_count": 23,
   "metadata": {},
   "outputs": [
    {
     "name": "stdout",
     "output_type": "stream",
     "text": [
      "BM25 scores:\n",
      "validation:\n",
      "P_5                   \tall\t0.2333\n",
      "recall_1000           \tall\t0.5080\n",
      "ndcg_cut_10           \tall\t0.2360\n",
      "map_cut_1000          \tall\t0.1397\n",
      "\n",
      "test:\n",
      "P_5                   \tall\t0.2417\n",
      "recall_1000           \tall\t0.4779\n",
      "ndcg_cut_10           \tall\t0.2386\n",
      "map_cut_1000          \tall\t0.1112\n"
     ]
    }
   ],
   "source": [
    "#BM25\n",
    "print('BM25 scores:\\nvalidation:')\n",
    "!trec_eval -m all_trec ./ap_88_89/qrel_validation retrievals/bm25.run | grep -E \"^ndcg_cut_10\\s|^map_cut_1000\\s|^P_5\\s|^recall_1000\\s\"\n",
    "print('\\ntest:')\n",
    "!trec_eval -m all_trec ./ap_88_89/qrel_test retrievals/bm25.run | grep -E \"^ndcg_cut_10\\s|^map_cut_1000\\s|^P_5\\s|^recall_1000\\s\""
   ]
  },
  {
   "cell_type": "markdown",
   "metadata": {},
   "source": []
  },
  {
   "cell_type": "markdown",
   "metadata": {},
   "source": [
    "** Cache word-vocabulary tf **"
   ]
  },
  {
   "cell_type": "code",
   "execution_count": 24,
   "metadata": {
    "collapsed": true
   },
   "outputs": [],
   "source": [
    "# #precompute the 2nd term of jelinek mercer smoothening to speed-up computations\n",
    "# P_mle_col = dict()\n",
    "# for query_term_id in query_term_ids:\n",
    "#     P_mle_col[query_term_id] = index.get_term_frequencies()[query_term_id] / index.total_terms()\n",
    "    \n",
    "#precompute the logged 2nd term of jelinek mercer smoothening to speed-up computations\n",
    "P_mle_col_log = dict()\n",
    "for query_term_id in query_term_ids:\n",
    "    P_mle_col_log[query_term_id] = np.log(index.get_term_frequencies()[query_term_id]) - np.log(index.total_terms())"
   ]
  },
  {
   "cell_type": "code",
   "execution_count": 25,
   "metadata": {},
   "outputs": [
    {
     "data": {
      "text/plain": [
       "{1: -6.094564334455754,\n",
       " 8: -6.452690996515583,\n",
       " 11: -6.667569625670527,\n",
       " 13: -6.805897474917954,\n",
       " 19: -6.94763507529095,\n",
       " 20: -6.9646388345306125,\n",
       " 21: -7.000462798862898,\n",
       " 33: -7.196186693050057,\n",
       " 35: -7.218130869003478,\n",
       " 38: -7.245960746119422,\n",
       " 39: -7.2495478290848485,\n",
       " 54: -7.399465639679484,\n",
       " 55: -7.406028986354565,\n",
       " 57: -7.411023459397663,\n",
       " 68: -7.505304475486099,\n",
       " 69: -7.516200161306671,\n",
       " 72: -7.525823097150003,\n",
       " 75: -7.532142775255908,\n",
       " 77: -7.535021891363462,\n",
       " 78: -7.541152178760857,\n",
       " 80: -7.548918241439223,\n",
       " 82: -7.563669553581244,\n",
       " 85: -7.5759938104596145,\n",
       " 92: -7.623712661655112,\n",
       " 94: -7.629112971795671,\n",
       " 97: -7.644363366253662,\n",
       " 107: -7.693667737819487,\n",
       " 110: -7.705111703661855,\n",
       " 114: -7.714562626638823,\n",
       " 118: -7.736596582547996,\n",
       " 119: -7.741007732367983,\n",
       " 128: -7.761967728627411,\n",
       " 138: -7.790541549208662,\n",
       " 140: -7.796061225023601,\n",
       " 142: -7.808779331959368,\n",
       " 152: -7.826201204562338,\n",
       " 156: -7.845174579370866,\n",
       " 163: -7.853373974083718,\n",
       " 166: -7.868841103877868,\n",
       " 168: -7.874119617453598,\n",
       " 170: -7.881166422627183,\n",
       " 180: -7.9023250863223335,\n",
       " 186: -7.931862184476339,\n",
       " 191: -7.952486052625543,\n",
       " 192: -7.960260301684594,\n",
       " 196: -7.965476915918741,\n",
       " 203: -7.984145450895536,\n",
       " 205: -7.991625960962814,\n",
       " 213: -8.017438676202008,\n",
       " 214: -8.01755844863453,\n",
       " 219: -8.02726765228874,\n",
       " 229: -8.059510669844745,\n",
       " 235: -8.079104300370455,\n",
       " 236: -8.091795422529955,\n",
       " 238: -8.095759578014185,\n",
       " 241: -8.099826207023206,\n",
       " 248: -8.115819556443224,\n",
       " 252: -8.126892885696419,\n",
       " 255: -8.134493405139246,\n",
       " 258: -8.137099796764383,\n",
       " 269: -8.153934370888356,\n",
       " 274: -8.171709128461789,\n",
       " 276: -8.177408214284599,\n",
       " 277: -8.17754876571494,\n",
       " 281: -8.188430983575348,\n",
       " 303: -8.246247171153707,\n",
       " 307: -8.251480150791854,\n",
       " 310: -8.25628432701464,\n",
       " 313: -8.259788202631933,\n",
       " 325: -8.279204293593972,\n",
       " 328: -8.28591764919195,\n",
       " 335: -8.301176284707337,\n",
       " 341: -8.318557795646296,\n",
       " 351: -8.332355613544744,\n",
       " 358: -8.349457591568457,\n",
       " 360: -8.354030685255744,\n",
       " 373: -8.377558520900468,\n",
       " 377: -8.386064319308423,\n",
       " 380: -8.387912962238133,\n",
       " 382: -8.400013168046945,\n",
       " 388: -8.405706506976594,\n",
       " 389: -8.406825503530236,\n",
       " 390: -8.408063747740453,\n",
       " 391: -8.409598939350422,\n",
       " 392: -8.410958960847344,\n",
       " 395: -8.414278072476689,\n",
       " 397: -8.421846417055878,\n",
       " 416: -8.447230181878343,\n",
       " 420: -8.45523860267505,\n",
       " 431: -8.466684360870174,\n",
       " 436: -8.483466030332387,\n",
       " 447: -8.50371028713405,\n",
       " 448: -8.505204618698873,\n",
       " 451: -8.508591361547866,\n",
       " 463: -8.542429924781906,\n",
       " 472: -8.552059076283335,\n",
       " 483: -8.570211389890524,\n",
       " 484: -8.570280778920147,\n",
       " 485: -8.571530605495838,\n",
       " 496: -8.591885042066268,\n",
       " 515: -8.636842950124434,\n",
       " 518: -8.638921798597503,\n",
       " 519: -8.644137905804055,\n",
       " 520: -8.644735768462922,\n",
       " 523: -8.646906021887244,\n",
       " 539: -8.666653211703027,\n",
       " 580: -8.708790989598809,\n",
       " 588: -8.71880348863926,\n",
       " 590: -8.723807130746826,\n",
       " 601: -8.735689747975428,\n",
       " 609: -8.742343569706636,\n",
       " 625: -8.7567884497897,\n",
       " 629: -8.758713539314966,\n",
       " 631: -8.760978165990512,\n",
       " 642: -8.77186940455293,\n",
       " 654: -8.785716963206031,\n",
       " 659: -8.789338593447189,\n",
       " 684: -8.810995045825008,\n",
       " 690: -8.814620961802882,\n",
       " 692: -8.816305732762245,\n",
       " 694: -8.816927154061483,\n",
       " 719: -8.841104847296378,\n",
       " 735: -8.857246063475763,\n",
       " 738: -8.859374806933161,\n",
       " 746: -8.867748506774133,\n",
       " 774: -8.895697841566166,\n",
       " 776: -8.898488048793219,\n",
       " 781: -8.90341392923203,\n",
       " 789: -8.91216629474098,\n",
       " 804: -8.928811185842893,\n",
       " 811: -8.934588094339025,\n",
       " 812: -8.936087569803664,\n",
       " 819: -8.939996761370423,\n",
       " 824: -8.949279443301792,\n",
       " 829: -8.95527813954733,\n",
       " 832: -8.956196366413867,\n",
       " 846: -8.978073206278763,\n",
       " 851: -8.983303343723989,\n",
       " 862: -8.997562893500413,\n",
       " 881: -9.017331478822836,\n",
       " 917: -9.052783261658572,\n",
       " 922: -9.058194164275122,\n",
       " 942: -9.072309367325289,\n",
       " 946: -9.075524434970125,\n",
       " 955: -9.084767712796479,\n",
       " 982: -9.109921836393662,\n",
       " 985: -9.110517180817984,\n",
       " 1000: -9.125033661513244,\n",
       " 1033: -9.147149536322697,\n",
       " 1042: -9.156957796714854,\n",
       " 1056: -9.167115260684232,\n",
       " 1070: -9.181715913633994,\n",
       " 1098: -9.195884105299246,\n",
       " 1099: -9.196532908280547,\n",
       " 1116: -9.211704530703603,\n",
       " 1122: -9.217652601904877,\n",
       " 1138: -9.23140173393137,\n",
       " 1145: -9.239634454700141,\n",
       " 1160: -9.249029309014684,\n",
       " 1161: -9.250672244762116,\n",
       " 1178: -9.262387629254835,\n",
       " 1189: -9.266555459683707,\n",
       " 1240: -9.302412769574559,\n",
       " 1266: -9.322821641205767,\n",
       " 1268: -9.324000539072925,\n",
       " 1275: -9.332589367230002,\n",
       " 1302: -9.351657582535637,\n",
       " 1312: -9.35819703249975,\n",
       " 1322: -9.366162760894657,\n",
       " 1329: -9.372952910440288,\n",
       " 1339: -9.37901024044673,\n",
       " 1373: -9.402974811533833,\n",
       " 1404: -9.420845366799739,\n",
       " 1424: -9.431788718149933,\n",
       " 1434: -9.439868570829647,\n",
       " 1449: -9.450353812934255,\n",
       " 1459: -9.458248369766737,\n",
       " 1466: -9.461119265937679,\n",
       " 1483: -9.472857088887919,\n",
       " 1490: -9.47525558241397,\n",
       " 1510: -9.488551124895215,\n",
       " 1525: -9.499210902548766,\n",
       " 1533: -9.503259847434204,\n",
       " 1535: -9.5055556541821,\n",
       " 1583: -9.537349980220093,\n",
       " 1605: -9.553727197855466,\n",
       " 1608: -9.556514008762644,\n",
       " 1622: -9.568869089174838,\n",
       " 1633: -9.577381388753356,\n",
       " 1644: -9.5832878553863,\n",
       " 1664: -9.59501312186676,\n",
       " 1704: -9.617103747466572,\n",
       " 1709: -9.619478575418245,\n",
       " 1723: -9.63003539091879,\n",
       " 1760: -9.652103297281625,\n",
       " 1781: -9.664047426098016,\n",
       " 1783: -9.664876441689536,\n",
       " 1801: -9.672159795080644,\n",
       " 1812: -9.676765204099821,\n",
       " 1821: -9.68202449885639,\n",
       " 1822: -9.682657477039777,\n",
       " 1842: -9.694120137040901,\n",
       " 1847: -9.696257346659705,\n",
       " 1848: -9.697541868352062,\n",
       " 1856: -9.700115872347235,\n",
       " 1861: -9.704420657298867,\n",
       " 1891: -9.718321836843806,\n",
       " 1893: -9.718759377870258,\n",
       " 1906: -9.726668030691034,\n",
       " 1912: -9.73264083906786,\n",
       " 1920: -9.736865414555975,\n",
       " 1931: -9.742899626630244,\n",
       " 1959: -9.756668041852155,\n",
       " 1982: -9.76832664916087,\n",
       " 1987: -9.771089717923141,\n",
       " 2053: -9.81323839334055,\n",
       " 2088: -9.831930526352702,\n",
       " 2097: -9.83610487250019,\n",
       " 2121: -9.846741954861233,\n",
       " 2127: -9.849481341457894,\n",
       " 2129: -9.850978721323397,\n",
       " 2152: -9.861776064136592,\n",
       " 2177: -9.881407032347292,\n",
       " 2178: -9.881664532026841,\n",
       " 2181: -9.88475971118086,\n",
       " 2183: -9.885276507057995,\n",
       " 2199: -9.89384242575518,\n",
       " 2208: -9.89749873695829,\n",
       " 2230: -9.908019612540105,\n",
       " 2231: -9.909607334493117,\n",
       " 2294: -9.94217648957463,\n",
       " 2296: -9.942450124820557,\n",
       " 2313: -9.947388406461139,\n",
       " 2324: -9.952074838194767,\n",
       " 2336: -9.95928507464499,\n",
       " 2353: -9.967108528910112,\n",
       " 2354: -9.967108528910112,\n",
       " 2371: -9.974145855630688,\n",
       " 2387: -9.990665741430373,\n",
       " 2409: -9.99931880955519,\n",
       " 2439: -10.009802306850048,\n",
       " 2460: -10.02128484137294,\n",
       " 2485: -10.030208160547181,\n",
       " 2509: -10.040116663772,\n",
       " 2510: -10.041022324211262,\n",
       " 2527: -10.051649416785548,\n",
       " 2540: -10.058694935285157,\n",
       " 2549: -10.06239065861696,\n",
       " 2563: -10.067029603073355,\n",
       " 2569: -10.07106750264265,\n",
       " 2587: -10.081391385984286,\n",
       " 2598: -10.085172108824192,\n",
       " 2619: -10.091822964694101,\n",
       " 2621: -10.092776708209412,\n",
       " 2636: -10.100760145150705,\n",
       " 2642: -10.105580980455398,\n",
       " 2643: -10.105903197310129,\n",
       " 2673: -10.122803177041838,\n",
       " 2697: -10.13334693205167,\n",
       " 2731: -10.146349282259058,\n",
       " 2743: -10.151058339060631,\n",
       " 2760: -10.156467412424643,\n",
       " 2783: -10.169432452441932,\n",
       " 2791: -10.171839192472497,\n",
       " 2793: -10.172872428314374,\n",
       " 2832: -10.187450957944609,\n",
       " 2845: -10.190252080224322,\n",
       " 2846: -10.190953588495812,\n",
       " 2856: -10.194468530603256,\n",
       " 2897: -10.211156295813332,\n",
       " 2911: -10.216181432016004,\n",
       " 3027: -10.261451351162183,\n",
       " 3063: -10.277773596237896,\n",
       " 3066: -10.279688938711963,\n",
       " 3067: -10.279688938711963,\n",
       " 3069: -10.281607956763942,\n",
       " 3076: -10.284300783934528,\n",
       " 3173: -10.321581930880889,\n",
       " 3177: -10.322782171072985,\n",
       " 3269: -10.362803845422471,\n",
       " 3291: -10.369912384659767,\n",
       " 3367: -10.3954131289881,\n",
       " 3383: -10.40102505824267,\n",
       " 3454: -10.42467924914056,\n",
       " 3485: -10.43761719450114,\n",
       " 3516: -10.447545073877562,\n",
       " 3558: -10.458489095556878,\n",
       " 3564: -10.459865558265601,\n",
       " 3576: -10.464006350931633,\n",
       " 3579: -10.464928860222148,\n",
       " 3594: -10.4686274312437,\n",
       " 3614: -10.474666938567864,\n",
       " 3628: -10.483090011296973,\n",
       " 3649: -10.490163844142451,\n",
       " 3655: -10.492058681279733,\n",
       " 3672: -10.49871902940227,\n",
       " 3676: -10.50110851679965,\n",
       " 3698: -10.508793472969035,\n",
       " 3895: -10.583346615036625,\n",
       " 3924: -10.59326577754436,\n",
       " 4040: -10.630138776543383,\n",
       " 4072: -10.639436081687666,\n",
       " 4081: -10.64163630259727,\n",
       " 4104: -10.64826616113594,\n",
       " 4193: -10.676943976837274,\n",
       " 4204: -10.68094512535896,\n",
       " 4400: -10.741140286142382,\n",
       " 4451: -10.757700002181402,\n",
       " 4675: -10.814967556539877,\n",
       " 4735: -10.832141030125047,\n",
       " 4755: -10.837485064219319,\n",
       " 4886: -10.878502433930336,\n",
       " 4916: -10.886911733661407,\n",
       " 4934: -10.89255747907398,\n",
       " 5030: -10.922003053472679,\n",
       " 5098: -10.941135351553836,\n",
       " 5189: -10.965957987455713,\n",
       " 5197: -10.969773329741365,\n",
       " 5279: -10.994542397853774,\n",
       " 5442: -11.039421724031206,\n",
       " 5448: -11.040241732277238,\n",
       " 5465: -11.046000695129248,\n",
       " 5506: -11.058454156200536,\n",
       " 5552: -11.07021899778012,\n",
       " 5581: -11.080414498160792,\n",
       " 5609: -11.087269709239845,\n",
       " 5630: -11.090715018418756,\n",
       " 5723: -11.113403600730502,\n",
       " 5802: -11.139332634921468,\n",
       " 5810: -11.141145872045648,\n",
       " 5814: -11.14205372503583,\n",
       " 5872: -11.155771361264627,\n",
       " 5902: -11.163165110289565,\n",
       " 5967: -11.1809475161571,\n",
       " 6153: -11.226344011911097,\n",
       " 20692: -11.471466469944083,\n",
       " 20750: -12.208491656676081,\n",
       " 23989: -11.51008130607186,\n",
       " 26337: -12.947530830492681,\n",
       " 28392: -11.314074296192654,\n",
       " 29064: -11.695557439614333,\n",
       " 29891: -12.947530830492681,\n",
       " 30473: -12.712305858204267,\n",
       " 36062: -12.953071010868298,\n",
       " 39370: -11.409060903756654,\n",
       " 40238: -12.616598774247084,\n",
       " 43984: -11.896052619499025,\n",
       " 45097: -11.273899760419521,\n",
       " 48553: -11.599242450997984,\n",
       " 51043: -14.035153997585198,\n",
       " 52100: -13.366904368646978,\n",
       " 53245: -11.480344143976101,\n",
       " 53672: -12.98697256254398,\n",
       " 54952: -11.982713057723867,\n",
       " 61863: -11.447759807643095,\n",
       " 63065: -11.244290655101935,\n",
       " 63508: -12.669564309826997,\n",
       " 64853: -12.925672036680183,\n",
       " 65624: -11.52996267662569,\n",
       " 66582: -12.279559804825212,\n",
       " 67300: -11.400791512274147,\n",
       " 71869: -12.30538620438511,\n",
       " 71970: -12.936541708917087,\n",
       " 73364: -14.457148407644572,\n",
       " 73379: -11.76421184435241,\n",
       " 74122: -12.205856609038076,\n",
       " 74181: -11.919491192471042,\n",
       " 76611: -11.507460072591988,\n",
       " 76733: -13.263225939172138,\n",
       " 78639: -12.756956131942008,\n",
       " 82174: -11.515344476116137,\n",
       " 83861: -13.561060383087936,\n",
       " 84387: -11.828863175011225,\n",
       " 86216: -11.550247347797196,\n",
       " 86670: -11.371803975400894,\n",
       " 88519: -11.929421760673645,\n",
       " 89553: -11.280136786875069,\n",
       " 90480: -11.646240821102655,\n",
       " 91954: -11.672137165406234,\n",
       " 91961: -12.551316482156668,\n",
       " 96348: -16.759733500638617,\n",
       " 97318: -13.255678733536755,\n",
       " 99893: -13.72718725396191,\n",
       " 100114: -11.607888037990838,\n",
       " 100217: -15.010533645829359,\n",
       " 104782: -11.394926392821748,\n",
       " 105220: -11.637258724786825,\n",
       " 111208: -11.781277104906597,\n",
       " 116012: -11.38561317067508,\n",
       " 116975: -13.624239284709468,\n",
       " 117322: -14.482466215628861,\n",
       " 119910: -14.317386465269413,\n",
       " 120650: -13.48258876764644,\n",
       " 121054: -14.813823351583304,\n",
       " 121675: -11.397268314266828,\n",
       " 121844: -11.772708072181496,\n",
       " 122153: -11.409060903756654,\n",
       " 122164: -11.259496219227998,\n",
       " 128358: -11.92345159368714,\n",
       " 128371: -14.4324557950542,\n",
       " 140391: -11.543439969569171,\n",
       " 140799: -11.637258724786825,\n",
       " 141966: -12.608693594739972,\n",
       " 144171: -11.607888037990838,\n",
       " 151493: -12.91491924490392,\n",
       " 153960: -17.452880681198565,\n",
       " 154987: -11.269763249867742,\n",
       " 155285: -12.021344470864303,\n",
       " 156066: -13.034040073401965,\n",
       " 157422: -11.45270419348856,\n",
       " 159894: -11.861893700687705,\n",
       " 160909: -13.083432828731542,\n",
       " 163926: -13.350237316161767,\n",
       " 163974: -11.79339846543894,\n",
       " 171612: -17.452880681198565,\n",
       " 172647: -12.112941639959708,\n",
       " 176407: -13.764001227084627,\n",
       " 178428: -12.322981966275488,\n",
       " 178525: -15.50697053214325,\n",
       " 187515: -11.701896605058067,\n",
       " 188098: -12.747865160240757,\n",
       " 190739: -11.440388766898504,\n",
       " 191898: -12.195385309170781,\n",
       " 192484: -11.95571245590536,\n",
       " 192943: -12.28239668616041,\n",
       " 198109: -18.14602786175851,\n",
       " 200099: -11.87315085521234,\n",
       " 201208: -13.540857675770416,\n",
       " 202871: -13.971640591862872,\n",
       " 203193: -11.298022587182146,\n",
       " 212881: -12.789441587086497,\n",
       " 213404: -12.942021174681713,\n",
       " 215481: -12.328916701795304,\n",
       " 218232: -11.547518833143993,\n",
       " 220439: -14.254207563647881,\n",
       " 226043: -11.705081321125586,\n",
       " 226762: -11.64024380163028,\n",
       " 227473: -12.752400315406145,\n",
       " 228094: -11.294842934264764,\n",
       " 231164: -15.50697053214325,\n",
       " 231615: -12.690706746400807,\n",
       " 233033: -12.248873994121768,\n",
       " 235195: -12.493538681489857,\n",
       " 237281: -12.246130508176016,\n",
       " 237289: -13.02206388235525,\n",
       " 237310: -15.312814517702293,\n",
       " 238359: -11.300147986494459,\n",
       " 238862: -13.463896634634288,\n",
       " 238866: -11.321654191715421,\n",
       " 243152: -12.337885371778064,\n",
       " 243556: -11.830669860236174,\n",
       " 249163: -12.157066444868644,\n",
       " 250383: -11.744110665031322,\n",
       " 250488: -13.53090734491725,\n",
       " 254101: -12.981241887834994,\n",
       " 254885: -14.138694676526036}"
      ]
     },
     "execution_count": 25,
     "metadata": {},
     "output_type": "execute_result"
    }
   ],
   "source": [
    "P_mle_col_log"
   ]
  },
  {
   "cell_type": "markdown",
   "metadata": {},
   "source": [
    "### Jelinek-Mercer"
   ]
  },
  {
   "cell_type": "code",
   "execution_count": 26,
   "metadata": {
    "collapsed": true
   },
   "outputs": [],
   "source": [
    "def jelinek_mercer(int_document_id, query_term_id, document_term_freq, lambd = 0.75):\n",
    "    \"\"\"\n",
    "    Scoring function for a document and a query term\n",
    "    \n",
    "    :param int_document_id: the document id\n",
    "    :param query_token_id: the query term id (assuming you have split the query to tokens)\n",
    "    :param document_term_freq: the document term frequency of the query term\n",
    "    :param lambd: lambda value of linear interpolation (default = 0.75)\n",
    "    \"\"\"\n",
    "#     P_mle_doc_log = document_term_freq / document_lengths[int_document_id]\n",
    "    \n",
    "    return np.logaddexp( (np.log(lambd) + np.log(document_term_freq) - np.log(document_lengths[int_document_id])),\n",
    "                        (np.log(1-lambd) + P_mle_col_log[query_term_id]) )"
   ]
  },
  {
   "cell_type": "code",
   "execution_count": 27,
   "metadata": {},
   "outputs": [
    {
     "name": "stdout",
     "output_type": "stream",
     "text": [
      "elapsed time: 7.605552673339844e-05\n"
     ]
    }
   ],
   "source": [
    "#final run\n",
    "start_time = time.time()\n",
    "test_dict = run_retrieval('retrievals/jelinek_mercer',jelinek_mercer)\n",
    "print ('elapsed time:',time.time()-start_time)"
   ]
  },
  {
   "cell_type": "code",
   "execution_count": 28,
   "metadata": {},
   "outputs": [
    {
     "name": "stdout",
     "output_type": "stream",
     "text": [
      "map                   \tall\t0.0798\r\n",
      "P_5                   \tall\t0.1200\r\n",
      "recall_1000           \tall\t0.2394\r\n",
      "ndcg_cut_10           \tall\t0.1331\r\n"
     ]
    }
   ],
   "source": [
    "# trec_eval command for evalutaion of jelinek_mercer\n",
    "\n",
    "!trec_eval -m all_trec ./ap_88_89/qrel_validation retrievals/jelinek_mercer_lambda\\=0.3.run | grep -E \"^ndcg_cut_10\\s|^map\\s|^P_5\\s|^recall_1000\\s\""
   ]
  },
  {
   "cell_type": "code",
   "execution_count": 29,
   "metadata": {
    "scrolled": true
   },
   "outputs": [
    {
     "name": "stdout",
     "output_type": "stream",
     "text": [
      "P_5                   \tall\t0.0283\r\n",
      "recall_1000           \tall\t0.1312\r\n",
      "ndcg_cut_10           \tall\t0.0323\r\n",
      "map_cut_1000          \tall\t0.0149\r\n"
     ]
    }
   ],
   "source": [
    "# trec_eval command for evalutaion of jelinek_mercer\n",
    "\n",
    "!trec_eval -m all_trec ./ap_88_89/qrel_test retrievals/jelinek_mercer_lambda\\=0.3.run | grep -E \"^ndcg_cut_10\\s|^map_cut_1000\\s|^P_5\\s|^recall_1000\\s\""
   ]
  },
  {
   "cell_type": "code",
   "execution_count": null,
   "metadata": {
    "collapsed": true
   },
   "outputs": [],
   "source": []
  },
  {
   "cell_type": "markdown",
   "metadata": {},
   "source": [
    "### Dirichlet Prior"
   ]
  },
  {
   "cell_type": "code",
   "execution_count": 30,
   "metadata": {
    "collapsed": true
   },
   "outputs": [],
   "source": [
    "def dirichlet_prior(int_document_id, query_term_id, document_term_freq, mu=500):\n",
    "    \"\"\"\n",
    "    Scoring function for a document and a query term\n",
    "    \n",
    "    :param int_document_id: the document id\n",
    "    :param query_token_id: the query term id (assuming you have split the query to tokens)\n",
    "    :param document_term_freq: the document term frequency of the query term \n",
    "    \"\"\"\n",
    "    ## Amount of time a term appears in a document  \n",
    "    df = document_term_freq\n",
    "    \n",
    "    ## tf, idf\n",
    "    tf = np.log(1 + (document_term_freq))\n",
    "    \n",
    "    ##p_w_C = P_mle_col[query_term_id])\n",
    "    ## document length : document_lengths[int_document_id]\n",
    "    \n",
    "    return np.logaddexp( (np.log(document_term_frequency)) ,\n",
    "                        (np.log(mu) + P_mle_col_log[query_term_id]) ) - np.log( document_lengths[int_document_id] + mu )\n",
    "\n",
    "#     return np.log(tf+mu*P_mle_col[query_term_id])-np.log(document_lengths[int_document_id]+mu)\n"
   ]
  },
  {
   "cell_type": "code",
   "execution_count": 31,
   "metadata": {},
   "outputs": [
    {
     "name": "stdout",
     "output_type": "stream",
     "text": [
      "elapsed time: 0.0003180503845214844\n"
     ]
    }
   ],
   "source": [
    "#final run\n",
    "start_time = time.time()\n",
    "test_dict = run_retrieval('retrievals/dirichlet_prior',dirichlet_prior, mu=1000)\n",
    "print ('elapsed time:',time.time()-start_time)"
   ]
  },
  {
   "cell_type": "code",
   "execution_count": 32,
   "metadata": {},
   "outputs": [
    {
     "name": "stdout",
     "output_type": "stream",
     "text": [
      "P_5                   \tall\t0.0017\r\n",
      "recall_1000           \tall\t0.0433\r\n",
      "ndcg_cut_10           \tall\t0.0031\r\n",
      "map_cut_1000          \tall\t0.0055\r\n"
     ]
    }
   ],
   "source": [
    "!trec_eval -m all_trec ./ap_88_89/qrel_test retrievals/dirichlet_prior_mu\\=700.run | grep -E \"^ndcg_cut_10\\s|^map_cut_1000\\s|^P_5\\s|^recall_1000\\s\"\n"
   ]
  },
  {
   "cell_type": "code",
   "execution_count": 33,
   "metadata": {},
   "outputs": [
    {
     "name": "stdout",
     "output_type": "stream",
     "text": [
      "P_5                   \tall\t0.0467\r\n",
      "recall_1000           \tall\t0.1365\r\n",
      "ndcg_cut_10           \tall\t0.0519\r\n",
      "map_cut_1000          \tall\t0.0462\r\n"
     ]
    }
   ],
   "source": [
    "!trec_eval -m all_trec ./ap_88_89/qrel_validation retrievals/dirichlet_prior.run | grep -E \"^ndcg_cut_10\\s|^map_cut_1000\\s|^P_5\\s|^recall_1000\\s\"\n"
   ]
  },
  {
   "cell_type": "markdown",
   "metadata": {},
   "source": [
    "### Absolute discounting"
   ]
  },
  {
   "cell_type": "code",
   "execution_count": null,
   "metadata": {
    "collapsed": true
   },
   "outputs": [],
   "source": []
  },
  {
   "cell_type": "code",
   "execution_count": 34,
   "metadata": {
    "collapsed": true
   },
   "outputs": [],
   "source": [
    "def absolute_discounting(int_document_id, query_term_id, document_term_freq, delta=0.1):\n",
    "    \"\"\"\n",
    "    Scoring function for a document and a query term\n",
    "    \n",
    "    :param int_document_id: the document id\n",
    "    :param query_token_id: the query term id (assuming you have split the query to tokens)\n",
    "    :param document_term_freq: the document term frequency of the query term \n",
    "    \"\"\"\n",
    "    ## Amount of time a term appears in a document  \n",
    "#     df = document_term_freq\n",
    "     \n",
    "    \n",
    "#     ## tf, idf\n",
    "#     tf = np.log(1 + (df/document_lengths[int_document_id]))\n",
    "    \n",
    "#     ## p_w_C = P_mle_col[query_term_id])\n",
    "#     ## document length : document_lengths[int_document_id]\n",
    "#     ## document length u: collection_frequencies[query_term_id]\n",
    "    \n",
    "#     doc_length = document_lengths[int_document_id]\n",
    "    return np.logaddexp(np.log( max( document_term_frequency - delta ,0 ) ) - np.log( document_lengths[int_document_id] ) ,\n",
    "                              np.log(delta * unique_terms_per_document[int_doc_id] ) + P_mle_col_log[query_term_id] - np.log( document_lengths[int_document_id] ) )\n",
    "#     return np.log((np.max(tf-delta,1e-15)/doc_length)+\n",
    "#             ((delta*collection_frequencies[query_term_id]*P_mle_col[query_term_id])/doc_length))\n"
   ]
  },
  {
   "cell_type": "code",
   "execution_count": 35,
   "metadata": {},
   "outputs": [
    {
     "name": "stdout",
     "output_type": "stream",
     "text": [
      "elapsed time: 9.584426879882812e-05\n"
     ]
    }
   ],
   "source": [
    "#final run\n",
    "start_time = time.time()\n",
    "test_dict = run_retrieval('retrievals/absolute_disc_0.5',absolute_discounting, delta=0.5)\n",
    "print ('elapsed time:',time.time()-start_time)"
   ]
  },
  {
   "cell_type": "code",
   "execution_count": 36,
   "metadata": {},
   "outputs": [
    {
     "name": "stdout",
     "output_type": "stream",
     "text": [
      "P_5                   \tall\t0.0467\r\n",
      "recall_1000           \tall\t0.1352\r\n",
      "ndcg_cut_10           \tall\t0.0519\r\n",
      "map_cut_1000          \tall\t0.0456\r\n"
     ]
    }
   ],
   "source": [
    "!trec_eval -m all_trec ./ap_88_89/qrel_validation retrievals/absolute_disc_0.5.run | grep -E \"^ndcg_cut_10\\s|^map_cut_1000\\s|^P_5\\s|^recall_1000\\s\""
   ]
  },
  {
   "cell_type": "code",
   "execution_count": 37,
   "metadata": {},
   "outputs": [
    {
     "name": "stdout",
     "output_type": "stream",
     "text": [
      "P_5                   \tall\t0.0017\r\n",
      "recall_1000           \tall\t0.0478\r\n",
      "ndcg_cut_10           \tall\t0.0036\r\n",
      "map_cut_1000          \tall\t0.0059\r\n"
     ]
    }
   ],
   "source": [
    "!trec_eval -m all_trec ./ap_88_89/qrel_test retrievals/absolute_disc_0.5.run | grep -E \"^ndcg_cut_10\\s|^map_cut_1000\\s|^P_5\\s|^recall_1000\\s\""
   ]
  },
  {
   "cell_type": "code",
   "execution_count": null,
   "metadata": {
    "collapsed": true
   },
   "outputs": [],
   "source": []
  },
  {
   "cell_type": "markdown",
   "metadata": {},
   "source": [
    "### Hyper-parameter testing"
   ]
  },
  {
   "cell_type": "code",
   "execution_count": 38,
   "metadata": {
    "collapsed": true
   },
   "outputs": [],
   "source": [
    "def get_scores(filenames, validation=False):\n",
    "    \"\"\"\n",
    "    Function to get scores from trec_eval using a \n",
    "    :param filenames: a list of *.run files (retrieval scores for queries)\n",
    "    :param validation: boolean. Perform evaluation on validation or test set (queries)\n",
    "    \"\"\"\n",
    "    scores = {}\n",
    "    for filename in filenames:\n",
    "        param_value = float(filename.split(\"=\")[-1].split('.run')[0])\n",
    "        if validation:\n",
    "            result = !trec_eval -m all_trec ./ap_88_89/qrel_validation {filename} | grep -E \"^ndcg_cut_10\\s|^map_cut_1000\\s|^P_5\\s|^recall_1000\\s\"\n",
    "        else:\n",
    "            result = !trec_eval -m all_trec ./ap_88_89/qrel_test {filename} | grep -E \"^ndcg_cut_10\\s|^map_cut_1000\\s|^P_5\\s|^recall_1000\\s\"\n",
    "\n",
    "        for row in result:\n",
    "            metric = row.split(' ')[0]\n",
    "            score = float(row.split('\\t')[-1])\n",
    "            if metric not in scores.keys():\n",
    "                scores[metric] = {}\n",
    "            scores[metric][param_value] = score\n",
    "    return scores"
   ]
  },
  {
   "cell_type": "code",
   "execution_count": 39,
   "metadata": {
    "collapsed": true
   },
   "outputs": [],
   "source": [
    "def test_hyperparameters(hyperparameters,funct_name,score_function):\n",
    "    \n",
    "    for param_value in hyperparameters:\n",
    "        \n",
    "        start_time = time.time()\n",
    "        \n",
    "        filename = 'retrievals/'+funct_name+'='+str(param_value)\n",
    "        \n",
    "        if funct_name== 'jelinek_mercer_lambda':\n",
    "            run_retrieval(filename,score_function, lambd = param_value)\n",
    "        elif funct_name=='dirichlet_prior_mu':\n",
    "            run_retrieval(filename,dirichlet_prior, mu = param_value)\n",
    "        \n",
    "        elif funct_name=='absolute_discounting_delta':\n",
    "            run_retrieval(filename,absolute_discounting, delta = param_value)\n",
    "            \n",
    "        else:\n",
    "            print (\"Wrong method name\")\n",
    "            return\n",
    "            \n",
    "\n",
    "        print ('finished {} in {} sec'.format(filename,(time.time()-start_time)))\n",
    "    \n",
    "    filenames = glob.glob('./retrievals/'+funct_name+'=*')\n",
    "    scores = get_scores(filenames,validation=False)\n",
    "    scores = pd.DataFrame.from_dict(scores,dtype=float)\n",
    "    scores.index.name = 'delta'\n",
    "    \n",
    "    return scores"
   ]
  },
  {
   "cell_type": "code",
   "execution_count": 40,
   "metadata": {},
   "outputs": [
    {
     "name": "stdout",
     "output_type": "stream",
     "text": [
      "finished retrievals/jelinek_mercer_lambda=0.1 in 4.57763671875e-05 sec\n",
      "finished retrievals/jelinek_mercer_lambda=0.2 in 3.170967102050781e-05 sec\n",
      "Retrieving using retrievals/jelinek_mercer_lambda=0.30000000000000004\n",
      "finished retrievals/jelinek_mercer_lambda=0.30000000000000004 in 42.96684193611145 sec\n",
      "finished retrievals/jelinek_mercer_lambda=0.4 in 0.00012874603271484375 sec\n",
      "finished retrievals/jelinek_mercer_lambda=0.5 in 5.841255187988281e-05 sec\n",
      "finished retrievals/jelinek_mercer_lambda=0.6 in 4.696846008300781e-05 sec\n",
      "Retrieving using retrievals/jelinek_mercer_lambda=0.7000000000000001\n",
      "finished retrievals/jelinek_mercer_lambda=0.7000000000000001 in 42.47489023208618 sec\n",
      "finished retrievals/jelinek_mercer_lambda=0.8 in 2.6226043701171875e-05 sec\n",
      "finished retrievals/jelinek_mercer_lambda=0.9 in 3.4332275390625e-05 sec\n"
     ]
    },
    {
     "data": {
      "text/plain": [
       "<matplotlib.axes._subplots.AxesSubplot at 0x7f4ea5dc1390>"
      ]
     },
     "execution_count": 40,
     "metadata": {},
     "output_type": "execute_result"
    },
    {
     "data": {
      "image/png": "[encoded data removed]",
      "text/plain": [
       "<matplotlib.figure.Figure at 0x7f4eed4ee160>"
      ]
     },
     "metadata": {},
     "output_type": "display_data"
    }
   ],
   "source": [
    "scores_jm = test_hyperparameters(np.arange(0.1,0.91,0.1),'jelinek_mercer_lambda',jelinek_mercer)\n",
    "scores_jm.drop('recall_1000',axis=1).plot()"
   ]
  },
  {
   "cell_type": "code",
   "execution_count": 41,
   "metadata": {},
   "outputs": [
    {
     "name": "stdout",
     "output_type": "stream",
     "text": [
      "finished retrievals/dirichlet_prior_mu=500 in 0.0001068115234375 sec\n",
      "finished retrievals/dirichlet_prior_mu=600 in 4.982948303222656e-05 sec\n",
      "finished retrievals/dirichlet_prior_mu=700 in 7.271766662597656e-05 sec\n",
      "finished retrievals/dirichlet_prior_mu=800 in 5.3882598876953125e-05 sec\n",
      "finished retrievals/dirichlet_prior_mu=900 in 0.00025153160095214844 sec\n",
      "finished retrievals/dirichlet_prior_mu=1000 in 7.843971252441406e-05 sec\n",
      "finished retrievals/dirichlet_prior_mu=1100 in 6.651878356933594e-05 sec\n",
      "finished retrievals/dirichlet_prior_mu=1200 in 5.5789947509765625e-05 sec\n",
      "finished retrievals/dirichlet_prior_mu=1300 in 4.506111145019531e-05 sec\n",
      "finished retrievals/dirichlet_prior_mu=1400 in 4.076957702636719e-05 sec\n",
      "finished retrievals/dirichlet_prior_mu=1500 in 4.172325134277344e-05 sec\n"
     ]
    },
    {
     "data": {
      "text/plain": [
       "<matplotlib.axes._subplots.AxesSubplot at 0x7f4e813f7e10>"
      ]
     },
     "execution_count": 41,
     "metadata": {},
     "output_type": "execute_result"
    },
    {
     "data": {
      "image/png": "[encoded data removed]",
      "text/plain": [
       "<matplotlib.figure.Figure at 0x7f4ed58d0390>"
      ]
     },
     "metadata": {},
     "output_type": "display_data"
    }
   ],
   "source": [
    "scores_dirich = test_hyperparameters(np.arange(500,1501, 100),'dirichlet_prior_mu',dirichlet_prior)\n",
    "scores_dirich.drop('recall_1000',axis=1).plot()"
   ]
  },
  {
   "cell_type": "code",
   "execution_count": 42,
   "metadata": {},
   "outputs": [
    {
     "name": "stdout",
     "output_type": "stream",
     "text": [
      "finished retrievals/absolute_discounting_delta=0.1 in 0.00013399124145507812 sec\n",
      "finished retrievals/absolute_discounting_delta=0.2 in 1.0251998901367188e-05 sec\n",
      "Retrieving using retrievals/absolute_discounting_delta=0.30000000000000004\n"
     ]
    },
    {
     "name": "stderr",
     "output_type": "stream",
     "text": [
      "/home/antonis/anaconda2/envs/ir/lib/python3.5/site-packages/ipykernel/__main__.py:21: RuntimeWarning: divide by zero encountered in log\n"
     ]
    },
    {
     "name": "stdout",
     "output_type": "stream",
     "text": [
      "finished retrievals/absolute_discounting_delta=0.30000000000000004 in 56.8784658908844 sec\n",
      "finished retrievals/absolute_discounting_delta=0.4 in 2.6941299438476562e-05 sec\n",
      "finished retrievals/absolute_discounting_delta=0.5 in 2.288818359375e-05 sec\n",
      "finished retrievals/absolute_discounting_delta=0.6 in 1.6450881958007812e-05 sec\n",
      "Retrieving using retrievals/absolute_discounting_delta=0.7000000000000001\n",
      "finished retrievals/absolute_discounting_delta=0.7000000000000001 in 58.559266090393066 sec\n",
      "finished retrievals/absolute_discounting_delta=0.8 in 0.00012922286987304688 sec\n",
      "finished retrievals/absolute_discounting_delta=0.9 in 1.1682510375976562e-05 sec\n"
     ]
    },
    {
     "data": {
      "text/plain": [
       "<matplotlib.axes._subplots.AxesSubplot at 0x7f4ea11f3550>"
      ]
     },
     "execution_count": 42,
     "metadata": {},
     "output_type": "execute_result"
    },
    {
     "data": {
      "image/png": "[encoded data removed]",
      "text/plain": [
       "<matplotlib.figure.Figure at 0x7f4e80c03400>"
      ]
     },
     "metadata": {},
     "output_type": "display_data"
    }
   ],
   "source": [
    "scores_abs_disc = test_hyperparameters(np.arange(0.1,0.91, 0.1),'absolute_discounting_delta',absolute_discounting)\n",
    "scores_abs_disc.drop('recall_1000',axis=1).plot()"
   ]
  },
  {
   "cell_type": "markdown",
   "metadata": {},
   "source": [
    "## Significance testing (on test set)"
   ]
  },
  {
   "cell_type": "code",
   "execution_count": 43,
   "metadata": {
    "collapsed": true
   },
   "outputs": [],
   "source": [
    "import re"
   ]
  },
  {
   "cell_type": "code",
   "execution_count": 44,
   "metadata": {
    "collapsed": true
   },
   "outputs": [],
   "source": [
    "ndcg_all={}"
   ]
  },
  {
   "cell_type": "code",
   "execution_count": 45,
   "metadata": {},
   "outputs": [
    {
     "name": "stdout",
     "output_type": "stream",
     "text": [
      "finished retrievals/jelinek_mercer_lambda=0.1 in 6.4849853515625e-05 sec\n",
      "finished retrievals/jelinek_mercer_lambda=0.2 in 3.0279159545898438e-05 sec\n"
     ]
    },
    {
     "name": "stderr",
     "output_type": "stream",
     "text": [
      "/home/antonis/anaconda2/envs/ir/lib/python3.5/site-packages/ipykernel/__main__.py:23: FutureWarning: set_value is deprecated and will be removed in a future release. Please use .at[] or .iat[] accessors instead\n"
     ]
    },
    {
     "name": "stdout",
     "output_type": "stream",
     "text": [
      "finished retrievals/jelinek_mercer_lambda=0.3 in 2.9087066650390625e-05 sec\n",
      "finished retrievals/jelinek_mercer_lambda=0.4 in 2.86102294921875e-05 sec\n",
      "finished retrievals/jelinek_mercer_lambda=0.5 in 4.601478576660156e-05 sec\n",
      "finished retrievals/jelinek_mercer_lambda=0.6 in 2.8371810913085938e-05 sec\n",
      "finished retrievals/jelinek_mercer_lambda=0.7 in 5.340576171875e-05 sec\n",
      "finished retrievals/jelinek_mercer_lambda=0.8 in 4.887580871582031e-05 sec\n",
      "finished retrievals/jelinek_mercer_lambda=0.9 in 3.0040740966796875e-05 sec\n"
     ]
    }
   ],
   "source": [
    "columns = [0.1, 0.2, 0.3, 0.4, 0.5, 0.6, 0.7, 0.8, 0.9]\n",
    "\n",
    "ndcg = pd.DataFrame(columns=columns)\n",
    "\n",
    "for param_value in columns:\n",
    "    start_time = time.time()\n",
    "\n",
    "    filename = 'retrievals/jelinek_mercer_lambda='+str(param_value)\n",
    "\n",
    "    run_retrieval(filename,jelinek_mercer, lambd = param_value)\n",
    "\n",
    "    print ('finished {} in {} sec'.format(filename,(time.time()-start_time)))\n",
    "\n",
    "    results = !trec_eval -m all_trec -q ./ap_88_89/qrel_test { filename }.run | grep -E \"^ndcg_cut_10\\s\"\n",
    "\n",
    "    for result in results:\n",
    "        result = re.sub( '\\s+', ' ', result ).strip().split()\n",
    "\n",
    "        idx = result[1]\n",
    "        value = result[2]\n",
    "        param_value = round(param_value,1)\n",
    "\n",
    "        ndcg.set_value(idx, param_value, value)\n",
    "        \n",
    "ndcg_all['jelinek_mercer'] = ndcg"
   ]
  },
  {
   "cell_type": "code",
   "execution_count": 46,
   "metadata": {
    "scrolled": true
   },
   "outputs": [
    {
     "name": "stdout",
     "output_type": "stream",
     "text": [
      "finished retrievals/absolute_discounting_delta=0.1 in 4.100799560546875e-05 sec\n",
      "finished retrievals/absolute_discounting_delta=0.2 in 2.765655517578125e-05 sec\n"
     ]
    },
    {
     "name": "stderr",
     "output_type": "stream",
     "text": [
      "/home/antonis/anaconda2/envs/ir/lib/python3.5/site-packages/ipykernel/__main__.py:23: FutureWarning: set_value is deprecated and will be removed in a future release. Please use .at[] or .iat[] accessors instead\n"
     ]
    },
    {
     "name": "stdout",
     "output_type": "stream",
     "text": [
      "finished retrievals/absolute_discounting_delta=0.3 in 2.7418136596679688e-05 sec\n",
      "finished retrievals/absolute_discounting_delta=0.4 in 5.030632019042969e-05 sec\n",
      "finished retrievals/absolute_discounting_delta=0.5 in 2.8371810913085938e-05 sec\n",
      "finished retrievals/absolute_discounting_delta=0.6 in 2.765655517578125e-05 sec\n",
      "finished retrievals/absolute_discounting_delta=0.7 in 2.9325485229492188e-05 sec\n",
      "finished retrievals/absolute_discounting_delta=0.8 in 2.7418136596679688e-05 sec\n",
      "finished retrievals/absolute_discounting_delta=0.9 in 2.6702880859375e-05 sec\n"
     ]
    }
   ],
   "source": [
    "columns = [0.1, 0.2, 0.3, 0.4, 0.5, 0.6, 0.7, 0.8, 0.9]\n",
    "\n",
    "ndcg = pd.DataFrame(columns=columns)\n",
    "\n",
    "for param_value in columns:\n",
    "    start_time = time.time()\n",
    "\n",
    "    filename = 'retrievals/absolute_discounting_delta='+str(param_value)\n",
    "\n",
    "    run_retrieval(filename,jelinek_mercer, lambd = param_value)\n",
    "\n",
    "    print ('finished {} in {} sec'.format(filename,(time.time()-start_time)))\n",
    "\n",
    "    results = !trec_eval -m all_trec -q ./ap_88_89/qrel_test { filename }.run | grep -E \"^ndcg_cut_10\\s\"\n",
    "\n",
    "    for result in results:\n",
    "        result = re.sub( '\\s+', ' ', result ).strip().split()\n",
    "\n",
    "        idx = result[1]\n",
    "        value = result[2]\n",
    "        param_value = round(param_value,1)\n",
    "\n",
    "        ndcg.set_value(idx, param_value, value)\n",
    "\n",
    "ndcg_all['absolute_discounting'] = ndcg"
   ]
  },
  {
   "cell_type": "code",
   "execution_count": null,
   "metadata": {
    "collapsed": true
   },
   "outputs": [],
   "source": []
  },
  {
   "cell_type": "code",
   "execution_count": 47,
   "metadata": {},
   "outputs": [
    {
     "name": "stdout",
     "output_type": "stream",
     "text": [
      "finished retrievals/dirichlet_prior_mu=500 in 2.6226043701171875e-05 sec\n",
      "finished retrievals/dirichlet_prior_mu=600 in 4.553794860839844e-05 sec\n"
     ]
    },
    {
     "name": "stderr",
     "output_type": "stream",
     "text": [
      "/home/antonis/anaconda2/envs/ir/lib/python3.5/site-packages/ipykernel/__main__.py:23: FutureWarning: set_value is deprecated and will be removed in a future release. Please use .at[] or .iat[] accessors instead\n"
     ]
    },
    {
     "name": "stdout",
     "output_type": "stream",
     "text": [
      "finished retrievals/dirichlet_prior_mu=700 in 4.5299530029296875e-05 sec\n",
      "finished retrievals/dirichlet_prior_mu=800 in 2.6702880859375e-05 sec\n",
      "finished retrievals/dirichlet_prior_mu=900 in 2.8133392333984375e-05 sec\n",
      "finished retrievals/dirichlet_prior_mu=1000 in 2.7894973754882812e-05 sec\n",
      "finished retrievals/dirichlet_prior_mu=1100 in 3.1948089599609375e-05 sec\n",
      "finished retrievals/dirichlet_prior_mu=1200 in 2.6464462280273438e-05 sec\n",
      "finished retrievals/dirichlet_prior_mu=1300 in 2.765655517578125e-05 sec\n",
      "finished retrievals/dirichlet_prior_mu=1400 in 2.7894973754882812e-05 sec\n",
      "finished retrievals/dirichlet_prior_mu=1500 in 2.765655517578125e-05 sec\n"
     ]
    }
   ],
   "source": [
    "columns = np.arange(500,1501,100)\n",
    "\n",
    "ndcg = pd.DataFrame(columns=columns)\n",
    "\n",
    "for param_value in columns:\n",
    "    start_time = time.time()\n",
    "\n",
    "    filename = 'retrievals/dirichlet_prior_mu='+str(param_value)\n",
    "\n",
    "    run_retrieval(filename,jelinek_mercer, lambd = param_value)\n",
    "\n",
    "    print ('finished {} in {} sec'.format(filename,(time.time()-start_time)))\n",
    "\n",
    "    results = !trec_eval -m all_trec -q ./ap_88_89/qrel_test { filename }.run | grep -E \"^ndcg_cut_10\\s\"\n",
    "\n",
    "    for result in results:\n",
    "        result = re.sub( '\\s+', ' ', result ).strip().split()\n",
    "\n",
    "        idx = result[1]\n",
    "        value = result[2]\n",
    "        param_value = round(param_value,1)\n",
    "\n",
    "        ndcg.set_value(idx, param_value, value)\n",
    "\n",
    "ndcg_all['dirichlet_prior'] = ndcg"
   ]
  },
  {
   "cell_type": "code",
   "execution_count": null,
   "metadata": {
    "collapsed": true
   },
   "outputs": [],
   "source": []
  },
  {
   "cell_type": "code",
   "execution_count": 48,
   "metadata": {},
   "outputs": [
    {
     "name": "stdout",
     "output_type": "stream",
     "text": [
      "P_5                   \tall\t0.3200\r\n",
      "recall_1000           \tall\t0.5766\r\n",
      "ndcg_cut_10           \tall\t0.3409\r\n",
      "map_cut_1000          \tall\t0.2049\r\n"
     ]
    },
    {
     "name": "stderr",
     "output_type": "stream",
     "text": [
      "/home/antonis/anaconda2/envs/ir/lib/python3.5/site-packages/ipykernel/__main__.py:15: FutureWarning: set_value is deprecated and will be removed in a future release. Please use .at[] or .iat[] accessors instead\n"
     ]
    }
   ],
   "source": [
    "# trec_eval command for evalutaion of tf-idf \n",
    "\n",
    "!trec_eval -m all_trec ./ap_88_89/qrel_validation retrievals/tf-idf.run | grep -E \"^ndcg_cut_10\\s|^map_cut_1000\\s|^P_5\\s|^recall_1000\\s\"\n",
    "\n",
    "ifidfdf = pd.DataFrame()\n",
    "\n",
    "results = !trec_eval -m all_trec -q ./ap_88_89/qrel_test retrievals/tf-idf.run | grep -E \"^ndcg_cut_10\\s\"\n",
    "\n",
    "for result in results:\n",
    "    result = re.sub( '\\s+', ' ', result ).strip().split()\n",
    "\n",
    "    idx = result[1]\n",
    "    value = float(result[2])\n",
    "\n",
    "    ifidfdf.set_value(idx, 1, value)\n",
    "    \n"
   ]
  },
  {
   "cell_type": "code",
   "execution_count": 49,
   "metadata": {},
   "outputs": [
    {
     "name": "stdout",
     "output_type": "stream",
     "text": [
      "ndcg_cut_10           \tall\t0.0323\r\n"
     ]
    }
   ],
   "source": [
    "!trec_eval -m all_trec ./ap_88_89/qrel_test retrievals/jelinek_mercer_lambda\\=0.9.run | grep -E \"^ndcg_cut_10\\s\""
   ]
  },
  {
   "cell_type": "code",
   "execution_count": null,
   "metadata": {
    "collapsed": true
   },
   "outputs": [],
   "source": []
  },
  {
   "cell_type": "code",
   "execution_count": 50,
   "metadata": {},
   "outputs": [
    {
     "name": "stdout",
     "output_type": "stream",
     "text": [
      "P_5                   \tall\t0.2333\r\n",
      "recall_1000           \tall\t0.5080\r\n",
      "ndcg_cut_10           \tall\t0.2360\r\n",
      "map_cut_1000          \tall\t0.1397\r\n"
     ]
    },
    {
     "name": "stderr",
     "output_type": "stream",
     "text": [
      "/home/antonis/anaconda2/envs/ir/lib/python3.5/site-packages/ipykernel/__main__.py:15: FutureWarning: set_value is deprecated and will be removed in a future release. Please use .at[] or .iat[] accessors instead\n"
     ]
    }
   ],
   "source": [
    "# trec_eval command for evalutaion of bm25\n",
    "\n",
    "!trec_eval -m all_trec ./ap_88_89/qrel_validation retrievals/bm25.run | grep -E \"^ndcg_cut_10\\s|^map_cut_1000\\s|^P_5\\s|^recall_1000\\s\"\n",
    "\n",
    "bm25df = pd.DataFrame()\n",
    "\n",
    "results = !trec_eval -m all_trec -q ./ap_88_89/qrel_test retrievals/bm25.run | grep -E \"^ndcg_cut_10\\s\"\n",
    "\n",
    "for result in results:\n",
    "    result = re.sub( '\\s+', ' ', result ).strip().split()\n",
    "\n",
    "    idx = result[1]\n",
    "    value = float(result[2])\n",
    "\n",
    "    bm25df.set_value(idx, 1, value)\n"
   ]
  },
  {
   "cell_type": "code",
   "execution_count": 51,
   "metadata": {
    "collapsed": true
   },
   "outputs": [],
   "source": [
    "best_scores = pd.DataFrame()\n",
    "best_scores['absolute_discounting'] = ndcg_all['absolute_discounting'][0.1]\n",
    "best_scores['jelinek_mercer'] = ndcg_all['jelinek_mercer'][0.1]\n",
    "best_scores['dirichlet_prior'] = ndcg_all['dirichlet_prior'][1500]\n",
    "\n",
    "best_scores['tf-idf'] = ifidfdf\n",
    "best_scores['BM25'] = bm25df\n",
    "\n",
    "\n",
    "best_scores = best_scores.applymap(lambda x: float(x))\n"
   ]
  },
  {
   "cell_type": "code",
   "execution_count": 52,
   "metadata": {},
   "outputs": [
    {
     "name": "stdout",
     "output_type": "stream",
     "text": [
      "number of queries scoring 0 in all metrics: 23\n"
     ]
    }
   ],
   "source": [
    "\n",
    "print(\"number of queries scoring 0 in all metrics:\",len(best_scores[best_scores.sum(axis=1)==0]))"
   ]
  },
  {
   "cell_type": "code",
   "execution_count": 53,
   "metadata": {},
   "outputs": [
    {
     "data": {
      "text/plain": [
       "<matplotlib.axes._subplots.AxesSubplot at 0x7f4e85470240>"
      ]
     },
     "execution_count": 53,
     "metadata": {},
     "output_type": "execute_result"
    },
    {
     "data": {
      "image/png": "[encoded data removed]",
      "text/plain": [
       "<matplotlib.figure.Figure at 0x7f4e8638ce10>"
      ]
     },
     "metadata": {},
     "output_type": "display_data"
    }
   ],
   "source": [
    "#plot non-zero queries only\n",
    "best_scores[best_scores.sum(axis=1)>0].plot(kind='bar',figsize=(18,8))"
   ]
  },
  {
   "cell_type": "code",
   "execution_count": 54,
   "metadata": {
    "collapsed": true
   },
   "outputs": [],
   "source": [
    "from scipy.stats import ttest_rel"
   ]
  },
  {
   "cell_type": "code",
   "execution_count": 55,
   "metadata": {
    "collapsed": true
   },
   "outputs": [],
   "source": [
    "def t_test(method1,method2,a=0.05):\n",
    "    \n",
    "    p_value = ttest_rel(method1, method2)[1]\n",
    "    \n",
    "    if p_value>a:\n",
    "        return (p_value, 'not-rejected')\n",
    "    else:\n",
    "        return (p_value, 'rejected')\n",
    "    \n",
    "    \n",
    "# t_test('jelinek_mercer','dirichlet_prior')    "
   ]
  },
  {
   "cell_type": "code",
   "execution_count": 56,
   "metadata": {
    "collapsed": true
   },
   "outputs": [],
   "source": [
    "from itertools import combinations"
   ]
  },
  {
   "cell_type": "code",
   "execution_count": 57,
   "metadata": {
    "collapsed": true
   },
   "outputs": [],
   "source": [
    "combs = list(combinations(best_scores.columns,2))"
   ]
  },
  {
   "cell_type": "code",
   "execution_count": 58,
   "metadata": {},
   "outputs": [
    {
     "name": "stdout",
     "output_type": "stream",
     "text": [
      "absolute_discounting jelinek_mercer\n",
      "(0.0006635491757109781, 'rejected')\n",
      "\n",
      "\n",
      "absolute_discounting dirichlet_prior\n",
      "(0.3158466718339916, 'not-rejected')\n",
      "\n",
      "\n",
      "absolute_discounting tf-idf\n",
      "(1.7187305535185832e-21, 'rejected')\n",
      "\n",
      "\n",
      "absolute_discounting BM25\n",
      "(7.162814821067257e-17, 'rejected')\n",
      "\n",
      "\n",
      "jelinek_mercer dirichlet_prior\n",
      "(0.0004895150434765299, 'rejected')\n",
      "\n",
      "\n",
      "jelinek_mercer tf-idf\n",
      "(1.2245460323695008e-19, 'rejected')\n",
      "\n",
      "\n",
      "jelinek_mercer BM25\n",
      "(2.852203769799594e-14, 'rejected')\n",
      "\n",
      "\n",
      "dirichlet_prior tf-idf\n",
      "(1.516036905229317e-21, 'rejected')\n",
      "\n",
      "\n",
      "dirichlet_prior BM25\n",
      "(5.732048422410667e-17, 'rejected')\n",
      "\n",
      "\n",
      "tf-idf BM25\n",
      "(2.669411054179365e-07, 'rejected')\n",
      "\n",
      "\n"
     ]
    }
   ],
   "source": [
    "for pair in combs:\n",
    "    print(pair[0],pair[1])\n",
    "    print(t_test(best_scores[pair[0]],best_scores[pair[1]],a=0.05/len(combs)))\n",
    "    print('\\n')"
   ]
  },
  {
   "cell_type": "markdown",
   "metadata": {},
   "source": [
    "### Task 2: Latent Semantic Models (LSMs) [20 points] ###\n",
    "\n",
    "In this task you will experiment with applying distributional semantics methods ([LSI](http://lsa3.colorado.edu/papers/JASIS.lsi.90.pdf) **[5 points]** and [LDA](https://www.cs.princeton.edu/~blei/papers/BleiNgJordan2003.pdf) **[5 points]**) for retrieval.\n",
    "\n",
    "You do not need to implement LSI or LDA on your own. Instead, you can use [gensim](http://radimrehurek.com/gensim/index.html). An example on how to integrate Pyndri with Gensim for word2vec can be found [here](https://github.com/cvangysel/pyndri/blob/master/examples/word2vec.py). For the remaining latent vector space models, you will need to implement connector classes (such as `IndriSentences`) by yourself.\n",
    "\n",
    "In order to use a latent semantic model for retrieval, you need to:\n",
    "   * build a representation of the query **q**,\n",
    "   * build a representation of the document **d**,\n",
    "   * calculate the similarity between **q** and **d** (e.g., cosine similarity, KL-divergence).\n",
    "     \n",
    "The exact implementation here depends on the latent semantic model you are using. \n",
    "   \n",
    "Each of these LSMs come with various hyperparameters to tune. Make a choice on the parameters, and explicitly mention the reasons that led you to these decisions. You can use the validation set to optimize hyper parameters you see fit; motivate your decisions. In addition, mention clearly how the query/document representations were constructed for each LSM and explain your choices.\n",
    "\n",
    "In this experiment, you will first obtain an initial top-1000 ranking for each query using TF-IDF in **Task 1**, and then re-rank the documents using the LSMs. Use TREC Eval to obtain the results and report on `NDCG@10`, Mean Average Precision (`MAP@1000`), `Precision@5` and `Recall@1000`.\n",
    "\n",
    "Perform significance testing **[5 points]** (similar as in Task 1) in the class of semantic matching methods.\n",
    "\n",
    "Perform analysis **[5 points]**"
   ]
  },
  {
   "cell_type": "code",
   "execution_count": 14,
   "metadata": {
    "collapsed": true
   },
   "outputs": [],
   "source": [
    "import gensim"
   ]
  },
  {
   "cell_type": "code",
   "execution_count": 15,
   "metadata": {
    "collapsed": true
   },
   "outputs": [],
   "source": [
    "from itertools import groupby"
   ]
  },
  {
   "cell_type": "code",
   "execution_count": 16,
   "metadata": {
    "collapsed": true
   },
   "outputs": [],
   "source": [
    "# Connector class pyndri - gensim\n",
    "class IndriTermDocFreq(gensim.interfaces.CorpusABC):\n",
    "    \"\"\"Integrates an Index with Gensim's word2vec implementation.\"\"\"\n",
    "\n",
    "    def __init__(self, index, dictionary, list_docs = None, max_documents=None):\n",
    "        assert isinstance(index, pyndri.Index)\n",
    "\n",
    "        self.index = index\n",
    "        self.dictionary = dictionary\n",
    "        self.list_docs = list_docs\n",
    "        self.max_documents = max_documents\n",
    "\n",
    "    def _maximum_document(self):\n",
    "        if self.max_documents is None:\n",
    "            return self.index.maximum_document()\n",
    "        else:\n",
    "            return min(\n",
    "                self.max_documents + self.index.document_base(),\n",
    "                self.index.maximum_document())\n",
    "\n",
    "    def __iter__(self):\n",
    "        \n",
    "        if self.list_docs:\n",
    "            rng = self.list_docs\n",
    "        else:\n",
    "            rng = range(self.index.document_base(), self._maximum_document())\n",
    "#         print(rng[:5],len(rng))\n",
    "        \n",
    "        for int_doc_id in rng:\n",
    "            _, tokens = self.index.document(int_doc_id)\n",
    "            \n",
    "            yield [(key,len(list(group)) ) for  key, group in groupby(sorted(list(tokens))) if key>0]\n",
    "\n",
    "    def __len__(self):\n",
    "        return self._maximum_document() - self.index.document_base()\n",
    "    "
   ]
  },
  {
   "cell_type": "code",
   "execution_count": 22,
   "metadata": {
    "collapsed": true
   },
   "outputs": [],
   "source": [
    "# generator for passing counts of documents from pyndri to gensim\n",
    "wordfreq = IndriTermDocFreq(index,dictionary)\n"
   ]
  },
  {
   "cell_type": "code",
   "execution_count": 23,
   "metadata": {
    "collapsed": true,
    "scrolled": true
   },
   "outputs": [],
   "source": [
    "def transform_queries(queries, model):\n",
    "    \"\"\"\n",
    "    Given the ordered dict queries and an lsi model, transform the queries to the latent space\n",
    "    \"\"\"\n",
    "    transformed_queries = {}\n",
    "    for q_id in queries:\n",
    "#         print(tokenized_queries[q_id])\n",
    "#         print([(key,len(list(group)) ) for  key, group in groupby(tokenized_queries[q_id]) if key>0])\n",
    "        transformed_queries[q_id] = model[[(key,len(list(group)) ) for  key, group in groupby(tokenized_queries[q_id]) if key>0]]\n",
    "    return transformed_queries"
   ]
  },
  {
   "cell_type": "markdown",
   "metadata": {
    "collapsed": true
   },
   "source": [
    "** parse rank from tf-idf.run file and create gensim index for each query **"
   ]
  },
  {
   "cell_type": "code",
   "execution_count": 29,
   "metadata": {
    "collapsed": true
   },
   "outputs": [],
   "source": [
    "#create inverse mapping, because pyndri sucks\n",
    "extDocId2id={}\n",
    "for id in range(index.document_base(), index.maximum_document()):\n",
    "    extDocId2id[index.ext_document_id(id)] = id"
   ]
  },
  {
   "cell_type": "code",
   "execution_count": 30,
   "metadata": {
    "collapsed": true
   },
   "outputs": [],
   "source": [
    "tfidf_rank = defaultdict(list)\n",
    "\n",
    "with open('./retrievals/tf-idf.run', 'r') as file:\n",
    "    for line in file.readlines():\n",
    "        q_id = line.split()[0]\n",
    "        doc_id = line.split()[2]\n",
    "        tfidf_rank[q_id].append(extDocId2id[doc_id])"
   ]
  },
  {
   "cell_type": "code",
   "execution_count": null,
   "metadata": {
    "collapsed": true
   },
   "outputs": [],
   "source": []
  },
  {
   "cell_type": "code",
   "execution_count": null,
   "metadata": {
    "collapsed": true
   },
   "outputs": [],
   "source": []
  },
  {
   "cell_type": "markdown",
   "metadata": {},
   "source": [
    "#### LSI"
   ]
  },
  {
   "cell_type": "code",
   "execution_count": 24,
   "metadata": {
    "collapsed": true
   },
   "outputs": [],
   "source": [
    "#initiate lsi model\n",
    "lsi = gensim.models.LsiModel(id2word=id2token)"
   ]
  },
  {
   "cell_type": "code",
   "execution_count": 21,
   "metadata": {
    "scrolled": true
   },
   "outputs": [],
   "source": [
    "#create LSI for different # dimensions (if not in disk)\n",
    "\n",
    "\n",
    "for n_top in [10,50,100, 150,200, 250,300,400, 500]:\n",
    "    fname = 'lsi/lsi_counts%i.mod'%n_top\n",
    "\n",
    "    if os.path.exists(fname)==False:\n",
    "        start_time = time.time()\n",
    "        lsi = gensim.models.LsiModel(corpus = wordfreq,\n",
    "                                     id2word=id2token,\n",
    "                                     num_topics=n_top)\n",
    "        print('lsi with %i topics took %s sec'%(n_top,time.time()-start_time))\n",
    "        print(fname)\n",
    "        lsi.save(fname)"
   ]
  },
  {
   "cell_type": "code",
   "execution_count": 26,
   "metadata": {},
   "outputs": [
    {
     "name": "stdout",
     "output_type": "stream",
     "text": [
      "Lowest eigenvalue for 10: 557.009890\n",
      "Lowest eigenvalue for 50: 353.227078\n",
      "Lowest eigenvalue for 100: 244.831125\n",
      "Lowest eigenvalue for 150: 209.234001\n",
      "Lowest eigenvalue for 200: 181.981725\n",
      "Lowest eigenvalue for 250: 162.523119\n",
      "Lowest eigenvalue for 300: 150.804663\n",
      "Lowest eigenvalue for 400: 134.851795\n",
      "Lowest eigenvalue for 500: 123.256746\n"
     ]
    },
    {
     "data": {
      "image/png": "[encoded data removed]",
      "text/plain": [
       "<matplotlib.figure.Figure at 0x7f10e3538748>"
      ]
     },
     "metadata": {},
     "output_type": "display_data"
    }
   ],
   "source": [
    "# does not load model\n",
    "#print eigenvalues\n",
    "for n_top in [10,50,100,150,200,250,300,400, 500]:\n",
    "    fname = 'lsi/lsi_counts%i.mod'%n_top\n",
    "#     print(fname)\n",
    "    lsi = lsi.load(fname,mmap='r')\n",
    "    print(\"Lowest eigenvalue for %i: %f\"%(n_top,lsi.projection.s[-1]))\n",
    "    plt.plot(lsi.projection.s,label='%i latent dims'%n_top)\n",
    "plt.xlabel('# latent dimensions')\n",
    "plt.ylabel('Singular values (importance of dimension)')\n",
    "plt.title('Exploring different number of \"topics\" in LSI')\n",
    "plt.show()"
   ]
  },
  {
   "cell_type": "code",
   "execution_count": null,
   "metadata": {
    "collapsed": true
   },
   "outputs": [],
   "source": []
  },
  {
   "cell_type": "code",
   "execution_count": 27,
   "metadata": {},
   "outputs": [],
   "source": [
    "#select appropriate lsi file:\n",
    "fname = 'lsi/lsi_counts400.mod'\n",
    "lsi = gensim.models.LsiModel.load(fname)"
   ]
  },
  {
   "cell_type": "code",
   "execution_count": 28,
   "metadata": {
    "collapsed": true
   },
   "outputs": [],
   "source": [
    "transformed_queries = transform_queries(queries, lsi)"
   ]
  },
  {
   "cell_type": "code",
   "execution_count": null,
   "metadata": {
    "collapsed": true
   },
   "outputs": [],
   "source": []
  },
  {
   "cell_type": "markdown",
   "metadata": {},
   "source": [
    "** start new rank on those 1000 docs **"
   ]
  },
  {
   "cell_type": "code",
   "execution_count": null,
   "metadata": {
    "collapsed": true
   },
   "outputs": [],
   "source": [
    "# Select model\n",
    "model = lsi"
   ]
  },
  {
   "cell_type": "code",
   "execution_count": null,
   "metadata": {
    "collapsed": true
   },
   "outputs": [],
   "source": []
  },
  {
   "cell_type": "code",
   "execution_count": 24,
   "metadata": {
    "collapsed": true
   },
   "outputs": [],
   "source": [
    "def gensim_rank(model, tfidf_rank, transformed_queries):\n",
    "    \"\"\"\n",
    "    Generates new ranking for each query, based on 1000 top TF-IDF results\n",
    "    \"\"\"\n",
    "    start_time = time.time()\n",
    "    ranking_new = {}\n",
    "    for q_id in queries.keys():\n",
    "    # for q_id in ['100','101']:\n",
    "        top1000 = tfidf_rank[q_id]\n",
    "        gimme_docs = IndriTermDocFreq(index,dictionary,list_docs=top1000)\n",
    "        gensim_index = gensim.similarities.MatrixSimilarity(model[gimme_docs], num_features = model.num_topics)\n",
    "\n",
    "        sims = gensim_index[transformed_queries[q_id]]\n",
    "        ranking_new[q_id] = tuple(zip(sims,map(lambda x: index.ext_document_id(x), top1000)))\n",
    "\n",
    "    print(\"took %i sec for %i latent dims\"%(time.time() - start_time ,model.num_topics))\n",
    "    return ranking_new"
   ]
  },
  {
   "cell_type": "code",
   "execution_count": 42,
   "metadata": {
    "collapsed": true
   },
   "outputs": [],
   "source": [
    "def save_retrieval(model_name,ranking_dict):\n",
    "    run_out_path = 'retrievals/'+model_name\n",
    "    with open(run_out_path, 'w') as f_out:\n",
    "        write_run(\n",
    "            model_name=model_name,\n",
    "            data=ranking_dict,\n",
    "            out_f=f_out,\n",
    "            max_objects_per_query=1000)"
   ]
  },
  {
   "cell_type": "markdown",
   "metadata": {},
   "source": [
    "** function to score individual query-document <u>(for L2R)</u> **"
   ]
  },
  {
   "cell_type": "code",
   "execution_count": 131,
   "metadata": {},
   "outputs": [],
   "source": [
    "def gensim_rank_pair(doc_id,q_id, model, transformed_queries):\n",
    "    \"\"\"\n",
    "    Generates new ranking for each doc-id () query pair, for the given model (LSI or LDA)\n",
    "    \"\"\"\n",
    "    lda_vec1 = model[IndriTermDocFreq(index,dictionary,list_docs=[doc_id])]\n",
    "    lda_vec2 = transformed_queries[q_id]\n",
    "    return gensim.matutils.cossim(list(lda_vec1)[0],lda_vec2)"
   ]
  },
  {
   "cell_type": "code",
   "execution_count": null,
   "metadata": {
    "collapsed": true
   },
   "outputs": [],
   "source": []
  },
  {
   "cell_type": "code",
   "execution_count": null,
   "metadata": {
    "collapsed": true
   },
   "outputs": [],
   "source": []
  },
  {
   "cell_type": "code",
   "execution_count": 33,
   "metadata": {},
   "outputs": [
    {
     "name": "stdout",
     "output_type": "stream",
     "text": [
      "took 87 sec for 400 latent dims\n"
     ]
    }
   ],
   "source": [
    "rr = gensim_rank(model, tfidf_rank=tfidf_rank, transformed_queries=transformed_queries)"
   ]
  },
  {
   "cell_type": "code",
   "execution_count": 46,
   "metadata": {},
   "outputs": [],
   "source": [
    "model_name = 'lsi_400_new'\n",
    "save_retrieval(model_name,rr)\n",
    "\n",
    "r_fname = 'retrievals/'+model_name"
   ]
  },
  {
   "cell_type": "code",
   "execution_count": null,
   "metadata": {
    "collapsed": true
   },
   "outputs": [],
   "source": []
  },
  {
   "cell_type": "code",
   "execution_count": 47,
   "metadata": {},
   "outputs": [
    {
     "name": "stdout",
     "output_type": "stream",
     "text": [
      "lsi_counts400.mod\n",
      "Validation\n",
      "P_5                   \tall\t0.1800\n",
      "recall_1000           \tall\t0.5766\n",
      "ndcg_cut_10           \tall\t0.1648\n",
      "map_cut_1000          \tall\t0.1189\n",
      "Test\n",
      "P_5                   \tall\t0.1533\n",
      "recall_1000           \tall\t0.5352\n",
      "ndcg_cut_10           \tall\t0.1432\n",
      "map_cut_1000          \tall\t0.0832\n"
     ]
    }
   ],
   "source": [
    "#evaluation\n",
    "print(fname.split('/')[-1])\n",
    "r_fname = 'retrievals/'+model_name\n",
    "print(\"Validation\")\n",
    "!trec_eval -m all_trec ./ap_88_89/qrel_validation {r_fname} | grep -E \"^ndcg_cut_10\\s|^map_cut_1000\\s|^P_5\\s|^recall_1000\\s\"\n",
    "print(\"Test\")\n",
    "!trec_eval -m all_trec ./ap_88_89/qrel_test {r_fname} | grep -E \"^ndcg_cut_10\\s|^map_cut_1000\\s|^P_5\\s|^recall_1000\\s\""
   ]
  },
  {
   "cell_type": "code",
   "execution_count": null,
   "metadata": {
    "collapsed": true
   },
   "outputs": [],
   "source": []
  },
  {
   "cell_type": "code",
   "execution_count": 42,
   "metadata": {},
   "outputs": [
    {
     "name": "stdout",
     "output_type": "stream",
     "text": [
      "took 91 sec for 400 latent dims\n"
     ]
    }
   ],
   "source": [
    "\n",
    "# start_time = time.time()\n",
    "# ranking_new = {}\n",
    "# for q_id in queries.keys():\n",
    "# # for q_id in ['100','101']:\n",
    "#     top1000 = tfidf_rank[q_id]\n",
    "#     gimme_docs = IndriTermDocFreq(index,dictionary,list_docs=top1000)\n",
    "#     gensim_index = gensim.similarities.MatrixSimilarity(lsi[gimme_docs], num_features = lsi.num_topics)\n",
    "    \n",
    "#     sims = gensim_index[queries_lsi[q_id]]\n",
    "#     ranking_new[q_id] = tuple(zip(sims,map(lambda x: index.ext_document_id(x), top1000)))\n",
    "    \n",
    "# print(\"took %i sec for %i latent dims\"%(time.time() - start_time ,lsi.num_topics))"
   ]
  },
  {
   "cell_type": "code",
   "execution_count": 43,
   "metadata": {
    "collapsed": true
   },
   "outputs": [],
   "source": [
    "# model_name = fname.split('/')[-1].split('.')[0] #ex: lsi_counts250\n",
    "# run_out_path = 'retrievals/'+model_name\n",
    "# with open(run_out_path, 'w') as f_out:\n",
    "#     write_run(\n",
    "#         model_name=model_name,\n",
    "#         data=ranking_new,\n",
    "#         out_f=f_out,\n",
    "#         max_objects_per_query=1000)"
   ]
  },
  {
   "cell_type": "code",
   "execution_count": 44,
   "metadata": {},
   "outputs": [
    {
     "data": {
      "text/plain": [
       "'retrievals/lsi_counts400'"
      ]
     },
     "execution_count": 44,
     "metadata": {},
     "output_type": "execute_result"
    }
   ],
   "source": [
    "# 'retrievals/'+model_name"
   ]
  },
  {
   "cell_type": "code",
   "execution_count": null,
   "metadata": {
    "collapsed": true
   },
   "outputs": [],
   "source": []
  },
  {
   "cell_type": "markdown",
   "metadata": {},
   "source": [
    "#### LDA"
   ]
  },
  {
   "cell_type": "code",
   "execution_count": 244,
   "metadata": {},
   "outputs": [
    {
     "name": "stdout",
     "output_type": "stream",
     "text": [
      "took 1541 sec for 50 latent dims\n"
     ]
    }
   ],
   "source": [
    "#create new model\n",
    "n_top = 50\n",
    "model_name = 'lda_'+str(n_top)+'_alpha=auto'\n",
    "start_time = time.time()\n",
    "lda = gensim.models.ldamulticore.LdaModel(wordfreq, num_topics=n_top,id2word=id2token,\n",
    "                                              alpha='auto',\n",
    "                                             minimum_probability=0\n",
    "                                             )\n",
    "print(\"took %i sec for %i latent dims\"%(time.time() - start_time ,lda.num_topics))\n",
    "lda.save('lda/'+model_name)"
   ]
  },
  {
   "cell_type": "code",
   "execution_count": 245,
   "metadata": {},
   "outputs": [],
   "source": [
    "model = gensim.models.ldamulticore.LdaMulticore.load('lda/lda_50_alpha=auto')\n",
    "model.minimum_probability=0"
   ]
  },
  {
   "cell_type": "code",
   "execution_count": null,
   "metadata": {},
   "outputs": [],
   "source": []
  },
  {
   "cell_type": "code",
   "execution_count": null,
   "metadata": {
    "collapsed": true
   },
   "outputs": [],
   "source": []
  },
  {
   "cell_type": "code",
   "execution_count": 246,
   "metadata": {
    "collapsed": true
   },
   "outputs": [],
   "source": [
    "# not needed if lda.minimum_probability=0\n",
    "\n",
    "\n",
    "# def transform_queries_lda(queries, model):\n",
    "#     \"\"\"\n",
    "#     Given the ordered dict queries and an lsi model, transform the queries to the latent space\n",
    "#     \"\"\"\n",
    "#     transformed_queries = {}\n",
    "#     for q_id in queries:\n",
    "#         bow = list(map(lambda x: id2token[x],tokenized_queries[q_id]))\n",
    "# #         print(tokenized_queries[q_id])\n",
    "# #         print([(key,len(list(group)) ) for  key, group in groupby(tokenized_queries[q_id]) if key>0])\n",
    "# #         transformed_queries[q_id] = model[[(key,len(list(group)) ) for  key, group in groupby(tokenized_queries[q_id]) if key>0]]\n",
    "#         transformed_queries[q_id] = model.get_document_topics(dictionary.doc2bow(tokenized_queries[q_id]),minimum_probability=0)\n",
    "    \n",
    "# #     [[(key,len(list(group)) ) for  key, group in groupby(tokenized_queries[q_id]) if key>0]]\n",
    "\n",
    "#     return transformed_queries"
   ]
  },
  {
   "cell_type": "code",
   "execution_count": 247,
   "metadata": {
    "collapsed": true
   },
   "outputs": [],
   "source": [
    "# queries_lda = transform_queries_lda(queries, lda)\n",
    "\n",
    "transformed_queries = transform_queries(queries, model)"
   ]
  },
  {
   "cell_type": "markdown",
   "metadata": {},
   "source": [
    "** Some analysis **"
   ]
  },
  {
   "cell_type": "code",
   "execution_count": 248,
   "metadata": {
    "collapsed": true
   },
   "outputs": [],
   "source": [
    "def get_2nd_obj(x):\n",
    "    (_,sc) = x\n",
    "    return sc"
   ]
  },
  {
   "cell_type": "code",
   "execution_count": 249,
   "metadata": {
    "scrolled": true
   },
   "outputs": [
    {
     "name": "stderr",
     "output_type": "stream",
     "text": [
      "/home/antonis/anaconda2/envs/ir/lib/python3.5/site-packages/ipykernel/__main__.py:3: DeprecationWarning: \n",
      ".ix is deprecated. Please use\n",
      ".loc for label based indexing or\n",
      ".iloc for positional indexing\n",
      "\n",
      "See the documentation here:\n",
      "http://pandas.pydata.org/pandas-docs/stable/indexing.html#ix-indexer-is-deprecated\n",
      "  app.launch_new_instance()\n"
     ]
    }
   ],
   "source": [
    "max_topic_score=pd.Series(index=transformed_queries.keys())\n",
    "for q_id in transformed_queries.keys():\n",
    "    max_topic_score.ix[q_id] = max(map(get_2nd_obj,transformed_queries[q_id]))"
   ]
  },
  {
   "cell_type": "code",
   "execution_count": 250,
   "metadata": {},
   "outputs": [
    {
     "data": {
      "text/plain": [
       "<matplotlib.axes._subplots.AxesSubplot at 0x7f1095a0cf60>"
      ]
     },
     "execution_count": 250,
     "metadata": {},
     "output_type": "execute_result"
    },
    {
     "data": {
      "image/png": "[encoded data removed]",
      "text/plain": [
       "<matplotlib.figure.Figure at 0x7f1077ed81d0>"
      ]
     },
     "metadata": {},
     "output_type": "display_data"
    }
   ],
   "source": [
    "max_topic_score.plot(kind='bar')"
   ]
  },
  {
   "cell_type": "code",
   "execution_count": 252,
   "metadata": {},
   "outputs": [
    {
     "data": {
      "text/plain": [
       "<matplotlib.axes._subplots.AxesSubplot at 0x7f10958a9208>"
      ]
     },
     "execution_count": 252,
     "metadata": {},
     "output_type": "execute_result"
    },
    {
     "data": {
      "image/png": "[encoded data removed]",
      "text/plain": [
       "<matplotlib.figure.Figure at 0x7f1095880f98>"
      ]
     },
     "metadata": {},
     "output_type": "display_data"
    }
   ],
   "source": [
    "max_topic_score.hist()"
   ]
  },
  {
   "cell_type": "code",
   "execution_count": null,
   "metadata": {
    "collapsed": true
   },
   "outputs": [],
   "source": []
  },
  {
   "cell_type": "code",
   "execution_count": 256,
   "metadata": {},
   "outputs": [
    {
     "name": "stdout",
     "output_type": "stream",
     "text": [
      "most non-skewed query(LDA):\n",
      "['Computer-Aided Medical Diagnosis', 'Vietnam Veterans and Agent Orange', 'Political Impact of Islamic Fundamentalism']\n",
      "most skewed query(LDA):\n",
      "['Insurance Coverage which pays for Long Term Care', 'U.S.-U.S.S.R. Arms Control Agreements', 'Difference of Learning Levels Among Inner City and More Suburban School Students']\n"
     ]
    }
   ],
   "source": [
    "print('less strongly correlated queries with a particular \"topic\" (LDA):')\n",
    "print([queries[x] for x in max_topic_score.sort_values()[:3].index])\n",
    "\n",
    "print('most strongly correlated queries with a particular \"topic\" (LDA):')\n",
    "print([queries[x] for x in max_topic_score.sort_values(ascending=False)[:3].index])"
   ]
  },
  {
   "cell_type": "markdown",
   "metadata": {
    "collapsed": true
   },
   "source": [
    "** Scoring and ranking with gensim **"
   ]
  },
  {
   "cell_type": "code",
   "execution_count": null,
   "metadata": {
    "collapsed": true
   },
   "outputs": [],
   "source": []
  },
  {
   "cell_type": "code",
   "execution_count": 259,
   "metadata": {},
   "outputs": [
    {
     "name": "stdout",
     "output_type": "stream",
     "text": [
      "took 932 sec for 50 latent dims\n"
     ]
    }
   ],
   "source": [
    "# rr = gensim_rank(model, tfidf_rank=tfidf_rank, transformed_queries=transformed_queries)"
   ]
  },
  {
   "cell_type": "code",
   "execution_count": 260,
   "metadata": {
    "collapsed": true
   },
   "outputs": [],
   "source": [
    "# save_retrieval(model_name,rr)\n",
    "\n",
    "# r_fname = 'retrievals/'+model_name"
   ]
  },
  {
   "cell_type": "code",
   "execution_count": null,
   "metadata": {
    "collapsed": true
   },
   "outputs": [],
   "source": [
    "# check if retrieval file exists already\n",
    "r_fname = 'retrievals/'+model_name\n",
    "if os.path.exists(r_fname)==False:\n",
    "    rr = gensim_rank(model, tfidf_rank=tfidf_rank, transformed_queries=transformed_queries)\n",
    "    save_retrieval(model_name,rr)\n",
    "\n",
    "    "
   ]
  },
  {
   "cell_type": "code",
   "execution_count": 264,
   "metadata": {
    "collapsed": true
   },
   "outputs": [],
   "source": [
    "def evaluation_results(model_name):\n",
    "    print(model_name)\n",
    "    r_fname = 'retrievals/'+model_name\n",
    "    print(\"Validation\")\n",
    "    !trec_eval -m all_trec ./ap_88_89/qrel_validation {r_fname} | grep -E \"^ndcg_cut_10\\s|^map_cut_1000\\s|^P_5\\s|^recall_1000\\s\"\n",
    "    print(\"Test\")\n",
    "    !trec_eval -m all_trec ./ap_88_89/qrel_test {r_fname} | grep -E \"^ndcg_cut_10\\s|^map_cut_1000\\s|^P_5\\s|^recall_1000\\s\""
   ]
  },
  {
   "cell_type": "code",
   "execution_count": 265,
   "metadata": {},
   "outputs": [
    {
     "name": "stdout",
     "output_type": "stream",
     "text": [
      "lda_50_alpha=auto\n",
      "Validation\n",
      "P_5                   \tall\t0.1933\n",
      "recall_1000           \tall\t0.5766\n",
      "ndcg_cut_10           \tall\t0.1864\n",
      "map_cut_1000          \tall\t0.1061\n",
      "Test\n",
      "P_5                   \tall\t0.1367\n",
      "recall_1000           \tall\t0.5352\n",
      "ndcg_cut_10           \tall\t0.1287\n",
      "map_cut_1000          \tall\t0.0797\n"
     ]
    }
   ],
   "source": [
    "#evaluation\n",
    "evaluation_results(model_name)\n"
   ]
  },
  {
   "cell_type": "code",
   "execution_count": 267,
   "metadata": {},
   "outputs": [
    {
     "name": "stdout",
     "output_type": "stream",
     "text": [
      "lda_50\n",
      "Validation\n",
      "P_5                   \tall\t0.1467\n",
      "recall_1000           \tall\t0.5766\n",
      "ndcg_cut_10           \tall\t0.1478\n",
      "map_cut_1000          \tall\t0.1136\n",
      "Test\n",
      "P_5                   \tall\t0.1217\n",
      "recall_1000           \tall\t0.5352\n",
      "ndcg_cut_10           \tall\t0.1296\n",
      "map_cut_1000          \tall\t0.0800\n"
     ]
    }
   ],
   "source": [
    "evaluation_results('lda_50')"
   ]
  },
  {
   "cell_type": "markdown",
   "metadata": {},
   "source": [
    "** Significance testing **"
   ]
  },
  {
   "cell_type": "code",
   "execution_count": 278,
   "metadata": {
    "collapsed": true
   },
   "outputs": [],
   "source": [
    "#TODO remove after NB integration with other tasks\n",
    "import re\n",
    "def parse_retrieval_scores(file_name, regexp = \"^ndcg_cut_10\\s\" ,validation=True):\n",
    "    \"\"\"Return a pd.Series of the given score (defined in regexp) for validation or test set.\n",
    "    regexp defines the lines (corresponding to different metrics) to be retrieved.\n",
    "    \n",
    "    >>> parse_retrieval_scores('bm25.run', \"^ndcg_cut_10\\s\", validation = False)\n",
    "    Returns dataframe for NDCG@10 scores for the BM25 retrieval in the test set\n",
    "    \"\"\"\n",
    "\n",
    "    df = pd.Series()\n",
    "    regexp =\"\\'\"+regexp+\"\\'\"\n",
    "    series = pd.Series()\n",
    "    if validation:\n",
    "        qrel_file = 'qrel_test'\n",
    "    else:\n",
    "        qrel_file = 'qrel_validation'\n",
    "    \n",
    "    results = !trec_eval -m all_trec -q ./ap_88_89/{qrel_file} {file_name} | grep -E {regexp}\n",
    "    print('Retrieving',len(results), 'results')\n",
    "    for result in results:\n",
    "        result = re.sub( '\\s+', ' ', result ).strip().split()\n",
    "\n",
    "        idx = result[1]\n",
    "        value = float(result[2])\n",
    "\n",
    "        series.set_value(idx,value)\n",
    "    return series.drop('all')"
   ]
  },
  {
   "cell_type": "code",
   "execution_count": null,
   "metadata": {
    "collapsed": true
   },
   "outputs": [],
   "source": []
  },
  {
   "cell_type": "code",
   "execution_count": 279,
   "metadata": {
    "collapsed": true
   },
   "outputs": [],
   "source": [
    "ndcg = pd.DataFrame()"
   ]
  },
  {
   "cell_type": "code",
   "execution_count": 283,
   "metadata": {},
   "outputs": [
    {
     "name": "stdout",
     "output_type": "stream",
     "text": [
      "Retrieving 31 results\n"
     ]
    },
    {
     "name": "stderr",
     "output_type": "stream",
     "text": [
      "/home/antonis/anaconda2/envs/ir/lib/python3.5/site-packages/ipykernel/__main__.py:27: FutureWarning: set_value is deprecated and will be removed in a future release. Please use .at[] or .iat[] accessors instead\n"
     ]
    },
    {
     "name": "stdout",
     "output_type": "stream",
     "text": [
      "Retrieving 31 results\n",
      "Retrieving 31 results\n"
     ]
    }
   ],
   "source": [
    "ndcg['lda_50_alpha=auto'] = parse_retrieval_scores('retrievals/lda_50_alpha=auto', \"^ndcg_cut_10\\s\", validation = False)\n",
    "ndcg['lda50'] = parse_retrieval_scores('retrievals/lda_50', \"^ndcg_cut_10\\s\", validation = False)\n",
    "ndcg['lsi300'] = parse_retrieval_scores('retrievals/lsi_counts300', \"^ndcg_cut_10\\s\", validation = False)"
   ]
  },
  {
   "cell_type": "code",
   "execution_count": 269,
   "metadata": {
    "scrolled": false
   },
   "outputs": [],
   "source": [
    "def t_test(method1,method2,a=0.05):\n",
    "    \n",
    "    p_value = ttest_rel(method1, method2)[1]\n",
    "    \n",
    "    if p_value>a:\n",
    "        return (p_value, 'not-rejected')\n",
    "    else:\n",
    "        return (p_value, 'rejected')\n"
   ]
  },
  {
   "cell_type": "code",
   "execution_count": 270,
   "metadata": {
    "collapsed": true
   },
   "outputs": [],
   "source": [
    "from scipy.stats import ttest_rel"
   ]
  },
  {
   "cell_type": "code",
   "execution_count": 284,
   "metadata": {},
   "outputs": [
    {
     "data": {
      "text/html": [
       "<div>\n",
       "<style scoped>\n",
       "    .dataframe tbody tr th:only-of-type {\n",
       "        vertical-align: middle;\n",
       "    }\n",
       "\n",
       "    .dataframe tbody tr th {\n",
       "        vertical-align: top;\n",
       "    }\n",
       "\n",
       "    .dataframe thead th {\n",
       "        text-align: right;\n",
       "    }\n",
       "</style>\n",
       "<table border=\"1\" class=\"dataframe\">\n",
       "  <thead>\n",
       "    <tr style=\"text-align: right;\">\n",
       "      <th></th>\n",
       "      <th>lda_50_alpha=auto</th>\n",
       "      <th>lda50</th>\n",
       "      <th>lsi300</th>\n",
       "    </tr>\n",
       "  </thead>\n",
       "  <tbody>\n",
       "    <tr>\n",
       "      <th>103</th>\n",
       "      <td>0.8205</td>\n",
       "      <td>0.2489</td>\n",
       "      <td>0.0000</td>\n",
       "    </tr>\n",
       "    <tr>\n",
       "      <th>111</th>\n",
       "      <td>0.2686</td>\n",
       "      <td>0.1635</td>\n",
       "      <td>0.6429</td>\n",
       "    </tr>\n",
       "    <tr>\n",
       "      <th>114</th>\n",
       "      <td>0.2974</td>\n",
       "      <td>0.4698</td>\n",
       "      <td>0.1420</td>\n",
       "    </tr>\n",
       "    <tr>\n",
       "      <th>120</th>\n",
       "      <td>0.0000</td>\n",
       "      <td>0.0000</td>\n",
       "      <td>0.0000</td>\n",
       "    </tr>\n",
       "    <tr>\n",
       "      <th>123</th>\n",
       "      <td>0.0000</td>\n",
       "      <td>0.0000</td>\n",
       "      <td>0.0000</td>\n",
       "    </tr>\n",
       "    <tr>\n",
       "      <th>135</th>\n",
       "      <td>0.0694</td>\n",
       "      <td>0.1952</td>\n",
       "      <td>0.4819</td>\n",
       "    </tr>\n",
       "    <tr>\n",
       "      <th>143</th>\n",
       "      <td>0.1488</td>\n",
       "      <td>0.0734</td>\n",
       "      <td>0.0000</td>\n",
       "    </tr>\n",
       "    <tr>\n",
       "      <th>144</th>\n",
       "      <td>0.0000</td>\n",
       "      <td>0.0000</td>\n",
       "      <td>0.1370</td>\n",
       "    </tr>\n",
       "    <tr>\n",
       "      <th>151</th>\n",
       "      <td>0.0000</td>\n",
       "      <td>0.1834</td>\n",
       "      <td>0.0784</td>\n",
       "    </tr>\n",
       "    <tr>\n",
       "      <th>155</th>\n",
       "      <td>0.1100</td>\n",
       "      <td>0.0000</td>\n",
       "      <td>0.0000</td>\n",
       "    </tr>\n",
       "    <tr>\n",
       "      <th>158</th>\n",
       "      <td>0.0000</td>\n",
       "      <td>0.0000</td>\n",
       "      <td>0.0000</td>\n",
       "    </tr>\n",
       "    <tr>\n",
       "      <th>165</th>\n",
       "      <td>0.0000</td>\n",
       "      <td>0.0000</td>\n",
       "      <td>0.0000</td>\n",
       "    </tr>\n",
       "    <tr>\n",
       "      <th>167</th>\n",
       "      <td>0.0000</td>\n",
       "      <td>0.0000</td>\n",
       "      <td>0.0000</td>\n",
       "    </tr>\n",
       "    <tr>\n",
       "      <th>170</th>\n",
       "      <td>0.1815</td>\n",
       "      <td>0.3152</td>\n",
       "      <td>0.0000</td>\n",
       "    </tr>\n",
       "    <tr>\n",
       "      <th>173</th>\n",
       "      <td>0.9052</td>\n",
       "      <td>0.2090</td>\n",
       "      <td>0.8454</td>\n",
       "    </tr>\n",
       "    <tr>\n",
       "      <th>180</th>\n",
       "      <td>0.0000</td>\n",
       "      <td>0.0948</td>\n",
       "      <td>0.0000</td>\n",
       "    </tr>\n",
       "    <tr>\n",
       "      <th>182</th>\n",
       "      <td>0.5638</td>\n",
       "      <td>0.0948</td>\n",
       "      <td>0.0000</td>\n",
       "    </tr>\n",
       "    <tr>\n",
       "      <th>192</th>\n",
       "      <td>0.1732</td>\n",
       "      <td>0.3149</td>\n",
       "      <td>0.2154</td>\n",
       "    </tr>\n",
       "    <tr>\n",
       "      <th>53</th>\n",
       "      <td>0.2154</td>\n",
       "      <td>0.3822</td>\n",
       "      <td>0.6719</td>\n",
       "    </tr>\n",
       "    <tr>\n",
       "      <th>57</th>\n",
       "      <td>0.1737</td>\n",
       "      <td>0.3380</td>\n",
       "      <td>0.2431</td>\n",
       "    </tr>\n",
       "    <tr>\n",
       "      <th>69</th>\n",
       "      <td>0.0000</td>\n",
       "      <td>0.0000</td>\n",
       "      <td>0.0000</td>\n",
       "    </tr>\n",
       "    <tr>\n",
       "      <th>74</th>\n",
       "      <td>0.0694</td>\n",
       "      <td>0.0000</td>\n",
       "      <td>0.0636</td>\n",
       "    </tr>\n",
       "    <tr>\n",
       "      <th>78</th>\n",
       "      <td>0.6325</td>\n",
       "      <td>0.3098</td>\n",
       "      <td>0.9364</td>\n",
       "    </tr>\n",
       "    <tr>\n",
       "      <th>86</th>\n",
       "      <td>0.0636</td>\n",
       "      <td>0.2122</td>\n",
       "      <td>0.0663</td>\n",
       "    </tr>\n",
       "    <tr>\n",
       "      <th>89</th>\n",
       "      <td>0.3024</td>\n",
       "      <td>0.0000</td>\n",
       "      <td>0.0000</td>\n",
       "    </tr>\n",
       "    <tr>\n",
       "      <th>90</th>\n",
       "      <td>0.0663</td>\n",
       "      <td>0.0000</td>\n",
       "      <td>0.3149</td>\n",
       "    </tr>\n",
       "    <tr>\n",
       "      <th>92</th>\n",
       "      <td>0.0000</td>\n",
       "      <td>0.0000</td>\n",
       "      <td>0.0784</td>\n",
       "    </tr>\n",
       "    <tr>\n",
       "      <th>93</th>\n",
       "      <td>0.0948</td>\n",
       "      <td>0.4825</td>\n",
       "      <td>0.0000</td>\n",
       "    </tr>\n",
       "    <tr>\n",
       "      <th>94</th>\n",
       "      <td>0.4355</td>\n",
       "      <td>0.2083</td>\n",
       "      <td>0.0734</td>\n",
       "    </tr>\n",
       "    <tr>\n",
       "      <th>95</th>\n",
       "      <td>0.0000</td>\n",
       "      <td>0.1389</td>\n",
       "      <td>0.0000</td>\n",
       "    </tr>\n",
       "  </tbody>\n",
       "</table>\n",
       "</div>"
      ],
      "text/plain": [
       "     lda_50_alpha=auto   lda50  lsi300\n",
       "103             0.8205  0.2489  0.0000\n",
       "111             0.2686  0.1635  0.6429\n",
       "114             0.2974  0.4698  0.1420\n",
       "120             0.0000  0.0000  0.0000\n",
       "123             0.0000  0.0000  0.0000\n",
       "135             0.0694  0.1952  0.4819\n",
       "143             0.1488  0.0734  0.0000\n",
       "144             0.0000  0.0000  0.1370\n",
       "151             0.0000  0.1834  0.0784\n",
       "155             0.1100  0.0000  0.0000\n",
       "158             0.0000  0.0000  0.0000\n",
       "165             0.0000  0.0000  0.0000\n",
       "167             0.0000  0.0000  0.0000\n",
       "170             0.1815  0.3152  0.0000\n",
       "173             0.9052  0.2090  0.8454\n",
       "180             0.0000  0.0948  0.0000\n",
       "182             0.5638  0.0948  0.0000\n",
       "192             0.1732  0.3149  0.2154\n",
       "53              0.2154  0.3822  0.6719\n",
       "57              0.1737  0.3380  0.2431\n",
       "69              0.0000  0.0000  0.0000\n",
       "74              0.0694  0.0000  0.0636\n",
       "78              0.6325  0.3098  0.9364\n",
       "86              0.0636  0.2122  0.0663\n",
       "89              0.3024  0.0000  0.0000\n",
       "90              0.0663  0.0000  0.3149\n",
       "92              0.0000  0.0000  0.0784\n",
       "93              0.0948  0.4825  0.0000\n",
       "94              0.4355  0.2083  0.0734\n",
       "95              0.0000  0.1389  0.0000"
      ]
     },
     "execution_count": 284,
     "metadata": {},
     "output_type": "execute_result"
    }
   ],
   "source": [
    "ndcg"
   ]
  },
  {
   "cell_type": "code",
   "execution_count": 282,
   "metadata": {
    "scrolled": true
   },
   "outputs": [
    {
     "data": {
      "text/plain": [
       "(0.3822779499384543, 'not-rejected')"
      ]
     },
     "execution_count": 282,
     "metadata": {},
     "output_type": "execute_result"
    }
   ],
   "source": [
    "t_test(ndcg['lda_50_alpha=auto'],ndcg['lda50'])"
   ]
  },
  {
   "cell_type": "code",
   "execution_count": 285,
   "metadata": {},
   "outputs": [
    {
     "data": {
      "text/plain": [
       "(0.6963605145988869, 'not-rejected')"
      ]
     },
     "execution_count": 285,
     "metadata": {},
     "output_type": "execute_result"
    }
   ],
   "source": [
    "t_test(ndcg['lsi300'],ndcg['lda50'])"
   ]
  },
  {
   "cell_type": "markdown",
   "metadata": {},
   "source": [
    "### Task 3:  Word embeddings for ranking [10 points] ###\n",
    "\n",
    "First create word embeddings on the corpus we provided using [word2vec](http://arxiv.org/abs/1411.2738) -- [gensim implementation](https://radimrehurek.com/gensim/models/word2vec.html). You should extract the indexed documents using pyndri and provide them to gensim for training a model (see example [here](https://github.com/nickvosk/pyndri/blob/master/examples/word2vec.py)).\n",
    "\n",
    "Try one of the following (increasingly complex) methods for building query and document representations:\n",
    "   * Average or sum the word vectors.\n",
    "   * Cluster words in the document using [k-means](http://scikit-learn.org/stable/modules/generated/sklearn.cluster.KMeans.html) and use the centroid of the most important cluster. Experiment with different values of K for k-means.\n",
    "   * Using the [bag-of-word-embeddings representation](https://ciir-publications.cs.umass.edu/pub/web/getpdf.php?id=1248).\n",
    "   \n",
    "Note that since we provide the implementation for training word2vec, you will be graded based on your creativity on combining word embeddings for building query and document representations.\n",
    "\n",
    "Note: If you want to experiment with pre-trained word embeddings on a different corpus, you can use the word embeddings we provide alongside the assignment (./data/reduced_vectors_google.txt). These are the [google word2vec word embeddings](https://code.google.com/archive/p/word2vec/), reduced to only the words that appear in the document collection we use in this assignment."
   ]
  },
  {
   "cell_type": "code",
   "execution_count": null,
   "metadata": {
    "collapsed": true
   },
   "outputs": [],
   "source": []
  },
  {
   "cell_type": "markdown",
   "metadata": {},
   "source": [
    "### Task 4: Learning to rank (LTR) [10 points] ###\n",
    "\n",
    "In this task you will get an introduction into learning to rank for information retrieval, in particular pointwise learning to rank.\n",
    "\n",
    "You will experiment with a pointwise learning to rank method, logistic regression, implemented in [scikit-learn](http://scikit-learn.org/stable/modules/generated/sklearn.linear_model.LogisticRegression.html).\n",
    "Train your LTR model using 10-fold cross validation on the test set.\n",
    "\n",
    "You can explore different ways for devising features for the model. Obviously, you can use the retrieval methods you implemented in Task 1 and Task 2 as features. Think about other features you can use (e.g. query/document length). \n",
    "One idea is to also explore external sources such as Wikipedia entities (?). Creativity on devising new features and providing motivation for them will be taken into account when grading.\n",
    "\n",
    "For every query, first create a document candidate set using the top-1000 documents using TF-IDF, and subsequently compute features given a query and a document. Note that the feature values of different retrieval methods are likely to be distributed differently."
   ]
  },
  {
   "cell_type": "code",
   "execution_count": null,
   "metadata": {
    "collapsed": true
   },
   "outputs": [],
   "source": []
  },
  {
   "cell_type": "markdown",
   "metadata": {
    "collapsed": true
   },
   "source": [
    "### Task 4: Write a report [20 points; instant FAIL if not provided] ###\n",
    "\n",
    "The report should be a PDF file created using the [sigconf ACM template](https://www.acm.org/publications/proceedings-template) and will determine a significant part of your grade.\n",
    "\n",
    "   * It should explain what you have implemented, motivate your experiments and detail what you expect to learn from them. **[10 points]**\n",
    "   * Lastly, provide a convincing analysis of your results and conclude the report accordingly. **[10 points]**\n",
    "      * Do all methods perform similarly on all queries? Why?\n",
    "      * Is there a single retrieval model that outperforms all other retrieval models (i.e., silver bullet)?\n",
    "      * ...\n",
    "\n",
    "**Hand in the report and your self-contained implementation source files.** Only send us the files that matter, organized in a well-documented zip/tgz file with clear instructions on how to reproduce your results. That is, we want to be able to regenerate all your results with minimal effort. You can assume that the index and ground-truth information is present in the same file structure as the one we have provided.\n"
   ]
  },
  {
   "cell_type": "code",
   "execution_count": null,
   "metadata": {
    "collapsed": true
   },
   "outputs": [],
   "source": []
  }
 ],
 "metadata": {
  "anaconda-cloud": {},
  "kernelspec": {
   "display_name": "Python [conda env:ir]",
   "language": "python",
   "name": "conda-env-ir-py"
  },
  "language_info": {
   "codemirror_mode": {
    "name": "ipython",
    "version": 3
   },
   "file_extension": ".py",
   "mimetype": "text/x-python",
   "name": "python",
   "nbconvert_exporter": "python",
   "pygments_lexer": "ipython3",
   "version": "3.5.4"
  }
 },
 "nbformat": 4,
 "nbformat_minor": 1
}
