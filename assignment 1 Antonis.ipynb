{
 "cells": [
  {
   "cell_type": "raw",
   "metadata": {},
   "source": [
    "# Searching Unstructured and Structured Data #\n",
    "## Assignment 1: Retrieval models [100 points] ##\n",
    "**TA**: Nikos Voskarides (n.voskarides@uva.nl)"
   ]
  },
  {
   "cell_type": "markdown",
   "metadata": {},
   "source": [
    "In this assignment you will get familiar with basic information retrieval concepts. You will implement and evaluate different information retrieval ranking models and evaluate their performance.\n",
    "\n",
    "We provide you with a Indri index. To query the index, you'll use a Python package ([pyndri](https://github.com/cvangysel/pyndri)) that allows easy access to the underlying document statistics.\n",
    "\n",
    "For evaluation you'll use the [TREC Eval](https://github.com/usnistgov/trec_eval) utility, provided by the National Institute of Standards and Technology of the United States. TREC Eval is the de facto standard way to compute Information Retrieval measures and is frequently referenced in scientific papers.\n",
    "\n",
    "This is a **groups-of-three assignment**, the deadline is **Monday, 22/1, at 23:59**. Code quality, informative comments and convincing analysis of the results will be considered when grading. Submission should be done through blackboard, questions can be asked on the course [Piazza](https://piazza.com/class/ixoz63p156g1ts).\n",
    "\n",
    "### Technicalities (must-read!) ###\n",
    "\n",
    "The assignment directory is organized as follows:\n",
    "   * `./assignment.ipynb` (this file): the description of the assignment.\n",
    "   * `./index/`: the index we prepared for you.\n",
    "   * `./ap_88_90/`: directory with ground-truth and evaluation sets:\n",
    "      * `qrel_test`: test query relevance collection (**test set**).\n",
    "      * `qrel_validation`: validation query relevance collection (**validation set**).\n",
    "      * `topics_title`: semicolon-separated file with query identifiers and terms.\n",
    "\n",
    "You will need the following software packages (tested with Python 3.5 inside [Anaconda](https://conda.io/docs/user-guide/install/index.html)):\n",
    "   * Python 3.5 and Jupyter\n",
    "   * Indri + Pyndri (Follow the installation instructions [here](https://github.com/nickvosk/pyndri/blob/master/README.md))\n",
    "   * gensim [link](https://radimrehurek.com/gensim/install.html)\n",
    "   * TREC Eval [link](https://github.com/usnistgov/trec_eval)"
   ]
  },
  {
   "cell_type": "markdown",
   "metadata": {},
   "source": [
    "### TREC Eval primer ###\n",
    "The TREC Eval utility can be downloaded and compiled as follows:\n",
    "\n",
    "    git clone https://github.com/usnistgov/trec_eval.git\n",
    "    cd trec_eval\n",
    "    make\n",
    "\n",
    "TREC Eval computes evaluation scores given two files: ground-truth information regarding relevant documents, named *query relevance* or *qrel*, and a ranking of documents for a set of queries, referred to as a *run*. The *qrel* will be supplied by us and should not be changed. For every retrieval model (or combinations thereof) you will generate a run of the top-1000 documents for every query. The format of the *run* file is as follows:\n",
    "\n",
    "    $query_identifier Q0 $document_identifier $rank_of_document_for_query $query_document_similarity $run_identifier\n",
    "    \n",
    "where\n",
    "   * `$query_identifier` is the unique identifier corresponding to a query (usually this follows a sequential numbering).\n",
    "   * `Q0` is a legacy field that you can ignore.\n",
    "   * `$document_identifier` corresponds to the unique identifier of a document (e.g., APXXXXXXX where AP denotes the collection and the Xs correspond to a unique numerical identifier).\n",
    "   * `$rank_of_document_for_query` denotes the rank of the document for the particular query. This field is ignored by TREC Eval and is only maintained for legacy support. The ranks are computed by TREC Eval itself using the `$query_document_similarity` field (see next). However, it remains good practice to correctly compute this field.\n",
    "   * `$query_document_similarity` is a score indicating the similarity between query and document where a higher score denotes greater similarity.\n",
    "   * `$run_identifier` is an identifier of the run. This field is for your own convenience and has no purpose beyond bookkeeping.\n",
    "   \n",
    "For example, say we have two queries: `Q1` and `Q2` and we rank three documents (`DOC1`, `DOC2`, `DOC3`). For query `Q1`, we find the following similarity scores `score(Q1, DOC1) = 1.0`, `score(Q1, DOC2) = 0.5`, `score(Q1, DOC3) = 0.75`; and for `Q2`: `score(Q2, DOC1) = -0.1`, `score(Q2, DOC2) = 1.25`, `score(Q1, DOC3) = 0.0`. We can generate run using the following snippet:"
   ]
  },
  {
   "cell_type": "code",
   "execution_count": 1,
   "metadata": {
    "collapsed": true
   },
   "outputs": [],
   "source": [
    "import time\n",
    "import numpy as np\n",
    "import glob\n",
    "import pandas as pd\n",
    "from matplotlib import pyplot as plt\n",
    "plt.style.use('ggplot')"
   ]
  },
  {
   "cell_type": "code",
   "execution_count": 2,
   "metadata": {
    "scrolled": false
   },
   "outputs": [
    {
     "name": "stdout",
     "output_type": "stream",
     "text": [
      "Q1 Q0 DOC1 1 1.0 example\n",
      "Q1 Q0 DOC3 2 0.75 example\n",
      "Q1 Q0 DOC2 3 0.5 example\n",
      "Q2 Q0 DOC2 1 1.25 example\n",
      "Q2 Q0 DOC3 2 0.0 example\n",
      "Q2 Q0 DOC1 3 -0.1 example\n"
     ]
    }
   ],
   "source": [
    "import logging\n",
    "import sys\n",
    "import os\n",
    "\n",
    "\n",
    "def write_run(model_name, data, out_f,\n",
    "              max_objects_per_query=sys.maxsize,\n",
    "              skip_sorting=False):\n",
    "    \"\"\"\n",
    "    Write a run to an output file.\n",
    "    Parameters:\n",
    "        - model_name: identifier of run.\n",
    "        - data: dictionary mapping topic_id to object_assesments;\n",
    "            object_assesments is an iterable (list or tuple) of\n",
    "            (relevance, object_id) pairs.\n",
    "            The object_assesments iterable is sorted by decreasing order.\n",
    "        - out_f: output file stream.\n",
    "        - max_objects_per_query: cut-off for number of objects per query.\n",
    "    \"\"\"\n",
    "    for subject_id, object_assesments in data.items():\n",
    "        if not object_assesments:\n",
    "            logging.warning('Received empty ranking for %s; ignoring.',\n",
    "                            subject_id)\n",
    "\n",
    "            continue\n",
    "\n",
    "        # Probe types, to make sure everything goes alright.\n",
    "        # assert isinstance(object_assesments[0][0], float) or \\\n",
    "        #     isinstance(object_assesments[0][0], np.float32)\n",
    "        assert isinstance(object_assesments[0][1], str) or \\\n",
    "            isinstance(object_assesments[0][1], bytes)\n",
    "\n",
    "        if not skip_sorting:\n",
    "            object_assesments = sorted(object_assesments, reverse=True)\n",
    "\n",
    "        if max_objects_per_query < sys.maxsize:\n",
    "            object_assesments = object_assesments[:max_objects_per_query]\n",
    "\n",
    "        if isinstance(subject_id, bytes):\n",
    "            subject_id = subject_id.decode('utf8')\n",
    "\n",
    "        for rank, (relevance, object_id) in enumerate(object_assesments):\n",
    "            if isinstance(object_id, bytes):\n",
    "                object_id = object_id.decode('utf8')\n",
    "\n",
    "            out_f.write(\n",
    "                '{subject} Q0 {object} {rank} {relevance} '\n",
    "                '{model_name}\\n'.format(\n",
    "                    subject=subject_id,\n",
    "                    object=object_id,\n",
    "                    rank=rank + 1,\n",
    "                    relevance=relevance,\n",
    "                    model_name=model_name))\n",
    "            \n",
    "# The following writes the run to standard output.\n",
    "# In your code, you should write the runs to local\n",
    "# storage in order to pass them to trec_eval.\n",
    "write_run(\n",
    "    model_name='example',\n",
    "    data={\n",
    "        'Q1': ((1.0, 'DOC1'), (0.5, 'DOC2'), (0.75, 'DOC3')),\n",
    "        'Q2': ((-0.1, 'DOC1'), (1.25, 'DOC2'), (0.0, 'DOC3')),\n",
    "    },\n",
    "    out_f=sys.stdout,\n",
    "    max_objects_per_query=1000)"
   ]
  },
  {
   "cell_type": "markdown",
   "metadata": {},
   "source": [
    "Now, imagine that we know that `DOC1` is relevant and `DOC3` is non-relevant for `Q1`. In addition, for `Q2` we only know of the relevance of `DOC3`. The query relevance file looks like:\n",
    "\n",
    "    Q1 0 DOC1 1\n",
    "    Q1 0 DOC3 0\n",
    "    Q2 0 DOC3 1\n",
    "    \n",
    "We store the run and qrel in files `example.run` and `example.qrel` respectively on disk. We can now use TREC Eval to compute evaluation measures. In this example, we're only interested in Mean Average Precision and we'll only show this below for brevity. However, TREC Eval outputs much more information such as NDCG, recall, precision, etc.\n",
    "\n",
    "    $ trec_eval -m all_trec -q example.qrel example.run | grep -E \"^map\\s\"\n",
    "    > map                   \tQ1\t1.0000\n",
    "    > map                   \tQ2\t0.5000\n",
    "    > map                   \tall\t0.7500\n",
    "    \n",
    "Now that we've discussed the output format of rankings and how you can compute evaluation measures from these rankings, we'll now proceed with an overview of the indexing framework you'll use."
   ]
  },
  {
   "cell_type": "markdown",
   "metadata": {},
   "source": [
    "### Pyndri primer ###\n",
    "For this assignment you will use [Pyndri](https://github.com/cvangysel/pyndri) [[1](https://arxiv.org/abs/1701.00749)], a python interface for [Indri](https://www.lemurproject.org/indri.php). We have indexed the document collection and you can query the index using Pyndri. We will start by giving you some examples of what Pyndri can do:\n",
    "\n",
    "First we read the document collection index with Pyndri:"
   ]
  },
  {
   "cell_type": "code",
   "execution_count": 3,
   "metadata": {
    "collapsed": true,
    "scrolled": true
   },
   "outputs": [],
   "source": [
    "import pyndri\n",
    "\n",
    "index = pyndri.Index('index/')"
   ]
  },
  {
   "cell_type": "markdown",
   "metadata": {},
   "source": [
    "The loaded index can be used to access a collection of documents in an easy manner. We'll give you some examples to get some idea of what it can do, it is up to you to figure out how to use it for the remainder of the assignment.\n",
    "\n",
    "First let's look at the number of documents, since Pyndri indexes the documents using incremental identifiers we can simply take the lowest index and the maximum document and consider the difference:"
   ]
  },
  {
   "cell_type": "code",
   "execution_count": 4,
   "metadata": {},
   "outputs": [
    {
     "name": "stdout",
     "output_type": "stream",
     "text": [
      "There are 164597 documents in this collection.\n"
     ]
    }
   ],
   "source": [
    "print(\"There are %d documents in this collection.\" % (index.maximum_document() - index.document_base()))"
   ]
  },
  {
   "cell_type": "markdown",
   "metadata": {},
   "source": [
    "Let's take the first document out of the collection and take a look at it:"
   ]
  },
  {
   "cell_type": "code",
   "execution_count": 5,
   "metadata": {
    "scrolled": true
   },
   "outputs": [
    {
     "name": "stdout",
     "output_type": "stream",
     "text": [
      "('AP890425-0001', (1360, 192, 363, 0, 880, 0, 200, 0, 894, 412, 92160, 3, 192, 0, 363, 34, 1441, 0, 174134, 0, 200, 0, 894, 412, 2652, 0, 810, 107, 49, 4903, 420, 0, 1, 48, 35, 489, 0, 35, 687, 192, 243, 0, 249311, 1877, 0, 1651, 1174, 0, 2701, 117, 412, 0, 810, 391, 245233, 1225, 5838, 16, 0, 233156, 3496, 0, 393, 17, 0, 2435, 4819, 930, 0, 0, 200, 0, 894, 0, 22, 398, 145, 0, 3, 271, 115, 0, 1176, 2777, 292, 0, 725, 192, 0, 0, 50046, 0, 1901, 1130, 0, 192, 0, 408, 0, 243779, 0, 0, 553, 192, 0, 363, 0, 3747, 0, 0, 0, 0, 1176, 0, 1239, 0, 0, 1115, 17, 0, 0, 585, 192, 1963, 0, 0, 412, 54356, 0, 773, 0, 0, 0, 192, 0, 0, 1130, 0, 363, 0, 545, 192, 0, 1174, 1901, 1130, 0, 4, 398, 145, 39, 0, 577, 0, 355, 0, 491, 0, 6025, 0, 0, 193156, 88, 34, 437, 0, 0, 1852, 0, 828, 0, 1588, 0, 0, 0, 2615, 0, 0, 107, 49, 420, 0, 0, 190, 7, 714, 2701, 0, 237, 192, 157, 0, 412, 34, 437, 0, 0, 200, 6025, 26, 0, 0, 0, 0, 363, 0, 22, 398, 145, 0, 200, 638, 126222, 6018, 0, 880, 0, 0, 161, 0, 0, 319, 894, 2701, 0, 0, 0, 301, 1200, 0, 363, 251, 430, 0, 207, 0, 76143, 1773, 0, 243779, 0, 0, 72030, 0, 55, 4903, 420, 0, 2701, 1496, 420, 0, 25480, 0, 420, 0, 0, 200, 0, 392, 2949, 0, 1738, 0, 61, 0, 71, 79, 0, 200, 903, 0, 188, 53, 6, 0, 476, 2, 0, 2028, 97, 334, 0, 0, 200, 178, 0, 0, 107, 49, 0, 214, 0, 0, 0, 114, 3866, 1505, 195, 79893, 574, 0, 198, 2160, 0, 192, 0, 420, 0, 384, 0, 2701, 0, 114, 6025, 1549, 74627, 0, 238, 0, 0, 0, 3729, 0, 192, 0, 79893, 0, 0, 729, 3141, 129, 0, 192, 196764, 39, 0, 0, 714, 63, 0, 55, 420, 3356, 0, 0, 117, 412, 0, 0, 79758, 0, 1901, 1130, 4067, 2133, 0, 0, 875, 72, 0, 0, 336, 2789, 0, 0, 25, 920, 121, 104, 0, 3162, 0, 0, 420, 0, 2178, 0, 0, 386, 192545, 159306, 0, 0, 0, 1914, 0, 200, 0, 1794, 0, 2654, 0, 0, 25480, 420, 0, 2795, 0, 0, 229690, 0, 32559, 0, 0, 392, 253919, 0, 0, 0, 0, 379, 0, 0, 114, 0, 553, 10, 0, 1128, 0, 23610, 248, 151, 0, 418, 0, 651, 0, 36, 0, 0, 645, 0, 0, 513, 0, 0, 25480, 420, 34, 0, 0, 0, 15, 0, 3348, 0, 3496, 0, 35, 687, 0, 1, 48, 0, 0, 2803, 0, 0, 714, 1274, 0, 114, 62, 1006, 70268, 1200, 2357, 0, 497, 0, 497, 125, 0, 913, 4647, 3985, 0, 0, 3370, 245233, 0, 0, 687, 0, 4, 1288, 0, 0, 0, 0, 715, 0, 0, 687, 583, 0, 0, 1627, 0, 0, 11, 357, 1359, 0, 849, 0, 0, 1518, 462, 245233, 0, 0, 0, 0, 0, 0, 171, 70268, 0))\n"
     ]
    }
   ],
   "source": [
    "example_document = index.document(index.document_base())\n",
    "print(example_document)"
   ]
  },
  {
   "cell_type": "markdown",
   "metadata": {},
   "source": [
    "Here we see a document consists of two things, a string representing the external document identifier and an integer list representing the identifiers of words that make up the document. Pyndri uses integer representations for words or terms, thus a token_id is an integer that represents a word whereas the token is the actual text of the word/term. Every id has a unique token and vice versa with the exception of stop words: words so common that there are uninformative, all of these receive the zero id.\n",
    "\n",
    "To see what some ids and their matching tokens we take a look at the dictionary of the index:"
   ]
  },
  {
   "cell_type": "code",
   "execution_count": 6,
   "metadata": {},
   "outputs": [
    {
     "name": "stdout",
     "output_type": "stream",
     "text": [
      "[(1, 'new'), (2, 'percent'), (3, 'two'), (4, '1'), (5, 'people'), (6, 'million'), (7, '000'), (8, 'government'), (9, 'president'), (10, 'years'), (11, 'state'), (12, '2'), (13, 'states'), (14, 'three'), (15, 'time')]\n"
     ]
    }
   ],
   "source": [
    "token2id, id2token, _ = index.get_dictionary()\n",
    "print(list(id2token.items())[:15])"
   ]
  },
  {
   "cell_type": "markdown",
   "metadata": {},
   "source": [
    "Using this dictionary we can see the tokens for the (non-stop) words in our example document:"
   ]
  },
  {
   "cell_type": "code",
   "execution_count": 7,
   "metadata": {},
   "outputs": [
    {
     "name": "stdout",
     "output_type": "stream",
     "text": [
      "['52', 'students', 'arrested', 'takeover', 'university', 'massachusetts', 'building', 'fifty', 'two', 'students', 'arrested', 'tuesday', 'evening', 'occupying', 'university', 'massachusetts', 'building', 'overnight', 'protest', 'defense', 'department', 'funded', 'research', 'new', 'york', 'city', 'thousands', 'city', 'college', 'students', 'got', 'unscheduled', 'holiday', 'demonstrators', 'occupied', 'campus', 'administration', 'building', 'protest', 'possible', 'tuition', 'increases', 'prompting', 'officials', 'suspend', 'classes', '60', 'police', 'riot', 'gear', 'arrived', 'university', 'massachusetts', '5', 'p', 'm', 'two', 'hours', 'later', 'bus', 'drove', 'away', '29', 'students', 'camped', 'memorial', 'hall', 'students', 'charged', 'trespassing', '23', 'students', 'arrested', 'lying', 'bus', 'prevent', 'leaving', 'police', '300', 'students', 'stood', 'building', 'chanting', 'looking', 'students', 'hall', 'arrested', '35', 'students', 'occupied', 'memorial', 'hall', '1', 'p', 'm', 'monday', 'declined', 'offer', 'meet', 'administrators', 'provosts', 'office', 'tuesday', 'morning', 'presented', 'list', 'demands', 'halt', 'defense', 'department', 'research', '25', '000', 'student', 'campus', '40', 'students', 'left', 'building', 'tuesday', 'morning', 'university', 'administrators', 'told', 'arrested', '5', 'p', 'm', 'university', 'spokeswoman', 'jeanne', 'hopkins', 'takeover', 'second', 'western', 'massachusetts', 'campus', 'seven', 'protesters', 'arrested', 'april', '19', 'charges', 'disorderly', 'conduct', 'trespassing', 'demonstrating', 'military', 'funded', 'research', 'campus', 'particularly', 'research', 'anthrax', 'research', 'university', 'non', 'classified', 'researchers', 'make', 'work', 'public', 'university', 'rules', '11', '6', 'million', '22', 'percent', 'grant', 'money', 'received', 'university', 'came', 'defense', 'department', '1988', 'school', 'chancellor', 'joseph', 'd', 'duffey', 'issued', 'statement', 'telling', 'students', 'research', 'continue', 'campus', 'school', 'administrators', 'decide', 'differently', 'policy', 'negotiated', 'students', 'duffey', 'latest', 'occupation', 'began', 'students', 'rallying', 'monday', 'student', 'union', 'military', 'research', 'marched', 'administration', 'building', 'ducked', 'memorial', 'hall', 'en', 'route', 'followed', 'members', 'local', 'chapter', 'american', 'friends', 'service', 'committee', 'contended', 'research', 'dangerous', 'town', 'promotes', 'militarism', 'banned', 'university', 'argued', 'purpose', 'anthrax', 'research', 'peaceful', 'strain', 'bacteria', 'non', 'virulent', 'study', 'school', '23', 'years', 'incident', 'amherst', 'health', 'board', 'scheduled', 'hearing', 'wednesday', 'question', 'safety', 'anthrax', 'research', 'tuesday', 'time', '1969', 'classes', 'city', 'college', 'new', 'york', 'canceled', 'student', 'protests', 'school', 'spokesman', 'charles', 'deciccio', 'protesters', 'demanding', 'face', 'face', 'meeting', 'gov', 'mario', 'cuomo', 'feared', 'tuition', 'college', '1', '250', 'increased', 'college', 'staff', 'reduced', 'state', 'budget', 'cuts', 'governor', 'immediate', 'comment', 'tuition', 'set', 'deciccio']\n"
     ]
    }
   ],
   "source": [
    "print([id2token[word_id] for word_id in example_document[1] if word_id > 0])"
   ]
  },
  {
   "cell_type": "markdown",
   "metadata": {},
   "source": [
    "The reverse can also be done, say we want to look for news about the \"University of Massachusetts\", the tokens of that query can be converted to ids using the reverse dictionary:"
   ]
  },
  {
   "cell_type": "code",
   "execution_count": 8,
   "metadata": {},
   "outputs": [
    {
     "name": "stdout",
     "output_type": "stream",
     "text": [
      "Query by tokens: ['university', '', 'massachusetts']\n",
      "Query by ids with stopwords: [200, 0, 894]\n",
      "Query by ids without stopwords: [200, 894]\n"
     ]
    }
   ],
   "source": [
    "query_tokens = index.tokenize(\"University of Massachusetts\")\n",
    "print(\"Query by tokens:\", query_tokens)\n",
    "query_id_tokens = [token2id.get(query_token,0) for query_token in query_tokens]\n",
    "print(\"Query by ids with stopwords:\", query_id_tokens)\n",
    "query_id_tokens = [word_id for word_id in query_id_tokens if word_id > 0]\n",
    "print(\"Query by ids without stopwords:\", query_id_tokens)"
   ]
  },
  {
   "cell_type": "markdown",
   "metadata": {},
   "source": [
    "Naturally we can now match the document and query in the id space, let's see how often a word from the query occurs in our example document:"
   ]
  },
  {
   "cell_type": "code",
   "execution_count": 9,
   "metadata": {},
   "outputs": [
    {
     "name": "stdout",
     "output_type": "stream",
     "text": [
      "Document AP890425-0001 has 13 word matches with query: \"university  massachusetts\".\n",
      "Document AP890425-0001 and query \"university  massachusetts\" have a 2.5% overlap.\n"
     ]
    }
   ],
   "source": [
    "matching_words = sum([True for word_id in example_document[1] if word_id in query_id_tokens])\n",
    "print(\"Document %s has %d word matches with query: \\\"%s\\\".\" % (example_document[0], matching_words, ' '.join(query_tokens)))\n",
    "print(\"Document %s and query \\\"%s\\\" have a %.01f%% overlap.\" % (example_document[0], ' '.join(query_tokens),matching_words/float(len(example_document[1]))*100))"
   ]
  },
  {
   "cell_type": "markdown",
   "metadata": {},
   "source": [
    "While this is certainly not everything Pyndri can do, it should give you an idea of how to use it. Please take a look at the [examples](https://github.com/cvangysel/pyndri) as it will help you a lot with this assignment.\n",
    "\n",
    "**CAUTION**: Avoid printing out the whole index in this Notebook as it will generate a lot of output and is likely to corrupt the Notebook."
   ]
  },
  {
   "cell_type": "markdown",
   "metadata": {},
   "source": [
    "### Parsing the query file\n",
    "You can parse the query file (`ap_88_89/topics_title`) using the following snippet:"
   ]
  },
  {
   "cell_type": "code",
   "execution_count": 10,
   "metadata": {
    "scrolled": true
   },
   "outputs": [
    {
     "name": "stdout",
     "output_type": "stream",
     "text": [
      "OrderedDict([('51', 'Airbus Subsidies'), ('52', 'South African Sanctions'), ('53', 'Leveraged Buyouts'), ('54', 'Satellite Launch Contracts'), ('55', 'Insider Trading'), ('56', 'Prime (Lending) Rate Moves, Predictions'), ('57', 'MCI'), ('58', 'Rail Strikes'), ('59', 'Weather Related Fatalities'), ('60', 'Merit-Pay vs. Seniority'), ('61', 'Israeli Role in Iran-Contra Affair'), ('62', \"Military Coups D'etat\"), ('63', 'Machine Translation'), ('64', 'Hostage-Taking'), ('65', 'Information Retrieval Systems'), ('66', 'Natural Language Processing'), ('67', 'Politically Motivated Civil Disturbances'), ('68', 'Health Hazards from Fine-Diameter Fibers'), ('69', 'Attempts to Revive the SALT II Treaty'), ('70', 'Surrogate Motherhood'), ('71', 'Border Incursions'), ('72', 'Demographic Shifts in the U.S.'), ('73', 'Demographic Shifts across National Boundaries'), ('74', 'Conflicting Policy'), ('75', 'Automation'), ('76', 'U.S. Constitution - Original Intent'), ('77', 'Poaching'), ('78', 'Greenpeace'), ('79', 'FRG Political Party Positions'), ('80', '1988 Presidential Candidates Platforms'), ('81', 'Financial crunch for televangelists in the wake of the PTL scandal'), ('82', 'Genetic Engineering'), ('83', 'Measures to Protect the Atmosphere'), ('84', 'Alternative/renewable Energy Plant & Equipment Installation'), ('85', 'Official Corruption'), ('86', 'Bank Failures'), ('87', 'Criminal Actions Against Officers of Failed Financial Institutions'), ('88', 'Crude Oil Price Trends'), ('89', '\"Downstream\" Investments by OPEC Member States'), ('90', 'Data on Proven Reserves of Oil & Natural Gas Producers'), ('91', 'U.S. Army Acquisition of Advanced Weapons Systems'), ('92', 'International Military Equipment Sales'), ('93', 'What Backing Does the National Rifle Association Have?'), ('94', 'Computer-aided Crime'), ('95', 'Computer-aided Crime Detection'), ('96', 'Computer-Aided Medical Diagnosis'), ('97', 'Fiber Optics Applications'), ('98', 'Fiber Optics Equipment Manufacturers'), ('99', 'Iran-Contra Affair'), ('100', 'Controlling the Transfer of High Technology'), ('101', 'Design of the \"Star Wars\" Anti-missile Defense System'), ('102', \"Laser Research Applicable to the U.S.'s Strategic Defense Initiative\"), ('103', 'Welfare Reform'), ('104', 'Catastrophic Health Insurance'), ('105', '\"Black Monday\"'), ('106', 'U.S. Control of Insider Trading'), ('107', 'Japanese Regulation of Insider Trading'), ('108', 'Japanese Protectionist Measures'), ('109', 'Find Innovative Companies'), ('110', 'Black Resistance Against the South African Government'), ('111', 'Nuclear Proliferation'), ('112', 'Funding Biotechnology'), ('113', 'New Space Satellite Applications'), ('114', 'Non-commercial Satellite Launches'), ('115', 'Impact of the 1986 Immigration Law'), ('116', 'Generic Drug Substitutions'), ('117', 'Capacity of the U.S. Cellular Telephone Network'), ('118', 'International Terrorists'), ('119', 'Actions Against International Terrorists'), ('120', 'Economic Impact of International Terrorism'), ('121', 'Death from Cancer'), ('122', 'RDT&E of New Cancer Fighting Drugs'), ('123', 'Research into & Control of Carcinogens'), ('124', 'Alternatives to Traditional Cancer Therapies'), ('125', 'Anti-smoking Actions by Government'), ('126', 'Medical Ethics and Modern Technology'), ('127', 'U.S.-U.S.S.R. Arms Control Agreements'), ('128', 'Privatization of State Assets'), ('129', 'Soviet Spying on the U.S.'), ('130', 'Jewish Emigration and U.S.-USSR Relations'), ('131', 'McDonnell Douglas Contracts for Military Aircraft'), ('132', '\"Stealth\" Aircraft'), ('133', 'Hubble Space Telescope'), ('134', 'The Human Genome Project'), ('135', 'Possible Contributions of Gene Mapping to Medicine'), ('136', 'Diversification by Pacific Telesis'), ('137', 'Expansion in the U.S. Theme Park Industry'), ('138', 'Iranian Support for Lebanese Hostage-takers'), ('139', \"Iran's Islamic Revolution - Domestic and Foreign Social Consequences\"), ('140', 'Political Impact of Islamic Fundamentalism'), ('141', \"Japan's Handling of its Trade Surplus with the U.S.\"), ('142', 'Impact of Government Regulated Grain Farming on International Relations'), ('143', 'Why Protect U.S. Farmers?'), ('144', 'Management Problems at the United Nations'), ('145', 'Influence of the \"Pro-Israel Lobby\"'), ('146', 'Negotiating an End to the Nicaraguan Civil War'), ('147', 'Productivity Trends in the U.S. Economy'), ('148', 'Conflict in the Horn of Africa'), ('149', 'Industrial Espionage'), ('150', 'U.S. Political Campaign Financing'), ('151', 'Coping with overcrowded prisons'), ('152', 'Accusations of Cheating by Contractors on U.S. Defense Projects'), ('153', 'Insurance Coverage which pays for Long Term Care'), ('154', 'Oil Spills'), ('155', 'Right Wing Christian Fundamentalism in U.S.'), ('156', 'Efforts to enact Gun Control Legislation'), ('157', 'Causes and treatments of multiple sclerosis (MS)'), ('158', 'Term limitations for members of the U.S. Congress'), ('159', 'Electric Car Development'), ('160', 'Vitamins - The Cure for or Cause of Human Ailments'), ('161', 'Acid Rain'), ('162', 'Automobile Recalls'), ('163', 'Vietnam Veterans and Agent Orange'), ('164', 'Generic Drugs - Illegal Activities by Manufacturers'), ('165', 'Tobacco company advertising and the young'), ('166', 'Standardized testing and cultural bias'), ('167', 'Regulation of the showing of violence and explicit sex in motion picture theaters, on television, and on video cassettes.'), ('168', 'Financing AMTRAK'), ('169', 'Cost of Garbage/Trash Removal'), ('170', 'The Consequences of Implantation of Silicone Gel Breast Devices'), ('171', \"Use of Mutual Funds in an Individual's Retirement Strategy\"), ('172', 'The Effectiveness of Medical Products and Related Programs Utilized in the Cessation of Smoking.'), ('173', 'Smoking Bans'), ('174', 'Hazardous Waste Cleanup'), ('175', 'NRA Prevention of Gun Control Legislation'), ('176', 'Real-life private investigators'), ('177', 'English as the Official Language in U.S.'), ('178', 'Dog Maulings'), ('179', 'U. S. Restaurants in Foreign Lands'), ('180', 'Ineffectiveness of U.S. Embargoes/Sanctions'), ('181', 'Abuse of the Elderly by Family Members, and Medical and Nonmedical Personnel, and Initiatives Being Taken to Minimize This Mistreatment'), ('182', 'Commercial Overfishing Creates Food Fish Deficit'), ('183', 'Asbestos Related Lawsuits'), ('184', 'Corporate Pension Plans/Funds'), ('185', 'Reform of the U.S. Welfare System'), ('186', 'Difference of Learning Levels Among Inner City and More Suburban School Students'), ('187', 'Signs of the Demise of Independent Publishing'), ('188', 'Beachfront Erosion'), ('189', 'Real Motives for Murder'), ('190', 'Instances of Fraud Involving the Use of a Computer'), ('191', 'Efforts to Improve U.S. Schooling'), ('192', 'Oil Spill Cleanup'), ('193', 'Toys R Dangerous'), ('194', 'The Amount of Money Earned by Writers'), ('195', 'Stock Market Perturbations Attributable to Computer Initiated Trading'), ('196', 'School Choice Voucher System and its effects upon the entire U.S. educational program'), ('197', 'Reform of the jurisprudence system to stop juries from granting unreasonable monetary awards'), ('198', 'Gene Therapy and Its Benefits to Humankind'), ('199', 'Legality of Medically Assisted Suicides'), ('200', 'Impact of foreign textile imports on U.S. textile industry')])\n"
     ]
    }
   ],
   "source": [
    "import collections\n",
    "import io\n",
    "import logging\n",
    "import sys\n",
    "\n",
    "def parse_topics(file_or_files,\n",
    "                 max_topics=sys.maxsize, delimiter=';'):\n",
    "    assert max_topics >= 0 or max_topics is None\n",
    "\n",
    "    topics = collections.OrderedDict()\n",
    "\n",
    "    if not isinstance(file_or_files, list) and \\\n",
    "            not isinstance(file_or_files, tuple):\n",
    "        if hasattr(file_or_files, '__iter__'):\n",
    "            file_or_files = list(file_or_files)\n",
    "        else:\n",
    "            file_or_files = [file_or_files]\n",
    "\n",
    "    for f in file_or_files:\n",
    "        assert isinstance(f, io.IOBase)\n",
    "\n",
    "        for line in f:\n",
    "            assert(isinstance(line, str))\n",
    "\n",
    "            line = line.strip()\n",
    "\n",
    "            if not line:\n",
    "                continue\n",
    "\n",
    "            topic_id, terms = line.split(delimiter, 1)\n",
    "\n",
    "            if topic_id in topics and (topics[topic_id] != terms):\n",
    "                    logging.error('Duplicate topic \"%s\" (%s vs. %s).',\n",
    "                                  topic_id,\n",
    "                                  topics[topic_id],\n",
    "                                  terms)\n",
    "\n",
    "            topics[topic_id] = terms\n",
    "\n",
    "            if max_topics > 0 and len(topics) >= max_topics:\n",
    "                break\n",
    "\n",
    "    return topics\n",
    "\n",
    "with open('./ap_88_89/topics_title', 'r') as f_topics:\n",
    "    print(parse_topics([f_topics]))"
   ]
  },
  {
   "cell_type": "markdown",
   "metadata": {},
   "source": [
    "### Task 1: Implement and compare lexical IR methods [40 points] ### \n",
    "\n",
    "In this task you will implement a number of lexical methods for IR using the **Pyndri** framework. Then you will evaluate these methods on the dataset we have provided using **TREC Eval**.\n",
    "\n",
    "Use the **Pyndri** framework to get statistics of the documents (term frequency, document frequency, collection frequency; **you are not allowed to use the query functionality of Pyndri**) and implement the following scoring methods in **Python**:\n",
    "\n",
    "- [TF-IDF](http://nlp.stanford.edu/IR-book/html/htmledition/tf-idf-weighting-1.html). **[5 points]**\n",
    "- [BM25](http://nlp.stanford.edu/IR-book/html/htmledition/okapi-bm25-a-non-binary-model-1.html) with k1=1.2 and b=0.75. **[5 points]**\n",
    "- Language models ([survey](https://drive.google.com/file/d/0B-zklbckv9CHc0c3b245UW90NE0/view))\n",
    "    - Jelinek-Mercer (explore different values of 𝛌 in the range [0.1, 0.5, 0.9]). **[10 points]**\n",
    "    - Dirichlet Prior (explore different values of 𝛍 [500, 1000, 1500]). **[5 points]**\n",
    "    - Absolute discounting (explore different values of 𝛅 in the range [0.1, 0.5, 0.9]). **[5 points]**\n",
    "    \n",
    "Implement the above methods and report evaluation measures (on the test set) using the hyper parameter values you optimized on the validation set (also report the values of the hyper parameters). Use TREC Eval to obtain the results and report on `NDCG@10`, Mean Average Precision (`MAP@1000`), `Precision@5` and `Recall@1000`.\n",
    "\n",
    "For the language models, create plots showing `NDCG@10` with varying values of the parameters. You can do this by chaining small scripts using shell scripting (preferred) or execute trec_eval using Python's `subprocess`.\n",
    "\n",
    "Compute significance of the results using a [two-tailed paired Student t-test](https://docs.scipy.org/doc/scipy/reference/generated/scipy.stats.ttest_rel.html) **[10 points]**. Be wary of false rejection of the null hypothesis caused by the [multiple comparisons problem](https://en.wikipedia.org/wiki/Multiple_comparisons_problem). There are multiple ways to mitigate this problem and it is up to you to choose one.\n",
    "\n",
    "Analyse the results by identifying specific queries where different methods succeed or fail and discuss possible reasons that cause these differences. This is *very important* in order to understand how the different retrieval functions behave.\n",
    "\n",
    "**NOTE**: Don’t forget to use log computations in your calculations to avoid underflows. "
   ]
  },
  {
   "cell_type": "markdown",
   "metadata": {},
   "source": [
    "**IMPORTANT**: You should structure your code around the helper functions we provide below."
   ]
  },
  {
   "cell_type": "code",
   "execution_count": 11,
   "metadata": {},
   "outputs": [
    {
     "name": "stdout",
     "output_type": "stream",
     "text": [
      "Gathering statistics about 456 terms.\n",
      "Inverted index creation took 26.462878465652466 seconds.\n"
     ]
    }
   ],
   "source": [
    "with open('./ap_88_89/topics_title', 'r') as f_topics:\n",
    "    queries = parse_topics([f_topics])\n",
    "\n",
    "index = pyndri.Index('index/')\n",
    "start_time = time.time()\n",
    "num_documents = index.maximum_document() - index.document_base()\n",
    "\n",
    "dictionary = pyndri.extract_dictionary(index)\n",
    "\n",
    "tokenized_queries = {\n",
    "    query_id: [dictionary.translate_token(token)\n",
    "               for token in index.tokenize(query_string)\n",
    "               if dictionary.has_token(token)]\n",
    "    for query_id, query_string in queries.items()}\n",
    "\n",
    "query_term_ids = set(\n",
    "    query_term_id\n",
    "    for query_term_ids in tokenized_queries.values()\n",
    "    for query_term_id in query_term_ids)\n",
    "\n",
    "print('Gathering statistics about', len(query_term_ids), 'terms.')\n",
    "\n",
    "# inverted index creation.\n",
    "\n",
    "document_lengths = {}\n",
    "unique_terms_per_document = {}\n",
    "\n",
    "inverted_index = collections.defaultdict(dict)\n",
    "collection_frequencies = collections.defaultdict(int)\n",
    "\n",
    "total_terms = 0\n",
    "\n",
    "for int_doc_id in range(index.document_base(), index.maximum_document()):\n",
    "    ext_doc_id, doc_token_ids = index.document(int_doc_id)\n",
    "\n",
    "    document_bow = collections.Counter(\n",
    "        token_id for token_id in doc_token_ids\n",
    "        if token_id > 0)\n",
    "    document_length = sum(document_bow.values())\n",
    "\n",
    "    document_lengths[int_doc_id] = document_length\n",
    "    total_terms += document_length\n",
    "\n",
    "    unique_terms_per_document[int_doc_id] = len(document_bow)\n",
    "\n",
    "    for query_term_id in query_term_ids:\n",
    "        assert query_term_id is not None\n",
    "\n",
    "        document_term_frequency = document_bow.get(query_term_id, 0)\n",
    "\n",
    "        if document_term_frequency == 0:\n",
    "            continue\n",
    "\n",
    "        collection_frequencies[query_term_id] += document_term_frequency\n",
    "        inverted_index[query_term_id][int_doc_id] = document_term_frequency\n",
    "\n",
    "avg_doc_length = total_terms / num_documents\n",
    "\n",
    "print('Inverted index creation took', time.time() - start_time, 'seconds.')"
   ]
  },
  {
   "cell_type": "code",
   "execution_count": null,
   "metadata": {
    "collapsed": true
   },
   "outputs": [],
   "source": []
  },
  {
   "cell_type": "code",
   "execution_count": 12,
   "metadata": {
    "collapsed": true
   },
   "outputs": [],
   "source": [
    "def run_retrieval(model_name, score_fn, **args):\n",
    "    \"\"\"\n",
    "    Runs a retrieval method for all the queries and writes the TREC-friendly results in a file.\n",
    "    \n",
    "    :param model_name: the name of the model (a string)\n",
    "    :param score_fn: the scoring function (a function - see below for an example) \n",
    "    \"\"\"\n",
    "    run_out_path = '{}.run'.format(model_name)\n",
    "\n",
    "    if os.path.exists(run_out_path):\n",
    "        return\n",
    "\n",
    "    retrieval_start_time = time.time()\n",
    "\n",
    "    print('Retrieving using', model_name)\n",
    "\n",
    "    data = {}\n",
    "    \n",
    "    for qid in tokenized_queries.keys(): #for each query\n",
    "#     for qid in ['135']: #test\n",
    "\n",
    "        score = {}\n",
    "            #hack for BM25 (iterate duplicate terms in query once)\n",
    "        try:\n",
    "            if score_fn==bm25:\n",
    "                tokenized_queries[qid] = list(set(tokenized_queries[qid]))\n",
    "        except:\n",
    "            pass\n",
    "        \n",
    "        for query_term_id in tokenized_queries[qid]: #for each word_id in query\n",
    "\n",
    "            for (int_document_id,document_term_freq) in zip(inverted_index[query_term_id].keys(),inverted_index[query_term_id].values()):\n",
    "                    #for each document where the word appears, calculate scoring function increment its score\n",
    "                new_score = score_fn(int_document_id, query_term_id, document_term_freq, **args)\n",
    "                \n",
    "                if int_document_id not in score.keys():\n",
    "                    #print('initiallizing and incrementing score')\n",
    "                    score[int_document_id] = new_score\n",
    "                else:\n",
    "                    #print('incrementing score')\n",
    "                    score[int_document_id] += new_score\n",
    "\n",
    "        #turn dict to list of tuples and continue        \n",
    "        # The dictionary data should have the form: query_id --> (document_score, external_doc_id)\n",
    "        data[qid] = [(score, index.ext_document_id(doc_id)) for (score, doc_id) in zip(score.values(), score.keys())]\n",
    "        \n",
    "#     write out\n",
    "    with open(run_out_path, 'w') as f_out:\n",
    "        write_run(\n",
    "            model_name=model_name,\n",
    "            data=data,\n",
    "            out_f=f_out,\n",
    "            max_objects_per_query=1000)"
   ]
  },
  {
   "cell_type": "code",
   "execution_count": 13,
   "metadata": {
    "collapsed": true
   },
   "outputs": [],
   "source": [
    "def test_fn(int_document_id, query_term_id, document_term_freq):\n",
    "    #test function returning the occurencies themselves as a score\n",
    "    #return inverted_index[query_term_id][int_document_id]\n",
    "    return 1.\n",
    "\n",
    "run_retrieval('retrievals/test',test_fn)"
   ]
  },
  {
   "cell_type": "markdown",
   "metadata": {
    "collapsed": true
   },
   "source": [
    "### TF-IDF"
   ]
  },
  {
   "cell_type": "code",
   "execution_count": 14,
   "metadata": {
    "collapsed": true
   },
   "outputs": [],
   "source": [
    "def tfidf(int_document_id, query_term_id, document_term_freq):\n",
    "    \"\"\"\n",
    "    Scoring function for a document and a query term\n",
    "    \n",
    "    :param int_document_id: the document id\n",
    "    :param query_token_id: the query term id (assuming you have split the query to tokens)\n",
    "    :param document_term_freq: the document term frequency of the query term \n",
    "    \"\"\"   \n",
    "    \n",
    "    ## Amount of time a term appears in a document  \n",
    "    df = document_term_freq\n",
    "    ## Total terms in a document\n",
    "    dl = document_lengths[int_document_id]\n",
    "    ## Amount of documents containing a term\n",
    "    n = len(inverted_index[query_term_id])\n",
    "    \n",
    "    tf = np.log2(1 + (df/dl))\n",
    "    idf = np.log2((n/df))\n",
    "    \n",
    "    score = tf * idf\n",
    "\n",
    "    return score"
   ]
  },
  {
   "cell_type": "code",
   "execution_count": 15,
   "metadata": {},
   "outputs": [
    {
     "name": "stdout",
     "output_type": "stream",
     "text": [
      "elapsed time: 0.00022983551025390625\n"
     ]
    }
   ],
   "source": [
    "start_time = time.time()\n",
    "\n",
    "run_retrieval('retrievals/tf-idf',tfidf)\n",
    "\n",
    "print ('elapsed time:',time.time()-start_time)"
   ]
  },
  {
   "cell_type": "code",
   "execution_count": 16,
   "metadata": {},
   "outputs": [
    {
     "name": "stdout",
     "output_type": "stream",
     "text": [
      "P_5                   \tall\t0.1800\r\n",
      "recall_1000           \tall\t0.4737\r\n",
      "ndcg_cut_10           \tall\t0.1699\r\n",
      "map_cut_1000          \tall\t0.1102\r\n"
     ]
    }
   ],
   "source": [
    "# trec_eval command for evalutaion of tf-idf \n",
    "\n",
    "!trec_eval -m all_trec ./ap_88_89/qrel_validation retrievals/tf-idf.run | grep -E \"^ndcg_cut_10\\s|^map_cut_1000\\s|^P_5\\s|^recall_1000\\s\""
   ]
  },
  {
   "cell_type": "markdown",
   "metadata": {},
   "source": []
  },
  {
   "cell_type": "markdown",
   "metadata": {},
   "source": [
    "### BM25"
   ]
  },
  {
   "cell_type": "markdown",
   "metadata": {
    "collapsed": true
   },
   "source": [
    "** TODO1: optimize-cache results - doesnt run - too slow-------->DONE!!! **\n",
    "\n",
    "**  TODO2: sum only over unique query terms -----------------> DONE!!! **\n"
   ]
  },
  {
   "cell_type": "code",
   "execution_count": 17,
   "metadata": {},
   "outputs": [
    {
     "name": "stdout",
     "output_type": "stream",
     "text": [
      "query 200 has duplicate words!\n",
      "query 127 has duplicate words!\n",
      "query 102 has duplicate words!\n"
     ]
    }
   ],
   "source": [
    "for q_id,q in zip(tokenized_queries.keys() ,tokenized_queries.values()):\n",
    "    if len(q) != len(set(q)):\n",
    "        print('query %s has duplicate words!'%q_id)"
   ]
  },
  {
   "cell_type": "code",
   "execution_count": 18,
   "metadata": {
    "collapsed": true
   },
   "outputs": [],
   "source": [
    "def bm25(int_document_id, query_term_id, document_term_freq ,k1=1.2 , b=0.75,length_avg = round(np.mean(np.array(list(document_lengths.values())))) ):\n",
    "    \"\"\"\n",
    "    Scoring function for a document and a query term\n",
    "    \n",
    "    :param int_document_id: the document id\n",
    "    :param query_token_id: the query term id (assuming you have split the query to tokens)\n",
    "    :param document_term_freq: the document term frequency of the query term\n",
    "    \n",
    "    Hyperparameters: k1=1.2 and b=0.75\n",
    "    \n",
    "    \"\"\"\n",
    "    \n",
    "    ## Amount of time a term appears in a document  \n",
    "    df = document_term_freq\n",
    "     \n",
    "    \n",
    "    ## tf, idf\n",
    "    tf = np.log2(1 + (df/document_lengths[int_document_id]))\n",
    "    idf = np.log2((len(inverted_index[query_term_id])/df))\n",
    "    \n",
    "    ## Total terms in a document : document_lengths[int_document_id]    \n",
    "    ## Amount of documents containing a term : len(inverted_index[query_term_id])\n",
    "    ## document length : document_lengths[int_document_id]\n",
    "    \n",
    "    return ((k1+1)*tf*idf)/(k1*((1-b)+b*(document_lengths[int_document_id] /length_avg))+tf)"
   ]
  },
  {
   "cell_type": "code",
   "execution_count": 19,
   "metadata": {},
   "outputs": [
    {
     "name": "stdout",
     "output_type": "stream",
     "text": [
      "BM25 scoring took 0.00011396408081054688 seconds.\n"
     ]
    }
   ],
   "source": [
    "start_time=time.time() \n",
    "\n",
    "run_retrieval('retrievals/bm25',bm25)\n",
    "\n",
    "print('BM25 scoring took', time.time() - start_time, 'seconds.')"
   ]
  },
  {
   "cell_type": "code",
   "execution_count": 20,
   "metadata": {},
   "outputs": [
    {
     "name": "stdout",
     "output_type": "stream",
     "text": [
      "P_5                   \tall\t0.1133\r\n",
      "recall_1000           \tall\t0.3840\r\n",
      "ndcg_cut_10           \tall\t0.1069\r\n",
      "map_cut_1000          \tall\t0.0769\r\n"
     ]
    }
   ],
   "source": [
    "# trec_eval command for evalutaion of bm25\n",
    "\n",
    "!trec_eval -m all_trec ./ap_88_89/qrel_validation retrievals/bm25.run | grep -E \"^ndcg_cut_10\\s|^map_cut_1000\\s|^P_5\\s|^recall_1000\\s\""
   ]
  },
  {
   "cell_type": "markdown",
   "metadata": {},
   "source": []
  },
  {
   "cell_type": "markdown",
   "metadata": {},
   "source": [
    "### Jelinek-Mercer"
   ]
  },
  {
   "cell_type": "code",
   "execution_count": 21,
   "metadata": {
    "collapsed": true
   },
   "outputs": [],
   "source": [
    "#precompute the 2nd term of jelinek mercer smoothening to speed-up computations\n",
    "P_mle_col = dict()\n",
    "for query_term_id in query_term_ids:\n",
    "    P_mle_col[query_term_id] = index.get_term_frequencies()[query_term_id] / index.total_terms()"
   ]
  },
  {
   "cell_type": "code",
   "execution_count": 22,
   "metadata": {
    "collapsed": true
   },
   "outputs": [],
   "source": [
    "def jelinek_mercer(int_document_id, query_term_id, document_term_freq, lambd = 0.75):\n",
    "    \"\"\"\n",
    "    Scoring function for a document and a query term\n",
    "    \n",
    "    :param int_document_id: the document id\n",
    "    :param query_token_id: the query term id (assuming you have split the query to tokens)\n",
    "    :param document_term_freq: the document term frequency of the query term\n",
    "    :param lambd: lambda value of linear interpolation (default = 0.75)\n",
    "    \"\"\"\n",
    "    P_mle_doc = document_term_freq / document_lengths[int_document_id]\n",
    "    \n",
    "    return ( (lambd * P_mle_doc) + ((1-lambd)*P_mle_col[query_term_id]) )"
   ]
  },
  {
   "cell_type": "code",
   "execution_count": 23,
   "metadata": {},
   "outputs": [
    {
     "name": "stdout",
     "output_type": "stream",
     "text": [
      "elapsed time: 0.00011920928955078125\n"
     ]
    }
   ],
   "source": [
    "#final run\n",
    "start_time = time.time()\n",
    "test_dict = run_retrieval('retrievals/jelinek_mercer',jelinek_mercer)\n",
    "print ('elapsed time:',time.time()-start_time)"
   ]
  },
  {
   "cell_type": "code",
   "execution_count": 24,
   "metadata": {
    "scrolled": false
   },
   "outputs": [
    {
     "name": "stdout",
     "output_type": "stream",
     "text": [
      "P_5                   \t103\t0.2000\r\n",
      "recall_1000           \t103\t0.6000\r\n",
      "ndcg_cut_10           \t103\t0.2466\r\n",
      "map_cut_1000          \t103\t0.1724\r\n",
      "P_5                   \t111\t0.8000\r\n",
      "recall_1000           \t111\t0.7500\r\n",
      "ndcg_cut_10           \t111\t0.6300\r\n",
      "map_cut_1000          \t111\t0.1695\r\n",
      "P_5                   \t114\t0.2000\r\n",
      "recall_1000           \t114\t0.6585\r\n",
      "ndcg_cut_10           \t114\t0.2817\r\n",
      "map_cut_1000          \t114\t0.1187\r\n",
      "P_5                   \t120\t0.2000\r\n",
      "recall_1000           \t120\t0.1250\r\n",
      "ndcg_cut_10           \t120\t0.1100\r\n",
      "map_cut_1000          \t120\t0.0135\r\n",
      "P_5                   \t123\t0.0000\r\n",
      "recall_1000           \t123\t0.0286\r\n",
      "ndcg_cut_10           \t123\t0.0000\r\n",
      "map_cut_1000          \t123\t0.0002\r\n",
      "P_5                   \t135\t0.2000\r\n",
      "recall_1000           \t135\t0.6267\r\n",
      "ndcg_cut_10           \t135\t0.2431\r\n",
      "map_cut_1000          \t135\t0.1585\r\n",
      "P_5                   \t143\t0.0000\r\n",
      "recall_1000           \t143\t0.2583\r\n",
      "ndcg_cut_10           \t143\t0.0000\r\n",
      "map_cut_1000          \t143\t0.0179\r\n",
      "P_5                   \t144\t0.2000\r\n",
      "recall_1000           \t144\t0.6667\r\n",
      "ndcg_cut_10           \t144\t0.1584\r\n",
      "map_cut_1000          \t144\t0.0538\r\n",
      "P_5                   \t151\t0.2000\r\n",
      "recall_1000           \t151\t0.6625\r\n",
      "ndcg_cut_10           \t151\t0.2863\r\n",
      "map_cut_1000          \t151\t0.0960\r\n",
      "P_5                   \t155\t0.0000\r\n",
      "recall_1000           \t155\t0.0741\r\n",
      "ndcg_cut_10           \t155\t0.0000\r\n",
      "map_cut_1000          \t155\t0.0001\r\n",
      "P_5                   \t158\t0.0000\r\n",
      "recall_1000           \t158\t0.4000\r\n",
      "ndcg_cut_10           \t158\t0.0000\r\n",
      "map_cut_1000          \t158\t0.0092\r\n",
      "P_5                   \t165\t0.2000\r\n",
      "recall_1000           \t165\t0.4400\r\n",
      "ndcg_cut_10           \t165\t0.1100\r\n",
      "map_cut_1000          \t165\t0.0278\r\n",
      "P_5                   \t167\t0.2000\r\n",
      "recall_1000           \t167\t0.5000\r\n",
      "ndcg_cut_10           \t167\t0.2221\r\n",
      "map_cut_1000          \t167\t0.0521\r\n",
      "P_5                   \t170\t0.4000\r\n",
      "recall_1000           \t170\t1.0000\r\n",
      "ndcg_cut_10           \t170\t0.5642\r\n",
      "map_cut_1000          \t170\t0.3694\r\n",
      "P_5                   \t173\t1.0000\r\n",
      "recall_1000           \t173\t0.9409\r\n",
      "ndcg_cut_10           \t173\t1.0000\r\n",
      "map_cut_1000          \t173\t0.6193\r\n",
      "P_5                   \t180\t0.0000\r\n",
      "recall_1000           \t180\t0.4651\r\n",
      "ndcg_cut_10           \t180\t0.0000\r\n",
      "map_cut_1000          \t180\t0.0500\r\n",
      "P_5                   \t182\t0.0000\r\n",
      "recall_1000           \t182\t0.2500\r\n",
      "ndcg_cut_10           \t182\t0.0000\r\n",
      "map_cut_1000          \t182\t0.0048\r\n",
      "P_5                   \t192\t0.4000\r\n",
      "recall_1000           \t192\t0.8045\r\n",
      "ndcg_cut_10           \t192\t0.2489\r\n",
      "map_cut_1000          \t192\t0.1649\r\n",
      "P_5                   \t53\t0.0000\r\n",
      "recall_1000           \t53\t0.8444\r\n",
      "ndcg_cut_10           \t53\t0.1420\r\n",
      "map_cut_1000          \t53\t0.2964\r\n",
      "P_5                   \t57\t0.4000\r\n",
      "recall_1000           \t57\t1.0000\r\n",
      "ndcg_cut_10           \t57\t0.5583\r\n",
      "map_cut_1000          \t57\t0.5256\r\n",
      "P_5                   \t69\t0.0000\r\n",
      "recall_1000           \t69\t0.3125\r\n",
      "ndcg_cut_10           \t69\t0.0000\r\n",
      "map_cut_1000          \t69\t0.0033\r\n",
      "P_5                   \t74\t0.0000\r\n",
      "recall_1000           \t74\t0.0919\r\n",
      "ndcg_cut_10           \t74\t0.0000\r\n",
      "map_cut_1000          \t74\t0.0021\r\n",
      "P_5                   \t78\t1.0000\r\n",
      "recall_1000           \t78\t1.0000\r\n",
      "ndcg_cut_10           \t78\t1.0000\r\n",
      "map_cut_1000          \t78\t0.8361\r\n",
      "P_5                   \t86\t0.0000\r\n",
      "recall_1000           \t86\t0.7778\r\n",
      "ndcg_cut_10           \t86\t0.0000\r\n",
      "map_cut_1000          \t86\t0.0376\r\n",
      "P_5                   \t89\t0.0000\r\n",
      "recall_1000           \t89\t0.1404\r\n",
      "ndcg_cut_10           \t89\t0.0000\r\n",
      "map_cut_1000          \t89\t0.0020\r\n",
      "P_5                   \t90\t0.6000\r\n",
      "recall_1000           \t90\t0.8571\r\n",
      "ndcg_cut_10           \t90\t0.4944\r\n",
      "map_cut_1000          \t90\t0.2227\r\n",
      "P_5                   \t92\t0.0000\r\n",
      "recall_1000           \t92\t0.1087\r\n",
      "ndcg_cut_10           \t92\t0.0000\r\n",
      "map_cut_1000          \t92\t0.0008\r\n",
      "P_5                   \t93\t0.0000\r\n",
      "recall_1000           \t93\t0.1275\r\n",
      "ndcg_cut_10           \t93\t0.0000\r\n",
      "map_cut_1000          \t93\t0.0027\r\n",
      "P_5                   \t94\t0.0000\r\n",
      "recall_1000           \t94\t0.6429\r\n",
      "ndcg_cut_10           \t94\t0.0000\r\n",
      "map_cut_1000          \t94\t0.0697\r\n",
      "P_5                   \t95\t0.0000\r\n",
      "recall_1000           \t95\t0.2424\r\n",
      "ndcg_cut_10           \t95\t0.0000\r\n",
      "map_cut_1000          \t95\t0.0021\r\n",
      "P_5                   \tall\t0.2067\r\n",
      "recall_1000           \tall\t0.5132\r\n",
      "ndcg_cut_10           \tall\t0.2099\r\n",
      "map_cut_1000          \tall\t0.1366\r\n"
     ]
    }
   ],
   "source": [
    "# trec_eval command for evalutaion of jelinek_mercer\n",
    "\n",
    "!trec_eval -m all_trec -q ./ap_88_89/qrel_validation retrievals/jelinek_mercer.run | grep -E \"^ndcg_cut_10\\s|^map_cut_1000\\s|^P_5\\s|^recall_1000\\s\""
   ]
  },
  {
   "cell_type": "code",
   "execution_count": 25,
   "metadata": {},
   "outputs": [
    {
     "name": "stdout",
     "output_type": "stream",
     "text": [
      "finished retrievals/jelinek_mercer_lambda=0.01 in 0.00024890899658203125 sec\n",
      "finished retrievals/jelinek_mercer_lambda=0.02 in 4.76837158203125e-05 sec\n",
      "finished retrievals/jelinek_mercer_lambda=0.03 in 4.482269287109375e-05 sec\n",
      "finished retrievals/jelinek_mercer_lambda=0.04 in 4.792213439941406e-05 sec\n",
      "finished retrievals/jelinek_mercer_lambda=0.05 in 4.57763671875e-05 sec\n",
      "finished retrievals/jelinek_mercer_lambda=0.06 in 3.4809112548828125e-05 sec\n",
      "finished retrievals/jelinek_mercer_lambda=0.07 in 2.6941299438476562e-05 sec\n",
      "finished retrievals/jelinek_mercer_lambda=0.08 in 0.00017070770263671875 sec\n",
      "finished retrievals/jelinek_mercer_lambda=0.09 in 0.00013828277587890625 sec\n"
     ]
    }
   ],
   "source": [
    "for param_value in np.arange(0.01,0.091,0.01):\n",
    "    start_time = time.time()\n",
    "    filename = 'retrievals/jelinek_mercer_lambda='+str(param_value)\n",
    "    \n",
    "    run_retrieval(filename,jelinek_mercer, lambd = param_value)\n",
    "    \n",
    "    print ('finished {} in {} sec'.format(filename,(time.time()-start_time)))"
   ]
  },
  {
   "cell_type": "code",
   "execution_count": null,
   "metadata": {
    "collapsed": true
   },
   "outputs": [],
   "source": []
  },
  {
   "cell_type": "markdown",
   "metadata": {},
   "source": [
    "### TREC eval from .run files\n",
    "Searches for a name convention in folder, then runs trec eval for the files (retrievals found) and computes scores"
   ]
  },
  {
   "cell_type": "code",
   "execution_count": 26,
   "metadata": {
    "collapsed": true
   },
   "outputs": [],
   "source": [
    "def get_scores(filenames, validation=True):\n",
    "    \"\"\"\n",
    "    Function to get scores from trec_eval using a \n",
    "    :param filenames: a list of *.run files (retrieval scores for queries)\n",
    "    :param validation: boolean. Perform evaluation on validation or test set (queries)\n",
    "    \"\"\"\n",
    "    scores = {}\n",
    "    for filename in filenames:\n",
    "        param_value = float(filename.split(\"=\")[-1].split('.run')[0])\n",
    "        if validation:\n",
    "            result = !trec_eval -m all_trec ./ap_88_89/qrel_validation {filename} | grep -E \"^ndcg_cut_10\\s|^map_cut_1000\\s|^P_5\\s|^recall_1000\\s\"\n",
    "        else:\n",
    "            result = !trec_eval -m all_trec ./ap_88_89/qrel_test {filename} | grep -E \"^ndcg_cut_10\\s|^map_cut_1000\\s|^P_5\\s|^recall_1000\\s\"\n",
    "\n",
    "        for row in result:\n",
    "            metric = row.split(' ')[0]\n",
    "            score = float(row.split('\\t')[-1])\n",
    "            if metric not in scores.keys():\n",
    "                scores[metric] = {}\n",
    "            scores[metric][param_value] = score\n",
    "    return scores"
   ]
  },
  {
   "cell_type": "code",
   "execution_count": 27,
   "metadata": {
    "collapsed": true,
    "scrolled": true
   },
   "outputs": [],
   "source": [
    "filenames = glob.glob('./retrievals/jelinek_mercer_lambda*')\n",
    "scores = get_scores(filenames)\n",
    "scores = pd.DataFrame.from_dict(scores,dtype=float)\n",
    "scores.index.name = 'lambda'"
   ]
  },
  {
   "cell_type": "code",
   "execution_count": 28,
   "metadata": {},
   "outputs": [
    {
     "data": {
      "text/plain": [
       "<matplotlib.axes._subplots.AxesSubplot at 0x7fb602353ef0>"
      ]
     },
     "execution_count": 28,
     "metadata": {},
     "output_type": "execute_result"
    },
    {
     "data": {
      "image/png": "[encoded data removed]",
      "text/plain": [
       "<matplotlib.figure.Figure at 0x7fb63588ce10>"
      ]
     },
     "metadata": {},
     "output_type": "display_data"
    }
   ],
   "source": [
    "scores.drop('recall_1000',axis=1).plot()"
   ]
  },
  {
   "cell_type": "code",
   "execution_count": null,
   "metadata": {
    "collapsed": true
   },
   "outputs": [],
   "source": []
  },
  {
   "cell_type": "markdown",
   "metadata": {},
   "source": [
    "### Dirichlet Prior"
   ]
  },
  {
   "cell_type": "code",
   "execution_count": 29,
   "metadata": {
    "collapsed": true
   },
   "outputs": [],
   "source": [
    "def dirichlet_prior(int_document_id, query_term_id, document_term_freq, mu=500):\n",
    "    \"\"\"\n",
    "    Scoring function for a document and a query term\n",
    "    \n",
    "    :param int_document_id: the document id\n",
    "    :param query_token_id: the query term id (assuming you have split the query to tokens)\n",
    "    :param document_term_freq: the document term frequency of the query term \n",
    "    \"\"\"\n",
    "    ## Amount of time a term appears in a document  \n",
    "    df = document_term_freq\n",
    "    \n",
    "    ## tf, idf\n",
    "    tf = np.log2(1 + (df/document_lengths[int_document_id]))\n",
    "    \n",
    "    ##p_w_C = P_mle_col[query_term_id])\n",
    "    ## document length : document_lengths[int_document_id]\n",
    "\n",
    "    return (tf+mu*P_mle_col[query_term_id])/(document_lengths[int_document_id]+mu)\n"
   ]
  },
  {
   "cell_type": "code",
   "execution_count": 30,
   "metadata": {},
   "outputs": [
    {
     "name": "stdout",
     "output_type": "stream",
     "text": [
      "elapsed time: 0.00016951560974121094\n"
     ]
    }
   ],
   "source": [
    "#final run\n",
    "start_time = time.time()\n",
    "test_dict = run_retrieval('retrievals/dirichlet_prior',dirichlet_prior)\n",
    "print ('elapsed time:',time.time()-start_time)"
   ]
  },
  {
   "cell_type": "code",
   "execution_count": 31,
   "metadata": {},
   "outputs": [
    {
     "name": "stdout",
     "output_type": "stream",
     "text": [
      "finished retrievals/dirichlet_prior_mu=500 in 5.173683166503906e-05 sec\n",
      "finished retrievals/dirichlet_prior_mu=600 in 0.00013566017150878906 sec\n",
      "finished retrievals/dirichlet_prior_mu=700 in 2.8133392333984375e-05 sec\n",
      "finished retrievals/dirichlet_prior_mu=800 in 2.0742416381835938e-05 sec\n",
      "finished retrievals/dirichlet_prior_mu=900 in 1.7642974853515625e-05 sec\n",
      "finished retrievals/dirichlet_prior_mu=1000 in 9.5367431640625e-06 sec\n",
      "finished retrievals/dirichlet_prior_mu=1100 in 7.62939453125e-06 sec\n",
      "finished retrievals/dirichlet_prior_mu=1200 in 8.58306884765625e-06 sec\n",
      "finished retrievals/dirichlet_prior_mu=1300 in 6.198883056640625e-06 sec\n",
      "finished retrievals/dirichlet_prior_mu=1400 in 5.7220458984375e-06 sec\n",
      "finished retrievals/dirichlet_prior_mu=1500 in 5.7220458984375e-06 sec\n"
     ]
    }
   ],
   "source": [
    "for param_value in range(500,1501, 100):\n",
    "    start_time = time.time()\n",
    "    filename = 'retrievals/dirichlet_prior_mu='+str(param_value)\n",
    "    \n",
    "    run_retrieval(filename,dirichlet_prior, mu = param_value)\n",
    "    \n",
    "    print ('finished {} in {} sec'.format(filename,(time.time()-start_time)))"
   ]
  },
  {
   "cell_type": "code",
   "execution_count": 32,
   "metadata": {
    "collapsed": true
   },
   "outputs": [],
   "source": [
    "filenames = glob.glob('./retrievals/dirichlet_prior_*')"
   ]
  },
  {
   "cell_type": "code",
   "execution_count": 33,
   "metadata": {
    "collapsed": true
   },
   "outputs": [],
   "source": [
    "scores = get_scores(filenames)\n",
    "scores = pd.DataFrame.from_dict(scores,dtype=float)\n",
    "scores.index.name='mu'"
   ]
  },
  {
   "cell_type": "code",
   "execution_count": 34,
   "metadata": {
    "scrolled": false
   },
   "outputs": [
    {
     "data": {
      "text/html": [
       "<div>\n",
       "<style scoped>\n",
       "    .dataframe tbody tr th:only-of-type {\n",
       "        vertical-align: middle;\n",
       "    }\n",
       "\n",
       "    .dataframe tbody tr th {\n",
       "        vertical-align: top;\n",
       "    }\n",
       "\n",
       "    .dataframe thead th {\n",
       "        text-align: right;\n",
       "    }\n",
       "</style>\n",
       "<table border=\"1\" class=\"dataframe\">\n",
       "  <thead>\n",
       "    <tr style=\"text-align: right;\">\n",
       "      <th></th>\n",
       "      <th>P_5</th>\n",
       "      <th>map_cut_1000</th>\n",
       "      <th>ndcg_cut_10</th>\n",
       "      <th>recall_1000</th>\n",
       "    </tr>\n",
       "    <tr>\n",
       "      <th>mu</th>\n",
       "      <th></th>\n",
       "      <th></th>\n",
       "      <th></th>\n",
       "      <th></th>\n",
       "    </tr>\n",
       "  </thead>\n",
       "  <tbody>\n",
       "    <tr>\n",
       "      <th>500.0</th>\n",
       "      <td>0.1733</td>\n",
       "      <td>0.1029</td>\n",
       "      <td>0.1697</td>\n",
       "      <td>0.3946</td>\n",
       "    </tr>\n",
       "    <tr>\n",
       "      <th>600.0</th>\n",
       "      <td>0.1800</td>\n",
       "      <td>0.1066</td>\n",
       "      <td>0.1770</td>\n",
       "      <td>0.4041</td>\n",
       "    </tr>\n",
       "    <tr>\n",
       "      <th>700.0</th>\n",
       "      <td>0.1933</td>\n",
       "      <td>0.1122</td>\n",
       "      <td>0.1862</td>\n",
       "      <td>0.4081</td>\n",
       "    </tr>\n",
       "    <tr>\n",
       "      <th>800.0</th>\n",
       "      <td>0.1933</td>\n",
       "      <td>0.1145</td>\n",
       "      <td>0.1949</td>\n",
       "      <td>0.4111</td>\n",
       "    </tr>\n",
       "    <tr>\n",
       "      <th>900.0</th>\n",
       "      <td>0.1933</td>\n",
       "      <td>0.1167</td>\n",
       "      <td>0.1986</td>\n",
       "      <td>0.4142</td>\n",
       "    </tr>\n",
       "    <tr>\n",
       "      <th>1000.0</th>\n",
       "      <td>0.1933</td>\n",
       "      <td>0.1182</td>\n",
       "      <td>0.1998</td>\n",
       "      <td>0.4160</td>\n",
       "    </tr>\n",
       "    <tr>\n",
       "      <th>1100.0</th>\n",
       "      <td>0.1933</td>\n",
       "      <td>0.1201</td>\n",
       "      <td>0.2026</td>\n",
       "      <td>0.4182</td>\n",
       "    </tr>\n",
       "    <tr>\n",
       "      <th>1200.0</th>\n",
       "      <td>0.2000</td>\n",
       "      <td>0.1226</td>\n",
       "      <td>0.2076</td>\n",
       "      <td>0.4179</td>\n",
       "    </tr>\n",
       "    <tr>\n",
       "      <th>1300.0</th>\n",
       "      <td>0.2067</td>\n",
       "      <td>0.1236</td>\n",
       "      <td>0.2078</td>\n",
       "      <td>0.4177</td>\n",
       "    </tr>\n",
       "    <tr>\n",
       "      <th>1400.0</th>\n",
       "      <td>0.2067</td>\n",
       "      <td>0.1242</td>\n",
       "      <td>0.2076</td>\n",
       "      <td>0.4107</td>\n",
       "    </tr>\n",
       "    <tr>\n",
       "      <th>1500.0</th>\n",
       "      <td>0.2133</td>\n",
       "      <td>0.1253</td>\n",
       "      <td>0.2106</td>\n",
       "      <td>0.4154</td>\n",
       "    </tr>\n",
       "  </tbody>\n",
       "</table>\n",
       "</div>"
      ],
      "text/plain": [
       "           P_5  map_cut_1000  ndcg_cut_10  recall_1000\n",
       "mu                                                    \n",
       "500.0   0.1733        0.1029       0.1697       0.3946\n",
       "600.0   0.1800        0.1066       0.1770       0.4041\n",
       "700.0   0.1933        0.1122       0.1862       0.4081\n",
       "800.0   0.1933        0.1145       0.1949       0.4111\n",
       "900.0   0.1933        0.1167       0.1986       0.4142\n",
       "1000.0  0.1933        0.1182       0.1998       0.4160\n",
       "1100.0  0.1933        0.1201       0.2026       0.4182\n",
       "1200.0  0.2000        0.1226       0.2076       0.4179\n",
       "1300.0  0.2067        0.1236       0.2078       0.4177\n",
       "1400.0  0.2067        0.1242       0.2076       0.4107\n",
       "1500.0  0.2133        0.1253       0.2106       0.4154"
      ]
     },
     "execution_count": 34,
     "metadata": {},
     "output_type": "execute_result"
    }
   ],
   "source": [
    "scores"
   ]
  },
  {
   "cell_type": "code",
   "execution_count": 35,
   "metadata": {},
   "outputs": [
    {
     "data": {
      "text/plain": [
       "<matplotlib.axes._subplots.AxesSubplot at 0x7fb5f8223400>"
      ]
     },
     "execution_count": 35,
     "metadata": {},
     "output_type": "execute_result"
    },
    {
     "data": {
      "image/png": "[encoded data removed]",
      "text/plain": [
       "<matplotlib.figure.Figure at 0x7fb5f8223b00>"
      ]
     },
     "metadata": {},
     "output_type": "display_data"
    }
   ],
   "source": [
    "scores.drop('recall_1000',axis=1).plot()"
   ]
  },
  {
   "cell_type": "code",
   "execution_count": 36,
   "metadata": {
    "collapsed": true
   },
   "outputs": [],
   "source": [
    "# #trec_eval command for evalutaion of dirichlet_prior\n",
    "\n",
    "# !trec_eval -m all_trec -q ./ap_88_89/qrel_validation dirichlet_prior.run | grep -E \"^ndcg_cut_10\\s|^map_cut_1000\\s|^P_5\\s|^recall_1000\\s\""
   ]
  },
  {
   "cell_type": "markdown",
   "metadata": {},
   "source": [
    "### Absolute discounting"
   ]
  },
  {
   "cell_type": "code",
   "execution_count": 37,
   "metadata": {
    "collapsed": true
   },
   "outputs": [],
   "source": [
    "def absolute_discounting(int_document_id, query_term_id, document_term_freq, delta=0.1):\n",
    "    \"\"\"\n",
    "    Scoring function for a document and a query term\n",
    "    \n",
    "    :param int_document_id: the document id\n",
    "    :param query_token_id: the query term id (assuming you have split the query to tokens)\n",
    "    :param document_term_freq: the document term frequency of the query term \n",
    "    \"\"\"\n",
    "    ## Amount of time a term appears in a document  \n",
    "    df = document_term_freq\n",
    "     \n",
    "    \n",
    "    ## tf, idf\n",
    "    tf = np.log2(1 + (df/document_lengths[int_document_id]))\n",
    "    \n",
    "    ## p_w_C = P_mle_col[query_term_id])\n",
    "    ## document length : document_lengths[int_document_id]\n",
    "    ## document length u: collection_frequencies[query_term_id]\n",
    "    \n",
    "    doc_length = document_lengths[int_document_id]\n",
    "    \n",
    "    return ((np.max(tf-delta,0)/doc_length)+\n",
    "            ((delta*collection_frequencies[query_term_id]*P_mle_col[query_term_id])/doc_length))\n"
   ]
  },
  {
   "cell_type": "code",
   "execution_count": 38,
   "metadata": {
    "collapsed": true
   },
   "outputs": [],
   "source": [
    "# #final run\n",
    "# start_time = time.time()\n",
    "# test_dict = run_retrieval('absolute_discounting',absolute_discounting)\n",
    "# print ('elapsed time:',time.time()-start_time)"
   ]
  },
  {
   "cell_type": "code",
   "execution_count": 39,
   "metadata": {},
   "outputs": [
    {
     "name": "stdout",
     "output_type": "stream",
     "text": [
      "finished retrievals/absolute_discounting_delta=0.1 in 6.151199340820312e-05 sec\n",
      "finished retrievals/absolute_discounting_delta=0.2 in 1.0013580322265625e-05 sec\n",
      "finished retrievals/absolute_discounting_delta=0.3 in 0.0001246929168701172 sec\n",
      "finished retrievals/absolute_discounting_delta=0.4 in 0.00012731552124023438 sec\n",
      "finished retrievals/absolute_discounting_delta=0.5 in 2.2172927856445312e-05 sec\n",
      "finished retrievals/absolute_discounting_delta=0.6 in 8.130073547363281e-05 sec\n",
      "finished retrievals/absolute_discounting_delta=0.7 in 7.081031799316406e-05 sec\n",
      "finished retrievals/absolute_discounting_delta=0.8 in 4.124641418457031e-05 sec\n",
      "finished retrievals/absolute_discounting_delta=0.9 in 5.14984130859375e-05 sec\n"
     ]
    }
   ],
   "source": [
    "for param_value in np.arange(0.1,0.91, 0.1):\n",
    "    start_time = time.time()\n",
    "    filename = 'retrievals/absolute_discounting_delta='+str(param_value)\n",
    "    \n",
    "    run_retrieval(filename,absolute_discounting, delta = param_value)\n",
    "    \n",
    "    print ('finished {} in {} sec'.format(filename,(time.time()-start_time)))"
   ]
  },
  {
   "cell_type": "code",
   "execution_count": 40,
   "metadata": {
    "collapsed": true
   },
   "outputs": [],
   "source": [
    "filenames = glob.glob('./retrievals/absolute_discounting_delta=*')"
   ]
  },
  {
   "cell_type": "code",
   "execution_count": 41,
   "metadata": {
    "collapsed": true
   },
   "outputs": [],
   "source": [
    "scores = get_scores(filenames)\n",
    "scores = pd.DataFrame.from_dict(scores,dtype=float)\n",
    "scores.index.name = 'delta'"
   ]
  },
  {
   "cell_type": "code",
   "execution_count": 42,
   "metadata": {},
   "outputs": [
    {
     "data": {
      "text/html": [
       "<div>\n",
       "<style scoped>\n",
       "    .dataframe tbody tr th:only-of-type {\n",
       "        vertical-align: middle;\n",
       "    }\n",
       "\n",
       "    .dataframe tbody tr th {\n",
       "        vertical-align: top;\n",
       "    }\n",
       "\n",
       "    .dataframe thead th {\n",
       "        text-align: right;\n",
       "    }\n",
       "</style>\n",
       "<table border=\"1\" class=\"dataframe\">\n",
       "  <thead>\n",
       "    <tr style=\"text-align: right;\">\n",
       "      <th></th>\n",
       "      <th>P_5</th>\n",
       "      <th>map_cut_1000</th>\n",
       "      <th>ndcg_cut_10</th>\n",
       "      <th>recall_1000</th>\n",
       "    </tr>\n",
       "    <tr>\n",
       "      <th>delta</th>\n",
       "      <th></th>\n",
       "      <th></th>\n",
       "      <th></th>\n",
       "      <th></th>\n",
       "    </tr>\n",
       "  </thead>\n",
       "  <tbody>\n",
       "    <tr>\n",
       "      <th>0.1</th>\n",
       "      <td>0.0800</td>\n",
       "      <td>0.0491</td>\n",
       "      <td>0.0860</td>\n",
       "      <td>0.1714</td>\n",
       "    </tr>\n",
       "    <tr>\n",
       "      <th>0.2</th>\n",
       "      <td>0.0400</td>\n",
       "      <td>0.0340</td>\n",
       "      <td>0.0408</td>\n",
       "      <td>0.1623</td>\n",
       "    </tr>\n",
       "    <tr>\n",
       "      <th>0.3</th>\n",
       "      <td>0.0267</td>\n",
       "      <td>0.0309</td>\n",
       "      <td>0.0230</td>\n",
       "      <td>0.1594</td>\n",
       "    </tr>\n",
       "    <tr>\n",
       "      <th>0.4</th>\n",
       "      <td>0.0267</td>\n",
       "      <td>0.0299</td>\n",
       "      <td>0.0197</td>\n",
       "      <td>0.1562</td>\n",
       "    </tr>\n",
       "    <tr>\n",
       "      <th>0.5</th>\n",
       "      <td>0.0267</td>\n",
       "      <td>0.0296</td>\n",
       "      <td>0.0191</td>\n",
       "      <td>0.1556</td>\n",
       "    </tr>\n",
       "    <tr>\n",
       "      <th>0.6</th>\n",
       "      <td>0.0267</td>\n",
       "      <td>0.0294</td>\n",
       "      <td>0.0188</td>\n",
       "      <td>0.1536</td>\n",
       "    </tr>\n",
       "    <tr>\n",
       "      <th>0.7</th>\n",
       "      <td>0.0267</td>\n",
       "      <td>0.0292</td>\n",
       "      <td>0.0188</td>\n",
       "      <td>0.1534</td>\n",
       "    </tr>\n",
       "    <tr>\n",
       "      <th>0.8</th>\n",
       "      <td>0.0267</td>\n",
       "      <td>0.0292</td>\n",
       "      <td>0.0188</td>\n",
       "      <td>0.1532</td>\n",
       "    </tr>\n",
       "    <tr>\n",
       "      <th>0.9</th>\n",
       "      <td>0.0267</td>\n",
       "      <td>0.0291</td>\n",
       "      <td>0.0187</td>\n",
       "      <td>0.1528</td>\n",
       "    </tr>\n",
       "  </tbody>\n",
       "</table>\n",
       "</div>"
      ],
      "text/plain": [
       "          P_5  map_cut_1000  ndcg_cut_10  recall_1000\n",
       "delta                                                \n",
       "0.1    0.0800        0.0491       0.0860       0.1714\n",
       "0.2    0.0400        0.0340       0.0408       0.1623\n",
       "0.3    0.0267        0.0309       0.0230       0.1594\n",
       "0.4    0.0267        0.0299       0.0197       0.1562\n",
       "0.5    0.0267        0.0296       0.0191       0.1556\n",
       "0.6    0.0267        0.0294       0.0188       0.1536\n",
       "0.7    0.0267        0.0292       0.0188       0.1534\n",
       "0.8    0.0267        0.0292       0.0188       0.1532\n",
       "0.9    0.0267        0.0291       0.0187       0.1528"
      ]
     },
     "execution_count": 42,
     "metadata": {},
     "output_type": "execute_result"
    }
   ],
   "source": [
    "scores"
   ]
  },
  {
   "cell_type": "code",
   "execution_count": 43,
   "metadata": {},
   "outputs": [
    {
     "data": {
      "text/plain": [
       "<matplotlib.axes._subplots.AxesSubplot at 0x7fb5f8210198>"
      ]
     },
     "execution_count": 43,
     "metadata": {},
     "output_type": "execute_result"
    },
    {
     "data": {
      "image/png": "[encoded data removed]",
      "text/plain": [
       "<matplotlib.figure.Figure at 0x7fb5f8202ef0>"
      ]
     },
     "metadata": {},
     "output_type": "display_data"
    }
   ],
   "source": [
    "scores.drop('recall_1000',axis=1).plot()"
   ]
  },
  {
   "cell_type": "markdown",
   "metadata": {
    "collapsed": true
   },
   "source": [
    "** trec_eval command for evalutaion of dirichlet_prior **\n",
    "\n",
    "!trec_eval -m all_trec -q ./ap_88_89/qrel_validation absolute_discounting.run | grep -E \"^ndcg_cut_10\\s|^map_cut_1000\\s|^P_5\\s|^recall_1000\\s\""
   ]
  },
  {
   "cell_type": "code",
   "execution_count": null,
   "metadata": {
    "collapsed": true
   },
   "outputs": [],
   "source": []
  },
  {
   "cell_type": "markdown",
   "metadata": {},
   "source": [
    "## Significance testing (on test set)"
   ]
  },
  {
   "cell_type": "markdown",
   "metadata": {},
   "source": [
    "## TODO: change to test set"
   ]
  },
  {
   "cell_type": "code",
   "execution_count": 44,
   "metadata": {
    "collapsed": true
   },
   "outputs": [],
   "source": [
    "import re"
   ]
  },
  {
   "cell_type": "code",
   "execution_count": 45,
   "metadata": {
    "collapsed": true
   },
   "outputs": [],
   "source": [
    "ndcg_all={}"
   ]
  },
  {
   "cell_type": "code",
   "execution_count": 46,
   "metadata": {},
   "outputs": [
    {
     "name": "stdout",
     "output_type": "stream",
     "text": [
      "finished retrievals/jelinek_mercer_lambda=0.1 in 0.00014281272888183594 sec\n",
      "finished retrievals/jelinek_mercer_lambda=0.2 in 2.6226043701171875e-05 sec\n"
     ]
    },
    {
     "name": "stderr",
     "output_type": "stream",
     "text": [
      "/home/antonis/anaconda2/envs/ir/lib/python3.5/site-packages/ipykernel/__main__.py:23: FutureWarning: set_value is deprecated and will be removed in a future release. Please use .at[] or .iat[] accessors instead\n"
     ]
    },
    {
     "name": "stdout",
     "output_type": "stream",
     "text": [
      "finished retrievals/jelinek_mercer_lambda=0.3 in 2.6702880859375e-05 sec\n",
      "finished retrievals/jelinek_mercer_lambda=0.4 in 2.9325485229492188e-05 sec\n",
      "finished retrievals/jelinek_mercer_lambda=0.5 in 2.7894973754882812e-05 sec\n",
      "finished retrievals/jelinek_mercer_lambda=0.6 in 2.6941299438476562e-05 sec\n",
      "finished retrievals/jelinek_mercer_lambda=0.7 in 2.5510787963867188e-05 sec\n",
      "finished retrievals/jelinek_mercer_lambda=0.8 in 2.5272369384765625e-05 sec\n",
      "finished retrievals/jelinek_mercer_lambda=0.9 in 2.8133392333984375e-05 sec\n"
     ]
    }
   ],
   "source": [
    "columns = [0.1, 0.2, 0.3, 0.4, 0.5, 0.6, 0.7, 0.8, 0.9]\n",
    "\n",
    "ndcg = pd.DataFrame(columns=columns)\n",
    "\n",
    "for param_value in columns:\n",
    "    start_time = time.time()\n",
    "\n",
    "    filename = 'retrievals/jelinek_mercer_lambda='+str(param_value)\n",
    "\n",
    "    run_retrieval(filename,jelinek_mercer, lambd = param_value)\n",
    "\n",
    "    print ('finished {} in {} sec'.format(filename,(time.time()-start_time)))\n",
    "\n",
    "    results = !trec_eval -m all_trec -q ./ap_88_89/qrel_test { filename }.run | grep -E \"^ndcg_cut_10\\s\"\n",
    "\n",
    "    for result in results:\n",
    "        result = re.sub( '\\s+', ' ', result ).strip().split()\n",
    "\n",
    "        index = result[1]\n",
    "        value = result[2]\n",
    "        param_value = round(param_value,1)\n",
    "\n",
    "        ndcg.set_value(index, param_value, value)\n",
    "        \n",
    "ndcg_all['jelinek_mercer'] = ndcg"
   ]
  },
  {
   "cell_type": "code",
   "execution_count": 47,
   "metadata": {
    "scrolled": true
   },
   "outputs": [
    {
     "name": "stdout",
     "output_type": "stream",
     "text": [
      "finished retrievals/absolute_discounting_delta=0.1 in 2.6702880859375e-05 sec\n",
      "finished retrievals/absolute_discounting_delta=0.2 in 2.6464462280273438e-05 sec\n"
     ]
    },
    {
     "name": "stderr",
     "output_type": "stream",
     "text": [
      "/home/antonis/anaconda2/envs/ir/lib/python3.5/site-packages/ipykernel/__main__.py:23: FutureWarning: set_value is deprecated and will be removed in a future release. Please use .at[] or .iat[] accessors instead\n"
     ]
    },
    {
     "name": "stdout",
     "output_type": "stream",
     "text": [
      "finished retrievals/absolute_discounting_delta=0.3 in 2.6941299438476562e-05 sec\n",
      "finished retrievals/absolute_discounting_delta=0.4 in 3.361701965332031e-05 sec\n",
      "finished retrievals/absolute_discounting_delta=0.5 in 2.8133392333984375e-05 sec\n",
      "finished retrievals/absolute_discounting_delta=0.6 in 2.6464462280273438e-05 sec\n",
      "finished retrievals/absolute_discounting_delta=0.7 in 2.9802322387695312e-05 sec\n",
      "finished retrievals/absolute_discounting_delta=0.8 in 2.6941299438476562e-05 sec\n",
      "finished retrievals/absolute_discounting_delta=0.9 in 2.7894973754882812e-05 sec\n"
     ]
    }
   ],
   "source": [
    "columns = [0.1, 0.2, 0.3, 0.4, 0.5, 0.6, 0.7, 0.8, 0.9]\n",
    "\n",
    "ndcg = pd.DataFrame(columns=columns)\n",
    "\n",
    "for param_value in columns:\n",
    "    start_time = time.time()\n",
    "\n",
    "    filename = 'retrievals/absolute_discounting_delta='+str(param_value)\n",
    "\n",
    "    run_retrieval(filename,jelinek_mercer, lambd = param_value)\n",
    "\n",
    "    print ('finished {} in {} sec'.format(filename,(time.time()-start_time)))\n",
    "\n",
    "    results = !trec_eval -m all_trec -q ./ap_88_89/qrel_test { filename }.run | grep -E \"^ndcg_cut_10\\s\"\n",
    "\n",
    "    for result in results:\n",
    "        result = re.sub( '\\s+', ' ', result ).strip().split()\n",
    "\n",
    "        index = result[1]\n",
    "        value = result[2]\n",
    "        param_value = round(param_value,1)\n",
    "\n",
    "        ndcg.set_value(index, param_value, value)\n",
    "\n",
    "ndcg_all['absolute_discounting'] = ndcg"
   ]
  },
  {
   "cell_type": "code",
   "execution_count": null,
   "metadata": {
    "collapsed": true
   },
   "outputs": [],
   "source": []
  },
  {
   "cell_type": "code",
   "execution_count": 48,
   "metadata": {},
   "outputs": [
    {
     "name": "stdout",
     "output_type": "stream",
     "text": [
      "finished retrievals/dirichlet_prior_mu=500 in 5.53131103515625e-05 sec\n",
      "finished retrievals/dirichlet_prior_mu=600 in 3.9577484130859375e-05 sec\n"
     ]
    },
    {
     "name": "stderr",
     "output_type": "stream",
     "text": [
      "/home/antonis/anaconda2/envs/ir/lib/python3.5/site-packages/ipykernel/__main__.py:23: FutureWarning: set_value is deprecated and will be removed in a future release. Please use .at[] or .iat[] accessors instead\n"
     ]
    },
    {
     "name": "stdout",
     "output_type": "stream",
     "text": [
      "finished retrievals/dirichlet_prior_mu=700 in 3.933906555175781e-05 sec\n",
      "finished retrievals/dirichlet_prior_mu=800 in 4.076957702636719e-05 sec\n",
      "finished retrievals/dirichlet_prior_mu=900 in 3.910064697265625e-05 sec\n",
      "finished retrievals/dirichlet_prior_mu=1000 in 4.4345855712890625e-05 sec\n",
      "finished retrievals/dirichlet_prior_mu=1100 in 3.933906555175781e-05 sec\n",
      "finished retrievals/dirichlet_prior_mu=1200 in 3.9577484130859375e-05 sec\n",
      "finished retrievals/dirichlet_prior_mu=1300 in 3.9577484130859375e-05 sec\n",
      "finished retrievals/dirichlet_prior_mu=1400 in 4.363059997558594e-05 sec\n",
      "finished retrievals/dirichlet_prior_mu=1500 in 5.14984130859375e-05 sec\n"
     ]
    }
   ],
   "source": [
    "columns = np.arange(500,1501,100)\n",
    "\n",
    "ndcg = pd.DataFrame(columns=columns)\n",
    "\n",
    "for param_value in columns:\n",
    "    start_time = time.time()\n",
    "\n",
    "    filename = 'retrievals/dirichlet_prior_mu='+str(param_value)\n",
    "\n",
    "    run_retrieval(filename,jelinek_mercer, lambd = param_value)\n",
    "\n",
    "    print ('finished {} in {} sec'.format(filename,(time.time()-start_time)))\n",
    "\n",
    "    results = !trec_eval -m all_trec -q ./ap_88_89/qrel_test { filename }.run | grep -E \"^ndcg_cut_10\\s\"\n",
    "\n",
    "    for result in results:\n",
    "        result = re.sub( '\\s+', ' ', result ).strip().split()\n",
    "\n",
    "        index = result[1]\n",
    "        value = result[2]\n",
    "        param_value = round(param_value,1)\n",
    "\n",
    "        ndcg.set_value(index, param_value, value)\n",
    "\n",
    "ndcg_all['dirichlet_prior'] = ndcg"
   ]
  },
  {
   "cell_type": "code",
   "execution_count": null,
   "metadata": {
    "collapsed": true
   },
   "outputs": [],
   "source": []
  },
  {
   "cell_type": "code",
   "execution_count": 49,
   "metadata": {},
   "outputs": [
    {
     "name": "stdout",
     "output_type": "stream",
     "text": [
      "P_5                   \tall\t0.1800\r\n",
      "recall_1000           \tall\t0.4737\r\n",
      "ndcg_cut_10           \tall\t0.1699\r\n",
      "map_cut_1000          \tall\t0.1102\r\n"
     ]
    },
    {
     "name": "stderr",
     "output_type": "stream",
     "text": [
      "/home/antonis/anaconda2/envs/ir/lib/python3.5/site-packages/ipykernel/__main__.py:15: FutureWarning: set_value is deprecated and will be removed in a future release. Please use .at[] or .iat[] accessors instead\n"
     ]
    }
   ],
   "source": [
    "# trec_eval command for evalutaion of tf-idf \n",
    "\n",
    "!trec_eval -m all_trec ./ap_88_89/qrel_validation retrievals/tf-idf.run | grep -E \"^ndcg_cut_10\\s|^map_cut_1000\\s|^P_5\\s|^recall_1000\\s\"\n",
    "\n",
    "ifidfdf = pd.DataFrame()\n",
    "\n",
    "results = !trec_eval -m all_trec -q ./ap_88_89/qrel_test retrievals/tf-idf.run | grep -E \"^ndcg_cut_10\\s\"\n",
    "\n",
    "for result in results:\n",
    "    result = re.sub( '\\s+', ' ', result ).strip().split()\n",
    "\n",
    "    index = result[1]\n",
    "    value = float(result[2])\n",
    "\n",
    "    ifidfdf.set_value(index, 1, value)\n",
    "    \n"
   ]
  },
  {
   "cell_type": "code",
   "execution_count": null,
   "metadata": {
    "collapsed": true
   },
   "outputs": [],
   "source": []
  },
  {
   "cell_type": "code",
   "execution_count": 50,
   "metadata": {},
   "outputs": [
    {
     "name": "stdout",
     "output_type": "stream",
     "text": [
      "P_5                   \tall\t0.1133\r\n",
      "recall_1000           \tall\t0.3840\r\n",
      "ndcg_cut_10           \tall\t0.1069\r\n",
      "map_cut_1000          \tall\t0.0769\r\n"
     ]
    },
    {
     "name": "stderr",
     "output_type": "stream",
     "text": [
      "/home/antonis/anaconda2/envs/ir/lib/python3.5/site-packages/ipykernel/__main__.py:15: FutureWarning: set_value is deprecated and will be removed in a future release. Please use .at[] or .iat[] accessors instead\n"
     ]
    }
   ],
   "source": [
    "# trec_eval command for evalutaion of bm25\n",
    "\n",
    "!trec_eval -m all_trec ./ap_88_89/qrel_validation retrievals/bm25.run | grep -E \"^ndcg_cut_10\\s|^map_cut_1000\\s|^P_5\\s|^recall_1000\\s\"\n",
    "\n",
    "bm25df = pd.DataFrame()\n",
    "\n",
    "results = !trec_eval -m all_trec -q ./ap_88_89/qrel_test retrievals/bm25.run | grep -E \"^ndcg_cut_10\\s\"\n",
    "\n",
    "for result in results:\n",
    "    result = re.sub( '\\s+', ' ', result ).strip().split()\n",
    "\n",
    "    index = result[1]\n",
    "    value = float(result[2])\n",
    "\n",
    "    bm25df.set_value(index, 1, value)\n"
   ]
  },
  {
   "cell_type": "code",
   "execution_count": 52,
   "metadata": {
    "collapsed": true
   },
   "outputs": [],
   "source": [
    "# TODO change to test values\n",
    "\n",
    "best_scores = pd.DataFrame()\n",
    "best_scores['absolute_discounting'] = ndcg_all['absolute_discounting'][0.1]\n",
    "best_scores['jelinek_mercer'] = ndcg_all['jelinek_mercer'][0.1]\n",
    "best_scores['dirichlet_prior'] = ndcg_all['dirichlet_prior'][1500]\n",
    "\n",
    "best_scores['tf-idf'] = ifidfdf\n",
    "best_scores['BM25'] = bm25df\n",
    "\n",
    "\n",
    "best_scores = best_scores.applymap(lambda x: float(x))\n"
   ]
  },
  {
   "cell_type": "code",
   "execution_count": 58,
   "metadata": {},
   "outputs": [
    {
     "data": {
      "text/plain": [
       "<matplotlib.axes._subplots.AxesSubplot at 0x7fb5f80a47f0>"
      ]
     },
     "execution_count": 58,
     "metadata": {},
     "output_type": "execute_result"
    },
    {
     "data": {
      "image/png": "[encoded data removed]",
      "text/plain": [
       "<matplotlib.figure.Figure at 0x7fb5f7f52400>"
      ]
     },
     "metadata": {},
     "output_type": "display_data"
    }
   ],
   "source": [
    "#plot non-zero queries only\n",
    "best_scores[best_scores.sum(axis=1)>0].plot(kind='bar',figsize=(18,8))"
   ]
  },
  {
   "cell_type": "code",
   "execution_count": null,
   "metadata": {
    "collapsed": true
   },
   "outputs": [],
   "source": [
    "# pd.DataFrame(get_NDCG_score(f))"
   ]
  },
  {
   "cell_type": "code",
   "execution_count": null,
   "metadata": {
    "collapsed": true
   },
   "outputs": [],
   "source": [
    "# filenames = ['retrievals/absolute_discounting_delta=0.1.run',\n",
    "#             'retrievals/absolute_discounting_delta=0.5.run',\n",
    "#             'retrievals/absolute_discounting_delta=0.9.run',\n",
    "#             ]\n",
    "\n",
    "# score_df = pd.DataFrame()\n",
    "# for filename in filenames:\n",
    "#     score_df.append(pd.DataFrame( get_NDCG_score(filename = 'retrievals/absolute_discounting_delta=0.2.run')\n",
    "#                  ,dtype=float, index=[filename.split('/')[-1]]))"
   ]
  },
  {
   "cell_type": "code",
   "execution_count": null,
   "metadata": {
    "collapsed": true
   },
   "outputs": [],
   "source": [
    "# 'retrievals/absolute_discounting_delta=0.1.run'\n",
    "# !trec_eval -m all_trec ./ap_88_89/qrel_validation {filename1} | grep -E \"^ndcg_cut_10\\s\""
   ]
  },
  {
   "cell_type": "code",
   "execution_count": null,
   "metadata": {
    "collapsed": true
   },
   "outputs": [],
   "source": [
    "# def compare_scores(filename1, filename2, validation=True):\n",
    "#     \"\"\"\n",
    "#     Function to get scores from trec_eval using a \n",
    "#     :param filenames: a list of *.run files (retrieval scores for queries)\n",
    "#     :param validation: boolean. Perform evaluation on validation or test set (queries)\n",
    "#     \"\"\"\n",
    "#     scores = {}\n",
    "#     for filename in filenames:\n",
    "#         param_value = float(filename.split(\"=\")[-1].split('.run')[0])\n",
    "#         if validation:\n",
    "#             result1 = !trec_eval -m all_trec ./ap_88_89/qrel_validation {filename1} | grep -E \"^ndcg_cut_10\\s\"\n",
    "#         else:\n",
    "#             result1 = !trec_eval -m all_trec ./ap_88_89/qrel_test {filename1} | grep -E \"^ndcg_cut_10\\s\"\n",
    "\n",
    "        \n",
    "#         for row in result:\n",
    "#             metric = row.split(' ')[0]\n",
    "#             score = float(row.split('\\t')[-1])\n",
    "#             if metric not in scores.keys():\n",
    "#                 scores[metric] = {}\n",
    "#             scores[metric][param_value] = score\n",
    "#     return scores"
   ]
  },
  {
   "cell_type": "code",
   "execution_count": null,
   "metadata": {
    "collapsed": true
   },
   "outputs": [],
   "source": []
  },
  {
   "cell_type": "code",
   "execution_count": 59,
   "metadata": {
    "collapsed": true
   },
   "outputs": [],
   "source": [
    "from scipy.stats import ttest_rel"
   ]
  },
  {
   "cell_type": "code",
   "execution_count": 63,
   "metadata": {
    "collapsed": true
   },
   "outputs": [],
   "source": [
    "def t_test(method1,method2,a=0.05):\n",
    "    \n",
    "    p_value = ttest_rel(method1, method2)[1]\n",
    "    \n",
    "    if p_value>a:\n",
    "        return (p_value, 'not-rejected')\n",
    "    else:\n",
    "        return (p_value, 'rejected')\n",
    "    \n",
    "    \n",
    "# t_test('jelinek_mercer','dirichlet_prior')    "
   ]
  },
  {
   "cell_type": "code",
   "execution_count": 60,
   "metadata": {
    "collapsed": true
   },
   "outputs": [],
   "source": [
    "from itertools import combinations"
   ]
  },
  {
   "cell_type": "code",
   "execution_count": 61,
   "metadata": {
    "collapsed": true
   },
   "outputs": [],
   "source": [
    "combs = list(combinations(best_scores.columns,2))"
   ]
  },
  {
   "cell_type": "code",
   "execution_count": 66,
   "metadata": {},
   "outputs": [
    {
     "name": "stdout",
     "output_type": "stream",
     "text": [
      "absolute_discounting jelinek_mercer\n",
      "(1.0479358060771439e-10, 'rejected')\n",
      "\n",
      "\n",
      "absolute_discounting dirichlet_prior\n",
      "(7.7104636555074727e-13, 'rejected')\n",
      "\n",
      "\n",
      "absolute_discounting tf-idf\n",
      "(8.5609582530146521e-07, 'rejected')\n",
      "\n",
      "\n",
      "absolute_discounting BM25\n",
      "(4.3934675970711097e-05, 'rejected')\n",
      "\n",
      "\n",
      "jelinek_mercer dirichlet_prior\n",
      "(0.000666099328372641, 'not-rejected')\n",
      "\n",
      "\n",
      "jelinek_mercer tf-idf\n",
      "(1.6566361017274397e-06, 'rejected')\n",
      "\n",
      "\n",
      "jelinek_mercer BM25\n",
      "(1.2248085475069692e-10, 'rejected')\n",
      "\n",
      "\n",
      "dirichlet_prior tf-idf\n",
      "(4.6901016485601283e-11, 'rejected')\n",
      "\n",
      "\n",
      "dirichlet_prior BM25\n",
      "(2.8518071922531019e-13, 'rejected')\n",
      "\n",
      "\n",
      "tf-idf BM25\n",
      "(1.99474150642697e-06, 'rejected')\n",
      "\n",
      "\n"
     ]
    }
   ],
   "source": [
    "for pair in combs:\n",
    "    print(pair[0],pair[1])\n",
    "    print(t_test(best_scores[pair[0]],best_scores[pair[1]],a=0.05/len(best_scores)))\n",
    "    print('\\n')"
   ]
  },
  {
   "cell_type": "code",
   "execution_count": null,
   "metadata": {
    "collapsed": true
   },
   "outputs": [],
   "source": []
  },
  {
   "cell_type": "code",
   "execution_count": null,
   "metadata": {
    "collapsed": true
   },
   "outputs": [],
   "source": []
  },
  {
   "cell_type": "code",
   "execution_count": null,
   "metadata": {
    "collapsed": true
   },
   "outputs": [],
   "source": []
  },
  {
   "cell_type": "markdown",
   "metadata": {},
   "source": [
    "### Task 2: Latent Semantic Models (LSMs) [20 points] ###\n",
    "\n",
    "In this task you will experiment with applying distributional semantics methods ([LSI](http://lsa3.colorado.edu/papers/JASIS.lsi.90.pdf) **[5 points]** and [LDA](https://www.cs.princeton.edu/~blei/papers/BleiNgJordan2003.pdf) **[5 points]**) for retrieval.\n",
    "\n",
    "You do not need to implement LSI or LDA on your own. Instead, you can use [gensim](http://radimrehurek.com/gensim/index.html). An example on how to integrate Pyndri with Gensim for word2vec can be found [here](https://github.com/cvangysel/pyndri/blob/master/examples/word2vec.py). For the remaining latent vector space models, you will need to implement connector classes (such as `IndriSentences`) by yourself.\n",
    "\n",
    "In order to use a latent semantic model for retrieval, you need to:\n",
    "   * build a representation of the query **q**,\n",
    "   * build a representation of the document **d**,\n",
    "   * calculate the similarity between **q** and **d** (e.g., cosine similarity, KL-divergence).\n",
    "     \n",
    "The exact implementation here depends on the latent semantic model you are using. \n",
    "   \n",
    "Each of these LSMs come with various hyperparameters to tune. Make a choice on the parameters, and explicitly mention the reasons that led you to these decisions. You can use the validation set to optimize hyper parameters you see fit; motivate your decisions. In addition, mention clearly how the query/document representations were constructed for each LSM and explain your choices.\n",
    "\n",
    "In this experiment, you will first obtain an initial top-1000 ranking for each query using TF-IDF in **Task 1**, and then re-rank the documents using the LSMs. Use TREC Eval to obtain the results and report on `NDCG@10`, Mean Average Precision (`MAP@1000`), `Precision@5` and `Recall@1000`.\n",
    "\n",
    "Perform significance testing **[5 points]** (similar as in Task 1) in the class of semantic matching methods.\n",
    "\n",
    "Perform analysis **[5 points]**"
   ]
  },
  {
   "cell_type": "markdown",
   "metadata": {},
   "source": [
    "### Task 3:  Word embeddings for ranking [10 points] ###\n",
    "\n",
    "First create word embeddings on the corpus we provided using [word2vec](http://arxiv.org/abs/1411.2738) -- [gensim implementation](https://radimrehurek.com/gensim/models/word2vec.html). You should extract the indexed documents using pyndri and provide them to gensim for training a model (see example [here](https://github.com/nickvosk/pyndri/blob/master/examples/word2vec.py)).\n",
    "\n",
    "Try one of the following (increasingly complex) methods for building query and document representations:\n",
    "   * Average or sum the word vectors.\n",
    "   * Cluster words in the document using [k-means](http://scikit-learn.org/stable/modules/generated/sklearn.cluster.KMeans.html) and use the centroid of the most important cluster. Experiment with different values of K for k-means.\n",
    "   * Using the [bag-of-word-embeddings representation](https://ciir-publications.cs.umass.edu/pub/web/getpdf.php?id=1248).\n",
    "   \n",
    "Note that since we provide the implementation for training word2vec, you will be graded based on your creativity on combining word embeddings for building query and document representations.\n",
    "\n",
    "Note: If you want to experiment with pre-trained word embeddings on a different corpus, you can use the word embeddings we provide alongside the assignment (./data/reduced_vectors_google.txt). These are the [google word2vec word embeddings](https://code.google.com/archive/p/word2vec/), reduced to only the words that appear in the document collection we use in this assignment."
   ]
  },
  {
   "cell_type": "code",
   "execution_count": null,
   "metadata": {
    "collapsed": true
   },
   "outputs": [],
   "source": []
  },
  {
   "cell_type": "markdown",
   "metadata": {},
   "source": [
    "### Task 4: Learning to rank (LTR) [10 points] ###\n",
    "\n",
    "In this task you will get an introduction into learning to rank for information retrieval, in particular pointwise learning to rank.\n",
    "\n",
    "You will experiment with a pointwise learning to rank method, logistic regression, implemented in [scikit-learn](http://scikit-learn.org/stable/modules/generated/sklearn.linear_model.LogisticRegression.html).\n",
    "Train your LTR model using 10-fold cross validation on the test set.\n",
    "\n",
    "You can explore different ways for devising features for the model. Obviously, you can use the retrieval methods you implemented in Task 1 and Task 2 as features. Think about other features you can use (e.g. query/document length). \n",
    "One idea is to also explore external sources such as Wikipedia entities (?). Creativity on devising new features and providing motivation for them will be taken into account when grading.\n",
    "\n",
    "For every query, first create a document candidate set using the top-1000 documents using TF-IDF, and subsequently compute features given a query and a document. Note that the feature values of different retrieval methods are likely to be distributed differently."
   ]
  },
  {
   "cell_type": "code",
   "execution_count": null,
   "metadata": {
    "collapsed": true
   },
   "outputs": [],
   "source": []
  },
  {
   "cell_type": "markdown",
   "metadata": {
    "collapsed": true
   },
   "source": [
    "### Task 4: Write a report [20 points; instant FAIL if not provided] ###\n",
    "\n",
    "The report should be a PDF file created using the [sigconf ACM template](https://www.acm.org/publications/proceedings-template) and will determine a significant part of your grade.\n",
    "\n",
    "   * It should explain what you have implemented, motivate your experiments and detail what you expect to learn from them. **[10 points]**\n",
    "   * Lastly, provide a convincing analysis of your results and conclude the report accordingly. **[10 points]**\n",
    "      * Do all methods perform similarly on all queries? Why?\n",
    "      * Is there a single retrieval model that outperforms all other retrieval models (i.e., silver bullet)?\n",
    "      * ...\n",
    "\n",
    "**Hand in the report and your self-contained implementation source files.** Only send us the files that matter, organized in a well-documented zip/tgz file with clear instructions on how to reproduce your results. That is, we want to be able to regenerate all your results with minimal effort. You can assume that the index and ground-truth information is present in the same file structure as the one we have provided.\n"
   ]
  },
  {
   "cell_type": "code",
   "execution_count": null,
   "metadata": {
    "collapsed": true
   },
   "outputs": [],
   "source": []
  }
 ],
 "metadata": {
  "anaconda-cloud": {},
  "kernelspec": {
   "display_name": "Python [conda env:ir]",
   "language": "python",
   "name": "conda-env-ir-py"
  },
  "language_info": {
   "codemirror_mode": {
    "name": "ipython",
    "version": 3
   },
   "file_extension": ".py",
   "mimetype": "text/x-python",
   "name": "python",
   "nbconvert_exporter": "python",
   "pygments_lexer": "ipython3",
   "version": "3.5.4"
  }
 },
 "nbformat": 4,
 "nbformat_minor": 1
}
