{
 "cells": [
  {
   "cell_type": "markdown",
   "metadata": {},
   "source": [
    "# Searching Unstructured and Structured Data \n",
    "## Assignment 1: Retrieval models [100 points]\n",
    "**TA**: Nikos Voskarides (n.voskarides@uva.nl)"
   ]
  },
  {
   "cell_type": "markdown",
   "metadata": {},
   "source": [
    "In this assignment you will get familiar with basic information retrieval concepts. You will implement and evaluate different information retrieval ranking models and evaluate their performance.\n",
    "\n",
    "We provide you with a Indri index. To query the index, you'll use a Python package ([pyndri](https://github.com/cvangysel/pyndri)) that allows easy access to the underlying document statistics.\n",
    "\n",
    "For evaluation you'll use the [TREC Eval](https://github.com/usnistgov/trec_eval) utility, provided by the National Institute of Standards and Technology of the United States. TREC Eval is the de facto standard way to compute Information Retrieval measures and is frequently referenced in scientific papers.\n",
    "\n",
    "This is a **groups-of-three assignment**, the deadline is **Monday, 22/1, at 23:59**. Code quality, informative comments and convincing analysis of the results will be considered when grading. Submission should be done through blackboard, questions can be asked on the course [Piazza](https://piazza.com/class/ixoz63p156g1ts).\n",
    "\n",
    "### Technicalities (must-read!) ###\n",
    "\n",
    "The assignment directory is organized as follows:\n",
    "   * `./assignment.ipynb` (this file): the description of the assignment.\n",
    "   * `./index/`: the index we prepared for you.\n",
    "   * `./ap_88_90/`: directory with ground-truth and evaluation sets:\n",
    "      * `qrel_test`: test query relevance collection (**test set**).\n",
    "      * `qrel_validation`: validation query relevance collection (**validation set**).\n",
    "      * `topics_title`: semicolon-separated file with query identifiers and terms.\n",
    "\n",
    "You will need the following software packages (tested with Python 3.5 inside [Anaconda](https://conda.io/docs/user-guide/install/index.html)):\n",
    "   * Python 3.5 and Jupyter\n",
    "   * Indri + Pyndri (Follow the installation instructions [here](https://github.com/nickvosk/pyndri/blob/master/README.md))\n",
    "   * gensim [link](https://radimrehurek.com/gensim/install.html)\n",
    "   * TREC Eval [link](https://github.com/usnistgov/trec_eval)"
   ]
  },
  {
   "cell_type": "markdown",
   "metadata": {},
   "source": [
    "### TREC Eval primer ###\n",
    "The TREC Eval utility can be downloaded and compiled as follows:\n",
    "\n",
    "    git clone https://github.com/usnistgov/trec_eval.git\n",
    "    cd trec_eval\n",
    "    make\n",
    "\n",
    "TREC Eval computes evaluation scores given two files: ground-truth information regarding relevant documents, named *query relevance* or *qrel*, and a ranking of documents for a set of queries, referred to as a *run*. The *qrel* will be supplied by us and should not be changed. For every retrieval model (or combinations thereof) you will generate a run of the top-1000 documents for every query. The format of the *run* file is as follows:\n",
    "\n",
    "    $query_identifier Q0 $document_identifier $rank_of_document_for_query $query_document_similarity $run_identifier\n",
    "    \n",
    "where\n",
    "   * `$query_identifier` is the unique identifier corresponding to a query (usually this follows a sequential numbering).\n",
    "   * `Q0` is a legacy field that you can ignore.\n",
    "   * `$document_identifier` corresponds to the unique identifier of a document (e.g., APXXXXXXX where AP denotes the collection and the Xs correspond to a unique numerical identifier).\n",
    "   * `$rank_of_document_for_query` denotes the rank of the document for the particular query. This field is ignored by TREC Eval and is only maintained for legacy support. The ranks are computed by TREC Eval itself using the `$query_document_similarity` field (see next). However, it remains good practice to correctly compute this field.\n",
    "   * `$query_document_similarity` is a score indicating the similarity between query and document where a higher score denotes greater similarity.\n",
    "   * `$run_identifier` is an identifier of the run. This field is for your own convenience and has no purpose beyond bookkeeping.\n",
    "   \n",
    "For example, say we have two queries: `Q1` and `Q2` and we rank three documents (`DOC1`, `DOC2`, `DOC3`). For query `Q1`, we find the following similarity scores `score(Q1, DOC1) = 1.0`, `score(Q1, DOC2) = 0.5`, `score(Q1, DOC3) = 0.75`; and for `Q2`: `score(Q2, DOC1) = -0.1`, `score(Q2, DOC2) = 1.25`, `score(Q1, DOC3) = 0.0`. We can generate run using the following snippet:"
   ]
  },
  {
   "cell_type": "code",
   "execution_count": 1,
   "metadata": {
    "collapsed": true
   },
   "outputs": [],
   "source": [
    "import time\n",
    "import numpy as np\n",
    "import glob\n",
    "import pandas as pd\n",
    "from matplotlib import pyplot as plt\n",
    "%matplotlib inline\n",
    "plt.style.use('ggplot')"
   ]
  },
  {
   "cell_type": "code",
   "execution_count": 2,
   "metadata": {
    "scrolled": false
   },
   "outputs": [
    {
     "name": "stdout",
     "output_type": "stream",
     "text": [
      "Q2 Q0 DOC2 1 1.25 example\n",
      "Q2 Q0 DOC3 2 0.0 example\n",
      "Q2 Q0 DOC1 3 -0.1 example\n",
      "Q1 Q0 DOC1 1 1.0 example\n",
      "Q1 Q0 DOC3 2 0.75 example\n",
      "Q1 Q0 DOC2 3 0.5 example\n"
     ]
    }
   ],
   "source": [
    "import logging\n",
    "import sys\n",
    "import os\n",
    "\n",
    "\n",
    "def write_run(model_name, data, out_f,\n",
    "              max_objects_per_query=sys.maxsize,\n",
    "              skip_sorting=False):\n",
    "    \"\"\"\n",
    "    Write a run to an output file.\n",
    "    Parameters:\n",
    "        - model_name: identifier of run.\n",
    "        - data: dictionary mapping topic_id to object_assesments;\n",
    "            object_assesments is an iterable (list or tuple) of\n",
    "            (relevance, object_id) pairs.\n",
    "            The object_assesments iterable is sorted by decreasing order.\n",
    "        - out_f: output file stream.\n",
    "        - max_objects_per_query: cut-off for number of objects per query.\n",
    "    \"\"\"\n",
    "    for subject_id, object_assesments in data.items():\n",
    "        if not object_assesments:\n",
    "            logging.warning('Received empty ranking for %s; ignoring.',\n",
    "                            subject_id)\n",
    "\n",
    "            continue\n",
    "\n",
    "        # Probe types, to make sure everything goes alright.\n",
    "        # assert isinstance(object_assesments[0][0], float) or \\\n",
    "        #     isinstance(object_assesments[0][0], np.float32)\n",
    "        assert isinstance(object_assesments[0][1], str) or \\\n",
    "            isinstance(object_assesments[0][1], bytes)\n",
    "\n",
    "        if not skip_sorting:\n",
    "            object_assesments = sorted(object_assesments, reverse=True)\n",
    "\n",
    "        if max_objects_per_query < sys.maxsize:\n",
    "            object_assesments = object_assesments[:max_objects_per_query]\n",
    "\n",
    "        if isinstance(subject_id, bytes):\n",
    "            subject_id = subject_id.decode('utf8')\n",
    "\n",
    "        for rank, (relevance, object_id) in enumerate(object_assesments):\n",
    "            if isinstance(object_id, bytes):\n",
    "                object_id = object_id.decode('utf8')\n",
    "\n",
    "            out_f.write(\n",
    "                '{subject} Q0 {object} {rank} {relevance} '\n",
    "                '{model_name}\\n'.format(\n",
    "                    subject=subject_id,\n",
    "                    object=object_id,\n",
    "                    rank=rank + 1,\n",
    "                    relevance=relevance,\n",
    "                    model_name=model_name))\n",
    "            \n",
    "# The following writes the run to standard output.\n",
    "# In your code, you should write the runs to local\n",
    "# storage in order to pass them to trec_eval.\n",
    "write_run(\n",
    "    model_name='example',\n",
    "    data={\n",
    "        'Q1': ((1.0, 'DOC1'), (0.5, 'DOC2'), (0.75, 'DOC3')),\n",
    "        'Q2': ((-0.1, 'DOC1'), (1.25, 'DOC2'), (0.0, 'DOC3')),\n",
    "    },\n",
    "    out_f=sys.stdout,\n",
    "    max_objects_per_query=1000)"
   ]
  },
  {
   "cell_type": "markdown",
   "metadata": {},
   "source": [
    "Now, imagine that we know that `DOC1` is relevant and `DOC3` is non-relevant for `Q1`. In addition, for `Q2` we only know of the relevance of `DOC3`. The query relevance file looks like:\n",
    "\n",
    "    Q1 0 DOC1 1\n",
    "    Q1 0 DOC3 0\n",
    "    Q2 0 DOC3 1\n",
    "    \n",
    "We store the run and qrel in files `example.run` and `example.qrel` respectively on disk. We can now use TREC Eval to compute evaluation measures. In this example, we're only interested in Mean Average Precision and we'll only show this below for brevity. However, TREC Eval outputs much more information such as NDCG, recall, precision, etc.\n",
    "\n",
    "    $ trec_eval -m all_trec -q example.qrel example.run | grep -E \"^map\\s\"\n",
    "    > map                   \tQ1\t1.0000\n",
    "    > map                   \tQ2\t0.5000\n",
    "    > map                   \tall\t0.7500\n",
    "    \n",
    "Now that we've discussed the output format of rankings and how you can compute evaluation measures from these rankings, we'll now proceed with an overview of the indexing framework you'll use."
   ]
  },
  {
   "cell_type": "markdown",
   "metadata": {},
   "source": [
    "### Pyndri primer ###\n",
    "For this assignment you will use [Pyndri](https://github.com/cvangysel/pyndri) [[1](https://arxiv.org/abs/1701.00749)], a python interface for [Indri](https://www.lemurproject.org/indri.php). We have indexed the document collection and you can query the index using Pyndri. We will start by giving you some examples of what Pyndri can do:\n",
    "\n",
    "First we read the document collection index with Pyndri:"
   ]
  },
  {
   "cell_type": "code",
   "execution_count": 3,
   "metadata": {
    "collapsed": true,
    "scrolled": true
   },
   "outputs": [],
   "source": [
    "import pyndri\n",
    "\n",
    "index = pyndri.Index('index/')"
   ]
  },
  {
   "cell_type": "markdown",
   "metadata": {},
   "source": [
    "The loaded index can be used to access a collection of documents in an easy manner. We'll give you some examples to get some idea of what it can do, it is up to you to figure out how to use it for the remainder of the assignment.\n",
    "\n",
    "First let's look at the number of documents, since Pyndri indexes the documents using incremental identifiers we can simply take the lowest index and the maximum document and consider the difference:"
   ]
  },
  {
   "cell_type": "code",
   "execution_count": 4,
   "metadata": {},
   "outputs": [
    {
     "name": "stdout",
     "output_type": "stream",
     "text": [
      "There are 164597 documents in this collection.\n"
     ]
    }
   ],
   "source": [
    "print(\"There are %d documents in this collection.\" % (index.maximum_document() - index.document_base()))"
   ]
  },
  {
   "cell_type": "markdown",
   "metadata": {},
   "source": [
    "Let's take the first document out of the collection and take a look at it:"
   ]
  },
  {
   "cell_type": "code",
   "execution_count": 5,
   "metadata": {
    "scrolled": true
   },
   "outputs": [],
   "source": [
    "example_document = index.document(index.document_base())\n",
    "# print(example_document)"
   ]
  },
  {
   "cell_type": "markdown",
   "metadata": {},
   "source": [
    "Here we see a document consists of two things, a string representing the external document identifier and an integer list representing the identifiers of words that make up the document. Pyndri uses integer representations for words or terms, thus a token_id is an integer that represents a word whereas the token is the actual text of the word/term. Every id has a unique token and vice versa with the exception of stop words: words so common that there are uninformative, all of these receive the zero id.\n",
    "\n",
    "To see what some ids and their matching tokens we take a look at the dictionary of the index:"
   ]
  },
  {
   "cell_type": "code",
   "execution_count": 6,
   "metadata": {},
   "outputs": [
    {
     "name": "stdout",
     "output_type": "stream",
     "text": [
      "[(1, 'new'), (2, 'percent'), (3, 'two'), (4, '1'), (5, 'people'), (6, 'million'), (7, '000'), (8, 'government'), (9, 'president'), (10, 'years'), (11, 'state'), (12, '2'), (13, 'states'), (14, 'three'), (15, 'time')]\n"
     ]
    }
   ],
   "source": [
    "token2id, id2token, _ = index.get_dictionary()\n",
    "print(list(id2token.items())[:15])"
   ]
  },
  {
   "cell_type": "markdown",
   "metadata": {},
   "source": [
    "Using this dictionary we can see the tokens for the (non-stop) words in our example document:"
   ]
  },
  {
   "cell_type": "code",
   "execution_count": 7,
   "metadata": {},
   "outputs": [],
   "source": [
    "# print([id2token[word_id] for word_id in example_document[1] if word_id > 0])"
   ]
  },
  {
   "cell_type": "markdown",
   "metadata": {},
   "source": [
    "The reverse can also be done, say we want to look for news about the \"University of Massachusetts\", the tokens of that query can be converted to ids using the reverse dictionary:"
   ]
  },
  {
   "cell_type": "code",
   "execution_count": 8,
   "metadata": {},
   "outputs": [
    {
     "name": "stdout",
     "output_type": "stream",
     "text": [
      "Query by tokens: ['university', '', 'massachusetts']\n",
      "Query by ids with stopwords: [200, 0, 894]\n",
      "Query by ids without stopwords: [200, 894]\n"
     ]
    }
   ],
   "source": [
    "query_tokens = index.tokenize(\"University of Massachusetts\")\n",
    "print(\"Query by tokens:\", query_tokens)\n",
    "query_id_tokens = [token2id.get(query_token,0) for query_token in query_tokens]\n",
    "print(\"Query by ids with stopwords:\", query_id_tokens)\n",
    "query_id_tokens = [word_id for word_id in query_id_tokens if word_id > 0]\n",
    "print(\"Query by ids without stopwords:\", query_id_tokens)"
   ]
  },
  {
   "cell_type": "markdown",
   "metadata": {},
   "source": [
    "Naturally we can now match the document and query in the id space, let's see how often a word from the query occurs in our example document:"
   ]
  },
  {
   "cell_type": "code",
   "execution_count": 9,
   "metadata": {},
   "outputs": [
    {
     "name": "stdout",
     "output_type": "stream",
     "text": [
      "Document AP890425-0001 has 13 word matches with query: \"university  massachusetts\".\n",
      "Document AP890425-0001 and query \"university  massachusetts\" have a 2.5% overlap.\n"
     ]
    }
   ],
   "source": [
    "matching_words = sum([True for word_id in example_document[1] if word_id in query_id_tokens])\n",
    "print(\"Document %s has %d word matches with query: \\\"%s\\\".\" % (example_document[0], matching_words, ' '.join(query_tokens)))\n",
    "print(\"Document %s and query \\\"%s\\\" have a %.01f%% overlap.\" % (example_document[0], ' '.join(query_tokens),matching_words/float(len(example_document[1]))*100))"
   ]
  },
  {
   "cell_type": "markdown",
   "metadata": {},
   "source": [
    "While this is certainly not everything Pyndri can do, it should give you an idea of how to use it. Please take a look at the [examples](https://github.com/cvangysel/pyndri) as it will help you a lot with this assignment.\n",
    "\n",
    "**CAUTION**: Avoid printing out the whole index in this Notebook as it will generate a lot of output and is likely to corrupt the Notebook."
   ]
  },
  {
   "cell_type": "markdown",
   "metadata": {},
   "source": [
    "### Parsing the query file\n",
    "You can parse the query file (`ap_88_89/topics_title`) using the following snippet:"
   ]
  },
  {
   "cell_type": "code",
   "execution_count": 10,
   "metadata": {
    "scrolled": true
   },
   "outputs": [],
   "source": [
    "import collections\n",
    "import io\n",
    "import logging\n",
    "import sys\n",
    "\n",
    "def parse_topics(file_or_files,\n",
    "                 max_topics=sys.maxsize, delimiter=';'):\n",
    "    assert max_topics >= 0 or max_topics is None\n",
    "\n",
    "    topics = collections.OrderedDict()\n",
    "\n",
    "    if not isinstance(file_or_files, list) and \\\n",
    "            not isinstance(file_or_files, tuple):\n",
    "        if hasattr(file_or_files, '__iter__'):\n",
    "            file_or_files = list(file_or_files)\n",
    "        else:\n",
    "            file_or_files = [file_or_files]\n",
    "\n",
    "    for f in file_or_files:\n",
    "        assert isinstance(f, io.IOBase)\n",
    "\n",
    "        for line in f:\n",
    "            assert(isinstance(line, str))\n",
    "\n",
    "            line = line.strip()\n",
    "\n",
    "            if not line:\n",
    "                continue\n",
    "\n",
    "            topic_id, terms = line.split(delimiter, 1)\n",
    "\n",
    "            if topic_id in topics and (topics[topic_id] != terms):\n",
    "                    logging.error('Duplicate topic \"%s\" (%s vs. %s).',\n",
    "                                  topic_id,\n",
    "                                  topics[topic_id],\n",
    "                                  terms)\n",
    "\n",
    "            topics[topic_id] = terms\n",
    "\n",
    "            if max_topics > 0 and len(topics) >= max_topics:\n",
    "                break\n",
    "\n",
    "    return topics\n",
    "\n",
    "# with open('./ap_88_89/topics_title', 'r') as f_topics:\n",
    "#     print(parse_topics([f_topics]))"
   ]
  },
  {
   "cell_type": "markdown",
   "metadata": {},
   "source": [
    "### Task 1: Implement and compare lexical IR methods [40 points] ### \n",
    "\n",
    "In this task you will implement a number of lexical methods for IR using the **Pyndri** framework. Then you will evaluate these methods on the dataset we have provided using **TREC Eval**.\n",
    "\n",
    "Use the **Pyndri** framework to get statistics of the documents (term frequency, document frequency, collection frequency; **you are not allowed to use the query functionality of Pyndri**) and implement the following scoring methods in **Python**:\n",
    "\n",
    "- [TF-IDF](http://nlp.stanford.edu/IR-book/html/htmledition/tf-idf-weighting-1.html). **[5 points]**\n",
    "- [BM25](http://nlp.stanford.edu/IR-book/html/htmledition/okapi-bm25-a-non-binary-model-1.html) with k1=1.2 and b=0.75. **[5 points]**\n",
    "- Language models ([survey](https://drive.google.com/file/d/0B-zklbckv9CHc0c3b245UW90NE0/view))\n",
    "    - Jelinek-Mercer (explore different values of 𝛌 in the range [0.1, 0.5, 0.9]). **[10 points]**\n",
    "    - Dirichlet Prior (explore different values of 𝛍 [500, 1000, 1500]). **[5 points]**\n",
    "    - Absolute discounting (explore different values of 𝛅 in the range [0.1, 0.5, 0.9]). **[5 points]**\n",
    "    \n",
    "Implement the above methods and report evaluation measures (on the test set) using the hyper parameter values you optimized on the validation set (also report the values of the hyper parameters). Use TREC Eval to obtain the results and report on `NDCG@10`, Mean Average Precision (`MAP@1000`), `Precision@5` and `Recall@1000`.\n",
    "\n",
    "For the language models, create plots showing `NDCG@10` with varying values of the parameters. You can do this by chaining small scripts using shell scripting (preferred) or execute trec_eval using Python's `subprocess`.\n",
    "\n",
    "Compute significance of the results using a [two-tailed paired Student t-test](https://docs.scipy.org/doc/scipy/reference/generated/scipy.stats.ttest_rel.html) **[10 points]**. Be wary of false rejection of the null hypothesis caused by the [multiple comparisons problem](https://en.wikipedia.org/wiki/Multiple_comparisons_problem). There are multiple ways to mitigate this problem and it is up to you to choose one.\n",
    "\n",
    "Analyse the results by identifying specific queries where different methods succeed or fail and discuss possible reasons that cause these differences. This is *very important* in order to understand how the different retrieval functions behave.\n",
    "\n",
    "**NOTE**: Don’t forget to use log computations in your calculations to avoid underflows. "
   ]
  },
  {
   "cell_type": "markdown",
   "metadata": {},
   "source": [
    "**IMPORTANT**: You should structure your code around the helper functions we provide below."
   ]
  },
  {
   "cell_type": "code",
   "execution_count": 11,
   "metadata": {},
   "outputs": [
    {
     "name": "stdout",
     "output_type": "stream",
     "text": [
      "Gathering statistics about 456 terms.\n",
      "Inverted index creation took 27.45456838607788 seconds.\n"
     ]
    }
   ],
   "source": [
    "with open('./ap_88_89/topics_title', 'r') as f_topics:\n",
    "    queries = parse_topics([f_topics])\n",
    "\n",
    "index = pyndri.Index('index/')\n",
    "start_time = time.time()\n",
    "num_documents = index.maximum_document() - index.document_base()\n",
    "\n",
    "dictionary = pyndri.extract_dictionary(index)\n",
    "\n",
    "tokenized_queries = {\n",
    "    query_id: [dictionary.translate_token(token)\n",
    "               for token in index.tokenize(query_string)\n",
    "               if dictionary.has_token(token)]\n",
    "    for query_id, query_string in queries.items()}\n",
    "\n",
    "query_term_ids = set(\n",
    "    query_term_id\n",
    "    for query_term_ids in tokenized_queries.values()\n",
    "    for query_term_id in query_term_ids)\n",
    "\n",
    "print('Gathering statistics about', len(query_term_ids), 'terms.')\n",
    "\n",
    "# inverted index creation.\n",
    "\n",
    "document_lengths = {}\n",
    "unique_terms_per_document = {}\n",
    "\n",
    "inverted_index = collections.defaultdict(dict)\n",
    "collection_frequencies = collections.defaultdict(int)\n",
    "\n",
    "total_terms = 0\n",
    "\n",
    "for int_doc_id in range(index.document_base(), index.maximum_document()):\n",
    "    ext_doc_id, doc_token_ids = index.document(int_doc_id)\n",
    "\n",
    "    document_bow = collections.Counter(\n",
    "        token_id for token_id in doc_token_ids\n",
    "        if token_id > 0)\n",
    "    document_length = sum(document_bow.values())\n",
    "\n",
    "    document_lengths[int_doc_id] = document_length\n",
    "    total_terms += document_length\n",
    "\n",
    "    unique_terms_per_document[int_doc_id] = len(document_bow)\n",
    "\n",
    "    for query_term_id in query_term_ids:\n",
    "        assert query_term_id is not None\n",
    "\n",
    "        document_term_frequency = document_bow.get(query_term_id, 0)\n",
    "\n",
    "        if document_term_frequency == 0:\n",
    "            continue\n",
    "\n",
    "        collection_frequencies[query_term_id] += document_term_frequency\n",
    "        inverted_index[query_term_id][int_doc_id] = document_term_frequency\n",
    "\n",
    "avg_doc_length = total_terms / num_documents\n",
    "\n",
    "print('Inverted index creation took', time.time() - start_time, 'seconds.')"
   ]
  },
  {
   "cell_type": "code",
   "execution_count": null,
   "metadata": {
    "collapsed": true
   },
   "outputs": [],
   "source": []
  },
  {
   "cell_type": "code",
   "execution_count": 12,
   "metadata": {
    "collapsed": true
   },
   "outputs": [],
   "source": [
    "def run_retrieval(model_name, score_fn, **args):\n",
    "    \"\"\"\n",
    "    Runs a retrieval method for all the queries and writes the TREC-friendly results in a file.\n",
    "    \n",
    "    :param model_name: the name of the model (a string)\n",
    "    :param score_fn: the scoring function (a function - see below for an example) \n",
    "    \"\"\"\n",
    "    run_out_path = '{}.run'.format(model_name)\n",
    "\n",
    "    if os.path.exists(run_out_path):\n",
    "        return\n",
    "\n",
    "    retrieval_start_time = time.time()\n",
    "\n",
    "    print('Retrieving using', model_name)\n",
    "\n",
    "    data = {}\n",
    "    \n",
    "    for qid in tokenized_queries.keys(): #for each query\n",
    "#     for qid in ['135']: #test\n",
    "\n",
    "        score = {}\n",
    "            #hack for BM25 (iterate duplicate terms in query once)\n",
    "        try:\n",
    "            if score_fn==bm25:\n",
    "                tokenized_queries[qid] = list(set(tokenized_queries[qid]))\n",
    "        except:\n",
    "            pass\n",
    "        \n",
    "        for query_term_id in tokenized_queries[qid]: #for each word_id in query\n",
    "\n",
    "            for (int_document_id,document_term_freq) in zip(inverted_index[query_term_id].keys(),inverted_index[query_term_id].values()):\n",
    "                    #for each document where the word appears, calculate scoring function increment its score\n",
    "                new_score = score_fn(int_document_id, query_term_id, document_term_freq, **args)\n",
    "                \n",
    "                if int_document_id not in score.keys():\n",
    "                    #print('initiallizing and incrementing score')\n",
    "                    score[int_document_id] = new_score\n",
    "                else:\n",
    "                    #print('incrementing score')\n",
    "                    score[int_document_id] += new_score\n",
    "\n",
    "        #turn dict to list of tuples and continue        \n",
    "        # The dictionary data should have the form: query_id --> (document_score, external_doc_id)\n",
    "        data[qid] = [(score, index.ext_document_id(doc_id)) for (score, doc_id) in zip(score.values(), score.keys())]\n",
    "        \n",
    "#     write out\n",
    "    with open(run_out_path, 'w') as f_out:\n",
    "        write_run(\n",
    "            model_name=model_name,\n",
    "            data=data,\n",
    "            out_f=f_out,\n",
    "            max_objects_per_query=1000)"
   ]
  },
  {
   "cell_type": "code",
   "execution_count": 13,
   "metadata": {},
   "outputs": [
    {
     "name": "stdout",
     "output_type": "stream",
     "text": [
      "Retrieving using retrievals/test\n"
     ]
    }
   ],
   "source": [
    "def test_fn(int_document_id, query_term_id, document_term_freq):\n",
    "    #test function returning the occurencies themselves as a score\n",
    "    #return inverted_index[query_term_id][int_document_id]\n",
    "    return 1.\n",
    "\n",
    "run_retrieval('retrievals/test',test_fn)"
   ]
  },
  {
   "cell_type": "markdown",
   "metadata": {
    "collapsed": true
   },
   "source": [
    "### TF-IDF"
   ]
  },
  {
   "cell_type": "code",
   "execution_count": 14,
   "metadata": {
    "collapsed": true
   },
   "outputs": [],
   "source": [
    "def tfidf(int_document_id, query_term_id, document_term_freq):\n",
    "    \"\"\"\n",
    "    Scoring function for a document and a query term\n",
    "    \n",
    "    :param int_document_id: the document id\n",
    "    :param query_token_id: the query term id (assuming you have split the query to tokens)\n",
    "    :param document_term_freq: the document term frequency of the query term \n",
    "    \"\"\"\n",
    "    \n",
    "    ## Amount of time a term appears in a document  \n",
    "    df = document_term_freq\n",
    "    ## Total terms in a document\n",
    "    dl = document_lengths[int_document_id]\n",
    "    ## Amount of documents containing a term\n",
    "    n = len(inverted_index[query_term_id])\n",
    "    \n",
    "\n",
    "    tf = np.log2(1 + df)\n",
    "    idf = np.log2((n/df))\n",
    "    \n",
    "    score = tf * idf\n",
    "\n",
    "    return score"
   ]
  },
  {
   "cell_type": "code",
   "execution_count": 15,
   "metadata": {},
   "outputs": [
    {
     "name": "stdout",
     "output_type": "stream",
     "text": [
      "Retrieving using retrievals/tf-idf\n",
      "elapsed time: 21.07843327522278\n"
     ]
    }
   ],
   "source": [
    "start_time = time.time()\n",
    "\n",
    "run_retrieval('retrievals/tf-idf',tfidf)\n",
    "\n",
    "print ('elapsed time:',time.time()-start_time)"
   ]
  },
  {
   "cell_type": "code",
   "execution_count": 16,
   "metadata": {},
   "outputs": [
    {
     "name": "stdout",
     "output_type": "stream",
     "text": [
      "P_5                   \tall\t0.3200\n",
      "recall_1000           \tall\t0.5766\n",
      "ndcg_cut_10           \tall\t0.3409\n",
      "map_cut_1000          \tall\t0.2049\n",
      "P_5                   \tall\t0.3700\n",
      "recall_1000           \tall\t0.5352\n",
      "ndcg_cut_10           \tall\t0.3549\n",
      "map_cut_1000          \tall\t0.1592\n"
     ]
    }
   ],
   "source": [
    "#NEW tf-idf\n",
    "# trec_eval command for evalutaion of tf-idf \n",
    "\n",
    "!trec_eval -m all_trec ./ap_88_89/qrel_validation retrievals/tf-idf.run | grep -E \"^ndcg_cut_10\\s|^map_cut_1000\\s|^P_5\\s|^recall_1000\\s\"\n",
    "\n",
    "# trec_eval command for evalutaion of tf-idf \n",
    "!trec_eval -m all_trec ./ap_88_89/qrel_test retrievals/tf-idf.run | grep -E \"^ndcg_cut_10\\s|^map_cut_1000\\s|^P_5\\s|^recall_1000\\s\"\n"
   ]
  },
  {
   "cell_type": "code",
   "execution_count": null,
   "metadata": {
    "collapsed": true
   },
   "outputs": [],
   "source": []
  },
  {
   "cell_type": "code",
   "execution_count": null,
   "metadata": {
    "collapsed": true
   },
   "outputs": [],
   "source": []
  },
  {
   "cell_type": "code",
   "execution_count": null,
   "metadata": {
    "collapsed": true
   },
   "outputs": [],
   "source": []
  },
  {
   "cell_type": "code",
   "execution_count": 17,
   "metadata": {},
   "outputs": [
    {
     "name": "stdout",
     "output_type": "stream",
     "text": [
      "P_5                   \tall\t0.3200\r\n",
      "recall_1000           \tall\t0.5766\r\n",
      "ndcg_cut_10           \tall\t0.3409\r\n",
      "map_cut_1000          \tall\t0.2049\r\n"
     ]
    }
   ],
   "source": [
    "#OLD tf-idf\n",
    "# trec_eval command for evalutaion of tf-idf \n",
    "\n",
    "!trec_eval -m all_trec ./ap_88_89/qrel_validation retrievals/tf-idf.run | grep -E \"^ndcg_cut_10\\s|^map_cut_1000\\s|^P_5\\s|^recall_1000\\s\""
   ]
  },
  {
   "cell_type": "code",
   "execution_count": 18,
   "metadata": {},
   "outputs": [
    {
     "name": "stdout",
     "output_type": "stream",
     "text": [
      "P_5                   \tall\t0.3700\r\n",
      "recall_1000           \tall\t0.5352\r\n",
      "ndcg_cut_10           \tall\t0.3549\r\n",
      "map_cut_1000          \tall\t0.1592\r\n"
     ]
    }
   ],
   "source": [
    "# trec_eval command for evalutaion of tf-idf \n",
    "\n",
    "!trec_eval -m all_trec ./ap_88_89/qrel_test retrievals/tf-idf.run | grep -E \"^ndcg_cut_10\\s|^map_cut_1000\\s|^P_5\\s|^recall_1000\\s\"\n"
   ]
  },
  {
   "cell_type": "markdown",
   "metadata": {},
   "source": []
  },
  {
   "cell_type": "markdown",
   "metadata": {},
   "source": [
    "### BM25"
   ]
  },
  {
   "cell_type": "code",
   "execution_count": 19,
   "metadata": {},
   "outputs": [],
   "source": [
    "# for q_id,q in zip(tokenized_queries.keys() ,tokenized_queries.values()):\n",
    "#     if len(q) != len(set(q)):\n",
    "#         print('query %s has duplicate words!'%q_id)"
   ]
  },
  {
   "cell_type": "code",
   "execution_count": 20,
   "metadata": {
    "collapsed": true
   },
   "outputs": [],
   "source": [
    "def bm25(int_document_id, query_term_id, document_term_freq ,k1=1.2 , b=0.75,length_avg = round(np.average(np.array(list(document_lengths.values())))) ):\n",
    "    \"\"\"\n",
    "    Scoring function for a document and a query term\n",
    "    \n",
    "    :param int_document_id: the document id\n",
    "    :param query_token_id: the query term id (assuming you have split the query to tokens)\n",
    "    :param document_term_freq: the document term frequency of the query term\n",
    "    \n",
    "    Hyperparameters: k1=1.2 and b=0.75\n",
    "    -\n",
    "    \"\"\"\n",
    "    \n",
    "    ## Amount of time a term appears in a document  \n",
    "    df = document_term_freq\n",
    "     \n",
    "    \n",
    "    ## tf, idf\n",
    "    tf = np.log2(1 + df)\n",
    "    idf = np.log2((len(inverted_index[query_term_id])/df))\n",
    "    \n",
    "    ## Total terms in a document : document_lengths[int_document_id]    \n",
    "    ## Amount of documents containing a term : len(inverted_index[query_term_id])\n",
    "    ## document length : document_lengths[int_document_id]\n",
    "    \n",
    "    return ((k1+1)*tf*idf)/(k1*((1-b)+b*(document_lengths[int_document_id] /length_avg))+tf)"
   ]
  },
  {
   "cell_type": "code",
   "execution_count": 21,
   "metadata": {},
   "outputs": [
    {
     "name": "stdout",
     "output_type": "stream",
     "text": [
      "Retrieving using retrievals/bm25\n",
      "BM25 scoring took 32.65888690948486 seconds.\n"
     ]
    }
   ],
   "source": [
    "start_time=time.time() \n",
    "\n",
    "run_retrieval('retrievals/bm25',bm25)\n",
    "\n",
    "print('BM25 scoring took', time.time() - start_time, 'seconds.')"
   ]
  },
  {
   "cell_type": "code",
   "execution_count": 47,
   "metadata": {},
   "outputs": [
    {
     "name": "stdout",
     "output_type": "stream",
     "text": [
      "P_5                   \tall\t0.1267\r\n",
      "recall_1000           \tall\t0.2196\r\n",
      "ndcg_cut_10           \tall\t0.1167\r\n",
      "map_cut_1000          \tall\t0.0533\r\n"
     ]
    }
   ],
   "source": [
    "# trec_eval command for evalutaion of bm25\n",
    "\n",
    "!trec_eval -m all_trec ./ap_88_89/qrel_validation retrievals/bm25.run | grep -E \"^ndcg_cut_10\\s|^map_cut_1000\\s|^P_5\\s|^recall_1000\\s\""
   ]
  },
  {
   "cell_type": "markdown",
   "metadata": {},
   "source": []
  },
  {
   "cell_type": "markdown",
   "metadata": {},
   "source": [
    "** Cache word-vocabulary tf **"
   ]
  },
  {
   "cell_type": "code",
   "execution_count": 23,
   "metadata": {},
   "outputs": [],
   "source": [
    "# #precompute the 2nd term of jelinek mercer smoothening to speed-up computations\n",
    "# P_mle_col = dict()\n",
    "# for query_term_id in query_term_ids:\n",
    "#     P_mle_col[query_term_id] = index.get_term_frequencies()[query_term_id] / index.total_terms()\n",
    "    \n",
    "#precompute the logged 2nd term of jelinek mercer smoothening to speed-up computations\n",
    "P_mle_col_log = dict()\n",
    "for query_term_id in query_term_ids:\n",
    "    P_mle_col_log[query_term_id] = np.log(index.get_term_frequencies()[query_term_id]) - np.log(index.total_terms())"
   ]
  },
  {
   "cell_type": "code",
   "execution_count": 49,
   "metadata": {},
   "outputs": [
    {
     "data": {
      "text/plain": [
       "75983583"
      ]
     },
     "execution_count": 49,
     "metadata": {},
     "output_type": "execute_result"
    }
   ],
   "source": [
    "index.total_terms()"
   ]
  },
  {
   "cell_type": "code",
   "execution_count": 44,
   "metadata": {},
   "outputs": [
    {
     "data": {
      "text/plain": [
       "{1: -6.0945643344557539,\n",
       " 8: -6.4526909965155834,\n",
       " 11: -6.6675696256705272,\n",
       " 13: -6.8058974749179537,\n",
       " 19: -6.9476350752909504,\n",
       " 20: -6.9646388345306125,\n",
       " 21: -7.0004627988628982,\n",
       " 33: -7.1961866930500573,\n",
       " 35: -7.2181308690034776,\n",
       " 38: -7.2459607461194224,\n",
       " 39: -7.2495478290848485,\n",
       " 54: -7.3994656396794838,\n",
       " 55: -7.4060289863545652,\n",
       " 57: -7.4110234593976632,\n",
       " 68: -7.5053044754860991,\n",
       " 69: -7.5162001613066707,\n",
       " 72: -7.5258230971500026,\n",
       " 75: -7.5321427752559078,\n",
       " 77: -7.5350218913634617,\n",
       " 78: -7.5411521787608571,\n",
       " 80: -7.5489182414392229,\n",
       " 82: -7.5636695535812439,\n",
       " 85: -7.5759938104596145,\n",
       " 92: -7.6237126616551123,\n",
       " 94: -7.6291129717956707,\n",
       " 97: -7.6443633662536623,\n",
       " 107: -7.6936677378194869,\n",
       " 110: -7.7051117036618546,\n",
       " 114: -7.7145626266388234,\n",
       " 118: -7.7365965825479961,\n",
       " 119: -7.7410077323679829,\n",
       " 128: -7.7619677286274111,\n",
       " 138: -7.7905415492086618,\n",
       " 140: -7.7960612250236014,\n",
       " 142: -7.8087793319593679,\n",
       " 152: -7.8262012045623379,\n",
       " 156: -7.845174579370866,\n",
       " 163: -7.8533739740837181,\n",
       " 166: -7.8688411038778678,\n",
       " 168: -7.8741196174535979,\n",
       " 170: -7.8811664226271834,\n",
       " 180: -7.9023250863223335,\n",
       " 186: -7.9318621844763388,\n",
       " 191: -7.9524860526255434,\n",
       " 192: -7.9602603016845936,\n",
       " 196: -7.9654769159187406,\n",
       " 203: -7.9841454508955358,\n",
       " 205: -7.9916259609628142,\n",
       " 213: -8.0174386762020085,\n",
       " 214: -8.0175584486345297,\n",
       " 219: -8.0272676522887405,\n",
       " 229: -8.0595106698447445,\n",
       " 235: -8.0791043003704548,\n",
       " 236: -8.0917954225299553,\n",
       " 238: -8.0957595780141851,\n",
       " 241: -8.0998262070232059,\n",
       " 248: -8.1158195564432241,\n",
       " 252: -8.1268928856964191,\n",
       " 255: -8.1344934051392457,\n",
       " 258: -8.1370997967643834,\n",
       " 269: -8.153934370888356,\n",
       " 274: -8.1717091284617887,\n",
       " 276: -8.1774082142845987,\n",
       " 277: -8.1775487657149402,\n",
       " 281: -8.1884309835753477,\n",
       " 303: -8.2462471711537066,\n",
       " 307: -8.2514801507918545,\n",
       " 310: -8.2562843270146402,\n",
       " 313: -8.2597882026319329,\n",
       " 325: -8.2792042935939723,\n",
       " 328: -8.2859176491919495,\n",
       " 335: -8.3011762847073367,\n",
       " 341: -8.3185577956462957,\n",
       " 351: -8.3323556135447436,\n",
       " 358: -8.3494575915684575,\n",
       " 360: -8.3540306852557435,\n",
       " 373: -8.3775585209004682,\n",
       " 377: -8.3860643193084226,\n",
       " 380: -8.3879129622381328,\n",
       " 382: -8.4000131680469448,\n",
       " 388: -8.4057065069765944,\n",
       " 389: -8.4068255035302357,\n",
       " 390: -8.408063747740453,\n",
       " 391: -8.4095989393504222,\n",
       " 392: -8.4109589608473438,\n",
       " 395: -8.414278072476689,\n",
       " 397: -8.4218464170558782,\n",
       " 416: -8.4472301818783428,\n",
       " 420: -8.4552386026750508,\n",
       " 431: -8.4666843608701736,\n",
       " 436: -8.4834660303323872,\n",
       " 447: -8.5037102871340498,\n",
       " 448: -8.5052046186988726,\n",
       " 451: -8.5085913615478663,\n",
       " 463: -8.5424299247819064,\n",
       " 472: -8.5520590762833351,\n",
       " 483: -8.5702113898905239,\n",
       " 484: -8.5702807789201465,\n",
       " 485: -8.5715306054958376,\n",
       " 496: -8.5918850420662682,\n",
       " 515: -8.6368429501244339,\n",
       " 518: -8.6389217985975026,\n",
       " 519: -8.6441379058040546,\n",
       " 520: -8.6447357684629225,\n",
       " 523: -8.6469060218872436,\n",
       " 539: -8.6666532117030268,\n",
       " 580: -8.7087909895988087,\n",
       " 588: -8.71880348863926,\n",
       " 590: -8.7238071307468257,\n",
       " 601: -8.7356897479754281,\n",
       " 609: -8.7423435697066356,\n",
       " 625: -8.7567884497897008,\n",
       " 629: -8.7587135393149662,\n",
       " 631: -8.7609781659905117,\n",
       " 642: -8.7718694045529304,\n",
       " 654: -8.7857169632060312,\n",
       " 659: -8.789338593447189,\n",
       " 684: -8.8109950458250079,\n",
       " 690: -8.8146209618028823,\n",
       " 692: -8.8163057327622454,\n",
       " 694: -8.8169271540614833,\n",
       " 719: -8.8411048472963785,\n",
       " 735: -8.8572460634757633,\n",
       " 738: -8.859374806933161,\n",
       " 746: -8.8677485067741326,\n",
       " 774: -8.8956978415661663,\n",
       " 776: -8.8984880487932188,\n",
       " 781: -8.9034139292320305,\n",
       " 789: -8.9121662947409792,\n",
       " 804: -8.9288111858428927,\n",
       " 811: -8.9345880943390252,\n",
       " 812: -8.9360875698036644,\n",
       " 819: -8.9399967613704234,\n",
       " 824: -8.9492794433017924,\n",
       " 829: -8.95527813954733,\n",
       " 832: -8.9561963664138666,\n",
       " 846: -8.9780732062787632,\n",
       " 851: -8.9833033437239891,\n",
       " 862: -8.9975628935004135,\n",
       " 881: -9.017331478822836,\n",
       " 917: -9.0527832616585719,\n",
       " 922: -9.0581941642751218,\n",
       " 942: -9.072309367325289,\n",
       " 946: -9.0755244349701254,\n",
       " 955: -9.084767712796479,\n",
       " 982: -9.1099218363936618,\n",
       " 985: -9.1105171808179843,\n",
       " 1000: -9.1250336615132444,\n",
       " 1033: -9.1471495363226971,\n",
       " 1042: -9.1569577967148543,\n",
       " 1056: -9.1671152606842323,\n",
       " 1070: -9.1817159136339939,\n",
       " 1098: -9.1958841052992462,\n",
       " 1099: -9.1965329082805471,\n",
       " 1116: -9.211704530703603,\n",
       " 1122: -9.2176526019048772,\n",
       " 1138: -9.2314017339313708,\n",
       " 1145: -9.2396344547001412,\n",
       " 1160: -9.2490293090146842,\n",
       " 1161: -9.2506722447621161,\n",
       " 1178: -9.2623876292548353,\n",
       " 1189: -9.2665554596837065,\n",
       " 1240: -9.3024127695745591,\n",
       " 1266: -9.322821641205767,\n",
       " 1268: -9.3240005390729248,\n",
       " 1275: -9.3325893672300015,\n",
       " 1302: -9.3516575825356369,\n",
       " 1312: -9.3581970324997492,\n",
       " 1322: -9.3661627608946567,\n",
       " 1329: -9.3729529104402882,\n",
       " 1339: -9.3790102404467302,\n",
       " 1373: -9.4029748115338325,\n",
       " 1404: -9.4208453667997389,\n",
       " 1424: -9.4317887181499334,\n",
       " 1434: -9.4398685708296473,\n",
       " 1449: -9.4503538129342548,\n",
       " 1459: -9.4582483697667374,\n",
       " 1466: -9.461119265937679,\n",
       " 1483: -9.4728570888879187,\n",
       " 1490: -9.4752555824139701,\n",
       " 1510: -9.4885511248952152,\n",
       " 1525: -9.4992109025487661,\n",
       " 1533: -9.5032598474342045,\n",
       " 1535: -9.5055556541820998,\n",
       " 1583: -9.5373499802200925,\n",
       " 1605: -9.5537271978554656,\n",
       " 1608: -9.5565140087626439,\n",
       " 1622: -9.5688690891748376,\n",
       " 1633: -9.5773813887533557,\n",
       " 1644: -9.5832878553863008,\n",
       " 1664: -9.59501312186676,\n",
       " 1704: -9.6171037474665724,\n",
       " 1709: -9.6194785754182455,\n",
       " 1723: -9.6300353909187901,\n",
       " 1760: -9.6521032972816254,\n",
       " 1781: -9.6640474260980156,\n",
       " 1783: -9.6648764416895361,\n",
       " 1801: -9.6721597950806437,\n",
       " 1812: -9.6767652040998211,\n",
       " 1821: -9.6820244988563893,\n",
       " 1822: -9.6826574770397773,\n",
       " 1842: -9.6941201370409011,\n",
       " 1847: -9.6962573466597046,\n",
       " 1848: -9.6975418683520616,\n",
       " 1856: -9.7001158723472347,\n",
       " 1861: -9.7044206572988667,\n",
       " 1891: -9.7183218368438062,\n",
       " 1893: -9.7187593778702581,\n",
       " 1906: -9.7266680306910338,\n",
       " 1912: -9.7326408390678605,\n",
       " 1920: -9.7368654145559752,\n",
       " 1931: -9.7428996266302441,\n",
       " 1959: -9.756668041852155,\n",
       " 1982: -9.7683266491608691,\n",
       " 1987: -9.7710897179231413,\n",
       " 2053: -9.8132383933405496,\n",
       " 2088: -9.8319305263527017,\n",
       " 2097: -9.8361048725001901,\n",
       " 2121: -9.8467419548612334,\n",
       " 2127: -9.8494813414578939,\n",
       " 2129: -9.850978721323397,\n",
       " 2152: -9.8617760641365919,\n",
       " 2177: -9.8814070323472922,\n",
       " 2178: -9.881664532026841,\n",
       " 2181: -9.8847597111808607,\n",
       " 2183: -9.8852765070579949,\n",
       " 2199: -9.8938424257551798,\n",
       " 2208: -9.8974987369582905,\n",
       " 2230: -9.9080196125401052,\n",
       " 2231: -9.909607334493117,\n",
       " 2294: -9.9421764895746296,\n",
       " 2296: -9.9424501248205566,\n",
       " 2313: -9.9473884064611386,\n",
       " 2324: -9.9520748381947666,\n",
       " 2336: -9.9592850746449901,\n",
       " 2353: -9.9671085289101118,\n",
       " 2354: -9.9671085289101118,\n",
       " 2371: -9.9741458556306881,\n",
       " 2387: -9.990665741430373,\n",
       " 2409: -9.9993188095551897,\n",
       " 2439: -10.009802306850048,\n",
       " 2460: -10.021284841372941,\n",
       " 2485: -10.030208160547181,\n",
       " 2509: -10.040116663772,\n",
       " 2510: -10.041022324211262,\n",
       " 2527: -10.051649416785548,\n",
       " 2540: -10.058694935285157,\n",
       " 2549: -10.062390658616961,\n",
       " 2563: -10.067029603073355,\n",
       " 2569: -10.07106750264265,\n",
       " 2587: -10.081391385984286,\n",
       " 2598: -10.085172108824192,\n",
       " 2619: -10.091822964694101,\n",
       " 2621: -10.092776708209412,\n",
       " 2636: -10.100760145150705,\n",
       " 2642: -10.105580980455398,\n",
       " 2643: -10.105903197310129,\n",
       " 2673: -10.122803177041838,\n",
       " 2697: -10.133346932051669,\n",
       " 2731: -10.146349282259058,\n",
       " 2743: -10.151058339060631,\n",
       " 2760: -10.156467412424643,\n",
       " 2783: -10.169432452441932,\n",
       " 2791: -10.171839192472497,\n",
       " 2793: -10.172872428314374,\n",
       " 2832: -10.187450957944609,\n",
       " 2845: -10.190252080224322,\n",
       " 2846: -10.190953588495812,\n",
       " 2856: -10.194468530603256,\n",
       " 2897: -10.211156295813332,\n",
       " 2911: -10.216181432016004,\n",
       " 3027: -10.261451351162183,\n",
       " 3063: -10.277773596237896,\n",
       " 3066: -10.279688938711963,\n",
       " 3067: -10.279688938711963,\n",
       " 3069: -10.281607956763942,\n",
       " 3076: -10.284300783934528,\n",
       " 3173: -10.321581930880889,\n",
       " 3177: -10.322782171072985,\n",
       " 3269: -10.362803845422471,\n",
       " 3291: -10.369912384659767,\n",
       " 3367: -10.3954131289881,\n",
       " 3383: -10.40102505824267,\n",
       " 3454: -10.42467924914056,\n",
       " 3485: -10.43761719450114,\n",
       " 3516: -10.447545073877562,\n",
       " 3558: -10.458489095556878,\n",
       " 3564: -10.459865558265601,\n",
       " 3576: -10.464006350931633,\n",
       " 3579: -10.464928860222148,\n",
       " 3594: -10.4686274312437,\n",
       " 3614: -10.474666938567864,\n",
       " 3628: -10.483090011296973,\n",
       " 3649: -10.490163844142451,\n",
       " 3655: -10.492058681279733,\n",
       " 3672: -10.49871902940227,\n",
       " 3676: -10.501108516799651,\n",
       " 3698: -10.508793472969035,\n",
       " 3895: -10.583346615036625,\n",
       " 3924: -10.59326577754436,\n",
       " 4040: -10.630138776543383,\n",
       " 4072: -10.639436081687666,\n",
       " 4081: -10.64163630259727,\n",
       " 4104: -10.64826616113594,\n",
       " 4193: -10.676943976837274,\n",
       " 4204: -10.68094512535896,\n",
       " 4400: -10.741140286142382,\n",
       " 4451: -10.757700002181402,\n",
       " 4675: -10.814967556539877,\n",
       " 4735: -10.832141030125047,\n",
       " 4755: -10.837485064219319,\n",
       " 4886: -10.878502433930336,\n",
       " 4916: -10.886911733661407,\n",
       " 4934: -10.892557479073981,\n",
       " 5030: -10.922003053472679,\n",
       " 5098: -10.941135351553836,\n",
       " 5189: -10.965957987455713,\n",
       " 5197: -10.969773329741365,\n",
       " 5279: -10.994542397853774,\n",
       " 5442: -11.039421724031206,\n",
       " 5448: -11.040241732277238,\n",
       " 5465: -11.046000695129248,\n",
       " 5506: -11.058454156200536,\n",
       " 5552: -11.07021899778012,\n",
       " 5581: -11.080414498160792,\n",
       " 5609: -11.087269709239845,\n",
       " 5630: -11.090715018418756,\n",
       " 5723: -11.113403600730502,\n",
       " 5802: -11.139332634921468,\n",
       " 5810: -11.141145872045648,\n",
       " 5814: -11.142053725035829,\n",
       " 5872: -11.155771361264627,\n",
       " 5902: -11.163165110289565,\n",
       " 5967: -11.180947516157101,\n",
       " 6153: -11.226344011911097,\n",
       " 20692: -11.471466469944083,\n",
       " 20750: -12.208491656676081,\n",
       " 23989: -11.510081306071861,\n",
       " 26337: -12.947530830492681,\n",
       " 28392: -11.314074296192654,\n",
       " 29064: -11.695557439614333,\n",
       " 29891: -12.947530830492681,\n",
       " 30473: -12.712305858204267,\n",
       " 36062: -12.953071010868298,\n",
       " 39370: -11.409060903756654,\n",
       " 40238: -12.616598774247084,\n",
       " 43984: -11.896052619499025,\n",
       " 45097: -11.273899760419521,\n",
       " 48553: -11.599242450997984,\n",
       " 51043: -14.035153997585198,\n",
       " 52100: -13.366904368646978,\n",
       " 53245: -11.480344143976101,\n",
       " 53672: -12.986972562543979,\n",
       " 54952: -11.982713057723867,\n",
       " 61863: -11.447759807643095,\n",
       " 63065: -11.244290655101935,\n",
       " 63508: -12.669564309826997,\n",
       " 64853: -12.925672036680183,\n",
       " 65624: -11.52996267662569,\n",
       " 66582: -12.279559804825212,\n",
       " 67300: -11.400791512274147,\n",
       " 71869: -12.30538620438511,\n",
       " 71970: -12.936541708917087,\n",
       " 73364: -14.457148407644572,\n",
       " 73379: -11.76421184435241,\n",
       " 74122: -12.205856609038076,\n",
       " 74181: -11.919491192471042,\n",
       " 76611: -11.507460072591988,\n",
       " 76733: -13.263225939172138,\n",
       " 78639: -12.756956131942008,\n",
       " 82174: -11.515344476116137,\n",
       " 83861: -13.561060383087936,\n",
       " 84387: -11.828863175011225,\n",
       " 86216: -11.550247347797196,\n",
       " 86670: -11.371803975400894,\n",
       " 88519: -11.929421760673645,\n",
       " 89553: -11.280136786875069,\n",
       " 90480: -11.646240821102655,\n",
       " 91954: -11.672137165406234,\n",
       " 91961: -12.551316482156668,\n",
       " 96348: -16.759733500638617,\n",
       " 97318: -13.255678733536755,\n",
       " 99893: -13.72718725396191,\n",
       " 100114: -11.607888037990838,\n",
       " 100217: -15.010533645829359,\n",
       " 104782: -11.394926392821748,\n",
       " 105220: -11.637258724786825,\n",
       " 111208: -11.781277104906597,\n",
       " 116012: -11.38561317067508,\n",
       " 116975: -13.624239284709468,\n",
       " 117322: -14.482466215628861,\n",
       " 119910: -14.317386465269413,\n",
       " 120650: -13.48258876764644,\n",
       " 121054: -14.813823351583304,\n",
       " 121675: -11.397268314266828,\n",
       " 121844: -11.772708072181496,\n",
       " 122153: -11.409060903756654,\n",
       " 122164: -11.259496219227998,\n",
       " 128358: -11.92345159368714,\n",
       " 128371: -14.432455795054199,\n",
       " 140391: -11.543439969569171,\n",
       " 140799: -11.637258724786825,\n",
       " 141966: -12.608693594739972,\n",
       " 144171: -11.607888037990838,\n",
       " 151493: -12.914919244903921,\n",
       " 153960: -17.452880681198565,\n",
       " 154987: -11.269763249867742,\n",
       " 155285: -12.021344470864303,\n",
       " 156066: -13.034040073401965,\n",
       " 157422: -11.452704193488559,\n",
       " 159894: -11.861893700687705,\n",
       " 160909: -13.083432828731542,\n",
       " 163926: -13.350237316161767,\n",
       " 163974: -11.793398465438941,\n",
       " 171612: -17.452880681198565,\n",
       " 172647: -12.112941639959708,\n",
       " 176407: -13.764001227084627,\n",
       " 178428: -12.322981966275488,\n",
       " 178525: -15.506970532143249,\n",
       " 187515: -11.701896605058067,\n",
       " 188098: -12.747865160240757,\n",
       " 190739: -11.440388766898504,\n",
       " 191898: -12.195385309170781,\n",
       " 192484: -11.95571245590536,\n",
       " 192943: -12.282396686160411,\n",
       " 198109: -18.146027861758508,\n",
       " 200099: -11.873150855212341,\n",
       " 201208: -13.540857675770416,\n",
       " 202871: -13.971640591862872,\n",
       " 203193: -11.298022587182146,\n",
       " 212881: -12.789441587086497,\n",
       " 213404: -12.942021174681713,\n",
       " 215481: -12.328916701795304,\n",
       " 218232: -11.547518833143993,\n",
       " 220439: -14.254207563647881,\n",
       " 226043: -11.705081321125586,\n",
       " 226762: -11.64024380163028,\n",
       " 227473: -12.752400315406145,\n",
       " 228094: -11.294842934264764,\n",
       " 231164: -15.506970532143249,\n",
       " 231615: -12.690706746400807,\n",
       " 233033: -12.248873994121768,\n",
       " 235195: -12.493538681489857,\n",
       " 237281: -12.246130508176016,\n",
       " 237289: -13.022063882355249,\n",
       " 237310: -15.312814517702293,\n",
       " 238359: -11.300147986494459,\n",
       " 238862: -13.463896634634288,\n",
       " 238866: -11.321654191715421,\n",
       " 243152: -12.337885371778064,\n",
       " 243556: -11.830669860236174,\n",
       " 249163: -12.157066444868644,\n",
       " 250383: -11.744110665031322,\n",
       " 250488: -13.530907344917249,\n",
       " 254101: -12.981241887834994,\n",
       " 254885: -14.138694676526036}"
      ]
     },
     "execution_count": 44,
     "metadata": {},
     "output_type": "execute_result"
    }
   ],
   "source": [
    "P_mle_col_log"
   ]
  },
  {
   "cell_type": "markdown",
   "metadata": {},
   "source": [
    "### Jelinek-Mercer"
   ]
  },
  {
   "cell_type": "code",
   "execution_count": null,
   "metadata": {
    "collapsed": true
   },
   "outputs": [],
   "source": []
  },
  {
   "cell_type": "code",
   "execution_count": 24,
   "metadata": {
    "collapsed": true
   },
   "outputs": [],
   "source": [
    "def jelinek_mercer(int_document_id, query_term_id, document_term_freq, lambd = 0.75):\n",
    "    \"\"\"\n",
    "    Scoring function for a document and a query term\n",
    "    \n",
    "    :param int_document_id: the document id\n",
    "    :param query_token_id: the query term id (assuming you have split the query to tokens)\n",
    "    :param document_term_freq: the document term frequency of the query term\n",
    "    :param lambd: lambda value of linear interpolation (default = 0.75)\n",
    "    \"\"\"\n",
    "#     P_mle_doc_log = document_term_freq / document_lengths[int_document_id]\n",
    "    \n",
    "    return np.logaddexp( (np.log(lambd) + np.log(document_term_freq) - np.log(document_lengths[int_document_id])),\n",
    "                        (np.log(1-lambd) + P_mle_col_log[query_term_id]) )"
   ]
  },
  {
   "cell_type": "code",
   "execution_count": 25,
   "metadata": {},
   "outputs": [
    {
     "name": "stdout",
     "output_type": "stream",
     "text": [
      "Retrieving using retrievals/jelinek_mercer\n",
      "elapsed time: 36.57929563522339\n"
     ]
    }
   ],
   "source": [
    "#final run\n",
    "start_time = time.time()\n",
    "test_dict = run_retrieval('retrievals/jelinek_mercer',jelinek_mercer)\n",
    "print ('elapsed time:',time.time()-start_time)"
   ]
  },
  {
   "cell_type": "code",
   "execution_count": 26,
   "metadata": {},
   "outputs": [
    {
     "name": "stdout",
     "output_type": "stream",
     "text": [
      "map                   \tall\t0.0800\r\n",
      "P_5                   \tall\t0.1200\r\n",
      "recall_1000           \tall\t0.2405\r\n",
      "ndcg_cut_10           \tall\t0.1332\r\n"
     ]
    }
   ],
   "source": [
    "# trec_eval command for evalutaion of jelinek_mercer\n",
    "\n",
    "!trec_eval -m all_trec ./ap_88_89/qrel_validation retrievals/jelinek_mercer.run | grep -E \"^ndcg_cut_10\\s|^map\\s|^P_5\\s|^recall_1000\\s\""
   ]
  },
  {
   "cell_type": "code",
   "execution_count": 27,
   "metadata": {
    "scrolled": true
   },
   "outputs": [
    {
     "name": "stdout",
     "output_type": "stream",
     "text": [
      "P_5                   \tall\t0.0283\r\n",
      "recall_1000           \tall\t0.1322\r\n",
      "ndcg_cut_10           \tall\t0.0323\r\n",
      "map_cut_1000          \tall\t0.0150\r\n"
     ]
    }
   ],
   "source": [
    "# trec_eval command for evalutaion of jelinek_mercer\n",
    "\n",
    "!trec_eval -m all_trec ./ap_88_89/qrel_test retrievals/jelinek_mercer.run | grep -E \"^ndcg_cut_10\\s|^map_cut_1000\\s|^P_5\\s|^recall_1000\\s\""
   ]
  },
  {
   "cell_type": "code",
   "execution_count": null,
   "metadata": {
    "collapsed": true
   },
   "outputs": [],
   "source": []
  },
  {
   "cell_type": "markdown",
   "metadata": {},
   "source": [
    "### Dirichlet Prior"
   ]
  },
  {
   "cell_type": "code",
   "execution_count": 38,
   "metadata": {
    "collapsed": true
   },
   "outputs": [],
   "source": [
    "def dirichlet_prior(int_document_id, query_term_id, document_term_freq, mu=500):\n",
    "    \"\"\"\n",
    "    Scoring function for a document and a query term\n",
    "    \n",
    "    :param int_document_id: the document id\n",
    "    :param query_token_id: the query term id (assuming you have split the query to tokens)\n",
    "    :param document_term_freq: the document term frequency of the query term \n",
    "    \"\"\"\n",
    "    ## Amount of time a term appears in a document  \n",
    "    df = document_term_freq\n",
    "    \n",
    "    ## tf, idf\n",
    "    tf = np.log(1 + (document_term_freq))\n",
    "    \n",
    "    ##p_w_C = P_mle_col[query_term_id])\n",
    "    ## document length : document_lengths[int_document_id]\n",
    "    \n",
    "    return np.logaddexp( (np.log(document_term_frequency)) ,\n",
    "                        (np.log(mu) + P_mle_col_log[query_term_id]) ) - np.log( document_lengths[int_document_id] + mu )\n",
    "\n",
    "#     return np.log(tf+mu*P_mle_col[query_term_id])-np.log(document_lengths[int_document_id]+mu)\n"
   ]
  },
  {
   "cell_type": "code",
   "execution_count": 39,
   "metadata": {},
   "outputs": [
    {
     "name": "stdout",
     "output_type": "stream",
     "text": [
      "Retrieving using retrievals/dirichlet_prior\n"
     ]
    },
    {
     "name": "stderr",
     "output_type": "stream",
     "text": [
      "/home/antonis/anaconda2/envs/ir/lib/python3.5/site-packages/ipykernel/__main__.py:18: RuntimeWarning: divide by zero encountered in log\n"
     ]
    },
    {
     "name": "stdout",
     "output_type": "stream",
     "text": [
      "elapsed time: 44.40187406539917\n"
     ]
    }
   ],
   "source": [
    "#final run\n",
    "start_time = time.time()\n",
    "test_dict = run_retrieval('retrievals/dirichlet_prior',dirichlet_prior, mu=1000)\n",
    "print ('elapsed time:',time.time()-start_time)"
   ]
  },
  {
   "cell_type": "code",
   "execution_count": 42,
   "metadata": {},
   "outputs": [
    {
     "name": "stdout",
     "output_type": "stream",
     "text": [
      "P_5                   \tall\t0.0017\r\n",
      "recall_1000           \tall\t0.0428\r\n",
      "ndcg_cut_10           \tall\t0.0031\r\n",
      "map_cut_1000          \tall\t0.0055\r\n"
     ]
    }
   ],
   "source": [
    "!trec_eval -m all_trec ./ap_88_89/qrel_test retrievals/dirichlet_prior.run | grep -E \"^ndcg_cut_10\\s|^map_cut_1000\\s|^P_5\\s|^recall_1000\\s\"\n"
   ]
  },
  {
   "cell_type": "code",
   "execution_count": 43,
   "metadata": {},
   "outputs": [
    {
     "name": "stdout",
     "output_type": "stream",
     "text": [
      "P_5                   \tall\t0.0467\r\n",
      "recall_1000           \tall\t0.1365\r\n",
      "ndcg_cut_10           \tall\t0.0519\r\n",
      "map_cut_1000          \tall\t0.0462\r\n"
     ]
    }
   ],
   "source": [
    "!trec_eval -m all_trec ./ap_88_89/qrel_validation retrievals/dirichlet_prior.run | grep -E \"^ndcg_cut_10\\s|^map_cut_1000\\s|^P_5\\s|^recall_1000\\s\"\n"
   ]
  },
  {
   "cell_type": "markdown",
   "metadata": {},
   "source": [
    "### Absolute discounting"
   ]
  },
  {
   "cell_type": "code",
   "execution_count": 63,
   "metadata": {},
   "outputs": [
    {
     "data": {
      "text/plain": [
       "114"
      ]
     },
     "execution_count": 63,
     "metadata": {},
     "output_type": "execute_result"
    }
   ],
   "source": []
  },
  {
   "cell_type": "code",
   "execution_count": 68,
   "metadata": {},
   "outputs": [],
   "source": [
    "def absolute_discounting(int_document_id, query_term_id, document_term_freq, delta=0.1):\n",
    "    \"\"\"\n",
    "    Scoring function for a document and a query term\n",
    "    \n",
    "    :param int_document_id: the document id\n",
    "    :param query_token_id: the query term id (assuming you have split the query to tokens)\n",
    "    :param document_term_freq: the document term frequency of the query term \n",
    "    \"\"\"\n",
    "    ## Amount of time a term appears in a document  \n",
    "#     df = document_term_freq\n",
    "     \n",
    "    \n",
    "#     ## tf, idf\n",
    "#     tf = np.log(1 + (df/document_lengths[int_document_id]))\n",
    "    \n",
    "#     ## p_w_C = P_mle_col[query_term_id])\n",
    "#     ## document length : document_lengths[int_document_id]\n",
    "#     ## document length u: collection_frequencies[query_term_id]\n",
    "    \n",
    "#     doc_length = document_lengths[int_document_id]\n",
    "    return np.logaddexp(np.log( max( document_term_frequency - delta ,0 ) ) - np.log( document_lengths[int_document_id] ) ,\n",
    "                              np.log(delta * unique_terms_per_document[int_doc_id] ) + P_mle_col_log[query_term_id] - np.log( document_lengths[int_document_id] ) )\n",
    "#     return np.log((np.max(tf-delta,1e-15)/doc_length)+\n",
    "#             ((delta*collection_frequencies[query_term_id]*P_mle_col[query_term_id])/doc_length))\n"
   ]
  },
  {
   "cell_type": "code",
   "execution_count": 72,
   "metadata": {},
   "outputs": [
    {
     "name": "stdout",
     "output_type": "stream",
     "text": [
      "Retrieving using retrievals/absolute_disc_0.5\n"
     ]
    },
    {
     "name": "stderr",
     "output_type": "stream",
     "text": [
      "/home/antonis/anaconda2/envs/ir/lib/python3.5/site-packages/ipykernel/__main__.py:21: RuntimeWarning: divide by zero encountered in log\n"
     ]
    },
    {
     "name": "stdout",
     "output_type": "stream",
     "text": [
      "elapsed time: 46.78586745262146\n"
     ]
    }
   ],
   "source": [
    "#final run\n",
    "start_time = time.time()\n",
    "test_dict = run_retrieval('retrievals/absolute_disc_0.5',absolute_discounting, delta=0.5)\n",
    "print ('elapsed time:',time.time()-start_time)"
   ]
  },
  {
   "cell_type": "code",
   "execution_count": 73,
   "metadata": {},
   "outputs": [
    {
     "name": "stdout",
     "output_type": "stream",
     "text": [
      "P_5                   \tall\t0.0467\r\n",
      "recall_1000           \tall\t0.1352\r\n",
      "ndcg_cut_10           \tall\t0.0519\r\n",
      "map_cut_1000          \tall\t0.0456\r\n"
     ]
    }
   ],
   "source": [
    "!trec_eval -m all_trec ./ap_88_89/qrel_validation retrievals/absolute_disc_0.5.run | grep -E \"^ndcg_cut_10\\s|^map_cut_1000\\s|^P_5\\s|^recall_1000\\s\""
   ]
  },
  {
   "cell_type": "code",
   "execution_count": 74,
   "metadata": {},
   "outputs": [
    {
     "name": "stdout",
     "output_type": "stream",
     "text": [
      "P_5                   \tall\t0.0017\r\n",
      "recall_1000           \tall\t0.0478\r\n",
      "ndcg_cut_10           \tall\t0.0036\r\n",
      "map_cut_1000          \tall\t0.0059\r\n"
     ]
    }
   ],
   "source": [
    "!trec_eval -m all_trec ./ap_88_89/qrel_test retrievals/absolute_disc_0.5.run | grep -E \"^ndcg_cut_10\\s|^map_cut_1000\\s|^P_5\\s|^recall_1000\\s\""
   ]
  },
  {
   "cell_type": "code",
   "execution_count": null,
   "metadata": {
    "collapsed": true
   },
   "outputs": [],
   "source": []
  },
  {
   "cell_type": "markdown",
   "metadata": {},
   "source": [
    "### Hyper-parameter testing"
   ]
  },
  {
   "cell_type": "code",
   "execution_count": 48,
   "metadata": {
    "collapsed": true
   },
   "outputs": [],
   "source": [
    "def get_scores(filenames, validation=False):\n",
    "    \"\"\"\n",
    "    Function to get scores from trec_eval using a \n",
    "    :param filenames: a list of *.run files (retrieval scores for queries)\n",
    "    :param validation: boolean. Perform evaluation on validation or test set (queries)\n",
    "    \"\"\"\n",
    "    scores = {}\n",
    "    for filename in filenames:\n",
    "        param_value = float(filename.split(\"=\")[-1].split('.run')[0])\n",
    "        if validation:\n",
    "            result = !trec_eval -m all_trec ./ap_88_89/qrel_validation {filename} | grep -E \"^ndcg_cut_10\\s|^map_cut_1000\\s|^P_5\\s|^recall_1000\\s\"\n",
    "        else:\n",
    "            result = !trec_eval -m all_trec ./ap_88_89/qrel_test {filename} | grep -E \"^ndcg_cut_10\\s|^map_cut_1000\\s|^P_5\\s|^recall_1000\\s\"\n",
    "\n",
    "        for row in result:\n",
    "            metric = row.split(' ')[0]\n",
    "            score = float(row.split('\\t')[-1])\n",
    "            if metric not in scores.keys():\n",
    "                scores[metric] = {}\n",
    "            scores[metric][param_value] = score\n",
    "    return scores"
   ]
  },
  {
   "cell_type": "code",
   "execution_count": 49,
   "metadata": {
    "collapsed": true
   },
   "outputs": [],
   "source": [
    "def test_hyperparameters(hyperparameters,funct_name,score_function):\n",
    "    \n",
    "    for param_value in hyperparameters:\n",
    "        \n",
    "        start_time = time.time()\n",
    "        \n",
    "        filename = 'retrievals/'+funct_name+'='+str(param_value)\n",
    "        \n",
    "        if funct_name== 'jelinek_mercer_lambda':\n",
    "            run_retrieval(filename,score_function, lambd = param_value)\n",
    "        elif funct_name=='dirichlet_prior_mu':\n",
    "            run_retrieval(filename,dirichlet_prior, mu = param_value)\n",
    "        \n",
    "        elif funct_name=='absolute_discounting_delta':\n",
    "            run_retrieval(filename,absolute_discounting, delta = param_value)\n",
    "            \n",
    "        else:\n",
    "            print (\"Wrong method name\")\n",
    "            return\n",
    "            \n",
    "\n",
    "        print ('finished {} in {} sec'.format(filename,(time.time()-start_time)))\n",
    "    \n",
    "    filenames = glob.glob('./retrievals/'+funct_name+'=*')\n",
    "    scores = get_scores(filenames)\n",
    "    scores = pd.DataFrame.from_dict(scores,dtype=float)\n",
    "    scores.index.name = 'delta'\n",
    "    \n",
    "    return scores"
   ]
  },
  {
   "cell_type": "code",
   "execution_count": 73,
   "metadata": {},
   "outputs": [
    {
     "name": "stdout",
     "output_type": "stream",
     "text": [
      "finished retrievals/jelinek_mercer_lambda=0.1 in 0.0002970695495605469 sec\n",
      "finished retrievals/jelinek_mercer_lambda=0.2 in 0.00017023086547851562 sec\n",
      "finished retrievals/jelinek_mercer_lambda=0.3 in 0.00031685829162597656 sec\n",
      "finished retrievals/jelinek_mercer_lambda=0.4 in 0.00013685226440429688 sec\n",
      "finished retrievals/jelinek_mercer_lambda=0.5 in 0.00010395050048828125 sec\n",
      "finished retrievals/jelinek_mercer_lambda=0.6 in 7.700920104980469e-05 sec\n",
      "finished retrievals/jelinek_mercer_lambda=0.7 in 0.00018262863159179688 sec\n",
      "finished retrievals/jelinek_mercer_lambda=0.8 in 8.0108642578125e-05 sec\n",
      "finished retrievals/jelinek_mercer_lambda=0.9 in 7.700920104980469e-05 sec\n"
     ]
    },
    {
     "data": {
      "text/plain": [
       "<matplotlib.axes._subplots.AxesSubplot at 0x7fc5994839b0>"
      ]
     },
     "execution_count": 73,
     "metadata": {},
     "output_type": "execute_result"
    },
    {
     "data": {
      "image/png": "[encoded data removed]",
      "text/plain": [
       "<matplotlib.figure.Figure at 0x7fc599493588>"
      ]
     },
     "metadata": {},
     "output_type": "display_data"
    }
   ],
   "source": [
    "scores_jm = test_hyperparameters(np.arange(0.1,0.91,0.1),'jelinek_mercer_lambda',jelinek_mercer)\n",
    "scores_jm.drop('recall_1000',axis=1).plot()"
   ]
  },
  {
   "cell_type": "code",
   "execution_count": 74,
   "metadata": {},
   "outputs": [
    {
     "name": "stdout",
     "output_type": "stream",
     "text": [
      "finished retrievals/dirichlet_prior_mu=500 in 0.00010824203491210938 sec\n",
      "finished retrievals/dirichlet_prior_mu=600 in 9.369850158691406e-05 sec\n",
      "finished retrievals/dirichlet_prior_mu=700 in 5.841255187988281e-05 sec\n",
      "finished retrievals/dirichlet_prior_mu=800 in 7.677078247070312e-05 sec\n",
      "finished retrievals/dirichlet_prior_mu=900 in 5.53131103515625e-05 sec\n",
      "finished retrievals/dirichlet_prior_mu=1000 in 4.839897155761719e-05 sec\n",
      "finished retrievals/dirichlet_prior_mu=1100 in 0.0002524852752685547 sec\n",
      "finished retrievals/dirichlet_prior_mu=1200 in 3.647804260253906e-05 sec\n",
      "finished retrievals/dirichlet_prior_mu=1300 in 2.5272369384765625e-05 sec\n",
      "finished retrievals/dirichlet_prior_mu=1400 in 3.123283386230469e-05 sec\n",
      "finished retrievals/dirichlet_prior_mu=1500 in 2.2649765014648438e-05 sec\n"
     ]
    },
    {
     "data": {
      "text/plain": [
       "<matplotlib.axes._subplots.AxesSubplot at 0x7fc5b1e5a588>"
      ]
     },
     "execution_count": 74,
     "metadata": {},
     "output_type": "execute_result"
    },
    {
     "data": {
      "image/png": "[encoded data removed]",
      "text/plain": [
       "<matplotlib.figure.Figure at 0x7fc5b1e50fd0>"
      ]
     },
     "metadata": {},
     "output_type": "display_data"
    }
   ],
   "source": [
    "scores_dirich = test_hyperparameters(np.arange(500,1501, 100),'dirichlet_prior_mu',dirichlet_prior)\n",
    "scores_dirich.drop('recall_1000',axis=1).plot()"
   ]
  },
  {
   "cell_type": "code",
   "execution_count": 75,
   "metadata": {},
   "outputs": [
    {
     "name": "stdout",
     "output_type": "stream",
     "text": [
      "finished retrievals/absolute_discounting_delta=0.1 in 0.0001354217529296875 sec\n",
      "finished retrievals/absolute_discounting_delta=0.2 in 6.628036499023438e-05 sec\n",
      "finished retrievals/absolute_discounting_delta=0.3 in 3.4809112548828125e-05 sec\n",
      "finished retrievals/absolute_discounting_delta=0.4 in 5.6743621826171875e-05 sec\n",
      "finished retrievals/absolute_discounting_delta=0.5 in 4.601478576660156e-05 sec\n",
      "finished retrievals/absolute_discounting_delta=0.6 in 4.458427429199219e-05 sec\n",
      "finished retrievals/absolute_discounting_delta=0.7 in 4.38690185546875e-05 sec\n",
      "finished retrievals/absolute_discounting_delta=0.8 in 4.3392181396484375e-05 sec\n",
      "finished retrievals/absolute_discounting_delta=0.9 in 4.363059997558594e-05 sec\n"
     ]
    },
    {
     "data": {
      "text/plain": [
       "<matplotlib.axes._subplots.AxesSubplot at 0x7fc5b1e03828>"
      ]
     },
     "execution_count": 75,
     "metadata": {},
     "output_type": "execute_result"
    },
    {
     "data": {
      "image/png": "[encoded data removed]",
      "text/plain": [
       "<matplotlib.figure.Figure at 0x7fc5b1dfba58>"
      ]
     },
     "metadata": {},
     "output_type": "display_data"
    }
   ],
   "source": [
    "scores_abs_disc = test_hyperparameters(np.arange(0.1,0.91, 0.1),'absolute_discounting_delta',absolute_discounting)\n",
    "scores_abs_disc.drop('recall_1000',axis=1).plot()"
   ]
  },
  {
   "cell_type": "markdown",
   "metadata": {},
   "source": [
    "## Significance testing (on test set)"
   ]
  },
  {
   "cell_type": "code",
   "execution_count": 53,
   "metadata": {
    "collapsed": true
   },
   "outputs": [],
   "source": [
    "import re"
   ]
  },
  {
   "cell_type": "code",
   "execution_count": 54,
   "metadata": {
    "collapsed": true
   },
   "outputs": [],
   "source": [
    "ndcg_all={}"
   ]
  },
  {
   "cell_type": "code",
   "execution_count": 55,
   "metadata": {},
   "outputs": [
    {
     "name": "stdout",
     "output_type": "stream",
     "text": [
      "finished retrievals/jelinek_mercer_lambda=0.1 in 0.00010728836059570312 sec\n",
      "finished retrievals/jelinek_mercer_lambda=0.2 in 2.574920654296875e-05 sec\n"
     ]
    },
    {
     "name": "stderr",
     "output_type": "stream",
     "text": [
      "/home/antonis/anaconda2/envs/ir/lib/python3.5/site-packages/ipykernel/__main__.py:23: FutureWarning: set_value is deprecated and will be removed in a future release. Please use .at[] or .iat[] accessors instead\n"
     ]
    },
    {
     "name": "stdout",
     "output_type": "stream",
     "text": [
      "finished retrievals/jelinek_mercer_lambda=0.3 in 2.5987625122070312e-05 sec\n",
      "finished retrievals/jelinek_mercer_lambda=0.4 in 2.6464462280273438e-05 sec\n",
      "finished retrievals/jelinek_mercer_lambda=0.5 in 2.574920654296875e-05 sec\n",
      "finished retrievals/jelinek_mercer_lambda=0.6 in 2.574920654296875e-05 sec\n",
      "finished retrievals/jelinek_mercer_lambda=0.7 in 2.5987625122070312e-05 sec\n",
      "finished retrievals/jelinek_mercer_lambda=0.8 in 2.6702880859375e-05 sec\n",
      "finished retrievals/jelinek_mercer_lambda=0.9 in 2.6226043701171875e-05 sec\n"
     ]
    }
   ],
   "source": [
    "columns = [0.1, 0.2, 0.3, 0.4, 0.5, 0.6, 0.7, 0.8, 0.9]\n",
    "\n",
    "ndcg = pd.DataFrame(columns=columns)\n",
    "\n",
    "for param_value in columns:\n",
    "    start_time = time.time()\n",
    "\n",
    "    filename = 'retrievals/jelinek_mercer_lambda='+str(param_value)\n",
    "\n",
    "    run_retrieval(filename,jelinek_mercer, lambd = param_value)\n",
    "\n",
    "    print ('finished {} in {} sec'.format(filename,(time.time()-start_time)))\n",
    "\n",
    "    results = !trec_eval -m all_trec -q ./ap_88_89/qrel_test { filename }.run | grep -E \"^ndcg_cut_10\\s\"\n",
    "\n",
    "    for result in results:\n",
    "        result = re.sub( '\\s+', ' ', result ).strip().split()\n",
    "\n",
    "        idx = result[1]\n",
    "        value = result[2]\n",
    "        param_value = round(param_value,1)\n",
    "\n",
    "        ndcg.set_value(idx, param_value, value)\n",
    "        \n",
    "ndcg_all['jelinek_mercer'] = ndcg"
   ]
  },
  {
   "cell_type": "code",
   "execution_count": 56,
   "metadata": {
    "scrolled": true
   },
   "outputs": [
    {
     "name": "stdout",
     "output_type": "stream",
     "text": [
      "finished retrievals/absolute_discounting_delta=0.1 in 2.3126602172851562e-05 sec\n",
      "finished retrievals/absolute_discounting_delta=0.2 in 2.574920654296875e-05 sec\n"
     ]
    },
    {
     "name": "stderr",
     "output_type": "stream",
     "text": [
      "/home/antonis/anaconda2/envs/ir/lib/python3.5/site-packages/ipykernel/__main__.py:23: FutureWarning: set_value is deprecated and will be removed in a future release. Please use .at[] or .iat[] accessors instead\n"
     ]
    },
    {
     "name": "stdout",
     "output_type": "stream",
     "text": [
      "finished retrievals/absolute_discounting_delta=0.3 in 2.5987625122070312e-05 sec\n",
      "finished retrievals/absolute_discounting_delta=0.4 in 2.5510787963867188e-05 sec\n",
      "finished retrievals/absolute_discounting_delta=0.5 in 2.765655517578125e-05 sec\n",
      "finished retrievals/absolute_discounting_delta=0.6 in 2.6941299438476562e-05 sec\n",
      "finished retrievals/absolute_discounting_delta=0.7 in 2.7418136596679688e-05 sec\n",
      "finished retrievals/absolute_discounting_delta=0.8 in 2.5510787963867188e-05 sec\n",
      "finished retrievals/absolute_discounting_delta=0.9 in 2.7179718017578125e-05 sec\n"
     ]
    }
   ],
   "source": [
    "columns = [0.1, 0.2, 0.3, 0.4, 0.5, 0.6, 0.7, 0.8, 0.9]\n",
    "\n",
    "ndcg = pd.DataFrame(columns=columns)\n",
    "\n",
    "for param_value in columns:\n",
    "    start_time = time.time()\n",
    "\n",
    "    filename = 'retrievals/absolute_discounting_delta='+str(param_value)\n",
    "\n",
    "    run_retrieval(filename,jelinek_mercer, lambd = param_value)\n",
    "\n",
    "    print ('finished {} in {} sec'.format(filename,(time.time()-start_time)))\n",
    "\n",
    "    results = !trec_eval -m all_trec -q ./ap_88_89/qrel_test { filename }.run | grep -E \"^ndcg_cut_10\\s\"\n",
    "\n",
    "    for result in results:\n",
    "        result = re.sub( '\\s+', ' ', result ).strip().split()\n",
    "\n",
    "        idx = result[1]\n",
    "        value = result[2]\n",
    "        param_value = round(param_value,1)\n",
    "\n",
    "        ndcg.set_value(idx, param_value, value)\n",
    "\n",
    "ndcg_all['absolute_discounting'] = ndcg"
   ]
  },
  {
   "cell_type": "code",
   "execution_count": null,
   "metadata": {
    "collapsed": true
   },
   "outputs": [],
   "source": []
  },
  {
   "cell_type": "code",
   "execution_count": 57,
   "metadata": {},
   "outputs": [
    {
     "name": "stdout",
     "output_type": "stream",
     "text": [
      "finished retrievals/dirichlet_prior_mu=500 in 0.00012421607971191406 sec\n",
      "finished retrievals/dirichlet_prior_mu=600 in 3.7670135498046875e-05 sec\n"
     ]
    },
    {
     "name": "stderr",
     "output_type": "stream",
     "text": [
      "/home/antonis/anaconda2/envs/ir/lib/python3.5/site-packages/ipykernel/__main__.py:23: FutureWarning: set_value is deprecated and will be removed in a future release. Please use .at[] or .iat[] accessors instead\n"
     ]
    },
    {
     "name": "stdout",
     "output_type": "stream",
     "text": [
      "finished retrievals/dirichlet_prior_mu=700 in 4.1484832763671875e-05 sec\n",
      "finished retrievals/dirichlet_prior_mu=800 in 4.291534423828125e-05 sec\n",
      "finished retrievals/dirichlet_prior_mu=900 in 4.363059997558594e-05 sec\n",
      "finished retrievals/dirichlet_prior_mu=1000 in 4.0531158447265625e-05 sec\n",
      "finished retrievals/dirichlet_prior_mu=1100 in 4.1961669921875e-05 sec\n",
      "finished retrievals/dirichlet_prior_mu=1200 in 4.267692565917969e-05 sec\n",
      "finished retrievals/dirichlet_prior_mu=1300 in 3.886222839355469e-05 sec\n",
      "finished retrievals/dirichlet_prior_mu=1400 in 4.315376281738281e-05 sec\n",
      "finished retrievals/dirichlet_prior_mu=1500 in 3.910064697265625e-05 sec\n"
     ]
    }
   ],
   "source": [
    "columns = np.arange(500,1501,100)\n",
    "\n",
    "ndcg = pd.DataFrame(columns=columns)\n",
    "\n",
    "for param_value in columns:\n",
    "    start_time = time.time()\n",
    "\n",
    "    filename = 'retrievals/dirichlet_prior_mu='+str(param_value)\n",
    "\n",
    "    run_retrieval(filename,jelinek_mercer, lambd = param_value)\n",
    "\n",
    "    print ('finished {} in {} sec'.format(filename,(time.time()-start_time)))\n",
    "\n",
    "    results = !trec_eval -m all_trec -q ./ap_88_89/qrel_test { filename }.run | grep -E \"^ndcg_cut_10\\s\"\n",
    "\n",
    "    for result in results:\n",
    "        result = re.sub( '\\s+', ' ', result ).strip().split()\n",
    "\n",
    "        idx = result[1]\n",
    "        value = result[2]\n",
    "        param_value = round(param_value,1)\n",
    "\n",
    "        ndcg.set_value(idx, param_value, value)\n",
    "\n",
    "ndcg_all['dirichlet_prior'] = ndcg"
   ]
  },
  {
   "cell_type": "code",
   "execution_count": null,
   "metadata": {
    "collapsed": true
   },
   "outputs": [],
   "source": []
  },
  {
   "cell_type": "code",
   "execution_count": 58,
   "metadata": {},
   "outputs": [
    {
     "name": "stdout",
     "output_type": "stream",
     "text": [
      "P_5                   \tall\t0.0533\r\n",
      "recall_1000           \tall\t0.1548\r\n",
      "ndcg_cut_10           \tall\t0.0504\r\n",
      "map_cut_1000          \tall\t0.0328\r\n"
     ]
    },
    {
     "name": "stderr",
     "output_type": "stream",
     "text": [
      "/home/antonis/anaconda2/envs/ir/lib/python3.5/site-packages/ipykernel/__main__.py:15: FutureWarning: set_value is deprecated and will be removed in a future release. Please use .at[] or .iat[] accessors instead\n"
     ]
    }
   ],
   "source": [
    "# trec_eval command for evalutaion of tf-idf \n",
    "\n",
    "!trec_eval -m all_trec ./ap_88_89/qrel_validation retrievals/tf-idf.run | grep -E \"^ndcg_cut_10\\s|^map_cut_1000\\s|^P_5\\s|^recall_1000\\s\"\n",
    "\n",
    "ifidfdf = pd.DataFrame()\n",
    "\n",
    "results = !trec_eval -m all_trec -q ./ap_88_89/qrel_test retrievals/tf-idf.run | grep -E \"^ndcg_cut_10\\s\"\n",
    "\n",
    "for result in results:\n",
    "    result = re.sub( '\\s+', ' ', result ).strip().split()\n",
    "\n",
    "    index = result[1]\n",
    "    value = float(result[2])\n",
    "\n",
    "    ifidfdf.set_value(index, 1, value)\n",
    "    \n"
   ]
  },
  {
   "cell_type": "code",
   "execution_count": null,
   "metadata": {
    "collapsed": true
   },
   "outputs": [],
   "source": []
  },
  {
   "cell_type": "code",
   "execution_count": 59,
   "metadata": {},
   "outputs": [
    {
     "name": "stdout",
     "output_type": "stream",
     "text": [
      "P_5                   \tall\t0.1267\r\n",
      "recall_1000           \tall\t0.2196\r\n",
      "ndcg_cut_10           \tall\t0.1167\r\n",
      "map_cut_1000          \tall\t0.0533\r\n"
     ]
    },
    {
     "name": "stderr",
     "output_type": "stream",
     "text": [
      "/home/antonis/anaconda2/envs/ir/lib/python3.5/site-packages/ipykernel/__main__.py:15: FutureWarning: set_value is deprecated and will be removed in a future release. Please use .at[] or .iat[] accessors instead\n"
     ]
    }
   ],
   "source": [
    "# trec_eval command for evalutaion of bm25\n",
    "\n",
    "!trec_eval -m all_trec ./ap_88_89/qrel_validation retrievals/bm25.run | grep -E \"^ndcg_cut_10\\s|^map_cut_1000\\s|^P_5\\s|^recall_1000\\s\"\n",
    "\n",
    "bm25df = pd.DataFrame()\n",
    "\n",
    "results = !trec_eval -m all_trec -q ./ap_88_89/qrel_test retrievals/bm25.run | grep -E \"^ndcg_cut_10\\s\"\n",
    "\n",
    "for result in results:\n",
    "    result = re.sub( '\\s+', ' ', result ).strip().split()\n",
    "\n",
    "    index = result[1]\n",
    "    value = float(result[2])\n",
    "\n",
    "    bm25df.set_value(index, 1, value)\n"
   ]
  },
  {
   "cell_type": "code",
   "execution_count": 60,
   "metadata": {
    "collapsed": true
   },
   "outputs": [],
   "source": [
    "best_scores = pd.DataFrame()\n",
    "best_scores['absolute_discounting'] = ndcg_all['absolute_discounting'][0.1]\n",
    "best_scores['jelinek_mercer'] = ndcg_all['jelinek_mercer'][0.1]\n",
    "best_scores['dirichlet_prior'] = ndcg_all['dirichlet_prior'][1500]\n",
    "\n",
    "best_scores['tf-idf'] = ifidfdf\n",
    "best_scores['BM25'] = bm25df\n",
    "\n",
    "\n",
    "best_scores = best_scores.applymap(lambda x: float(x))\n"
   ]
  },
  {
   "cell_type": "code",
   "execution_count": 72,
   "metadata": {},
   "outputs": [
    {
     "data": {
      "text/plain": [
       "70"
      ]
     },
     "execution_count": 72,
     "metadata": {},
     "output_type": "execute_result"
    }
   ],
   "source": [
    "len(best_scores[best_scores.sum(axis=1)==0])"
   ]
  },
  {
   "cell_type": "code",
   "execution_count": 62,
   "metadata": {},
   "outputs": [
    {
     "data": {
      "text/plain": [
       "<matplotlib.axes._subplots.AxesSubplot at 0x7fc5b834efd0>"
      ]
     },
     "execution_count": 62,
     "metadata": {},
     "output_type": "execute_result"
    },
    {
     "data": {
      "image/png": "[encoded data removed]",
      "text/plain": [
       "<matplotlib.figure.Figure at 0x7fc5b8345c18>"
      ]
     },
     "metadata": {},
     "output_type": "display_data"
    }
   ],
   "source": [
    "#plot non-zero queries only\n",
    "best_scores[best_scores.sum(axis=1)>0].plot(kind='bar',figsize=(18,8))"
   ]
  },
  {
   "cell_type": "code",
   "execution_count": 63,
   "metadata": {
    "collapsed": true
   },
   "outputs": [],
   "source": [
    "# pd.DataFrame(get_NDCG_score(f))"
   ]
  },
  {
   "cell_type": "code",
   "execution_count": 64,
   "metadata": {
    "collapsed": true
   },
   "outputs": [],
   "source": [
    "# filenames = ['retrievals/absolute_discounting_delta=0.1.run',\n",
    "#             'retrievals/absolute_discounting_delta=0.5.run',\n",
    "#             'retrievals/absolute_discounting_delta=0.9.run',\n",
    "#             ]\n",
    "\n",
    "# score_df = pd.DataFrame()\n",
    "# for filename in filenames:\n",
    "#     score_df.append(pd.DataFrame( get_NDCG_score(filename = 'retrievals/absolute_discounting_delta=0.2.run')\n",
    "#                  ,dtype=float, index=[filename.split('/')[-1]]))"
   ]
  },
  {
   "cell_type": "code",
   "execution_count": 65,
   "metadata": {
    "collapsed": true
   },
   "outputs": [],
   "source": [
    "# 'retrievals/absolute_discounting_delta=0.1.run'\n",
    "# !trec_eval -m all_trec ./ap_88_89/qrel_validation {filename1} | grep -E \"^ndcg_cut_10\\s\""
   ]
  },
  {
   "cell_type": "code",
   "execution_count": 66,
   "metadata": {
    "collapsed": true
   },
   "outputs": [],
   "source": [
    "# def compare_scores(filename1, filename2, validation=True):\n",
    "#     \"\"\"\n",
    "#     Function to get scores from trec_eval using a \n",
    "#     :param filenames: a list of *.run files (retrieval scores for queries)\n",
    "#     :param validation: boolean. Perform evaluation on validation or test set (queries)\n",
    "#     \"\"\"\n",
    "#     scores = {}\n",
    "#     for filename in filenames:\n",
    "#         param_value = float(filename.split(\"=\")[-1].split('.run')[0])\n",
    "#         if validation:\n",
    "#             result1 = !trec_eval -m all_trec ./ap_88_89/qrel_validation {filename1} | grep -E \"^ndcg_cut_10\\s\"\n",
    "#         else:\n",
    "#             result1 = !trec_eval -m all_trec ./ap_88_89/qrel_test {filename1} | grep -E \"^ndcg_cut_10\\s\"\n",
    "\n",
    "        \n",
    "#         for row in result:\n",
    "#             metric = row.split(' ')[0]\n",
    "#             score = float(row.split('\\t')[-1])\n",
    "#             if metric not in scores.keys():\n",
    "#                 scores[metric] = {}\n",
    "#             scores[metric][param_value] = score\n",
    "#     return scores"
   ]
  },
  {
   "cell_type": "code",
   "execution_count": null,
   "metadata": {
    "collapsed": true
   },
   "outputs": [],
   "source": []
  },
  {
   "cell_type": "code",
   "execution_count": 67,
   "metadata": {
    "collapsed": true
   },
   "outputs": [],
   "source": [
    "from scipy.stats import ttest_rel"
   ]
  },
  {
   "cell_type": "code",
   "execution_count": 68,
   "metadata": {
    "collapsed": true
   },
   "outputs": [],
   "source": [
    "def t_test(method1,method2,a=0.05):\n",
    "    \n",
    "    p_value = ttest_rel(method1, method2)[1]\n",
    "    \n",
    "    if p_value>a:\n",
    "        return (p_value, 'not-rejected')\n",
    "    else:\n",
    "        return (p_value, 'rejected')\n",
    "    \n",
    "    \n",
    "# t_test('jelinek_mercer','dirichlet_prior')    "
   ]
  },
  {
   "cell_type": "code",
   "execution_count": 69,
   "metadata": {
    "collapsed": true
   },
   "outputs": [],
   "source": [
    "from itertools import combinations"
   ]
  },
  {
   "cell_type": "code",
   "execution_count": 70,
   "metadata": {
    "collapsed": true
   },
   "outputs": [],
   "source": [
    "combs = list(combinations(best_scores.columns,2))"
   ]
  },
  {
   "cell_type": "code",
   "execution_count": 71,
   "metadata": {},
   "outputs": [
    {
     "name": "stdout",
     "output_type": "stream",
     "text": [
      "absolute_discounting jelinek_mercer\n",
      "(0.0027658740404091233, 'rejected')\n",
      "\n",
      "\n",
      "absolute_discounting dirichlet_prior\n",
      "(0.087675820703153245, 'not-rejected')\n",
      "\n",
      "\n",
      "absolute_discounting tf-idf\n",
      "(0.45378265590663647, 'not-rejected')\n",
      "\n",
      "\n",
      "absolute_discounting BM25\n",
      "(5.4104924488291697e-06, 'rejected')\n",
      "\n",
      "\n",
      "jelinek_mercer dirichlet_prior\n",
      "(0.004355924895767675, 'rejected')\n",
      "\n",
      "\n",
      "jelinek_mercer tf-idf\n",
      "(0.0042208692466954405, 'rejected')\n",
      "\n",
      "\n",
      "jelinek_mercer BM25\n",
      "(0.0075834322254706892, 'not-rejected')\n",
      "\n",
      "\n",
      "dirichlet_prior tf-idf\n",
      "(0.15879625646632167, 'not-rejected')\n",
      "\n",
      "\n",
      "dirichlet_prior BM25\n",
      "(0.00019827772896263121, 'rejected')\n",
      "\n",
      "\n",
      "tf-idf BM25\n",
      "(6.0975792793337765e-06, 'rejected')\n",
      "\n",
      "\n"
     ]
    }
   ],
   "source": [
    "for pair in combs:\n",
    "    print(pair[0],pair[1])\n",
    "    print(t_test(best_scores[pair[0]],best_scores[pair[1]],a=0.05/len(combs)))\n",
    "    print('\\n')"
   ]
  },
  {
   "cell_type": "code",
   "execution_count": null,
   "metadata": {
    "collapsed": true
   },
   "outputs": [],
   "source": []
  },
  {
   "cell_type": "code",
   "execution_count": null,
   "metadata": {
    "collapsed": true
   },
   "outputs": [],
   "source": []
  },
  {
   "cell_type": "code",
   "execution_count": null,
   "metadata": {
    "collapsed": true
   },
   "outputs": [],
   "source": []
  },
  {
   "cell_type": "markdown",
   "metadata": {},
   "source": [
    "### Task 2: Latent Semantic Models (LSMs) [20 points] ###\n",
    "\n",
    "In this task you will experiment with applying distributional semantics methods ([LSI](http://lsa3.colorado.edu/papers/JASIS.lsi.90.pdf) **[5 points]** and [LDA](https://www.cs.princeton.edu/~blei/papers/BleiNgJordan2003.pdf) **[5 points]**) for retrieval.\n",
    "\n",
    "You do not need to implement LSI or LDA on your own. Instead, you can use [gensim](http://radimrehurek.com/gensim/index.html). An example on how to integrate Pyndri with Gensim for word2vec can be found [here](https://github.com/cvangysel/pyndri/blob/master/examples/word2vec.py). For the remaining latent vector space models, you will need to implement connector classes (such as `IndriSentences`) by yourself.\n",
    "\n",
    "In order to use a latent semantic model for retrieval, you need to:\n",
    "   * build a representation of the query **q**,\n",
    "   * build a representation of the document **d**,\n",
    "   * calculate the similarity between **q** and **d** (e.g., cosine similarity, KL-divergence).\n",
    "     \n",
    "The exact implementation here depends on the latent semantic model you are using. \n",
    "   \n",
    "Each of these LSMs come with various hyperparameters to tune. Make a choice on the parameters, and explicitly mention the reasons that led you to these decisions. You can use the validation set to optimize hyper parameters you see fit; motivate your decisions. In addition, mention clearly how the query/document representations were constructed for each LSM and explain your choices.\n",
    "\n",
    "In this experiment, you will first obtain an initial top-1000 ranking for each query using TF-IDF in **Task 1**, and then re-rank the documents using the LSMs. Use TREC Eval to obtain the results and report on `NDCG@10`, Mean Average Precision (`MAP@1000`), `Precision@5` and `Recall@1000`.\n",
    "\n",
    "Perform significance testing **[5 points]** (similar as in Task 1) in the class of semantic matching methods.\n",
    "\n",
    "Perform analysis **[5 points]**"
   ]
  },
  {
   "cell_type": "markdown",
   "metadata": {},
   "source": [
    "### Task 3:  Word embeddings for ranking [10 points] ###\n",
    "\n",
    "First create word embeddings on the corpus we provided using [word2vec](http://arxiv.org/abs/1411.2738) -- [gensim implementation](https://radimrehurek.com/gensim/models/word2vec.html). You should extract the indexed documents using pyndri and provide them to gensim for training a model (see example [here](https://github.com/nickvosk/pyndri/blob/master/examples/word2vec.py)).\n",
    "\n",
    "Try one of the following (increasingly complex) methods for building query and document representations:\n",
    "   * Average or sum the word vectors.\n",
    "   * Cluster words in the document using [k-means](http://scikit-learn.org/stable/modules/generated/sklearn.cluster.KMeans.html) and use the centroid of the most important cluster. Experiment with different values of K for k-means.\n",
    "   * Using the [bag-of-word-embeddings representation](https://ciir-publications.cs.umass.edu/pub/web/getpdf.php?id=1248).\n",
    "   \n",
    "Note that since we provide the implementation for training word2vec, you will be graded based on your creativity on combining word embeddings for building query and document representations.\n",
    "\n",
    "Note: If you want to experiment with pre-trained word embeddings on a different corpus, you can use the word embeddings we provide alongside the assignment (./data/reduced_vectors_google.txt). These are the [google word2vec word embeddings](https://code.google.com/archive/p/word2vec/), reduced to only the words that appear in the document collection we use in this assignment."
   ]
  },
  {
   "cell_type": "code",
   "execution_count": null,
   "metadata": {
    "collapsed": true
   },
   "outputs": [],
   "source": []
  },
  {
   "cell_type": "markdown",
   "metadata": {},
   "source": [
    "### Task 4: Learning to rank (LTR) [10 points] ###\n",
    "\n",
    "In this task you will get an introduction into learning to rank for information retrieval, in particular pointwise learning to rank.\n",
    "\n",
    "You will experiment with a pointwise learning to rank method, logistic regression, implemented in [scikit-learn](http://scikit-learn.org/stable/modules/generated/sklearn.linear_model.LogisticRegression.html).\n",
    "Train your LTR model using 10-fold cross validation on the test set.\n",
    "\n",
    "You can explore different ways for devising features for the model. Obviously, you can use the retrieval methods you implemented in Task 1 and Task 2 as features. Think about other features you can use (e.g. query/document length). \n",
    "One idea is to also explore external sources such as Wikipedia entities (?). Creativity on devising new features and providing motivation for them will be taken into account when grading.\n",
    "\n",
    "For every query, first create a document candidate set using the top-1000 documents using TF-IDF, and subsequently compute features given a query and a document. Note that the feature values of different retrieval methods are likely to be distributed differently."
   ]
  },
  {
   "cell_type": "code",
   "execution_count": null,
   "metadata": {
    "collapsed": true
   },
   "outputs": [],
   "source": []
  },
  {
   "cell_type": "markdown",
   "metadata": {
    "collapsed": true
   },
   "source": [
    "### Task 4: Write a report [20 points; instant FAIL if not provided] ###\n",
    "\n",
    "The report should be a PDF file created using the [sigconf ACM template](https://www.acm.org/publications/proceedings-template) and will determine a significant part of your grade.\n",
    "\n",
    "   * It should explain what you have implemented, motivate your experiments and detail what you expect to learn from them. **[10 points]**\n",
    "   * Lastly, provide a convincing analysis of your results and conclude the report accordingly. **[10 points]**\n",
    "      * Do all methods perform similarly on all queries? Why?\n",
    "      * Is there a single retrieval model that outperforms all other retrieval models (i.e., silver bullet)?\n",
    "      * ...\n",
    "\n",
    "**Hand in the report and your self-contained implementation source files.** Only send us the files that matter, organized in a well-documented zip/tgz file with clear instructions on how to reproduce your results. That is, we want to be able to regenerate all your results with minimal effort. You can assume that the index and ground-truth information is present in the same file structure as the one we have provided.\n"
   ]
  },
  {
   "cell_type": "code",
   "execution_count": null,
   "metadata": {
    "collapsed": true
   },
   "outputs": [],
   "source": []
  }
 ],
 "metadata": {
  "anaconda-cloud": {},
  "kernelspec": {
   "display_name": "Python [conda env:ir]",
   "language": "python",
   "name": "conda-env-ir-py"
  },
  "language_info": {
   "codemirror_mode": {
    "name": "ipython",
    "version": 3
   },
   "file_extension": ".py",
   "mimetype": "text/x-python",
   "name": "python",
   "nbconvert_exporter": "python",
   "pygments_lexer": "ipython3",
   "version": "3.5.4"
  }
 },
 "nbformat": 4,
 "nbformat_minor": 1
}
